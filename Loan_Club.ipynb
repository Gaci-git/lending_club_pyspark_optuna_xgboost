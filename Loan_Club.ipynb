{
  "nbformat": 4,
  "nbformat_minor": 0,
  "metadata": {
    "colab": {
      "provenance": [],
      "collapsed_sections": [],
      "authorship_tag": "ABX9TyNdKu2anwCb8X3euixKMbeO",
      "include_colab_link": true
    },
    "kernelspec": {
      "name": "python3",
      "display_name": "Python 3"
    },
    "language_info": {
      "name": "python"
    }
  },
  "cells": [
    {
      "cell_type": "markdown",
      "metadata": {
        "id": "view-in-github",
        "colab_type": "text"
      },
      "source": [
        "<a href=\"https://colab.research.google.com/github/Gaci-git/loan_club/blob/main/Loan_Club.ipynb\" target=\"_parent\"><img src=\"https://colab.research.google.com/assets/colab-badge.svg\" alt=\"Open In Colab\"/></a>"
      ]
    },
    {
      "cell_type": "markdown",
      "source": [
        "# Loan Club Machine Learning prediction using Pyspark and Google Cloud "
      ],
      "metadata": {
        "id": "UDOTnzhGNC4M"
      }
    },
    {
      "cell_type": "markdown",
      "source": [
        "* The first step of your plan is to create a machine learning model to classify loans into accepted/rejected so that you can start learning if you have enough data to solve this simple problem adequately. \n",
        "\n",
        "* The second step is to predict the grade for the loan\n",
        "\n",
        "* and the third step is to predict the subgrade and the interest rate. Your team likes the plan, especially because after every step, you'll have a fully-working deployed model that your company can use. Excitedly you get to work!"
      ],
      "metadata": {
        "id": "m77q8nC2Mzxk"
      }
    },
    {
      "cell_type": "code",
      "source": [
        "!pip install pyspark"
      ],
      "metadata": {
        "colab": {
          "base_uri": "https://localhost:8080/"
        },
        "id": "ZUmvuV5wiXHt",
        "outputId": "d6e85557-d89c-439d-ab63-db8b28af4fbe"
      },
      "execution_count": 1,
      "outputs": [
        {
          "output_type": "stream",
          "name": "stdout",
          "text": [
            "Looking in indexes: https://pypi.org/simple, https://us-python.pkg.dev/colab-wheels/public/simple/\n",
            "Collecting pyspark\n",
            "  Downloading pyspark-3.3.1.tar.gz (281.4 MB)\n",
            "\u001b[K     |████████████████████████████████| 281.4 MB 33 kB/s \n",
            "\u001b[?25hCollecting py4j==0.10.9.5\n",
            "  Downloading py4j-0.10.9.5-py2.py3-none-any.whl (199 kB)\n",
            "\u001b[K     |████████████████████████████████| 199 kB 52.1 MB/s \n",
            "\u001b[?25hBuilding wheels for collected packages: pyspark\n",
            "  Building wheel for pyspark (setup.py) ... \u001b[?25l\u001b[?25hdone\n",
            "  Created wheel for pyspark: filename=pyspark-3.3.1-py2.py3-none-any.whl size=281845514 sha256=79320292dd0365218adb47aaf04fde485658e23723db0e4f2b8541e56d4acdb1\n",
            "  Stored in directory: /root/.cache/pip/wheels/42/59/f5/79a5bf931714dcd201b26025347785f087370a10a3329a899c\n",
            "Successfully built pyspark\n",
            "Installing collected packages: py4j, pyspark\n",
            "Successfully installed py4j-0.10.9.5 pyspark-3.3.1\n"
          ]
        }
      ]
    },
    {
      "cell_type": "code",
      "source": [
        "import numpy as np\n",
        "from pyspark import SparkContext                                    \n",
        "from pyspark.sql import SparkSession, Window, Row                   \n",
        "from pyspark.sql import functions                                 \n",
        "from pyspark.sql.functions import *                                \n",
        "from pyspark.sql.types import *                                     \n",
        "import matplotlib.pyplot as plt\n",
        "import matplotlib.ticker as mtick\n",
        "import plotly.express as px                                   \n",
        "import seaborn as sns                                               \n",
        "import pandas as pd                                         \n",
        "from pyspark.ml.feature import VectorAssembler                      \n",
        "import warnings                                                     \n",
        "warnings.filterwarnings(\"ignore\")\n",
        "from sklearn.preprocessing import LabelEncoder\n",
        "import scipy.stats as stats   \n",
        "from sklearn.model_selection import train_test_split                               "
      ],
      "metadata": {
        "id": "CKADyIo_JuDB"
      },
      "execution_count": 2,
      "outputs": []
    },
    {
      "cell_type": "code",
      "execution_count": 3,
      "metadata": {
        "colab": {
          "base_uri": "https://localhost:8080/"
        },
        "id": "nXo1Vuc4BgIP",
        "outputId": "896ea1c9-bba1-44d0-9cc3-4db0df67421c"
      },
      "outputs": [
        {
          "output_type": "stream",
          "name": "stdout",
          "text": [
            "Mounted at /content/drive\n"
          ]
        }
      ],
      "source": [
        "from google.colab import drive\n",
        "drive.mount('/content/drive')"
      ]
    },
    {
      "cell_type": "code",
      "source": [
        "#@title\n",
        "def plot_bar(dataframe, column_name):\n",
        "  df1 = pd.DataFrame(dataframe, columns=[column_name, 'loan_status'])\n",
        "\n",
        "  df_2 = df1.groupby([column_name, 'loan_status']).size().reset_index()\n",
        "  df_2['percentage'] = dataframe.groupby([column_name, 'loan_status']).size().groupby(level=0).apply(lambda x: 100 * x / float(x.sum())).values\n",
        "  df_2.columns = [column_name, 'loan_status', 'Counts', 'Percentage']\n",
        "\n",
        "  fig = px.bar(df_2, \n",
        "              x= column_name, \n",
        "              y=['Counts'], \n",
        "              color='loan_status', \n",
        "              color_continuous_scale=px.colors.diverging.Portland,\n",
        "              text=df_2['Percentage'].apply(lambda x: '{0:1.2f}%'.format(x)))\n",
        "  fig.update_coloraxes(showscale=False)\n",
        "\n",
        "  fig.update_layout(\n",
        "    autosize=False,\n",
        "    width=1000,\n",
        "    height=700)\n",
        "\n",
        "  fig.show()\n",
        "\n",
        "\n",
        "def plot_kde(column_name):\n",
        "  str_only = df[df['loan_status'] == \"Charged Off\"]\n",
        "  no_str_only = df[df['loan_status'] == \"Fully Paid\"]\n",
        "  \n",
        "  fig = plt.figure(figsize=(14,10))\n",
        "  ax = fig.add_subplot()\n",
        "\n",
        "\n",
        "  positive = pd.DataFrame(str_only[column_name])\n",
        "  negative = pd.DataFrame(no_str_only[column_name])\n",
        "  sns.kdeplot(positive[column_name], ax=ax,color=\"#0f4c81\", shade=True, ec='black',label=\"Charged Off\")\n",
        "  sns.kdeplot(negative[column_name], ax=ax, color=\"#9bb7d4\", shade=True, ec='black',label=\"Fully Paid\")\n",
        "\n",
        "  plt.ticklabel_format(style='plain')\n",
        "  ax.yaxis.set_major_locator(mtick.MultipleLocator(2))\n",
        "  ax.xaxis.set_minor_formatter(mtick.ScalarFormatter())\n",
        "  ax.set_ylabel('')    \n",
        "  ax.set_xlabel('')\n",
        "  ax.legend()\n",
        "  plt.show()\n",
        "\n",
        "\n",
        "def draw_box_plot(dataframe):\n",
        "  number = 0\n",
        "  fig, ax = plt.subplots(1, 10, figsize=(24, 12))\n",
        "  plt.subplots_adjust(wspace=1) \n",
        "\n",
        "  for column_name in column_names:\n",
        "    sns.boxplot(data=df[column_name], ax=ax[number], palette = 'Blues')\n",
        "    ax[number].set_xlabel(column_name)\n",
        "    number += 1\n",
        "\n",
        "  for subplot in ax:\n",
        "    subplot.set_xticklabels([])\n",
        "  plt.show()"
      ],
      "metadata": {
        "id": "YYEiZzbgmurl"
      },
      "execution_count": 4,
      "outputs": []
    },
    {
      "cell_type": "code",
      "source": [
        "!unzip \"/content/drive/My Drive/lending-club.zip\""
      ],
      "metadata": {
        "id": "FvFT77GDCRC4",
        "colab": {
          "base_uri": "https://localhost:8080/"
        },
        "outputId": "adc3f111-debe-47dc-b9c4-b7a7a2db7caa"
      },
      "execution_count": 5,
      "outputs": [
        {
          "output_type": "stream",
          "name": "stdout",
          "text": [
            "Archive:  /content/drive/My Drive/lending-club.zip\n",
            "  inflating: accepted_2007_to_2018Q4.csv.gz  \n",
            "  inflating: accepted_2007_to_2018q4.csv/accepted_2007_to_2018Q4.csv  \n",
            "  inflating: rejected_2007_to_2018Q4.csv.gz  \n",
            "  inflating: rejected_2007_to_2018q4.csv/rejected_2007_to_2018Q4.csv  \n"
          ]
        }
      ]
    },
    {
      "cell_type": "code",
      "source": [
        "!apt-get install openjdk-8-jdk-headless -qq > /dev/null"
      ],
      "metadata": {
        "id": "HSycp445C9oL"
      },
      "execution_count": 6,
      "outputs": []
    },
    {
      "cell_type": "code",
      "source": [
        "!wget -q https://dlcdn.apache.org/spark/spark-3.3.1/spark-3.3.1-bin-hadoop3.tgz"
      ],
      "metadata": {
        "id": "RZe0vFyKC_iE"
      },
      "execution_count": 7,
      "outputs": []
    },
    {
      "cell_type": "code",
      "source": [
        "!tar xf spark-3.3.1-bin-hadoop3.tgz"
      ],
      "metadata": {
        "id": "GBvbIXURDCzJ"
      },
      "execution_count": 8,
      "outputs": []
    },
    {
      "cell_type": "code",
      "source": [
        "import os\n",
        "!apt-get install openjdk-8-jdk-headless -qq > /dev/null\n",
        "os.environ[\"JAVA_HOME\"] = \"/usr/lib/jvm/java-8-openjdk-amd64\"\n",
        "os.environ[\"SPARK_HOME\"] = '/content/spark-3.3.1-bin-hadoop3'"
      ],
      "metadata": {
        "id": "zddREh4cDSgP"
      },
      "execution_count": 9,
      "outputs": []
    },
    {
      "cell_type": "code",
      "source": [
        "# Install library for finding Spark\n",
        "!pip install -q findspark\n",
        "# Import the libary\n",
        "import findspark\n",
        "# Initiate findspark\n",
        "findspark.init()\n",
        "# Check the location for Spark\n",
        "findspark.find()"
      ],
      "metadata": {
        "id": "2z8P88-NG3Q5",
        "colab": {
          "base_uri": "https://localhost:8080/",
          "height": 37
        },
        "outputId": "81f856db-8ea4-49fb-927f-4e309886f95a"
      },
      "execution_count": 10,
      "outputs": [
        {
          "output_type": "execute_result",
          "data": {
            "text/plain": [
              "'/content/spark-3.3.1-bin-hadoop3'"
            ],
            "application/vnd.google.colaboratory.intrinsic+json": {
              "type": "string"
            }
          },
          "metadata": {},
          "execution_count": 10
        }
      ]
    },
    {
      "cell_type": "code",
      "source": [
        "# Import SparkSession\n",
        "\n",
        "import pyspark\n",
        "from pyspark.sql import SparkSession\n",
        "spark = SparkSession.builder \\\n",
        "    .master('local[*]') \\\n",
        "    .config(\"spark.driver.memory\", \"15g\") \\\n",
        "    .appName('loan_club') \\\n",
        "    .getOrCreate()"
      ],
      "metadata": {
        "id": "YA1VbLu0EspT"
      },
      "execution_count": 11,
      "outputs": []
    },
    {
      "cell_type": "code",
      "source": [
        "accepted = spark.read.csv(\"accepted_2007_to_2018q4.csv/accepted_2007_to_2018Q4.csv\", header=True, inferSchema=True)"
      ],
      "metadata": {
        "id": "6jY1pYE0EYL2"
      },
      "execution_count": 12,
      "outputs": []
    },
    {
      "cell_type": "code",
      "source": [
        "accepted.show(10)"
      ],
      "metadata": {
        "id": "_3x4_Y93J6Zo",
        "colab": {
          "base_uri": "https://localhost:8080/"
        },
        "outputId": "b231ef65-e791-460e-bfe1-8ff12b3ff27b"
      },
      "execution_count": 13,
      "outputs": [
        {
          "output_type": "stream",
          "name": "stdout",
          "text": [
            "+--------+---------+---------+-----------+---------------+----------+--------+-----------+-----+---------+--------------------+----------+--------------+----------+-------------------+--------+-----------+----------+--------------------+----+------------------+--------------------+--------+----------+-----+-----------+----------------+--------------+---------------+--------------+----------------------+----------------------+--------+-------+---------+----------+---------+-------------------+---------+-------------+------------------+---------------+---------------+-------------+------------------+----------+-----------------------+------------+---------------+------------+------------------+--------------------+-------------------+--------------------------+---------------------------+-----------+----------------+----------------+---------+-------------------------+--------------+------------+-----------+-----------+-----------+-----------+-----------+------------------+------------+-------+-----------+-----------+----------+--------+----------------+------+-----------+------------+--------------------+-----------+--------------+-------+------------------------+-----------+------------------+--------------------+---------------------+--------------+--------+--------------------+------------------------+---------------------+------------------------------+---------------------+--------------+---------------+-----------+---------+---------+-------------+-------------+-------------------+--------+----------------+------------+------------------+------------------+--------------+----------------+--------------------+---------+---------------+-----------------+--------------+--------------------------+---------------+----------------------+-----------------------+------------------------+----------------------+----------------+----------------+------------------+-------------------+---------------------+--------------------------------+----------------------------------+-----------------------------------+-------------+-------------+---------------+---------------+-------------+---------------+-------------------+-----------------+-----------------------+---------------+------------+--------------------+------------------------------------------+------------------------------+----------------------------+-------------------+--------------------+-------------------------+-----------------+---------------+-----------------+---------------------+---------------+\n",
            "|      id|member_id|loan_amnt|funded_amnt|funded_amnt_inv|      term|int_rate|installment|grade|sub_grade|           emp_title|emp_length|home_ownership|annual_inc|verification_status| issue_d|loan_status|pymnt_plan|                 url|desc|           purpose|               title|zip_code|addr_state|  dti|delinq_2yrs|earliest_cr_line|fico_range_low|fico_range_high|inq_last_6mths|mths_since_last_delinq|mths_since_last_record|open_acc|pub_rec|revol_bal|revol_util|total_acc|initial_list_status|out_prncp|out_prncp_inv|       total_pymnt|total_pymnt_inv|total_rec_prncp|total_rec_int|total_rec_late_fee|recoveries|collection_recovery_fee|last_pymnt_d|last_pymnt_amnt|next_pymnt_d|last_credit_pull_d|last_fico_range_high|last_fico_range_low|collections_12_mths_ex_med|mths_since_last_major_derog|policy_code|application_type|annual_inc_joint|dti_joint|verification_status_joint|acc_now_delinq|tot_coll_amt|tot_cur_bal|open_acc_6m|open_act_il|open_il_12m|open_il_24m|mths_since_rcnt_il|total_bal_il|il_util|open_rv_12m|open_rv_24m|max_bal_bc|all_util|total_rev_hi_lim|inq_fi|total_cu_tl|inq_last_12m|acc_open_past_24mths|avg_cur_bal|bc_open_to_buy|bc_util|chargeoff_within_12_mths|delinq_amnt|mo_sin_old_il_acct|mo_sin_old_rev_tl_op|mo_sin_rcnt_rev_tl_op|mo_sin_rcnt_tl|mort_acc|mths_since_recent_bc|mths_since_recent_bc_dlq|mths_since_recent_inq|mths_since_recent_revol_delinq|num_accts_ever_120_pd|num_actv_bc_tl|num_actv_rev_tl|num_bc_sats|num_bc_tl|num_il_tl|num_op_rev_tl|num_rev_accts|num_rev_tl_bal_gt_0|num_sats|num_tl_120dpd_2m|num_tl_30dpd|num_tl_90g_dpd_24m|num_tl_op_past_12m|pct_tl_nvr_dlq|percent_bc_gt_75|pub_rec_bankruptcies|tax_liens|tot_hi_cred_lim|total_bal_ex_mort|total_bc_limit|total_il_high_credit_limit|revol_bal_joint|sec_app_fico_range_low|sec_app_fico_range_high|sec_app_earliest_cr_line|sec_app_inq_last_6mths|sec_app_mort_acc|sec_app_open_acc|sec_app_revol_util|sec_app_open_act_il|sec_app_num_rev_accts|sec_app_chargeoff_within_12_mths|sec_app_collections_12_mths_ex_med|sec_app_mths_since_last_major_derog|hardship_flag|hardship_type|hardship_reason|hardship_status|deferral_term|hardship_amount|hardship_start_date|hardship_end_date|payment_plan_start_date|hardship_length|hardship_dpd|hardship_loan_status|orig_projected_additional_accrued_interest|hardship_payoff_balance_amount|hardship_last_payment_amount|disbursement_method|debt_settlement_flag|debt_settlement_flag_date|settlement_status|settlement_date|settlement_amount|settlement_percentage|settlement_term|\n",
            "+--------+---------+---------+-----------+---------------+----------+--------+-----------+-----+---------+--------------------+----------+--------------+----------+-------------------+--------+-----------+----------+--------------------+----+------------------+--------------------+--------+----------+-----+-----------+----------------+--------------+---------------+--------------+----------------------+----------------------+--------+-------+---------+----------+---------+-------------------+---------+-------------+------------------+---------------+---------------+-------------+------------------+----------+-----------------------+------------+---------------+------------+------------------+--------------------+-------------------+--------------------------+---------------------------+-----------+----------------+----------------+---------+-------------------------+--------------+------------+-----------+-----------+-----------+-----------+-----------+------------------+------------+-------+-----------+-----------+----------+--------+----------------+------+-----------+------------+--------------------+-----------+--------------+-------+------------------------+-----------+------------------+--------------------+---------------------+--------------+--------+--------------------+------------------------+---------------------+------------------------------+---------------------+--------------+---------------+-----------+---------+---------+-------------+-------------+-------------------+--------+----------------+------------+------------------+------------------+--------------+----------------+--------------------+---------+---------------+-----------------+--------------+--------------------------+---------------+----------------------+-----------------------+------------------------+----------------------+----------------+----------------+------------------+-------------------+---------------------+--------------------------------+----------------------------------+-----------------------------------+-------------+-------------+---------------+---------------+-------------+---------------+-------------------+-----------------+-----------------------+---------------+------------+--------------------+------------------------------------------+------------------------------+----------------------------+-------------------+--------------------+-------------------------+-----------------+---------------+-----------------+---------------------+---------------+\n",
            "|68407277|     null|   3600.0|     3600.0|         3600.0| 36 months|   13.99|     123.03|    C|       C4|             leadman| 10+ years|      MORTGAGE|   55000.0|       Not Verified|Dec-2015| Fully Paid|         n|https://lendingcl...|null|debt_consolidation|  Debt consolidation|   190xx|        PA| 5.91|        0.0|        Aug-2003|         675.0|          679.0|           1.0|                  30.0|                  null|     7.0|    0.0|   2765.0|      29.7|     13.0|                  w|      0.0|          0.0| 4421.723916800001|        4421.72|         3600.0|       821.72|               0.0|       0.0|                    0.0|    Jan-2019|         122.67|        null|          Mar-2019|               564.0|              560.0|                       0.0|                       30.0|        1.0|      Individual|            null|     null|                     null|           0.0|       722.0|   144904.0|        2.0|        2.0|        0.0|        1.0|              21.0|      4981.0|   36.0|        3.0|        3.0|     722.0|    34.0|          9300.0|   3.0|        1.0|         4.0|                 4.0|    20701.0|        1506.0|   37.2|                     0.0|        0.0|             148.0|               128.0|                  3.0|           3.0|     1.0|                 4.0|                    69.0|                  4.0|                          69.0|                  2.0|           2.0|            4.0|        2.0|      5.0|      3.0|          4.0|          9.0|                4.0|     7.0|             0.0|         0.0|               0.0|               3.0|          76.9|             0.0|                 0.0|      0.0|       178050.0|           7746.0|        2400.0|                   13734.0|           null|                  null|                   null|                    null|                  null|            null|            null|              null|               null|                 null|                            null|                              null|                               null|            N|         null|           null|           null|         null|           null|               null|             null|                   null|           null|        null|                null|                                      null|                          null|                        null|               Cash|                   N|                     null|             null|           null|             null|                 null|           null|\n",
            "|68355089|     null|  24700.0|    24700.0|        24700.0| 36 months|   11.99|     820.28|    C|       C1|            Engineer| 10+ years|      MORTGAGE|   65000.0|       Not Verified|Dec-2015| Fully Paid|         n|https://lendingcl...|null|    small_business|            Business|   577xx|        SD|16.06|        1.0|        Dec-1999|         715.0|          719.0|           4.0|                   6.0|                  null|    22.0|    0.0|  21470.0|      19.2|     38.0|                  w|      0.0|          0.0|          25679.66|       25679.66|        24700.0|       979.66|               0.0|       0.0|                    0.0|    Jun-2016|         926.35|        null|          Mar-2019|               699.0|              695.0|                       0.0|                       null|        1.0|      Individual|            null|     null|                     null|           0.0|         0.0|   204396.0|        1.0|        1.0|        0.0|        1.0|              19.0|     18005.0|   73.0|        2.0|        3.0|    6472.0|    29.0|        111800.0|   0.0|        0.0|         6.0|                 4.0|     9733.0|       57830.0|   27.1|                     0.0|        0.0|             113.0|               192.0|                  2.0|           2.0|     4.0|                 2.0|                    null|                  0.0|                           6.0|                  0.0|           5.0|            5.0|       13.0|     17.0|      6.0|         20.0|         27.0|                5.0|    22.0|             0.0|         0.0|               0.0|               2.0|          97.4|             7.7|                 0.0|      0.0|       314017.0|          39475.0|       79300.0|                   24667.0|           null|                  null|                   null|                    null|                  null|            null|            null|              null|               null|                 null|                            null|                              null|                               null|            N|         null|           null|           null|         null|           null|               null|             null|                   null|           null|        null|                null|                                      null|                          null|                        null|               Cash|                   N|                     null|             null|           null|             null|                 null|           null|\n",
            "|68341763|     null|  20000.0|    20000.0|        20000.0| 60 months|   10.78|     432.66|    B|       B4|        truck driver| 10+ years|      MORTGAGE|   63000.0|       Not Verified|Dec-2015| Fully Paid|         n|https://lendingcl...|null|  home_improvement|                null|   605xx|        IL|10.78|        0.0|        Aug-2000|         695.0|          699.0|           0.0|                  null|                  null|     6.0|    0.0|   7869.0|      56.2|     18.0|                  w|      0.0|          0.0|22705.924293878397|       22705.92|        20000.0|      2705.92|               0.0|       0.0|                    0.0|    Jun-2017|        15813.3|        null|          Mar-2019|               704.0|              700.0|                       0.0|                       null|        1.0|       Joint App|         71000.0|    13.85|             Not Verified|           0.0|         0.0|   189699.0|        0.0|        1.0|        0.0|        4.0|              19.0|     10827.0|   73.0|        0.0|        2.0|    2081.0|    65.0|         14000.0|   2.0|        5.0|         1.0|                 6.0|    31617.0|        2737.0|   55.9|                     0.0|        0.0|             125.0|               184.0|                 14.0|          14.0|     5.0|               101.0|                    null|                 10.0|                          null|                  0.0|           2.0|            3.0|        2.0|      4.0|      6.0|          4.0|          7.0|                3.0|     6.0|             0.0|         0.0|               0.0|               0.0|         100.0|            50.0|                 0.0|      0.0|       218418.0|          18696.0|        6200.0|                   14877.0|           null|                  null|                   null|                    null|                  null|            null|            null|              null|               null|                 null|                            null|                              null|                               null|            N|         null|           null|           null|         null|           null|               null|             null|                   null|           null|        null|                null|                                      null|                          null|                        null|               Cash|                   N|                     null|             null|           null|             null|                 null|           null|\n",
            "|66310712|     null|  35000.0|    35000.0|        35000.0| 60 months|   14.85|      829.9|    C|       C5|Information Syste...| 10+ years|      MORTGAGE|  110000.0|    Source Verified|Dec-2015|    Current|         n|https://lendingcl...|null|debt_consolidation|  Debt consolidation|   076xx|        NJ|17.06|        0.0|        Sep-2008|         785.0|          789.0|           0.0|                  null|                  null|    13.0|    0.0|   7802.0|      11.6|     17.0|                  w| 15897.65|     15897.65|          31464.01|       31464.01|       19102.35|     12361.66|               0.0|       0.0|                    0.0|    Feb-2019|          829.9|    Apr-2019|          Mar-2019|               679.0|              675.0|                       0.0|                       null|        1.0|      Individual|            null|     null|                     null|           0.0|         0.0|   301500.0|        1.0|        1.0|        0.0|        1.0|              23.0|     12609.0|   70.0|        1.0|        1.0|    6987.0|    45.0|         67300.0|   0.0|        1.0|         0.0|                 2.0|    23192.0|       54962.0|   12.1|                     0.0|        0.0|              36.0|                87.0|                  2.0|           2.0|     1.0|                 2.0|                    null|                 null|                          null|                  0.0|           4.0|            5.0|        8.0|     10.0|      2.0|         10.0|         13.0|                5.0|    13.0|             0.0|         0.0|               0.0|               1.0|         100.0|             0.0|                 0.0|      0.0|       381215.0|          52226.0|       62500.0|                   18000.0|           null|                  null|                   null|                    null|                  null|            null|            null|              null|               null|                 null|                            null|                              null|                               null|            N|         null|           null|           null|         null|           null|               null|             null|                   null|           null|        null|                null|                                      null|                          null|                        null|               Cash|                   N|                     null|             null|           null|             null|                 null|           null|\n",
            "|68476807|     null|  10400.0|    10400.0|        10400.0| 60 months|   22.45|     289.91|    F|       F1| Contract Specialist|   3 years|      MORTGAGE|  104433.0|    Source Verified|Dec-2015| Fully Paid|         n|https://lendingcl...|null|    major_purchase|      Major purchase|   174xx|        PA|25.37|        1.0|        Jun-1998|         695.0|          699.0|           3.0|                  12.0|                  null|    12.0|    0.0|  21929.0|      64.5|     35.0|                  w|      0.0|          0.0|           11740.5|        11740.5|        10400.0|       1340.5|               0.0|       0.0|                    0.0|    Jul-2016|       10128.96|        null|          Mar-2018|               704.0|              700.0|                       0.0|                       null|        1.0|      Individual|            null|     null|                     null|           0.0|         0.0|   331730.0|        1.0|        3.0|        0.0|        3.0|              14.0|     73839.0|   84.0|        4.0|        7.0|    9702.0|    78.0|         34000.0|   2.0|        1.0|         3.0|                10.0|    27644.0|        4567.0|   77.5|                     0.0|        0.0|             128.0|               210.0|                  4.0|           4.0|     6.0|                 4.0|                    12.0|                  1.0|                          12.0|                  0.0|           4.0|            6.0|        5.0|      9.0|     10.0|          7.0|         19.0|                6.0|    12.0|             0.0|         0.0|               0.0|               4.0|          96.6|            60.0|                 0.0|      0.0|       439570.0|          95768.0|       20300.0|                   88097.0|           null|                  null|                   null|                    null|                  null|            null|            null|              null|               null|                 null|                            null|                              null|                               null|            N|         null|           null|           null|         null|           null|               null|             null|                   null|           null|        null|                null|                                      null|                          null|                        null|               Cash|                   N|                     null|             null|           null|             null|                 null|           null|\n",
            "|68426831|     null|  11950.0|    11950.0|        11950.0| 36 months|   13.44|     405.18|    C|       C3|Veterinary Tecnician|   4 years|          RENT|   34000.0|    Source Verified|Dec-2015| Fully Paid|         n|https://lendingcl...|null|debt_consolidation|  Debt consolidation|   300xx|        GA| 10.2|        0.0|        Oct-1987|         690.0|          694.0|           0.0|                  null|                  null|     5.0|    0.0|   8822.0|      68.4|      6.0|                  w|      0.0|          0.0|  13708.9485297572|       13708.95|        11950.0|      1758.95|               0.0|       0.0|                    0.0|    May-2017|        7653.56|        null|          May-2017|               759.0|              755.0|                       0.0|                       null|        1.0|      Individual|            null|     null|                     null|           0.0|         0.0|    12798.0|        0.0|        1.0|        0.0|        0.0|             338.0|      3976.0|   99.0|        0.0|        0.0|    4522.0|    76.0|         12900.0|   0.0|        0.0|         0.0|                 0.0|     2560.0|         844.0|   91.0|                     0.0|        0.0|             338.0|                54.0|                 32.0|          32.0|     0.0|                36.0|                    null|                 null|                          null|                  0.0|           2.0|            3.0|        2.0|      2.0|      2.0|          4.0|          4.0|                3.0|     5.0|             0.0|         0.0|               0.0|               0.0|         100.0|           100.0|                 0.0|      0.0|        16900.0|          12798.0|        9400.0|                    4000.0|           null|                  null|                   null|                    null|                  null|            null|            null|              null|               null|                 null|                            null|                              null|                               null|            N|         null|           null|           null|         null|           null|               null|             null|                   null|           null|        null|                null|                                      null|                          null|                        null|               Cash|                   N|                     null|             null|           null|             null|                 null|           null|\n",
            "|68476668|     null|  20000.0|    20000.0|        20000.0| 36 months|    9.17|     637.58|    B|       B2|Vice President of...| 10+ years|      MORTGAGE|  180000.0|       Not Verified|Dec-2015| Fully Paid|         n|https://lendingcl...|null|debt_consolidation|  Debt consolidation|   550xx|        MN|14.67|        0.0|        Jun-1990|         680.0|          684.0|           0.0|                  49.0|                  null|    12.0|    0.0|  87329.0|      84.5|     27.0|                  f|      0.0|          0.0|   21393.800000011|        21393.8|        20000.0|       1393.8|               0.0|       0.0|                    0.0|    Nov-2016|       15681.05|        null|          Mar-2019|               654.0|              650.0|                       0.0|                       null|        1.0|      Individual|            null|     null|                     null|           0.0|         0.0|   360358.0|        0.0|        2.0|        0.0|        2.0|              18.0|     29433.0|   63.0|        2.0|        3.0|   13048.0|    74.0|         94200.0|   1.0|        0.0|         1.0|                 6.0|    30030.0|           0.0|  102.9|                     0.0|        0.0|             142.0|               306.0|                 10.0|          10.0|     4.0|                12.0|                    null|                 10.0|                          null|                  0.0|           4.0|            6.0|        4.0|      5.0|      7.0|          9.0|         16.0|                6.0|    12.0|             0.0|         0.0|               0.0|               2.0|          96.3|           100.0|                 0.0|      0.0|       388852.0|         116762.0|       31500.0|                   46452.0|           null|                  null|                   null|                    null|                  null|            null|            null|              null|               null|                 null|                            null|                              null|                               null|            N|         null|           null|           null|         null|           null|               null|             null|                   null|           null|        null|                null|                                      null|                          null|                        null|               Cash|                   N|                     null|             null|           null|             null|                 null|           null|\n",
            "|67275481|     null|  20000.0|    20000.0|        20000.0| 36 months|    8.49|     631.26|    B|       B1|         road driver| 10+ years|      MORTGAGE|   85000.0|       Not Verified|Dec-2015| Fully Paid|         n|https://lendingcl...|null|    major_purchase|      Major purchase|   293xx|        SC|17.61|        1.0|        Feb-1999|         705.0|          709.0|           0.0|                   3.0|                  null|     8.0|    0.0|    826.0|       5.7|     15.0|                  w|      0.0|          0.0|   21538.508976797|       21538.51|        20000.0|      1538.51|               0.0|       0.0|                    0.0|    Jan-2017|       14618.23|        null|          Mar-2019|               674.0|              670.0|                       0.0|                        3.0|        1.0|      Individual|            null|     null|                     null|           0.0|         0.0|   141601.0|        0.0|        3.0|        0.0|        4.0|              13.0|     27111.0|   75.0|        0.0|        0.0|     640.0|    55.0|         14500.0|   1.0|        0.0|         2.0|                 4.0|    17700.0|       13674.0|    5.7|                     0.0|        0.0|             149.0|                55.0|                 32.0|          13.0|     3.0|                32.0|                    null|                  8.0|                          null|                  1.0|           2.0|            2.0|        3.0|      3.0|      9.0|          3.0|          3.0|                2.0|     8.0|             0.0|         0.0|               1.0|               0.0|          93.3|             0.0|                 0.0|      0.0|       193390.0|          27937.0|       14500.0|                   36144.0|           null|                  null|                   null|                    null|                  null|            null|            null|              null|               null|                 null|                            null|                              null|                               null|            N|         null|           null|           null|         null|           null|               null|             null|                   null|           null|        null|                null|                                      null|                          null|                        null|               Cash|                   N|                     null|             null|           null|             null|                 null|           null|\n",
            "|68466926|     null|  10000.0|    10000.0|        10000.0| 36 months|    6.49|     306.45|    A|       A2|     SERVICE MANAGER|   6 years|          RENT|   85000.0|       Not Verified|Dec-2015| Fully Paid|         n|https://lendingcl...|null|       credit_card|Credit card refin...|   160xx|        PA|13.07|        0.0|        Apr-2002|         685.0|          689.0|           1.0|                  null|                 106.0|    14.0|    1.0|  10464.0|      34.5|     23.0|                  w|      0.0|          0.0|  10998.9715749644|       10998.97|        10000.0|       998.97|               0.0|       0.0|                    0.0|    Aug-2018|        1814.48|        null|          Mar-2019|               719.0|              715.0|                       0.0|                       null|        1.0|      Individual|            null|     null|                     null|           0.0|      8341.0|    27957.0|        2.0|        1.0|        0.0|        0.0|              35.0|     17493.0|   57.0|        2.0|        7.0|    2524.0|    46.0|         30300.0|   2.0|        0.0|         1.0|                 7.0|     1997.0|        8182.0|   50.1|                     0.0|        0.0|             164.0|               129.0|                  1.0|           1.0|     1.0|                 4.0|                    null|                  1.0|                          null|                  0.0|           6.0|            9.0|        7.0|     10.0|      3.0|         13.0|         19.0|                9.0|    14.0|             0.0|         0.0|               0.0|               2.0|          95.7|            28.6|                 1.0|      0.0|        61099.0|          27957.0|       16400.0|                   30799.0|           null|                  null|                   null|                    null|                  null|            null|            null|              null|               null|                 null|                            null|                              null|                               null|            N|         null|           null|           null|         null|           null|               null|             null|                   null|           null|        null|                null|                                      null|                          null|                        null|               Cash|                   N|                     null|             null|           null|             null|                 null|           null|\n",
            "|68616873|     null|   8000.0|     8000.0|         8000.0| 36 months|   11.48|     263.74|    B|       B5|      Vendor liaison| 10+ years|      MORTGAGE|   42000.0|       Not Verified|Dec-2015| Fully Paid|         n|https://lendingcl...|null|       credit_card|Credit card refin...|   029xx|        RI| 34.8|        0.0|        Nov-1994|         700.0|          704.0|           0.0|                  75.0|                  null|     8.0|    0.0|   7034.0|      39.1|     18.0|                  w|      0.0|          0.0|   8939.5805031401|        8939.58|         8000.0|       939.58|               0.0|       0.0|                    0.0|    Apr-2017|        4996.24|        null|          Nov-2018|               679.0|              675.0|                       0.0|                       75.0|        1.0|      Individual|            null|     null|                     null|           0.0|         0.0|   199696.0|        0.0|        2.0|        2.0|        3.0|              10.0|    106748.0|   72.0|        0.0|        2.0|    4725.0|    49.0|         18000.0|   0.0|        0.0|         1.0|                 5.0|    28528.0|        9966.0|   41.4|                     0.0|        0.0|             155.0|               253.0|                 15.0|          10.0|     1.0|                50.0|                    null|                 10.0|                          null|                  1.0|           3.0|            3.0|        3.0|      6.0|      5.0|          5.0|         11.0|                3.0|     8.0|             0.0|         0.0|               0.0|               2.0|          94.4|            33.3|                 0.0|      0.0|       256513.0|         113782.0|       17000.0|                  135513.0|           null|                  null|                   null|                    null|                  null|            null|            null|              null|               null|                 null|                            null|                              null|                               null|            N|         null|           null|           null|         null|           null|               null|             null|                   null|           null|        null|                null|                                      null|                          null|                        null|               Cash|                   N|                     null|             null|           null|             null|                 null|           null|\n",
            "+--------+---------+---------+-----------+---------------+----------+--------+-----------+-----+---------+--------------------+----------+--------------+----------+-------------------+--------+-----------+----------+--------------------+----+------------------+--------------------+--------+----------+-----+-----------+----------------+--------------+---------------+--------------+----------------------+----------------------+--------+-------+---------+----------+---------+-------------------+---------+-------------+------------------+---------------+---------------+-------------+------------------+----------+-----------------------+------------+---------------+------------+------------------+--------------------+-------------------+--------------------------+---------------------------+-----------+----------------+----------------+---------+-------------------------+--------------+------------+-----------+-----------+-----------+-----------+-----------+------------------+------------+-------+-----------+-----------+----------+--------+----------------+------+-----------+------------+--------------------+-----------+--------------+-------+------------------------+-----------+------------------+--------------------+---------------------+--------------+--------+--------------------+------------------------+---------------------+------------------------------+---------------------+--------------+---------------+-----------+---------+---------+-------------+-------------+-------------------+--------+----------------+------------+------------------+------------------+--------------+----------------+--------------------+---------+---------------+-----------------+--------------+--------------------------+---------------+----------------------+-----------------------+------------------------+----------------------+----------------+----------------+------------------+-------------------+---------------------+--------------------------------+----------------------------------+-----------------------------------+-------------+-------------+---------------+---------------+-------------+---------------+-------------------+-----------------+-----------------------+---------------+------------+--------------------+------------------------------------------+------------------------------+----------------------------+-------------------+--------------------+-------------------------+-----------------+---------------+-----------------+---------------------+---------------+\n",
            "only showing top 10 rows\n",
            "\n"
          ]
        }
      ]
    },
    {
      "cell_type": "code",
      "source": [
        "#rejected = spark.read.csv(\"rejected_2007_to_2018q4.csv/rejected_2007_to_2018Q4.csv\", header=True, inferSchema=True)"
      ],
      "metadata": {
        "id": "toBA9cJjLBVN"
      },
      "execution_count": 14,
      "outputs": []
    },
    {
      "cell_type": "code",
      "source": [
        "#rejected.show(5)"
      ],
      "metadata": {
        "id": "r7J7cf1SzNeP"
      },
      "execution_count": 15,
      "outputs": []
    },
    {
      "cell_type": "markdown",
      "source": [
        "# Column meaning"
      ],
      "metadata": {
        "id": "EAsy46aOs_U_"
      }
    },
    {
      "cell_type": "markdown",
      "source": [
        "* 0\tloan_amnt\tThe listed amount of the loan applied for by the borrower. If at some point in time, the credit department reduces the loan amount, then it will be reflected in this value.\n",
        "* 1\tterm\tThe number of payments on the loan. Values are in months and can be either 36 or 60.\n",
        "* 2\tint_rate\tInterest Rate on the loan\n",
        "* 3\tinstallment\tThe monthly payment owed by the borrower if the loan originates.\n",
        "* 4\tgrade\tLC assigned loan grade\n",
        "* 5\tsub_grade\tLC assigned loan subgrade\n",
        "* 7\temp_length\tEmployment length in years. Possible values are between 0 and * 10 where 0 means less than one year and 10 means ten or more years.\n",
        "* 8\thome_ownership\tThe home ownership status provided by the borrower during registration or obtained from the credit report. Our values are: RENT, OWN, MORTGAGE, OTHER\n",
        "* 9\tannual_inc\tThe self-reported annual income provided by the borrower during registration.\n",
        "* 10\tverification_status\tIndicates if income was verified by LC, not verified, or if the income source was verified\n",
        "* 11\tissue_d\tThe month which the loan was funded\n",
        "* 12\tloan_status\tCurrent status of the loan\n",
        "* 13\tpurpose\tA category provided by the borrower for the loan request.\n",
        "* 14\ttitle\tThe loan title provided by the borrower\n",
        "* 15\tzip_code\tThe first 3 numbers of the zip code provided by the borrower in the loan application.\n",
        "* 16\taddr_state\tThe state provided by the borrower in the loan application\n",
        "* 17\tdti\tA ratio calculated using the borrower’s total monthly debt payments on the total debt obligations, excluding mortgage and the requested LC loan, divided by the borrower’s self-reported monthly income.\n",
        "* 18\tearliest_cr_line\tThe month the borrower's earliest reported credit line was opened\n",
        "* 19\topen_acc\tThe number of open credit lines in the borrower's credit file.\n",
        "* 20\tpub_rec\tNumber of derogatory public records\n",
        "* 21\trevol_bal\tTotal credit revolving balance\n",
        "* 22\trevol_util\tRevolving line utilization rate, or the amount of credit the borrower is using relative to all available revolving credit.\n",
        "* 23\ttotal_acc\tThe total number of credit lines currently in the borrower's credit file\n",
        "* 24\tinitial_list_status\tThe initial listing status of the loan. Possible values are – W, F\n",
        "* 25\tapplication_type\tIndicates whether the loan is an individual application or a joint application with two co-borrowers\n",
        "* 26\tmort_acc\tNumber of mortgage accounts.\n",
        "* 27\tpub_rec_bankruptcies\tNumber of public record bankruptcies"
      ],
      "metadata": {
        "id": "Pyn4YVLgtGpK"
      }
    },
    {
      "cell_type": "markdown",
      "source": [
        "# Cleaning dataframe"
      ],
      "metadata": {
        "id": "o_VW9tUNMNN8"
      }
    },
    {
      "cell_type": "markdown",
      "source": [
        "A charge-off is a debt, for example on a credit card, that is deemed unlikely to be collected by the creditor because the borrower has become substantially delinquent after a period of time. However, a charge-off does not mean a write-off of the debt entirely. Having a charge-off can mean serious repercussions on your credit history and future borrowing ability."
      ],
      "metadata": {
        "id": "JVLL2y-BUdiK"
      }
    },
    {
      "cell_type": "markdown",
      "source": [
        "We will drop all loans that are current - not paid yet and not charged off. They would not benefit us yet, as we are interested only in loans that already have an outcome. "
      ],
      "metadata": {
        "id": "vDP5y6rup8oM"
      }
    },
    {
      "cell_type": "code",
      "source": [
        "accepted = accepted.where((accepted.loan_status == 'Fully Paid') | (accepted.loan_status == 'Charged Off'))\n",
        "accepted = accepted.dropDuplicates()\n"
      ],
      "metadata": {
        "id": "MCqLKzHDqK_u"
      },
      "execution_count": 16,
      "outputs": []
    },
    {
      "cell_type": "code",
      "source": [
        "columns = ('id', 'loan_amnt','term','int_rate','installment','grade','sub_grade', 'emp_length',\n",
        "                        'home_ownership','annual_inc','verification_status','issue_d', 'last_pymnt_d','purpose',\n",
        "                        'dti','earliest_cr_line','open_acc','pub_rec','revol_bal','revol_util',\n",
        "                        'total_acc','initial_list_status','application_type','mort_acc','pub_rec_bankruptcies', 'loan_status')\n",
        "\n",
        "accepted = accepted.select(*columns)\n"
      ],
      "metadata": {
        "id": "nEgrtMkmXlLe"
      },
      "execution_count": 17,
      "outputs": []
    },
    {
      "cell_type": "code",
      "source": [
        "accepted = accepted.na.drop()\n",
        "accepted.show()"
      ],
      "metadata": {
        "id": "uVluX6Z_GeI6",
        "colab": {
          "base_uri": "https://localhost:8080/"
        },
        "outputId": "f418e5d4-4809-4644-9ea2-b078c8cd3129"
      },
      "execution_count": 18,
      "outputs": [
        {
          "output_type": "stream",
          "name": "stdout",
          "text": [
            "+--------+---------+----------+--------+-----------+-----+---------+----------+--------------+----------+-------------------+--------+------------+------------------+-----+----------------+--------+-------+---------+----------+---------+-------------------+----------------+--------+--------------------+-----------+\n",
            "|      id|loan_amnt|      term|int_rate|installment|grade|sub_grade|emp_length|home_ownership|annual_inc|verification_status| issue_d|last_pymnt_d|           purpose|  dti|earliest_cr_line|open_acc|pub_rec|revol_bal|revol_util|total_acc|initial_list_status|application_type|mort_acc|pub_rec_bankruptcies|loan_status|\n",
            "+--------+---------+----------+--------+-----------+-----+---------+----------+--------------+----------+-------------------+--------+------------+------------------+-----+----------------+--------+-------+---------+----------+---------+-------------------+----------------+--------+--------------------+-----------+\n",
            "|68340587|  12000.0| 36 months|    9.17|     382.55|    B|       B2| 10+ years|      MORTGAGE|  105000.0|    Source Verified|Dec-2015|    Jul-2018|       credit_card|16.86|        Apr-1990|    12.0|    0.0|  11143.0|      34.1|     29.0|                  w|      Individual|     4.0|                 0.0| Fully Paid|\n",
            "|67307680|  24650.0| 36 months|   11.48|     812.63|    B|       B5| 10+ years|      MORTGAGE|  100000.0|           Verified|Dec-2015|    Jul-2017|debt_consolidation|22.64|        Apr-1988|    11.0|    0.0|  31110.0|      56.0|     24.0|                  w|      Individual|     5.0|                 0.0| Fully Paid|\n",
            "|68605991|  24000.0| 60 months|    7.91|     485.61|    A|       A5|   8 years|      MORTGAGE|  116250.0|       Not Verified|Dec-2015|    Mar-2018|debt_consolidation|19.88|        Jun-1987|    13.0|    0.0|  33832.0|      49.3|     20.0|                  w|      Individual|     2.0|                 0.0| Fully Paid|\n",
            "|68596084|  18000.0| 36 months|     9.8|     579.13|    B|       B3|   2 years|      MORTGAGE|   45000.0|       Not Verified|Dec-2015|    Apr-2018|    major_purchase|21.39|        Mar-2002|    14.0|    0.0|   4667.0|       8.8|     31.0|                  w|      Individual|     3.0|                 0.0| Fully Paid|\n",
            "|66643876|   7000.0| 36 months|    5.32|     210.81|    A|       A1|   5 years|           OWN|   68000.0|    Source Verified|Dec-2015|    Dec-2018|debt_consolidation| 1.41|        Mar-1999|     9.0|    0.0|   7780.0|      50.2|     39.0|                  w|      Individual|     1.0|                 0.0| Fully Paid|\n",
            "|68475247|   5000.0| 36 months|   12.88|     168.19|    C|       C2|   8 years|          RENT|   85000.0|    Source Verified|Dec-2015|    Mar-2017|               car|16.17|        Aug-2007|    11.0|    1.0|   4080.0|      14.6|     24.0|                  f|      Individual|     0.0|                 0.0| Fully Paid|\n",
            "|68545401|  15000.0| 36 months|    5.32|     451.73|    A|       A1| 10+ years|      MORTGAGE|   85000.0|       Not Verified|Dec-2015|    Dec-2017|debt_consolidation|13.47|        Jan-1994|    14.0|    0.0|   8544.0|      35.9|     33.0|                  w|      Individual|     1.0|                 0.0| Fully Paid|\n",
            "|68425109|  27000.0| 36 months|    7.49|     839.75|    A|       A4| 10+ years|      MORTGAGE|  120000.0|       Not Verified|Dec-2015|    Mar-2017|debt_consolidation|11.28|        Dec-1991|    11.0|    0.0|  22415.0|      80.6|     44.0|                  w|      Individual|     2.0|                 0.0| Fully Paid|\n",
            "|68614592|   7000.0| 36 months|    6.99|     216.11|    A|       A3|  < 1 year|      MORTGAGE|   79000.0|       Not Verified|Dec-2015|    Feb-2016|debt_consolidation|21.67|        Jun-1998|    18.0|    0.0|  10690.0|      29.2|     28.0|                  w|      Individual|     3.0|                 0.0| Fully Paid|\n",
            "|68404802|  15000.0| 36 months|   16.59|     531.74|    D|       D2|    1 year|           OWN|   67000.0|           Verified|Dec-2015|    Oct-2016|             other|15.22|        Jun-2004|     6.0|    0.0|  18229.0|      64.0|     27.0|                  w|      Individual|     0.0|                 0.0| Fully Paid|\n",
            "|66435847|  22925.0| 60 months|   16.55|     564.22|    D|       D2|   6 years|      MORTGAGE|  49872.95|    Source Verified|Dec-2015|    Aug-2016|debt_consolidation|24.62|        Aug-2004|     7.0|    0.0|  17954.0|      60.9|     12.0|                  w|      Individual|     2.0|                 0.0|Charged Off|\n",
            "|68424444|  14000.0| 36 months|    6.99|     432.22|    A|       A3|   7 years|      MORTGAGE|   73000.0|           Verified|Dec-2015|    Dec-2016|       credit_card|32.63|        Nov-1996|    15.0|    1.0|  32396.0|      50.0|     30.0|                  w|      Individual|     1.0|                 1.0| Fully Paid|\n",
            "|68434531|  20000.0| 60 months|   13.44|     459.58|    C|       C3|   4 years|          RENT|   80000.0|    Source Verified|Dec-2015|    Mar-2017|       credit_card|26.79|        Sep-2003|    16.0|    0.0|  23917.0|      93.1|     23.0|                  w|      Individual|     0.0|                 0.0| Fully Paid|\n",
            "|68444153|  16000.0| 60 months|   13.44|     367.67|    C|       C3|   9 years|          RENT|  106000.0|       Not Verified|Dec-2015|    Jan-2019|debt_consolidation| 9.94|        Apr-2000|    12.0|    0.0|  11762.0|      55.5|     24.0|                  w|      Individual|     0.0|                 0.0| Fully Paid|\n",
            "|68394157|   6025.0| 36 months|   12.88|     202.66|    C|       C2|   3 years|          RENT|   29000.0|    Source Verified|Dec-2015|    Feb-2019|debt_consolidation|34.89|        Oct-2009|    16.0|    0.0|   3556.0|      69.7|     27.0|                  w|      Individual|     0.0|                 0.0| Fully Paid|\n",
            "|68433969|   5900.0| 36 months|    9.17|     188.09|    B|       B2|   3 years|          RENT|   25000.0|       Not Verified|Dec-2015|    Jul-2018|debt_consolidation|25.83|        Nov-2002|     8.0|    0.0|   2846.0|      23.0|     20.0|                  w|      Individual|     0.0|                 0.0| Fully Paid|\n",
            "|68493767|   5000.0| 36 months|    6.99|     154.37|    A|       A3| 10+ years|      MORTGAGE|   75000.0|       Not Verified|Dec-2015|    Jul-2018|          vacation|17.23|        Oct-1998|    10.0|    1.0|   7785.0|      39.7|     22.0|                  w|      Individual|     2.0|                 0.0| Fully Paid|\n",
            "|66533072|  11025.0| 36 months|   13.44|     373.82|    C|       C3|   5 years|          RENT|   24000.0|    Source Verified|Dec-2015|    Mar-2018|debt_consolidation|26.21|        Jun-2006|    11.0|    0.0|  16439.0|      20.7|     15.0|                  w|      Individual|     0.0|                 0.0| Fully Paid|\n",
            "|68082843|  16000.0| 36 months|    8.49|     505.01|    B|       B1| 10+ years|      MORTGAGE|  102000.0|       Not Verified|Dec-2015|    Feb-2018|    major_purchase|35.88|        Dec-1991|    12.0|    0.0|  17902.0|      81.4|     28.0|                  w|      Individual|     3.0|                 0.0|Charged Off|\n",
            "|68222812|  21000.0| 60 months|   13.44|     482.56|    C|       C3|   6 years|          RENT|   80256.0|       Not Verified|Dec-2015|    Jan-2017|debt_consolidation|12.29|        Jul-1994|     9.0|    0.0|  27456.0|      78.2|     22.0|                  w|      Individual|     3.0|                 0.0| Fully Paid|\n",
            "+--------+---------+----------+--------+-----------+-----+---------+----------+--------------+----------+-------------------+--------+------------+------------------+-----+----------------+--------+-------+---------+----------+---------+-------------------+----------------+--------+--------------------+-----------+\n",
            "only showing top 20 rows\n",
            "\n"
          ]
        }
      ]
    },
    {
      "cell_type": "markdown",
      "source": [
        "## Home_ownership cleanup\n",
        "\n",
        "There is some values in home_ownership column that are not quite clear. For example, OTHER, NONE or ANY. \n",
        "\n",
        "Let's drop those rows out and build our model based on clear information, meaning knowing that our customer is either owning or renting their house, or already has a mortgage for it. "
      ],
      "metadata": {
        "id": "xqGCT-CGCoGZ"
      }
    },
    {
      "cell_type": "code",
      "source": [
        "# home_ownership values\n",
        "accepted.groupBy('home_ownership').count().orderBy('count').show()"
      ],
      "metadata": {
        "id": "uRm3m4PjCO9k",
        "colab": {
          "base_uri": "https://localhost:8080/"
        },
        "outputId": "56f9b8a8-7f40-4c93-dc7c-de90de09c622"
      },
      "execution_count": 19,
      "outputs": [
        {
          "output_type": "stream",
          "name": "stdout",
          "text": [
            "+--------------+------+\n",
            "|home_ownership| count|\n",
            "+--------------+------+\n",
            "|         OTHER|    42|\n",
            "|          NONE|    43|\n",
            "|           ANY|   264|\n",
            "|           OWN|125386|\n",
            "|          RENT|484456|\n",
            "|      MORTGAGE|607909|\n",
            "+--------------+------+\n",
            "\n"
          ]
        }
      ]
    },
    {
      "cell_type": "code",
      "source": [
        "accepted = accepted.where((accepted.home_ownership == 'MORTGAGE') | (accepted.home_ownership == 'RENT') | (accepted.home_ownership == 'OWN'))"
      ],
      "metadata": {
        "id": "wC_KJecQDUd0"
      },
      "execution_count": 20,
      "outputs": []
    },
    {
      "cell_type": "code",
      "source": [
        "accepted.groupBy('application_type').count().orderBy('count').show()"
      ],
      "metadata": {
        "id": "h-F5MWKxc2ZW",
        "colab": {
          "base_uri": "https://localhost:8080/"
        },
        "outputId": "ba3c8b07-fe71-4f0a-afe2-4c3a0c45490d"
      },
      "execution_count": 21,
      "outputs": [
        {
          "output_type": "stream",
          "name": "stdout",
          "text": [
            "+----------------+-------+\n",
            "|application_type|  count|\n",
            "+----------------+-------+\n",
            "|       Joint App|  21915|\n",
            "|      Individual|1195836|\n",
            "+----------------+-------+\n",
            "\n"
          ]
        }
      ]
    },
    {
      "cell_type": "code",
      "source": [
        "sample = accepted.sort('id').limit(100000)"
      ],
      "metadata": {
        "id": "qItaBDbt9H-W"
      },
      "execution_count": 22,
      "outputs": []
    },
    {
      "cell_type": "markdown",
      "source": [
        "## Saving to pandas "
      ],
      "metadata": {
        "id": "7fKB5x_9FSDV"
      }
    },
    {
      "cell_type": "code",
      "source": [
        "#pandas_df = sample.toPandas()"
      ],
      "metadata": {
        "id": "-WQ8o6XSgsIQ"
      },
      "execution_count": 23,
      "outputs": []
    },
    {
      "cell_type": "code",
      "source": [
        "#pandas_df.to_csv('df.csv')\n",
        "#!cp df.csv \"drive/My Drive/\""
      ],
      "metadata": {
        "id": "uHbmKDQUiQ_j"
      },
      "execution_count": 24,
      "outputs": []
    },
    {
      "cell_type": "code",
      "source": [
        "df = pd.read_csv('/content/drive/My Drive/df.csv', index_col=[0])"
      ],
      "metadata": {
        "id": "Av2Lf-XIAzJR"
      },
      "execution_count": 335,
      "outputs": []
    },
    {
      "cell_type": "code",
      "source": [
        "df.head()"
      ],
      "metadata": {
        "id": "U41VSIGNA6Cj",
        "colab": {
          "base_uri": "https://localhost:8080/",
          "height": 382
        },
        "outputId": "205f3a69-f490-49af-b8ed-ad3837887d4e"
      },
      "execution_count": 336,
      "outputs": [
        {
          "output_type": "execute_result",
          "data": {
            "text/plain": [
              "          id  loan_amnt        term  int_rate  installment grade sub_grade  \\\n",
              "0  100001133    30000.0   36 months      8.24       943.42     B        B1   \n",
              "1  100001137     7200.0   36 months     28.69       300.51     F        F1   \n",
              "2  100001158     7000.0   36 months     11.49       230.80     B        B5   \n",
              "3  100001163    11200.0   36 months     13.99       382.74     C        C3   \n",
              "4  100001282    13200.0   36 months     19.99       490.50     D        D4   \n",
              "\n",
              "  emp_length home_ownership  annual_inc  ... open_acc pub_rec revol_bal  \\\n",
              "0  10+ years            OWN    132630.0  ...     15.0     0.0    3444.0   \n",
              "1  10+ years       MORTGAGE     73000.0  ...      9.0     1.0    6501.0   \n",
              "2    9 years       MORTGAGE     60000.0  ...     11.0     0.0   12916.0   \n",
              "3    3 years           RENT     60000.0  ...     18.0     0.0    9686.0   \n",
              "4    3 years           RENT     33000.0  ...     10.0     0.0    9790.0   \n",
              "\n",
              "  revol_util  total_acc initial_list_status  application_type  mort_acc  \\\n",
              "0        5.3       22.0                   w        Individual       2.0   \n",
              "1       28.8       13.0                   f        Individual       0.0   \n",
              "2       54.5       21.0                   w        Individual       1.0   \n",
              "3       40.9       33.0                   f        Individual       0.0   \n",
              "4       55.0       30.0                   f        Individual       0.0   \n",
              "\n",
              "   pub_rec_bankruptcies  loan_status  \n",
              "0                   0.0  Charged Off  \n",
              "1                   1.0   Fully Paid  \n",
              "2                   0.0   Fully Paid  \n",
              "3                   0.0  Charged Off  \n",
              "4                   0.0  Charged Off  \n",
              "\n",
              "[5 rows x 26 columns]"
            ],
            "text/html": [
              "\n",
              "  <div id=\"df-cad0117f-1312-422c-9cda-f95de1c000a6\">\n",
              "    <div class=\"colab-df-container\">\n",
              "      <div>\n",
              "<style scoped>\n",
              "    .dataframe tbody tr th:only-of-type {\n",
              "        vertical-align: middle;\n",
              "    }\n",
              "\n",
              "    .dataframe tbody tr th {\n",
              "        vertical-align: top;\n",
              "    }\n",
              "\n",
              "    .dataframe thead th {\n",
              "        text-align: right;\n",
              "    }\n",
              "</style>\n",
              "<table border=\"1\" class=\"dataframe\">\n",
              "  <thead>\n",
              "    <tr style=\"text-align: right;\">\n",
              "      <th></th>\n",
              "      <th>id</th>\n",
              "      <th>loan_amnt</th>\n",
              "      <th>term</th>\n",
              "      <th>int_rate</th>\n",
              "      <th>installment</th>\n",
              "      <th>grade</th>\n",
              "      <th>sub_grade</th>\n",
              "      <th>emp_length</th>\n",
              "      <th>home_ownership</th>\n",
              "      <th>annual_inc</th>\n",
              "      <th>...</th>\n",
              "      <th>open_acc</th>\n",
              "      <th>pub_rec</th>\n",
              "      <th>revol_bal</th>\n",
              "      <th>revol_util</th>\n",
              "      <th>total_acc</th>\n",
              "      <th>initial_list_status</th>\n",
              "      <th>application_type</th>\n",
              "      <th>mort_acc</th>\n",
              "      <th>pub_rec_bankruptcies</th>\n",
              "      <th>loan_status</th>\n",
              "    </tr>\n",
              "  </thead>\n",
              "  <tbody>\n",
              "    <tr>\n",
              "      <th>0</th>\n",
              "      <td>100001133</td>\n",
              "      <td>30000.0</td>\n",
              "      <td>36 months</td>\n",
              "      <td>8.24</td>\n",
              "      <td>943.42</td>\n",
              "      <td>B</td>\n",
              "      <td>B1</td>\n",
              "      <td>10+ years</td>\n",
              "      <td>OWN</td>\n",
              "      <td>132630.0</td>\n",
              "      <td>...</td>\n",
              "      <td>15.0</td>\n",
              "      <td>0.0</td>\n",
              "      <td>3444.0</td>\n",
              "      <td>5.3</td>\n",
              "      <td>22.0</td>\n",
              "      <td>w</td>\n",
              "      <td>Individual</td>\n",
              "      <td>2.0</td>\n",
              "      <td>0.0</td>\n",
              "      <td>Charged Off</td>\n",
              "    </tr>\n",
              "    <tr>\n",
              "      <th>1</th>\n",
              "      <td>100001137</td>\n",
              "      <td>7200.0</td>\n",
              "      <td>36 months</td>\n",
              "      <td>28.69</td>\n",
              "      <td>300.51</td>\n",
              "      <td>F</td>\n",
              "      <td>F1</td>\n",
              "      <td>10+ years</td>\n",
              "      <td>MORTGAGE</td>\n",
              "      <td>73000.0</td>\n",
              "      <td>...</td>\n",
              "      <td>9.0</td>\n",
              "      <td>1.0</td>\n",
              "      <td>6501.0</td>\n",
              "      <td>28.8</td>\n",
              "      <td>13.0</td>\n",
              "      <td>f</td>\n",
              "      <td>Individual</td>\n",
              "      <td>0.0</td>\n",
              "      <td>1.0</td>\n",
              "      <td>Fully Paid</td>\n",
              "    </tr>\n",
              "    <tr>\n",
              "      <th>2</th>\n",
              "      <td>100001158</td>\n",
              "      <td>7000.0</td>\n",
              "      <td>36 months</td>\n",
              "      <td>11.49</td>\n",
              "      <td>230.80</td>\n",
              "      <td>B</td>\n",
              "      <td>B5</td>\n",
              "      <td>9 years</td>\n",
              "      <td>MORTGAGE</td>\n",
              "      <td>60000.0</td>\n",
              "      <td>...</td>\n",
              "      <td>11.0</td>\n",
              "      <td>0.0</td>\n",
              "      <td>12916.0</td>\n",
              "      <td>54.5</td>\n",
              "      <td>21.0</td>\n",
              "      <td>w</td>\n",
              "      <td>Individual</td>\n",
              "      <td>1.0</td>\n",
              "      <td>0.0</td>\n",
              "      <td>Fully Paid</td>\n",
              "    </tr>\n",
              "    <tr>\n",
              "      <th>3</th>\n",
              "      <td>100001163</td>\n",
              "      <td>11200.0</td>\n",
              "      <td>36 months</td>\n",
              "      <td>13.99</td>\n",
              "      <td>382.74</td>\n",
              "      <td>C</td>\n",
              "      <td>C3</td>\n",
              "      <td>3 years</td>\n",
              "      <td>RENT</td>\n",
              "      <td>60000.0</td>\n",
              "      <td>...</td>\n",
              "      <td>18.0</td>\n",
              "      <td>0.0</td>\n",
              "      <td>9686.0</td>\n",
              "      <td>40.9</td>\n",
              "      <td>33.0</td>\n",
              "      <td>f</td>\n",
              "      <td>Individual</td>\n",
              "      <td>0.0</td>\n",
              "      <td>0.0</td>\n",
              "      <td>Charged Off</td>\n",
              "    </tr>\n",
              "    <tr>\n",
              "      <th>4</th>\n",
              "      <td>100001282</td>\n",
              "      <td>13200.0</td>\n",
              "      <td>36 months</td>\n",
              "      <td>19.99</td>\n",
              "      <td>490.50</td>\n",
              "      <td>D</td>\n",
              "      <td>D4</td>\n",
              "      <td>3 years</td>\n",
              "      <td>RENT</td>\n",
              "      <td>33000.0</td>\n",
              "      <td>...</td>\n",
              "      <td>10.0</td>\n",
              "      <td>0.0</td>\n",
              "      <td>9790.0</td>\n",
              "      <td>55.0</td>\n",
              "      <td>30.0</td>\n",
              "      <td>f</td>\n",
              "      <td>Individual</td>\n",
              "      <td>0.0</td>\n",
              "      <td>0.0</td>\n",
              "      <td>Charged Off</td>\n",
              "    </tr>\n",
              "  </tbody>\n",
              "</table>\n",
              "<p>5 rows × 26 columns</p>\n",
              "</div>\n",
              "      <button class=\"colab-df-convert\" onclick=\"convertToInteractive('df-cad0117f-1312-422c-9cda-f95de1c000a6')\"\n",
              "              title=\"Convert this dataframe to an interactive table.\"\n",
              "              style=\"display:none;\">\n",
              "        \n",
              "  <svg xmlns=\"http://www.w3.org/2000/svg\" height=\"24px\"viewBox=\"0 0 24 24\"\n",
              "       width=\"24px\">\n",
              "    <path d=\"M0 0h24v24H0V0z\" fill=\"none\"/>\n",
              "    <path d=\"M18.56 5.44l.94 2.06.94-2.06 2.06-.94-2.06-.94-.94-2.06-.94 2.06-2.06.94zm-11 1L8.5 8.5l.94-2.06 2.06-.94-2.06-.94L8.5 2.5l-.94 2.06-2.06.94zm10 10l.94 2.06.94-2.06 2.06-.94-2.06-.94-.94-2.06-.94 2.06-2.06.94z\"/><path d=\"M17.41 7.96l-1.37-1.37c-.4-.4-.92-.59-1.43-.59-.52 0-1.04.2-1.43.59L10.3 9.45l-7.72 7.72c-.78.78-.78 2.05 0 2.83L4 21.41c.39.39.9.59 1.41.59.51 0 1.02-.2 1.41-.59l7.78-7.78 2.81-2.81c.8-.78.8-2.07 0-2.86zM5.41 20L4 18.59l7.72-7.72 1.47 1.35L5.41 20z\"/>\n",
              "  </svg>\n",
              "      </button>\n",
              "      \n",
              "  <style>\n",
              "    .colab-df-container {\n",
              "      display:flex;\n",
              "      flex-wrap:wrap;\n",
              "      gap: 12px;\n",
              "    }\n",
              "\n",
              "    .colab-df-convert {\n",
              "      background-color: #E8F0FE;\n",
              "      border: none;\n",
              "      border-radius: 50%;\n",
              "      cursor: pointer;\n",
              "      display: none;\n",
              "      fill: #1967D2;\n",
              "      height: 32px;\n",
              "      padding: 0 0 0 0;\n",
              "      width: 32px;\n",
              "    }\n",
              "\n",
              "    .colab-df-convert:hover {\n",
              "      background-color: #E2EBFA;\n",
              "      box-shadow: 0px 1px 2px rgba(60, 64, 67, 0.3), 0px 1px 3px 1px rgba(60, 64, 67, 0.15);\n",
              "      fill: #174EA6;\n",
              "    }\n",
              "\n",
              "    [theme=dark] .colab-df-convert {\n",
              "      background-color: #3B4455;\n",
              "      fill: #D2E3FC;\n",
              "    }\n",
              "\n",
              "    [theme=dark] .colab-df-convert:hover {\n",
              "      background-color: #434B5C;\n",
              "      box-shadow: 0px 1px 3px 1px rgba(0, 0, 0, 0.15);\n",
              "      filter: drop-shadow(0px 1px 2px rgba(0, 0, 0, 0.3));\n",
              "      fill: #FFFFFF;\n",
              "    }\n",
              "  </style>\n",
              "\n",
              "      <script>\n",
              "        const buttonEl =\n",
              "          document.querySelector('#df-cad0117f-1312-422c-9cda-f95de1c000a6 button.colab-df-convert');\n",
              "        buttonEl.style.display =\n",
              "          google.colab.kernel.accessAllowed ? 'block' : 'none';\n",
              "\n",
              "        async function convertToInteractive(key) {\n",
              "          const element = document.querySelector('#df-cad0117f-1312-422c-9cda-f95de1c000a6');\n",
              "          const dataTable =\n",
              "            await google.colab.kernel.invokeFunction('convertToInteractive',\n",
              "                                                     [key], {});\n",
              "          if (!dataTable) return;\n",
              "\n",
              "          const docLinkHtml = 'Like what you see? Visit the ' +\n",
              "            '<a target=\"_blank\" href=https://colab.research.google.com/notebooks/data_table.ipynb>data table notebook</a>'\n",
              "            + ' to learn more about interactive tables.';\n",
              "          element.innerHTML = '';\n",
              "          dataTable['output_type'] = 'display_data';\n",
              "          await google.colab.output.renderOutput(dataTable, element);\n",
              "          const docLink = document.createElement('div');\n",
              "          docLink.innerHTML = docLinkHtml;\n",
              "          element.appendChild(docLink);\n",
              "        }\n",
              "      </script>\n",
              "    </div>\n",
              "  </div>\n",
              "  "
            ]
          },
          "metadata": {},
          "execution_count": 336
        }
      ]
    },
    {
      "cell_type": "code",
      "source": [
        "df = df.drop(columns=['id'])\n",
        "df.shape"
      ],
      "metadata": {
        "id": "aXSbQU7-BsI_",
        "colab": {
          "base_uri": "https://localhost:8080/"
        },
        "outputId": "17f5d1b9-5eeb-4dfc-c481-ff2e0f09e627"
      },
      "execution_count": 337,
      "outputs": [
        {
          "output_type": "execute_result",
          "data": {
            "text/plain": [
              "(100000, 25)"
            ]
          },
          "metadata": {},
          "execution_count": 337
        }
      ]
    },
    {
      "cell_type": "markdown",
      "source": [
        "# Outliers"
      ],
      "metadata": {
        "id": "0k-7ERWPWK2C"
      }
    },
    {
      "cell_type": "code",
      "source": [
        "column_names = [\n",
        " 'loan_amnt',\n",
        " 'installment',\n",
        " 'annual_inc',\n",
        " 'open_acc',\n",
        " 'pub_rec',\n",
        " 'revol_bal',\n",
        " 'revol_util',\n",
        " 'total_acc',\n",
        " 'mort_acc',\n",
        " 'pub_rec_bankruptcies']"
      ],
      "metadata": {
        "id": "HNM_hmB8WL51"
      },
      "execution_count": 338,
      "outputs": []
    },
    {
      "cell_type": "code",
      "source": [
        "draw_box_plot(df)"
      ],
      "metadata": {
        "id": "H7hzW5JGWSnq",
        "colab": {
          "base_uri": "https://localhost:8080/",
          "height": 535
        },
        "outputId": "dd295a93-25c5-450e-8671-29b9c38bba46"
      },
      "execution_count": 339,
      "outputs": [
        {
          "output_type": "display_data",
          "data": {
            "text/plain": [
              "<Figure size 1728x864 with 10 Axes>"
            ],
            "image/png": "[encoded data removed]"
          },
          "metadata": {
            "needs_background": "light"
          }
        }
      ]
    },
    {
      "cell_type": "markdown",
      "source": [
        "# EDA"
      ],
      "metadata": {
        "id": "FnrAySSh9MWN"
      }
    },
    {
      "cell_type": "code",
      "source": [
        "fig = plt.figure(figsize =(8, 8))\n",
        "df.loan_status.value_counts(normalize=True).plot.pie(autopct='%.2f', \n",
        "                                                 pctdistance=1.1, \n",
        "                                                 labeldistance=1.2)\n",
        "plt.title('How many load were paid back?')\n",
        "plt.show()"
      ],
      "metadata": {
        "id": "8GMjamkU69aN",
        "colab": {
          "base_uri": "https://localhost:8080/",
          "height": 54
        },
        "outputId": "b41b52d4-0f4f-4e5c-eb29-9b217a7c0a06"
      },
      "execution_count": 340,
      "outputs": [
        {
          "output_type": "display_data",
          "data": {
            "text/plain": [
              "<Figure size 576x576 with 1 Axes>"
            ],
            "image/png": "[encoded data removed]"
          },
          "metadata": {}
        }
      ]
    },
    {
      "cell_type": "markdown",
      "source": [
        "## Loan amount "
      ],
      "metadata": {
        "id": "glxygMQBTZXx"
      }
    },
    {
      "cell_type": "code",
      "source": [
        "plot_kde('loan_amnt')"
      ],
      "metadata": {
        "id": "5DQUW-LiSgJi",
        "colab": {
          "base_uri": "https://localhost:8080/",
          "height": 54
        },
        "outputId": "cec5c145-f01e-4e75-e7bf-1566880b5c5a"
      },
      "execution_count": 341,
      "outputs": [
        {
          "output_type": "display_data",
          "data": {
            "text/plain": [
              "<Figure size 1008x720 with 1 Axes>"
            ],
            "image/png": "[encoded data removed]"
          },
          "metadata": {
            "needs_background": "light"
          }
        }
      ]
    },
    {
      "cell_type": "markdown",
      "source": [
        "Smaller loans tend to be Fully Paid more often"
      ],
      "metadata": {
        "id": "7jyN1KtGSx-t"
      }
    },
    {
      "cell_type": "markdown",
      "source": [
        "## Loan term"
      ],
      "metadata": {
        "id": "NDjdFq_DTjvV"
      }
    },
    {
      "cell_type": "code",
      "source": [
        "plot_bar(df, 'term')"
      ],
      "metadata": {
        "id": "mnEcXmV8QSoS",
        "colab": {
          "base_uri": "https://localhost:8080/",
          "height": 737
        },
        "outputId": "cac588a5-98e8-4259-8b62-e8ed7f1c6a13"
      },
      "execution_count": 342,
      "outputs": [
        {
          "output_type": "display_data",
          "data": {
            "text/html": [
              "<html>\n",
              "<head><meta charset=\"utf-8\" /></head>\n",
              "<body>\n",
              "    <div>            <script src=\"https://cdnjs.cloudflare.com/ajax/libs/mathjax/2.7.5/MathJax.js?config=TeX-AMS-MML_SVG\"></script><script type=\"text/javascript\">if (window.MathJax) {MathJax.Hub.Config({SVG: {font: \"STIX-Web\"}});}</script>                <script type=\"text/javascript\">window.PlotlyConfig = {MathJaxConfig: 'local'};</script>\n",
              "        <script src=\"https://cdn.plot.ly/plotly-2.8.3.min.js\"></script>                <div id=\"8eadf5d8-d3e7-4e88-9b2f-cee3c3eaabc7\" class=\"plotly-graph-div\" style=\"height:700px; width:1000px;\"></div>            <script type=\"text/javascript\">                                    window.PLOTLYENV=window.PLOTLYENV || {};                                    if (document.getElementById(\"8eadf5d8-d3e7-4e88-9b2f-cee3c3eaabc7\")) {                    Plotly.newPlot(                        \"8eadf5d8-d3e7-4e88-9b2f-cee3c3eaabc7\",                        [{\"alignmentgroup\":\"True\",\"hovertemplate\":\"loan_status=Charged Off<br>term=%{x}<br>value=%{y}<br>text=%{text}<extra></extra>\",\"legendgroup\":\"Charged Off\",\"marker\":{\"color\":\"#636efa\",\"pattern\":{\"shape\":\"\"}},\"name\":\"Charged Off\",\"offsetgroup\":\"Charged Off\",\"orientation\":\"v\",\"showlegend\":true,\"text\":[\"17.94%\",\"31.04%\"],\"textposition\":\"auto\",\"x\":[\" 36 months\",\" 60 months\"],\"xaxis\":\"x\",\"y\":[13521,7646],\"yaxis\":\"y\",\"type\":\"bar\"},{\"alignmentgroup\":\"True\",\"hovertemplate\":\"loan_status=Fully Paid<br>term=%{x}<br>value=%{y}<br>text=%{text}<extra></extra>\",\"legendgroup\":\"Fully Paid\",\"marker\":{\"color\":\"#EF553B\",\"pattern\":{\"shape\":\"\"}},\"name\":\"Fully Paid\",\"offsetgroup\":\"Fully Paid\",\"orientation\":\"v\",\"showlegend\":true,\"text\":[\"82.06%\",\"68.96%\"],\"textposition\":\"auto\",\"x\":[\" 36 months\",\" 60 months\"],\"xaxis\":\"x\",\"y\":[61844,16989],\"yaxis\":\"y\",\"type\":\"bar\"}],                        {\"template\":{\"data\":{\"bar\":[{\"error_x\":{\"color\":\"#2a3f5f\"},\"error_y\":{\"color\":\"#2a3f5f\"},\"marker\":{\"line\":{\"color\":\"#E5ECF6\",\"width\":0.5},\"pattern\":{\"fillmode\":\"overlay\",\"size\":10,\"solidity\":0.2}},\"type\":\"bar\"}],\"barpolar\":[{\"marker\":{\"line\":{\"color\":\"#E5ECF6\",\"width\":0.5},\"pattern\":{\"fillmode\":\"overlay\",\"size\":10,\"solidity\":0.2}},\"type\":\"barpolar\"}],\"carpet\":[{\"aaxis\":{\"endlinecolor\":\"#2a3f5f\",\"gridcolor\":\"white\",\"linecolor\":\"white\",\"minorgridcolor\":\"white\",\"startlinecolor\":\"#2a3f5f\"},\"baxis\":{\"endlinecolor\":\"#2a3f5f\",\"gridcolor\":\"white\",\"linecolor\":\"white\",\"minorgridcolor\":\"white\",\"startlinecolor\":\"#2a3f5f\"},\"type\":\"carpet\"}],\"choropleth\":[{\"colorbar\":{\"outlinewidth\":0,\"ticks\":\"\"},\"type\":\"choropleth\"}],\"contour\":[{\"colorbar\":{\"outlinewidth\":0,\"ticks\":\"\"},\"colorscale\":[[0.0,\"#0d0887\"],[0.1111111111111111,\"#46039f\"],[0.2222222222222222,\"#7201a8\"],[0.3333333333333333,\"#9c179e\"],[0.4444444444444444,\"#bd3786\"],[0.5555555555555556,\"#d8576b\"],[0.6666666666666666,\"#ed7953\"],[0.7777777777777778,\"#fb9f3a\"],[0.8888888888888888,\"#fdca26\"],[1.0,\"#f0f921\"]],\"type\":\"contour\"}],\"contourcarpet\":[{\"colorbar\":{\"outlinewidth\":0,\"ticks\":\"\"},\"type\":\"contourcarpet\"}],\"heatmap\":[{\"colorbar\":{\"outlinewidth\":0,\"ticks\":\"\"},\"colorscale\":[[0.0,\"#0d0887\"],[0.1111111111111111,\"#46039f\"],[0.2222222222222222,\"#7201a8\"],[0.3333333333333333,\"#9c179e\"],[0.4444444444444444,\"#bd3786\"],[0.5555555555555556,\"#d8576b\"],[0.6666666666666666,\"#ed7953\"],[0.7777777777777778,\"#fb9f3a\"],[0.8888888888888888,\"#fdca26\"],[1.0,\"#f0f921\"]],\"type\":\"heatmap\"}],\"heatmapgl\":[{\"colorbar\":{\"outlinewidth\":0,\"ticks\":\"\"},\"colorscale\":[[0.0,\"#0d0887\"],[0.1111111111111111,\"#46039f\"],[0.2222222222222222,\"#7201a8\"],[0.3333333333333333,\"#9c179e\"],[0.4444444444444444,\"#bd3786\"],[0.5555555555555556,\"#d8576b\"],[0.6666666666666666,\"#ed7953\"],[0.7777777777777778,\"#fb9f3a\"],[0.8888888888888888,\"#fdca26\"],[1.0,\"#f0f921\"]],\"type\":\"heatmapgl\"}],\"histogram\":[{\"marker\":{\"pattern\":{\"fillmode\":\"overlay\",\"size\":10,\"solidity\":0.2}},\"type\":\"histogram\"}],\"histogram2d\":[{\"colorbar\":{\"outlinewidth\":0,\"ticks\":\"\"},\"colorscale\":[[0.0,\"#0d0887\"],[0.1111111111111111,\"#46039f\"],[0.2222222222222222,\"#7201a8\"],[0.3333333333333333,\"#9c179e\"],[0.4444444444444444,\"#bd3786\"],[0.5555555555555556,\"#d8576b\"],[0.6666666666666666,\"#ed7953\"],[0.7777777777777778,\"#fb9f3a\"],[0.8888888888888888,\"#fdca26\"],[1.0,\"#f0f921\"]],\"type\":\"histogram2d\"}],\"histogram2dcontour\":[{\"colorbar\":{\"outlinewidth\":0,\"ticks\":\"\"},\"colorscale\":[[0.0,\"#0d0887\"],[0.1111111111111111,\"#46039f\"],[0.2222222222222222,\"#7201a8\"],[0.3333333333333333,\"#9c179e\"],[0.4444444444444444,\"#bd3786\"],[0.5555555555555556,\"#d8576b\"],[0.6666666666666666,\"#ed7953\"],[0.7777777777777778,\"#fb9f3a\"],[0.8888888888888888,\"#fdca26\"],[1.0,\"#f0f921\"]],\"type\":\"histogram2dcontour\"}],\"mesh3d\":[{\"colorbar\":{\"outlinewidth\":0,\"ticks\":\"\"},\"type\":\"mesh3d\"}],\"parcoords\":[{\"line\":{\"colorbar\":{\"outlinewidth\":0,\"ticks\":\"\"}},\"type\":\"parcoords\"}],\"pie\":[{\"automargin\":true,\"type\":\"pie\"}],\"scatter\":[{\"marker\":{\"colorbar\":{\"outlinewidth\":0,\"ticks\":\"\"}},\"type\":\"scatter\"}],\"scatter3d\":[{\"line\":{\"colorbar\":{\"outlinewidth\":0,\"ticks\":\"\"}},\"marker\":{\"colorbar\":{\"outlinewidth\":0,\"ticks\":\"\"}},\"type\":\"scatter3d\"}],\"scattercarpet\":[{\"marker\":{\"colorbar\":{\"outlinewidth\":0,\"ticks\":\"\"}},\"type\":\"scattercarpet\"}],\"scattergeo\":[{\"marker\":{\"colorbar\":{\"outlinewidth\":0,\"ticks\":\"\"}},\"type\":\"scattergeo\"}],\"scattergl\":[{\"marker\":{\"colorbar\":{\"outlinewidth\":0,\"ticks\":\"\"}},\"type\":\"scattergl\"}],\"scattermapbox\":[{\"marker\":{\"colorbar\":{\"outlinewidth\":0,\"ticks\":\"\"}},\"type\":\"scattermapbox\"}],\"scatterpolar\":[{\"marker\":{\"colorbar\":{\"outlinewidth\":0,\"ticks\":\"\"}},\"type\":\"scatterpolar\"}],\"scatterpolargl\":[{\"marker\":{\"colorbar\":{\"outlinewidth\":0,\"ticks\":\"\"}},\"type\":\"scatterpolargl\"}],\"scatterternary\":[{\"marker\":{\"colorbar\":{\"outlinewidth\":0,\"ticks\":\"\"}},\"type\":\"scatterternary\"}],\"surface\":[{\"colorbar\":{\"outlinewidth\":0,\"ticks\":\"\"},\"colorscale\":[[0.0,\"#0d0887\"],[0.1111111111111111,\"#46039f\"],[0.2222222222222222,\"#7201a8\"],[0.3333333333333333,\"#9c179e\"],[0.4444444444444444,\"#bd3786\"],[0.5555555555555556,\"#d8576b\"],[0.6666666666666666,\"#ed7953\"],[0.7777777777777778,\"#fb9f3a\"],[0.8888888888888888,\"#fdca26\"],[1.0,\"#f0f921\"]],\"type\":\"surface\"}],\"table\":[{\"cells\":{\"fill\":{\"color\":\"#EBF0F8\"},\"line\":{\"color\":\"white\"}},\"header\":{\"fill\":{\"color\":\"#C8D4E3\"},\"line\":{\"color\":\"white\"}},\"type\":\"table\"}]},\"layout\":{\"annotationdefaults\":{\"arrowcolor\":\"#2a3f5f\",\"arrowhead\":0,\"arrowwidth\":1},\"autotypenumbers\":\"strict\",\"coloraxis\":{\"colorbar\":{\"outlinewidth\":0,\"ticks\":\"\"}},\"colorscale\":{\"diverging\":[[0,\"#8e0152\"],[0.1,\"#c51b7d\"],[0.2,\"#de77ae\"],[0.3,\"#f1b6da\"],[0.4,\"#fde0ef\"],[0.5,\"#f7f7f7\"],[0.6,\"#e6f5d0\"],[0.7,\"#b8e186\"],[0.8,\"#7fbc41\"],[0.9,\"#4d9221\"],[1,\"#276419\"]],\"sequential\":[[0.0,\"#0d0887\"],[0.1111111111111111,\"#46039f\"],[0.2222222222222222,\"#7201a8\"],[0.3333333333333333,\"#9c179e\"],[0.4444444444444444,\"#bd3786\"],[0.5555555555555556,\"#d8576b\"],[0.6666666666666666,\"#ed7953\"],[0.7777777777777778,\"#fb9f3a\"],[0.8888888888888888,\"#fdca26\"],[1.0,\"#f0f921\"]],\"sequentialminus\":[[0.0,\"#0d0887\"],[0.1111111111111111,\"#46039f\"],[0.2222222222222222,\"#7201a8\"],[0.3333333333333333,\"#9c179e\"],[0.4444444444444444,\"#bd3786\"],[0.5555555555555556,\"#d8576b\"],[0.6666666666666666,\"#ed7953\"],[0.7777777777777778,\"#fb9f3a\"],[0.8888888888888888,\"#fdca26\"],[1.0,\"#f0f921\"]]},\"colorway\":[\"#636efa\",\"#EF553B\",\"#00cc96\",\"#ab63fa\",\"#FFA15A\",\"#19d3f3\",\"#FF6692\",\"#B6E880\",\"#FF97FF\",\"#FECB52\"],\"font\":{\"color\":\"#2a3f5f\"},\"geo\":{\"bgcolor\":\"white\",\"lakecolor\":\"white\",\"landcolor\":\"#E5ECF6\",\"showlakes\":true,\"showland\":true,\"subunitcolor\":\"white\"},\"hoverlabel\":{\"align\":\"left\"},\"hovermode\":\"closest\",\"mapbox\":{\"style\":\"light\"},\"paper_bgcolor\":\"white\",\"plot_bgcolor\":\"#E5ECF6\",\"polar\":{\"angularaxis\":{\"gridcolor\":\"white\",\"linecolor\":\"white\",\"ticks\":\"\"},\"bgcolor\":\"#E5ECF6\",\"radialaxis\":{\"gridcolor\":\"white\",\"linecolor\":\"white\",\"ticks\":\"\"}},\"scene\":{\"xaxis\":{\"backgroundcolor\":\"#E5ECF6\",\"gridcolor\":\"white\",\"gridwidth\":2,\"linecolor\":\"white\",\"showbackground\":true,\"ticks\":\"\",\"zerolinecolor\":\"white\"},\"yaxis\":{\"backgroundcolor\":\"#E5ECF6\",\"gridcolor\":\"white\",\"gridwidth\":2,\"linecolor\":\"white\",\"showbackground\":true,\"ticks\":\"\",\"zerolinecolor\":\"white\"},\"zaxis\":{\"backgroundcolor\":\"#E5ECF6\",\"gridcolor\":\"white\",\"gridwidth\":2,\"linecolor\":\"white\",\"showbackground\":true,\"ticks\":\"\",\"zerolinecolor\":\"white\"}},\"shapedefaults\":{\"line\":{\"color\":\"#2a3f5f\"}},\"ternary\":{\"aaxis\":{\"gridcolor\":\"white\",\"linecolor\":\"white\",\"ticks\":\"\"},\"baxis\":{\"gridcolor\":\"white\",\"linecolor\":\"white\",\"ticks\":\"\"},\"bgcolor\":\"#E5ECF6\",\"caxis\":{\"gridcolor\":\"white\",\"linecolor\":\"white\",\"ticks\":\"\"}},\"title\":{\"x\":0.05},\"xaxis\":{\"automargin\":true,\"gridcolor\":\"white\",\"linecolor\":\"white\",\"ticks\":\"\",\"title\":{\"standoff\":15},\"zerolinecolor\":\"white\",\"zerolinewidth\":2},\"yaxis\":{\"automargin\":true,\"gridcolor\":\"white\",\"linecolor\":\"white\",\"ticks\":\"\",\"title\":{\"standoff\":15},\"zerolinecolor\":\"white\",\"zerolinewidth\":2}}},\"xaxis\":{\"anchor\":\"y\",\"domain\":[0.0,1.0],\"title\":{\"text\":\"term\"}},\"yaxis\":{\"anchor\":\"x\",\"domain\":[0.0,1.0],\"title\":{\"text\":\"value\"}},\"legend\":{\"title\":{\"text\":\"loan_status\"},\"tracegroupgap\":0},\"margin\":{\"t\":60},\"barmode\":\"relative\",\"coloraxis\":{\"showscale\":false},\"autosize\":false,\"width\":1000,\"height\":700},                        {\"responsive\": true}                    ).then(function(){\n",
              "                            \n",
              "var gd = document.getElementById('8eadf5d8-d3e7-4e88-9b2f-cee3c3eaabc7');\n",
              "var x = new MutationObserver(function (mutations, observer) {{\n",
              "        var display = window.getComputedStyle(gd).display;\n",
              "        if (!display || display === 'none') {{\n",
              "            console.log([gd, 'removed!']);\n",
              "            Plotly.purge(gd);\n",
              "            observer.disconnect();\n",
              "        }}\n",
              "}});\n",
              "\n",
              "// Listen for the removal of the full notebook cells\n",
              "var notebookContainer = gd.closest('#notebook-container');\n",
              "if (notebookContainer) {{\n",
              "    x.observe(notebookContainer, {childList: true});\n",
              "}}\n",
              "\n",
              "// Listen for the clearing of the current output cell\n",
              "var outputEl = gd.closest('.output');\n",
              "if (outputEl) {{\n",
              "    x.observe(outputEl, {childList: true});\n",
              "}}\n",
              "\n",
              "                        })                };                            </script>        </div>\n",
              "</body>\n",
              "</html>"
            ]
          },
          "metadata": {}
        }
      ]
    },
    {
      "cell_type": "markdown",
      "source": [
        "## Interest rate"
      ],
      "metadata": {
        "id": "1ldi6mW_Tn80"
      }
    },
    {
      "cell_type": "code",
      "source": [
        "plot_kde('int_rate')"
      ],
      "metadata": {
        "id": "UttqCsAoS5B5",
        "colab": {
          "base_uri": "https://localhost:8080/",
          "height": 54
        },
        "outputId": "0d20117f-9ff5-4edc-a1f2-b661386dac90"
      },
      "execution_count": 343,
      "outputs": [
        {
          "output_type": "display_data",
          "data": {
            "text/plain": [
              "<Figure size 1008x720 with 1 Axes>"
            ],
            "image/png": "[encoded data removed]"
          },
          "metadata": {
            "needs_background": "light"
          }
        }
      ]
    },
    {
      "cell_type": "markdown",
      "source": [
        "Loans with smaller interest rate tend to be payed more often"
      ],
      "metadata": {
        "id": "tpz3bFihTByx"
      }
    },
    {
      "cell_type": "markdown",
      "source": [
        "## Loan grades"
      ],
      "metadata": {
        "id": "_-Uu9dZyTq-0"
      }
    },
    {
      "cell_type": "code",
      "source": [
        "plot_bar(df, 'grade')"
      ],
      "metadata": {
        "id": "lnbL4LA7RURp",
        "colab": {
          "base_uri": "https://localhost:8080/",
          "height": 737
        },
        "outputId": "587738f0-dc56-46cb-bbbf-0f7a9ffe1569"
      },
      "execution_count": 344,
      "outputs": [
        {
          "output_type": "display_data",
          "data": {
            "text/html": [
              "<html>\n",
              "<head><meta charset=\"utf-8\" /></head>\n",
              "<body>\n",
              "    <div>            <script src=\"https://cdnjs.cloudflare.com/ajax/libs/mathjax/2.7.5/MathJax.js?config=TeX-AMS-MML_SVG\"></script><script type=\"text/javascript\">if (window.MathJax) {MathJax.Hub.Config({SVG: {font: \"STIX-Web\"}});}</script>                <script type=\"text/javascript\">window.PlotlyConfig = {MathJaxConfig: 'local'};</script>\n",
              "        <script src=\"https://cdn.plot.ly/plotly-2.8.3.min.js\"></script>                <div id=\"ccfd948b-abfd-4460-9402-17ead49c4599\" class=\"plotly-graph-div\" style=\"height:700px; width:1000px;\"></div>            <script type=\"text/javascript\">                                    window.PLOTLYENV=window.PLOTLYENV || {};                                    if (document.getElementById(\"ccfd948b-abfd-4460-9402-17ead49c4599\")) {                    Plotly.newPlot(                        \"ccfd948b-abfd-4460-9402-17ead49c4599\",                        [{\"alignmentgroup\":\"True\",\"hovertemplate\":\"loan_status=Charged Off<br>grade=%{x}<br>value=%{y}<br>text=%{text}<extra></extra>\",\"legendgroup\":\"Charged Off\",\"marker\":{\"color\":\"#636efa\",\"pattern\":{\"shape\":\"\"}},\"name\":\"Charged Off\",\"offsetgroup\":\"Charged Off\",\"orientation\":\"v\",\"showlegend\":true,\"text\":[\"6.02%\",\"14.20%\",\"24.27%\",\"31.42%\",\"37.47%\",\"42.91%\",\"49.19%\"],\"textposition\":\"auto\",\"x\":[\"A\",\"B\",\"C\",\"D\",\"E\",\"F\",\"G\"],\"xaxis\":\"x\",\"y\":[937,3970,7951,4412,2308,954,635],\"yaxis\":\"y\",\"type\":\"bar\"},{\"alignmentgroup\":\"True\",\"hovertemplate\":\"loan_status=Fully Paid<br>grade=%{x}<br>value=%{y}<br>text=%{text}<extra></extra>\",\"legendgroup\":\"Fully Paid\",\"marker\":{\"color\":\"#EF553B\",\"pattern\":{\"shape\":\"\"}},\"name\":\"Fully Paid\",\"offsetgroup\":\"Fully Paid\",\"orientation\":\"v\",\"showlegend\":true,\"text\":[\"93.98%\",\"85.80%\",\"75.73%\",\"68.58%\",\"62.53%\",\"57.09%\",\"50.81%\"],\"textposition\":\"auto\",\"x\":[\"A\",\"B\",\"C\",\"D\",\"E\",\"F\",\"G\"],\"xaxis\":\"x\",\"y\":[14628,23987,24812,9629,3852,1269,656],\"yaxis\":\"y\",\"type\":\"bar\"}],                        {\"template\":{\"data\":{\"bar\":[{\"error_x\":{\"color\":\"#2a3f5f\"},\"error_y\":{\"color\":\"#2a3f5f\"},\"marker\":{\"line\":{\"color\":\"#E5ECF6\",\"width\":0.5},\"pattern\":{\"fillmode\":\"overlay\",\"size\":10,\"solidity\":0.2}},\"type\":\"bar\"}],\"barpolar\":[{\"marker\":{\"line\":{\"color\":\"#E5ECF6\",\"width\":0.5},\"pattern\":{\"fillmode\":\"overlay\",\"size\":10,\"solidity\":0.2}},\"type\":\"barpolar\"}],\"carpet\":[{\"aaxis\":{\"endlinecolor\":\"#2a3f5f\",\"gridcolor\":\"white\",\"linecolor\":\"white\",\"minorgridcolor\":\"white\",\"startlinecolor\":\"#2a3f5f\"},\"baxis\":{\"endlinecolor\":\"#2a3f5f\",\"gridcolor\":\"white\",\"linecolor\":\"white\",\"minorgridcolor\":\"white\",\"startlinecolor\":\"#2a3f5f\"},\"type\":\"carpet\"}],\"choropleth\":[{\"colorbar\":{\"outlinewidth\":0,\"ticks\":\"\"},\"type\":\"choropleth\"}],\"contour\":[{\"colorbar\":{\"outlinewidth\":0,\"ticks\":\"\"},\"colorscale\":[[0.0,\"#0d0887\"],[0.1111111111111111,\"#46039f\"],[0.2222222222222222,\"#7201a8\"],[0.3333333333333333,\"#9c179e\"],[0.4444444444444444,\"#bd3786\"],[0.5555555555555556,\"#d8576b\"],[0.6666666666666666,\"#ed7953\"],[0.7777777777777778,\"#fb9f3a\"],[0.8888888888888888,\"#fdca26\"],[1.0,\"#f0f921\"]],\"type\":\"contour\"}],\"contourcarpet\":[{\"colorbar\":{\"outlinewidth\":0,\"ticks\":\"\"},\"type\":\"contourcarpet\"}],\"heatmap\":[{\"colorbar\":{\"outlinewidth\":0,\"ticks\":\"\"},\"colorscale\":[[0.0,\"#0d0887\"],[0.1111111111111111,\"#46039f\"],[0.2222222222222222,\"#7201a8\"],[0.3333333333333333,\"#9c179e\"],[0.4444444444444444,\"#bd3786\"],[0.5555555555555556,\"#d8576b\"],[0.6666666666666666,\"#ed7953\"],[0.7777777777777778,\"#fb9f3a\"],[0.8888888888888888,\"#fdca26\"],[1.0,\"#f0f921\"]],\"type\":\"heatmap\"}],\"heatmapgl\":[{\"colorbar\":{\"outlinewidth\":0,\"ticks\":\"\"},\"colorscale\":[[0.0,\"#0d0887\"],[0.1111111111111111,\"#46039f\"],[0.2222222222222222,\"#7201a8\"],[0.3333333333333333,\"#9c179e\"],[0.4444444444444444,\"#bd3786\"],[0.5555555555555556,\"#d8576b\"],[0.6666666666666666,\"#ed7953\"],[0.7777777777777778,\"#fb9f3a\"],[0.8888888888888888,\"#fdca26\"],[1.0,\"#f0f921\"]],\"type\":\"heatmapgl\"}],\"histogram\":[{\"marker\":{\"pattern\":{\"fillmode\":\"overlay\",\"size\":10,\"solidity\":0.2}},\"type\":\"histogram\"}],\"histogram2d\":[{\"colorbar\":{\"outlinewidth\":0,\"ticks\":\"\"},\"colorscale\":[[0.0,\"#0d0887\"],[0.1111111111111111,\"#46039f\"],[0.2222222222222222,\"#7201a8\"],[0.3333333333333333,\"#9c179e\"],[0.4444444444444444,\"#bd3786\"],[0.5555555555555556,\"#d8576b\"],[0.6666666666666666,\"#ed7953\"],[0.7777777777777778,\"#fb9f3a\"],[0.8888888888888888,\"#fdca26\"],[1.0,\"#f0f921\"]],\"type\":\"histogram2d\"}],\"histogram2dcontour\":[{\"colorbar\":{\"outlinewidth\":0,\"ticks\":\"\"},\"colorscale\":[[0.0,\"#0d0887\"],[0.1111111111111111,\"#46039f\"],[0.2222222222222222,\"#7201a8\"],[0.3333333333333333,\"#9c179e\"],[0.4444444444444444,\"#bd3786\"],[0.5555555555555556,\"#d8576b\"],[0.6666666666666666,\"#ed7953\"],[0.7777777777777778,\"#fb9f3a\"],[0.8888888888888888,\"#fdca26\"],[1.0,\"#f0f921\"]],\"type\":\"histogram2dcontour\"}],\"mesh3d\":[{\"colorbar\":{\"outlinewidth\":0,\"ticks\":\"\"},\"type\":\"mesh3d\"}],\"parcoords\":[{\"line\":{\"colorbar\":{\"outlinewidth\":0,\"ticks\":\"\"}},\"type\":\"parcoords\"}],\"pie\":[{\"automargin\":true,\"type\":\"pie\"}],\"scatter\":[{\"marker\":{\"colorbar\":{\"outlinewidth\":0,\"ticks\":\"\"}},\"type\":\"scatter\"}],\"scatter3d\":[{\"line\":{\"colorbar\":{\"outlinewidth\":0,\"ticks\":\"\"}},\"marker\":{\"colorbar\":{\"outlinewidth\":0,\"ticks\":\"\"}},\"type\":\"scatter3d\"}],\"scattercarpet\":[{\"marker\":{\"colorbar\":{\"outlinewidth\":0,\"ticks\":\"\"}},\"type\":\"scattercarpet\"}],\"scattergeo\":[{\"marker\":{\"colorbar\":{\"outlinewidth\":0,\"ticks\":\"\"}},\"type\":\"scattergeo\"}],\"scattergl\":[{\"marker\":{\"colorbar\":{\"outlinewidth\":0,\"ticks\":\"\"}},\"type\":\"scattergl\"}],\"scattermapbox\":[{\"marker\":{\"colorbar\":{\"outlinewidth\":0,\"ticks\":\"\"}},\"type\":\"scattermapbox\"}],\"scatterpolar\":[{\"marker\":{\"colorbar\":{\"outlinewidth\":0,\"ticks\":\"\"}},\"type\":\"scatterpolar\"}],\"scatterpolargl\":[{\"marker\":{\"colorbar\":{\"outlinewidth\":0,\"ticks\":\"\"}},\"type\":\"scatterpolargl\"}],\"scatterternary\":[{\"marker\":{\"colorbar\":{\"outlinewidth\":0,\"ticks\":\"\"}},\"type\":\"scatterternary\"}],\"surface\":[{\"colorbar\":{\"outlinewidth\":0,\"ticks\":\"\"},\"colorscale\":[[0.0,\"#0d0887\"],[0.1111111111111111,\"#46039f\"],[0.2222222222222222,\"#7201a8\"],[0.3333333333333333,\"#9c179e\"],[0.4444444444444444,\"#bd3786\"],[0.5555555555555556,\"#d8576b\"],[0.6666666666666666,\"#ed7953\"],[0.7777777777777778,\"#fb9f3a\"],[0.8888888888888888,\"#fdca26\"],[1.0,\"#f0f921\"]],\"type\":\"surface\"}],\"table\":[{\"cells\":{\"fill\":{\"color\":\"#EBF0F8\"},\"line\":{\"color\":\"white\"}},\"header\":{\"fill\":{\"color\":\"#C8D4E3\"},\"line\":{\"color\":\"white\"}},\"type\":\"table\"}]},\"layout\":{\"annotationdefaults\":{\"arrowcolor\":\"#2a3f5f\",\"arrowhead\":0,\"arrowwidth\":1},\"autotypenumbers\":\"strict\",\"coloraxis\":{\"colorbar\":{\"outlinewidth\":0,\"ticks\":\"\"}},\"colorscale\":{\"diverging\":[[0,\"#8e0152\"],[0.1,\"#c51b7d\"],[0.2,\"#de77ae\"],[0.3,\"#f1b6da\"],[0.4,\"#fde0ef\"],[0.5,\"#f7f7f7\"],[0.6,\"#e6f5d0\"],[0.7,\"#b8e186\"],[0.8,\"#7fbc41\"],[0.9,\"#4d9221\"],[1,\"#276419\"]],\"sequential\":[[0.0,\"#0d0887\"],[0.1111111111111111,\"#46039f\"],[0.2222222222222222,\"#7201a8\"],[0.3333333333333333,\"#9c179e\"],[0.4444444444444444,\"#bd3786\"],[0.5555555555555556,\"#d8576b\"],[0.6666666666666666,\"#ed7953\"],[0.7777777777777778,\"#fb9f3a\"],[0.8888888888888888,\"#fdca26\"],[1.0,\"#f0f921\"]],\"sequentialminus\":[[0.0,\"#0d0887\"],[0.1111111111111111,\"#46039f\"],[0.2222222222222222,\"#7201a8\"],[0.3333333333333333,\"#9c179e\"],[0.4444444444444444,\"#bd3786\"],[0.5555555555555556,\"#d8576b\"],[0.6666666666666666,\"#ed7953\"],[0.7777777777777778,\"#fb9f3a\"],[0.8888888888888888,\"#fdca26\"],[1.0,\"#f0f921\"]]},\"colorway\":[\"#636efa\",\"#EF553B\",\"#00cc96\",\"#ab63fa\",\"#FFA15A\",\"#19d3f3\",\"#FF6692\",\"#B6E880\",\"#FF97FF\",\"#FECB52\"],\"font\":{\"color\":\"#2a3f5f\"},\"geo\":{\"bgcolor\":\"white\",\"lakecolor\":\"white\",\"landcolor\":\"#E5ECF6\",\"showlakes\":true,\"showland\":true,\"subunitcolor\":\"white\"},\"hoverlabel\":{\"align\":\"left\"},\"hovermode\":\"closest\",\"mapbox\":{\"style\":\"light\"},\"paper_bgcolor\":\"white\",\"plot_bgcolor\":\"#E5ECF6\",\"polar\":{\"angularaxis\":{\"gridcolor\":\"white\",\"linecolor\":\"white\",\"ticks\":\"\"},\"bgcolor\":\"#E5ECF6\",\"radialaxis\":{\"gridcolor\":\"white\",\"linecolor\":\"white\",\"ticks\":\"\"}},\"scene\":{\"xaxis\":{\"backgroundcolor\":\"#E5ECF6\",\"gridcolor\":\"white\",\"gridwidth\":2,\"linecolor\":\"white\",\"showbackground\":true,\"ticks\":\"\",\"zerolinecolor\":\"white\"},\"yaxis\":{\"backgroundcolor\":\"#E5ECF6\",\"gridcolor\":\"white\",\"gridwidth\":2,\"linecolor\":\"white\",\"showbackground\":true,\"ticks\":\"\",\"zerolinecolor\":\"white\"},\"zaxis\":{\"backgroundcolor\":\"#E5ECF6\",\"gridcolor\":\"white\",\"gridwidth\":2,\"linecolor\":\"white\",\"showbackground\":true,\"ticks\":\"\",\"zerolinecolor\":\"white\"}},\"shapedefaults\":{\"line\":{\"color\":\"#2a3f5f\"}},\"ternary\":{\"aaxis\":{\"gridcolor\":\"white\",\"linecolor\":\"white\",\"ticks\":\"\"},\"baxis\":{\"gridcolor\":\"white\",\"linecolor\":\"white\",\"ticks\":\"\"},\"bgcolor\":\"#E5ECF6\",\"caxis\":{\"gridcolor\":\"white\",\"linecolor\":\"white\",\"ticks\":\"\"}},\"title\":{\"x\":0.05},\"xaxis\":{\"automargin\":true,\"gridcolor\":\"white\",\"linecolor\":\"white\",\"ticks\":\"\",\"title\":{\"standoff\":15},\"zerolinecolor\":\"white\",\"zerolinewidth\":2},\"yaxis\":{\"automargin\":true,\"gridcolor\":\"white\",\"linecolor\":\"white\",\"ticks\":\"\",\"title\":{\"standoff\":15},\"zerolinecolor\":\"white\",\"zerolinewidth\":2}}},\"xaxis\":{\"anchor\":\"y\",\"domain\":[0.0,1.0],\"title\":{\"text\":\"grade\"}},\"yaxis\":{\"anchor\":\"x\",\"domain\":[0.0,1.0],\"title\":{\"text\":\"value\"}},\"legend\":{\"title\":{\"text\":\"loan_status\"},\"tracegroupgap\":0},\"margin\":{\"t\":60},\"barmode\":\"relative\",\"coloraxis\":{\"showscale\":false},\"autosize\":false,\"width\":1000,\"height\":700},                        {\"responsive\": true}                    ).then(function(){\n",
              "                            \n",
              "var gd = document.getElementById('ccfd948b-abfd-4460-9402-17ead49c4599');\n",
              "var x = new MutationObserver(function (mutations, observer) {{\n",
              "        var display = window.getComputedStyle(gd).display;\n",
              "        if (!display || display === 'none') {{\n",
              "            console.log([gd, 'removed!']);\n",
              "            Plotly.purge(gd);\n",
              "            observer.disconnect();\n",
              "        }}\n",
              "}});\n",
              "\n",
              "// Listen for the removal of the full notebook cells\n",
              "var notebookContainer = gd.closest('#notebook-container');\n",
              "if (notebookContainer) {{\n",
              "    x.observe(notebookContainer, {childList: true});\n",
              "}}\n",
              "\n",
              "// Listen for the clearing of the current output cell\n",
              "var outputEl = gd.closest('.output');\n",
              "if (outputEl) {{\n",
              "    x.observe(outputEl, {childList: true});\n",
              "}}\n",
              "\n",
              "                        })                };                            </script>        </div>\n",
              "</body>\n",
              "</html>"
            ]
          },
          "metadata": {}
        }
      ]
    },
    {
      "cell_type": "markdown",
      "source": [
        "The 'larger' the grade of the loan - the bigger the chance of this loan not being payed off. "
      ],
      "metadata": {
        "id": "5vJ7hWS1TvXx"
      }
    },
    {
      "cell_type": "markdown",
      "source": [
        "## Emplotement lenght"
      ],
      "metadata": {
        "id": "EAQD1MGuUIV_"
      }
    },
    {
      "cell_type": "code",
      "source": [
        "plot_bar(df, 'emp_length')"
      ],
      "metadata": {
        "id": "5xd21IPlRYyo",
        "colab": {
          "base_uri": "https://localhost:8080/",
          "height": 737
        },
        "outputId": "a85ca40b-3d9c-4b24-de22-6d1c957e6ca7"
      },
      "execution_count": 345,
      "outputs": [
        {
          "output_type": "display_data",
          "data": {
            "text/html": [
              "<html>\n",
              "<head><meta charset=\"utf-8\" /></head>\n",
              "<body>\n",
              "    <div>            <script src=\"https://cdnjs.cloudflare.com/ajax/libs/mathjax/2.7.5/MathJax.js?config=TeX-AMS-MML_SVG\"></script><script type=\"text/javascript\">if (window.MathJax) {MathJax.Hub.Config({SVG: {font: \"STIX-Web\"}});}</script>                <script type=\"text/javascript\">window.PlotlyConfig = {MathJaxConfig: 'local'};</script>\n",
              "        <script src=\"https://cdn.plot.ly/plotly-2.8.3.min.js\"></script>                <div id=\"4be5fe3c-59c1-4c3d-9ed5-eaf54ab47be9\" class=\"plotly-graph-div\" style=\"height:700px; width:1000px;\"></div>            <script type=\"text/javascript\">                                    window.PLOTLYENV=window.PLOTLYENV || {};                                    if (document.getElementById(\"4be5fe3c-59c1-4c3d-9ed5-eaf54ab47be9\")) {                    Plotly.newPlot(                        \"4be5fe3c-59c1-4c3d-9ed5-eaf54ab47be9\",                        [{\"alignmentgroup\":\"True\",\"hovertemplate\":\"loan_status=Charged Off<br>emp_length=%{x}<br>value=%{y}<br>text=%{text}<extra></extra>\",\"legendgroup\":\"Charged Off\",\"marker\":{\"color\":\"#636efa\",\"pattern\":{\"shape\":\"\"}},\"name\":\"Charged Off\",\"offsetgroup\":\"Charged Off\",\"orientation\":\"v\",\"showlegend\":true,\"text\":[\"23.42%\",\"19.65%\",\"22.85%\",\"22.69%\",\"21.73%\",\"20.66%\",\"19.84%\",\"21.00%\",\"20.67%\",\"20.56%\",\"23.49%\"],\"textposition\":\"auto\",\"x\":[\"1 year\",\"10+ years\",\"2 years\",\"3 years\",\"4 years\",\"5 years\",\"6 years\",\"7 years\",\"8 years\",\"9 years\",\"< 1 year\"],\"xaxis\":\"x\",\"y\":[1614,7065,2201,1959,1379,1369,962,930,748,817,2123],\"yaxis\":\"y\",\"type\":\"bar\"},{\"alignmentgroup\":\"True\",\"hovertemplate\":\"loan_status=Fully Paid<br>emp_length=%{x}<br>value=%{y}<br>text=%{text}<extra></extra>\",\"legendgroup\":\"Fully Paid\",\"marker\":{\"color\":\"#EF553B\",\"pattern\":{\"shape\":\"\"}},\"name\":\"Fully Paid\",\"offsetgroup\":\"Fully Paid\",\"orientation\":\"v\",\"showlegend\":true,\"text\":[\"76.58%\",\"80.35%\",\"77.15%\",\"77.31%\",\"78.27%\",\"79.34%\",\"80.16%\",\"79.00%\",\"79.33%\",\"79.44%\",\"76.51%\"],\"textposition\":\"auto\",\"x\":[\"1 year\",\"10+ years\",\"2 years\",\"3 years\",\"4 years\",\"5 years\",\"6 years\",\"7 years\",\"8 years\",\"9 years\",\"< 1 year\"],\"xaxis\":\"x\",\"y\":[5279,28898,7431,6674,4966,5256,3887,3499,2870,3157,6916],\"yaxis\":\"y\",\"type\":\"bar\"}],                        {\"template\":{\"data\":{\"bar\":[{\"error_x\":{\"color\":\"#2a3f5f\"},\"error_y\":{\"color\":\"#2a3f5f\"},\"marker\":{\"line\":{\"color\":\"#E5ECF6\",\"width\":0.5},\"pattern\":{\"fillmode\":\"overlay\",\"size\":10,\"solidity\":0.2}},\"type\":\"bar\"}],\"barpolar\":[{\"marker\":{\"line\":{\"color\":\"#E5ECF6\",\"width\":0.5},\"pattern\":{\"fillmode\":\"overlay\",\"size\":10,\"solidity\":0.2}},\"type\":\"barpolar\"}],\"carpet\":[{\"aaxis\":{\"endlinecolor\":\"#2a3f5f\",\"gridcolor\":\"white\",\"linecolor\":\"white\",\"minorgridcolor\":\"white\",\"startlinecolor\":\"#2a3f5f\"},\"baxis\":{\"endlinecolor\":\"#2a3f5f\",\"gridcolor\":\"white\",\"linecolor\":\"white\",\"minorgridcolor\":\"white\",\"startlinecolor\":\"#2a3f5f\"},\"type\":\"carpet\"}],\"choropleth\":[{\"colorbar\":{\"outlinewidth\":0,\"ticks\":\"\"},\"type\":\"choropleth\"}],\"contour\":[{\"colorbar\":{\"outlinewidth\":0,\"ticks\":\"\"},\"colorscale\":[[0.0,\"#0d0887\"],[0.1111111111111111,\"#46039f\"],[0.2222222222222222,\"#7201a8\"],[0.3333333333333333,\"#9c179e\"],[0.4444444444444444,\"#bd3786\"],[0.5555555555555556,\"#d8576b\"],[0.6666666666666666,\"#ed7953\"],[0.7777777777777778,\"#fb9f3a\"],[0.8888888888888888,\"#fdca26\"],[1.0,\"#f0f921\"]],\"type\":\"contour\"}],\"contourcarpet\":[{\"colorbar\":{\"outlinewidth\":0,\"ticks\":\"\"},\"type\":\"contourcarpet\"}],\"heatmap\":[{\"colorbar\":{\"outlinewidth\":0,\"ticks\":\"\"},\"colorscale\":[[0.0,\"#0d0887\"],[0.1111111111111111,\"#46039f\"],[0.2222222222222222,\"#7201a8\"],[0.3333333333333333,\"#9c179e\"],[0.4444444444444444,\"#bd3786\"],[0.5555555555555556,\"#d8576b\"],[0.6666666666666666,\"#ed7953\"],[0.7777777777777778,\"#fb9f3a\"],[0.8888888888888888,\"#fdca26\"],[1.0,\"#f0f921\"]],\"type\":\"heatmap\"}],\"heatmapgl\":[{\"colorbar\":{\"outlinewidth\":0,\"ticks\":\"\"},\"colorscale\":[[0.0,\"#0d0887\"],[0.1111111111111111,\"#46039f\"],[0.2222222222222222,\"#7201a8\"],[0.3333333333333333,\"#9c179e\"],[0.4444444444444444,\"#bd3786\"],[0.5555555555555556,\"#d8576b\"],[0.6666666666666666,\"#ed7953\"],[0.7777777777777778,\"#fb9f3a\"],[0.8888888888888888,\"#fdca26\"],[1.0,\"#f0f921\"]],\"type\":\"heatmapgl\"}],\"histogram\":[{\"marker\":{\"pattern\":{\"fillmode\":\"overlay\",\"size\":10,\"solidity\":0.2}},\"type\":\"histogram\"}],\"histogram2d\":[{\"colorbar\":{\"outlinewidth\":0,\"ticks\":\"\"},\"colorscale\":[[0.0,\"#0d0887\"],[0.1111111111111111,\"#46039f\"],[0.2222222222222222,\"#7201a8\"],[0.3333333333333333,\"#9c179e\"],[0.4444444444444444,\"#bd3786\"],[0.5555555555555556,\"#d8576b\"],[0.6666666666666666,\"#ed7953\"],[0.7777777777777778,\"#fb9f3a\"],[0.8888888888888888,\"#fdca26\"],[1.0,\"#f0f921\"]],\"type\":\"histogram2d\"}],\"histogram2dcontour\":[{\"colorbar\":{\"outlinewidth\":0,\"ticks\":\"\"},\"colorscale\":[[0.0,\"#0d0887\"],[0.1111111111111111,\"#46039f\"],[0.2222222222222222,\"#7201a8\"],[0.3333333333333333,\"#9c179e\"],[0.4444444444444444,\"#bd3786\"],[0.5555555555555556,\"#d8576b\"],[0.6666666666666666,\"#ed7953\"],[0.7777777777777778,\"#fb9f3a\"],[0.8888888888888888,\"#fdca26\"],[1.0,\"#f0f921\"]],\"type\":\"histogram2dcontour\"}],\"mesh3d\":[{\"colorbar\":{\"outlinewidth\":0,\"ticks\":\"\"},\"type\":\"mesh3d\"}],\"parcoords\":[{\"line\":{\"colorbar\":{\"outlinewidth\":0,\"ticks\":\"\"}},\"type\":\"parcoords\"}],\"pie\":[{\"automargin\":true,\"type\":\"pie\"}],\"scatter\":[{\"marker\":{\"colorbar\":{\"outlinewidth\":0,\"ticks\":\"\"}},\"type\":\"scatter\"}],\"scatter3d\":[{\"line\":{\"colorbar\":{\"outlinewidth\":0,\"ticks\":\"\"}},\"marker\":{\"colorbar\":{\"outlinewidth\":0,\"ticks\":\"\"}},\"type\":\"scatter3d\"}],\"scattercarpet\":[{\"marker\":{\"colorbar\":{\"outlinewidth\":0,\"ticks\":\"\"}},\"type\":\"scattercarpet\"}],\"scattergeo\":[{\"marker\":{\"colorbar\":{\"outlinewidth\":0,\"ticks\":\"\"}},\"type\":\"scattergeo\"}],\"scattergl\":[{\"marker\":{\"colorbar\":{\"outlinewidth\":0,\"ticks\":\"\"}},\"type\":\"scattergl\"}],\"scattermapbox\":[{\"marker\":{\"colorbar\":{\"outlinewidth\":0,\"ticks\":\"\"}},\"type\":\"scattermapbox\"}],\"scatterpolar\":[{\"marker\":{\"colorbar\":{\"outlinewidth\":0,\"ticks\":\"\"}},\"type\":\"scatterpolar\"}],\"scatterpolargl\":[{\"marker\":{\"colorbar\":{\"outlinewidth\":0,\"ticks\":\"\"}},\"type\":\"scatterpolargl\"}],\"scatterternary\":[{\"marker\":{\"colorbar\":{\"outlinewidth\":0,\"ticks\":\"\"}},\"type\":\"scatterternary\"}],\"surface\":[{\"colorbar\":{\"outlinewidth\":0,\"ticks\":\"\"},\"colorscale\":[[0.0,\"#0d0887\"],[0.1111111111111111,\"#46039f\"],[0.2222222222222222,\"#7201a8\"],[0.3333333333333333,\"#9c179e\"],[0.4444444444444444,\"#bd3786\"],[0.5555555555555556,\"#d8576b\"],[0.6666666666666666,\"#ed7953\"],[0.7777777777777778,\"#fb9f3a\"],[0.8888888888888888,\"#fdca26\"],[1.0,\"#f0f921\"]],\"type\":\"surface\"}],\"table\":[{\"cells\":{\"fill\":{\"color\":\"#EBF0F8\"},\"line\":{\"color\":\"white\"}},\"header\":{\"fill\":{\"color\":\"#C8D4E3\"},\"line\":{\"color\":\"white\"}},\"type\":\"table\"}]},\"layout\":{\"annotationdefaults\":{\"arrowcolor\":\"#2a3f5f\",\"arrowhead\":0,\"arrowwidth\":1},\"autotypenumbers\":\"strict\",\"coloraxis\":{\"colorbar\":{\"outlinewidth\":0,\"ticks\":\"\"}},\"colorscale\":{\"diverging\":[[0,\"#8e0152\"],[0.1,\"#c51b7d\"],[0.2,\"#de77ae\"],[0.3,\"#f1b6da\"],[0.4,\"#fde0ef\"],[0.5,\"#f7f7f7\"],[0.6,\"#e6f5d0\"],[0.7,\"#b8e186\"],[0.8,\"#7fbc41\"],[0.9,\"#4d9221\"],[1,\"#276419\"]],\"sequential\":[[0.0,\"#0d0887\"],[0.1111111111111111,\"#46039f\"],[0.2222222222222222,\"#7201a8\"],[0.3333333333333333,\"#9c179e\"],[0.4444444444444444,\"#bd3786\"],[0.5555555555555556,\"#d8576b\"],[0.6666666666666666,\"#ed7953\"],[0.7777777777777778,\"#fb9f3a\"],[0.8888888888888888,\"#fdca26\"],[1.0,\"#f0f921\"]],\"sequentialminus\":[[0.0,\"#0d0887\"],[0.1111111111111111,\"#46039f\"],[0.2222222222222222,\"#7201a8\"],[0.3333333333333333,\"#9c179e\"],[0.4444444444444444,\"#bd3786\"],[0.5555555555555556,\"#d8576b\"],[0.6666666666666666,\"#ed7953\"],[0.7777777777777778,\"#fb9f3a\"],[0.8888888888888888,\"#fdca26\"],[1.0,\"#f0f921\"]]},\"colorway\":[\"#636efa\",\"#EF553B\",\"#00cc96\",\"#ab63fa\",\"#FFA15A\",\"#19d3f3\",\"#FF6692\",\"#B6E880\",\"#FF97FF\",\"#FECB52\"],\"font\":{\"color\":\"#2a3f5f\"},\"geo\":{\"bgcolor\":\"white\",\"lakecolor\":\"white\",\"landcolor\":\"#E5ECF6\",\"showlakes\":true,\"showland\":true,\"subunitcolor\":\"white\"},\"hoverlabel\":{\"align\":\"left\"},\"hovermode\":\"closest\",\"mapbox\":{\"style\":\"light\"},\"paper_bgcolor\":\"white\",\"plot_bgcolor\":\"#E5ECF6\",\"polar\":{\"angularaxis\":{\"gridcolor\":\"white\",\"linecolor\":\"white\",\"ticks\":\"\"},\"bgcolor\":\"#E5ECF6\",\"radialaxis\":{\"gridcolor\":\"white\",\"linecolor\":\"white\",\"ticks\":\"\"}},\"scene\":{\"xaxis\":{\"backgroundcolor\":\"#E5ECF6\",\"gridcolor\":\"white\",\"gridwidth\":2,\"linecolor\":\"white\",\"showbackground\":true,\"ticks\":\"\",\"zerolinecolor\":\"white\"},\"yaxis\":{\"backgroundcolor\":\"#E5ECF6\",\"gridcolor\":\"white\",\"gridwidth\":2,\"linecolor\":\"white\",\"showbackground\":true,\"ticks\":\"\",\"zerolinecolor\":\"white\"},\"zaxis\":{\"backgroundcolor\":\"#E5ECF6\",\"gridcolor\":\"white\",\"gridwidth\":2,\"linecolor\":\"white\",\"showbackground\":true,\"ticks\":\"\",\"zerolinecolor\":\"white\"}},\"shapedefaults\":{\"line\":{\"color\":\"#2a3f5f\"}},\"ternary\":{\"aaxis\":{\"gridcolor\":\"white\",\"linecolor\":\"white\",\"ticks\":\"\"},\"baxis\":{\"gridcolor\":\"white\",\"linecolor\":\"white\",\"ticks\":\"\"},\"bgcolor\":\"#E5ECF6\",\"caxis\":{\"gridcolor\":\"white\",\"linecolor\":\"white\",\"ticks\":\"\"}},\"title\":{\"x\":0.05},\"xaxis\":{\"automargin\":true,\"gridcolor\":\"white\",\"linecolor\":\"white\",\"ticks\":\"\",\"title\":{\"standoff\":15},\"zerolinecolor\":\"white\",\"zerolinewidth\":2},\"yaxis\":{\"automargin\":true,\"gridcolor\":\"white\",\"linecolor\":\"white\",\"ticks\":\"\",\"title\":{\"standoff\":15},\"zerolinecolor\":\"white\",\"zerolinewidth\":2}}},\"xaxis\":{\"anchor\":\"y\",\"domain\":[0.0,1.0],\"title\":{\"text\":\"emp_length\"}},\"yaxis\":{\"anchor\":\"x\",\"domain\":[0.0,1.0],\"title\":{\"text\":\"value\"}},\"legend\":{\"title\":{\"text\":\"loan_status\"},\"tracegroupgap\":0},\"margin\":{\"t\":60},\"barmode\":\"relative\",\"coloraxis\":{\"showscale\":false},\"autosize\":false,\"width\":1000,\"height\":700},                        {\"responsive\": true}                    ).then(function(){\n",
              "                            \n",
              "var gd = document.getElementById('4be5fe3c-59c1-4c3d-9ed5-eaf54ab47be9');\n",
              "var x = new MutationObserver(function (mutations, observer) {{\n",
              "        var display = window.getComputedStyle(gd).display;\n",
              "        if (!display || display === 'none') {{\n",
              "            console.log([gd, 'removed!']);\n",
              "            Plotly.purge(gd);\n",
              "            observer.disconnect();\n",
              "        }}\n",
              "}});\n",
              "\n",
              "// Listen for the removal of the full notebook cells\n",
              "var notebookContainer = gd.closest('#notebook-container');\n",
              "if (notebookContainer) {{\n",
              "    x.observe(notebookContainer, {childList: true});\n",
              "}}\n",
              "\n",
              "// Listen for the clearing of the current output cell\n",
              "var outputEl = gd.closest('.output');\n",
              "if (outputEl) {{\n",
              "    x.observe(outputEl, {childList: true});\n",
              "}}\n",
              "\n",
              "                        })                };                            </script>        </div>\n",
              "</body>\n",
              "</html>"
            ]
          },
          "metadata": {}
        }
      ]
    },
    {
      "cell_type": "markdown",
      "source": [
        "## Home ownership "
      ],
      "metadata": {
        "id": "TPNlzHACUkgM"
      }
    },
    {
      "cell_type": "code",
      "source": [
        "plot_bar(df, 'home_ownership')"
      ],
      "metadata": {
        "id": "VR7XW0PrUnjc",
        "colab": {
          "base_uri": "https://localhost:8080/",
          "height": 737
        },
        "outputId": "22cabc19-fc45-48af-c73e-da621670d2a5"
      },
      "execution_count": 346,
      "outputs": [
        {
          "output_type": "display_data",
          "data": {
            "text/html": [
              "<html>\n",
              "<head><meta charset=\"utf-8\" /></head>\n",
              "<body>\n",
              "    <div>            <script src=\"https://cdnjs.cloudflare.com/ajax/libs/mathjax/2.7.5/MathJax.js?config=TeX-AMS-MML_SVG\"></script><script type=\"text/javascript\">if (window.MathJax) {MathJax.Hub.Config({SVG: {font: \"STIX-Web\"}});}</script>                <script type=\"text/javascript\">window.PlotlyConfig = {MathJaxConfig: 'local'};</script>\n",
              "        <script src=\"https://cdn.plot.ly/plotly-2.8.3.min.js\"></script>                <div id=\"de7b5c4e-8a48-49c0-ba50-3b2574e2ff6a\" class=\"plotly-graph-div\" style=\"height:700px; width:1000px;\"></div>            <script type=\"text/javascript\">                                    window.PLOTLYENV=window.PLOTLYENV || {};                                    if (document.getElementById(\"de7b5c4e-8a48-49c0-ba50-3b2574e2ff6a\")) {                    Plotly.newPlot(                        \"de7b5c4e-8a48-49c0-ba50-3b2574e2ff6a\",                        [{\"alignmentgroup\":\"True\",\"hovertemplate\":\"loan_status=Charged Off<br>home_ownership=%{x}<br>value=%{y}<br>text=%{text}<extra></extra>\",\"legendgroup\":\"Charged Off\",\"marker\":{\"color\":\"#636efa\",\"pattern\":{\"shape\":\"\"}},\"name\":\"Charged Off\",\"offsetgroup\":\"Charged Off\",\"orientation\":\"v\",\"showlegend\":true,\"text\":[\"17.93%\",\"21.54%\",\"25.36%\"],\"textposition\":\"auto\",\"x\":[\"MORTGAGE\",\"OWN\",\"RENT\"],\"xaxis\":\"x\",\"y\":[9161,2243,9763],\"yaxis\":\"y\",\"type\":\"bar\"},{\"alignmentgroup\":\"True\",\"hovertemplate\":\"loan_status=Fully Paid<br>home_ownership=%{x}<br>value=%{y}<br>text=%{text}<extra></extra>\",\"legendgroup\":\"Fully Paid\",\"marker\":{\"color\":\"#EF553B\",\"pattern\":{\"shape\":\"\"}},\"name\":\"Fully Paid\",\"offsetgroup\":\"Fully Paid\",\"orientation\":\"v\",\"showlegend\":true,\"text\":[\"82.07%\",\"78.46%\",\"74.64%\"],\"textposition\":\"auto\",\"x\":[\"MORTGAGE\",\"OWN\",\"RENT\"],\"xaxis\":\"x\",\"y\":[41931,8171,28731],\"yaxis\":\"y\",\"type\":\"bar\"}],                        {\"template\":{\"data\":{\"bar\":[{\"error_x\":{\"color\":\"#2a3f5f\"},\"error_y\":{\"color\":\"#2a3f5f\"},\"marker\":{\"line\":{\"color\":\"#E5ECF6\",\"width\":0.5},\"pattern\":{\"fillmode\":\"overlay\",\"size\":10,\"solidity\":0.2}},\"type\":\"bar\"}],\"barpolar\":[{\"marker\":{\"line\":{\"color\":\"#E5ECF6\",\"width\":0.5},\"pattern\":{\"fillmode\":\"overlay\",\"size\":10,\"solidity\":0.2}},\"type\":\"barpolar\"}],\"carpet\":[{\"aaxis\":{\"endlinecolor\":\"#2a3f5f\",\"gridcolor\":\"white\",\"linecolor\":\"white\",\"minorgridcolor\":\"white\",\"startlinecolor\":\"#2a3f5f\"},\"baxis\":{\"endlinecolor\":\"#2a3f5f\",\"gridcolor\":\"white\",\"linecolor\":\"white\",\"minorgridcolor\":\"white\",\"startlinecolor\":\"#2a3f5f\"},\"type\":\"carpet\"}],\"choropleth\":[{\"colorbar\":{\"outlinewidth\":0,\"ticks\":\"\"},\"type\":\"choropleth\"}],\"contour\":[{\"colorbar\":{\"outlinewidth\":0,\"ticks\":\"\"},\"colorscale\":[[0.0,\"#0d0887\"],[0.1111111111111111,\"#46039f\"],[0.2222222222222222,\"#7201a8\"],[0.3333333333333333,\"#9c179e\"],[0.4444444444444444,\"#bd3786\"],[0.5555555555555556,\"#d8576b\"],[0.6666666666666666,\"#ed7953\"],[0.7777777777777778,\"#fb9f3a\"],[0.8888888888888888,\"#fdca26\"],[1.0,\"#f0f921\"]],\"type\":\"contour\"}],\"contourcarpet\":[{\"colorbar\":{\"outlinewidth\":0,\"ticks\":\"\"},\"type\":\"contourcarpet\"}],\"heatmap\":[{\"colorbar\":{\"outlinewidth\":0,\"ticks\":\"\"},\"colorscale\":[[0.0,\"#0d0887\"],[0.1111111111111111,\"#46039f\"],[0.2222222222222222,\"#7201a8\"],[0.3333333333333333,\"#9c179e\"],[0.4444444444444444,\"#bd3786\"],[0.5555555555555556,\"#d8576b\"],[0.6666666666666666,\"#ed7953\"],[0.7777777777777778,\"#fb9f3a\"],[0.8888888888888888,\"#fdca26\"],[1.0,\"#f0f921\"]],\"type\":\"heatmap\"}],\"heatmapgl\":[{\"colorbar\":{\"outlinewidth\":0,\"ticks\":\"\"},\"colorscale\":[[0.0,\"#0d0887\"],[0.1111111111111111,\"#46039f\"],[0.2222222222222222,\"#7201a8\"],[0.3333333333333333,\"#9c179e\"],[0.4444444444444444,\"#bd3786\"],[0.5555555555555556,\"#d8576b\"],[0.6666666666666666,\"#ed7953\"],[0.7777777777777778,\"#fb9f3a\"],[0.8888888888888888,\"#fdca26\"],[1.0,\"#f0f921\"]],\"type\":\"heatmapgl\"}],\"histogram\":[{\"marker\":{\"pattern\":{\"fillmode\":\"overlay\",\"size\":10,\"solidity\":0.2}},\"type\":\"histogram\"}],\"histogram2d\":[{\"colorbar\":{\"outlinewidth\":0,\"ticks\":\"\"},\"colorscale\":[[0.0,\"#0d0887\"],[0.1111111111111111,\"#46039f\"],[0.2222222222222222,\"#7201a8\"],[0.3333333333333333,\"#9c179e\"],[0.4444444444444444,\"#bd3786\"],[0.5555555555555556,\"#d8576b\"],[0.6666666666666666,\"#ed7953\"],[0.7777777777777778,\"#fb9f3a\"],[0.8888888888888888,\"#fdca26\"],[1.0,\"#f0f921\"]],\"type\":\"histogram2d\"}],\"histogram2dcontour\":[{\"colorbar\":{\"outlinewidth\":0,\"ticks\":\"\"},\"colorscale\":[[0.0,\"#0d0887\"],[0.1111111111111111,\"#46039f\"],[0.2222222222222222,\"#7201a8\"],[0.3333333333333333,\"#9c179e\"],[0.4444444444444444,\"#bd3786\"],[0.5555555555555556,\"#d8576b\"],[0.6666666666666666,\"#ed7953\"],[0.7777777777777778,\"#fb9f3a\"],[0.8888888888888888,\"#fdca26\"],[1.0,\"#f0f921\"]],\"type\":\"histogram2dcontour\"}],\"mesh3d\":[{\"colorbar\":{\"outlinewidth\":0,\"ticks\":\"\"},\"type\":\"mesh3d\"}],\"parcoords\":[{\"line\":{\"colorbar\":{\"outlinewidth\":0,\"ticks\":\"\"}},\"type\":\"parcoords\"}],\"pie\":[{\"automargin\":true,\"type\":\"pie\"}],\"scatter\":[{\"marker\":{\"colorbar\":{\"outlinewidth\":0,\"ticks\":\"\"}},\"type\":\"scatter\"}],\"scatter3d\":[{\"line\":{\"colorbar\":{\"outlinewidth\":0,\"ticks\":\"\"}},\"marker\":{\"colorbar\":{\"outlinewidth\":0,\"ticks\":\"\"}},\"type\":\"scatter3d\"}],\"scattercarpet\":[{\"marker\":{\"colorbar\":{\"outlinewidth\":0,\"ticks\":\"\"}},\"type\":\"scattercarpet\"}],\"scattergeo\":[{\"marker\":{\"colorbar\":{\"outlinewidth\":0,\"ticks\":\"\"}},\"type\":\"scattergeo\"}],\"scattergl\":[{\"marker\":{\"colorbar\":{\"outlinewidth\":0,\"ticks\":\"\"}},\"type\":\"scattergl\"}],\"scattermapbox\":[{\"marker\":{\"colorbar\":{\"outlinewidth\":0,\"ticks\":\"\"}},\"type\":\"scattermapbox\"}],\"scatterpolar\":[{\"marker\":{\"colorbar\":{\"outlinewidth\":0,\"ticks\":\"\"}},\"type\":\"scatterpolar\"}],\"scatterpolargl\":[{\"marker\":{\"colorbar\":{\"outlinewidth\":0,\"ticks\":\"\"}},\"type\":\"scatterpolargl\"}],\"scatterternary\":[{\"marker\":{\"colorbar\":{\"outlinewidth\":0,\"ticks\":\"\"}},\"type\":\"scatterternary\"}],\"surface\":[{\"colorbar\":{\"outlinewidth\":0,\"ticks\":\"\"},\"colorscale\":[[0.0,\"#0d0887\"],[0.1111111111111111,\"#46039f\"],[0.2222222222222222,\"#7201a8\"],[0.3333333333333333,\"#9c179e\"],[0.4444444444444444,\"#bd3786\"],[0.5555555555555556,\"#d8576b\"],[0.6666666666666666,\"#ed7953\"],[0.7777777777777778,\"#fb9f3a\"],[0.8888888888888888,\"#fdca26\"],[1.0,\"#f0f921\"]],\"type\":\"surface\"}],\"table\":[{\"cells\":{\"fill\":{\"color\":\"#EBF0F8\"},\"line\":{\"color\":\"white\"}},\"header\":{\"fill\":{\"color\":\"#C8D4E3\"},\"line\":{\"color\":\"white\"}},\"type\":\"table\"}]},\"layout\":{\"annotationdefaults\":{\"arrowcolor\":\"#2a3f5f\",\"arrowhead\":0,\"arrowwidth\":1},\"autotypenumbers\":\"strict\",\"coloraxis\":{\"colorbar\":{\"outlinewidth\":0,\"ticks\":\"\"}},\"colorscale\":{\"diverging\":[[0,\"#8e0152\"],[0.1,\"#c51b7d\"],[0.2,\"#de77ae\"],[0.3,\"#f1b6da\"],[0.4,\"#fde0ef\"],[0.5,\"#f7f7f7\"],[0.6,\"#e6f5d0\"],[0.7,\"#b8e186\"],[0.8,\"#7fbc41\"],[0.9,\"#4d9221\"],[1,\"#276419\"]],\"sequential\":[[0.0,\"#0d0887\"],[0.1111111111111111,\"#46039f\"],[0.2222222222222222,\"#7201a8\"],[0.3333333333333333,\"#9c179e\"],[0.4444444444444444,\"#bd3786\"],[0.5555555555555556,\"#d8576b\"],[0.6666666666666666,\"#ed7953\"],[0.7777777777777778,\"#fb9f3a\"],[0.8888888888888888,\"#fdca26\"],[1.0,\"#f0f921\"]],\"sequentialminus\":[[0.0,\"#0d0887\"],[0.1111111111111111,\"#46039f\"],[0.2222222222222222,\"#7201a8\"],[0.3333333333333333,\"#9c179e\"],[0.4444444444444444,\"#bd3786\"],[0.5555555555555556,\"#d8576b\"],[0.6666666666666666,\"#ed7953\"],[0.7777777777777778,\"#fb9f3a\"],[0.8888888888888888,\"#fdca26\"],[1.0,\"#f0f921\"]]},\"colorway\":[\"#636efa\",\"#EF553B\",\"#00cc96\",\"#ab63fa\",\"#FFA15A\",\"#19d3f3\",\"#FF6692\",\"#B6E880\",\"#FF97FF\",\"#FECB52\"],\"font\":{\"color\":\"#2a3f5f\"},\"geo\":{\"bgcolor\":\"white\",\"lakecolor\":\"white\",\"landcolor\":\"#E5ECF6\",\"showlakes\":true,\"showland\":true,\"subunitcolor\":\"white\"},\"hoverlabel\":{\"align\":\"left\"},\"hovermode\":\"closest\",\"mapbox\":{\"style\":\"light\"},\"paper_bgcolor\":\"white\",\"plot_bgcolor\":\"#E5ECF6\",\"polar\":{\"angularaxis\":{\"gridcolor\":\"white\",\"linecolor\":\"white\",\"ticks\":\"\"},\"bgcolor\":\"#E5ECF6\",\"radialaxis\":{\"gridcolor\":\"white\",\"linecolor\":\"white\",\"ticks\":\"\"}},\"scene\":{\"xaxis\":{\"backgroundcolor\":\"#E5ECF6\",\"gridcolor\":\"white\",\"gridwidth\":2,\"linecolor\":\"white\",\"showbackground\":true,\"ticks\":\"\",\"zerolinecolor\":\"white\"},\"yaxis\":{\"backgroundcolor\":\"#E5ECF6\",\"gridcolor\":\"white\",\"gridwidth\":2,\"linecolor\":\"white\",\"showbackground\":true,\"ticks\":\"\",\"zerolinecolor\":\"white\"},\"zaxis\":{\"backgroundcolor\":\"#E5ECF6\",\"gridcolor\":\"white\",\"gridwidth\":2,\"linecolor\":\"white\",\"showbackground\":true,\"ticks\":\"\",\"zerolinecolor\":\"white\"}},\"shapedefaults\":{\"line\":{\"color\":\"#2a3f5f\"}},\"ternary\":{\"aaxis\":{\"gridcolor\":\"white\",\"linecolor\":\"white\",\"ticks\":\"\"},\"baxis\":{\"gridcolor\":\"white\",\"linecolor\":\"white\",\"ticks\":\"\"},\"bgcolor\":\"#E5ECF6\",\"caxis\":{\"gridcolor\":\"white\",\"linecolor\":\"white\",\"ticks\":\"\"}},\"title\":{\"x\":0.05},\"xaxis\":{\"automargin\":true,\"gridcolor\":\"white\",\"linecolor\":\"white\",\"ticks\":\"\",\"title\":{\"standoff\":15},\"zerolinecolor\":\"white\",\"zerolinewidth\":2},\"yaxis\":{\"automargin\":true,\"gridcolor\":\"white\",\"linecolor\":\"white\",\"ticks\":\"\",\"title\":{\"standoff\":15},\"zerolinecolor\":\"white\",\"zerolinewidth\":2}}},\"xaxis\":{\"anchor\":\"y\",\"domain\":[0.0,1.0],\"title\":{\"text\":\"home_ownership\"}},\"yaxis\":{\"anchor\":\"x\",\"domain\":[0.0,1.0],\"title\":{\"text\":\"value\"}},\"legend\":{\"title\":{\"text\":\"loan_status\"},\"tracegroupgap\":0},\"margin\":{\"t\":60},\"barmode\":\"relative\",\"coloraxis\":{\"showscale\":false},\"autosize\":false,\"width\":1000,\"height\":700},                        {\"responsive\": true}                    ).then(function(){\n",
              "                            \n",
              "var gd = document.getElementById('de7b5c4e-8a48-49c0-ba50-3b2574e2ff6a');\n",
              "var x = new MutationObserver(function (mutations, observer) {{\n",
              "        var display = window.getComputedStyle(gd).display;\n",
              "        if (!display || display === 'none') {{\n",
              "            console.log([gd, 'removed!']);\n",
              "            Plotly.purge(gd);\n",
              "            observer.disconnect();\n",
              "        }}\n",
              "}});\n",
              "\n",
              "// Listen for the removal of the full notebook cells\n",
              "var notebookContainer = gd.closest('#notebook-container');\n",
              "if (notebookContainer) {{\n",
              "    x.observe(notebookContainer, {childList: true});\n",
              "}}\n",
              "\n",
              "// Listen for the clearing of the current output cell\n",
              "var outputEl = gd.closest('.output');\n",
              "if (outputEl) {{\n",
              "    x.observe(outputEl, {childList: true});\n",
              "}}\n",
              "\n",
              "                        })                };                            </script>        </div>\n",
              "</body>\n",
              "</html>"
            ]
          },
          "metadata": {}
        }
      ]
    },
    {
      "cell_type": "markdown",
      "source": [
        "## Annual income"
      ],
      "metadata": {
        "id": "abnoItAxUyGE"
      }
    },
    {
      "cell_type": "code",
      "source": [
        "bins = (0, 50000, 60000, 70000, 80000, 90000, 100000, 500000, 1000000, 1100000)\n",
        "labels = ['<50k','<60k', '<70k', '<80k', '<90k', '<100k', '<500k', '<1M', '<11M']\n",
        "df['level_of_inc'] = pd.cut(x = df['annual_inc'], bins = bins, labels = labels)\n",
        "df['level_of_inc'].value_counts()"
      ],
      "metadata": {
        "id": "heXTPvyUUu3J",
        "colab": {
          "base_uri": "https://localhost:8080/"
        },
        "outputId": "aae8df95-a5ff-4b69-db3c-5ae0ed131f31"
      },
      "execution_count": 347,
      "outputs": [
        {
          "output_type": "execute_result",
          "data": {
            "text/plain": [
              "<50k     28151\n",
              "<500k    20773\n",
              "<60k     13641\n",
              "<70k     11841\n",
              "<80k     10624\n",
              "<90k      8020\n",
              "<100k     6823\n",
              "<1M        114\n",
              "<11M         2\n",
              "Name: level_of_inc, dtype: int64"
            ]
          },
          "metadata": {},
          "execution_count": 347
        }
      ]
    },
    {
      "cell_type": "code",
      "source": [
        "plot_bar(df, 'level_of_inc')"
      ],
      "metadata": {
        "id": "GTBDKKdO1cWP",
        "colab": {
          "base_uri": "https://localhost:8080/",
          "height": 737
        },
        "outputId": "6bb81985-d2af-4cb9-bf39-2af44288f1ff"
      },
      "execution_count": 348,
      "outputs": [
        {
          "output_type": "display_data",
          "data": {
            "text/html": [
              "<html>\n",
              "<head><meta charset=\"utf-8\" /></head>\n",
              "<body>\n",
              "    <div>            <script src=\"https://cdnjs.cloudflare.com/ajax/libs/mathjax/2.7.5/MathJax.js?config=TeX-AMS-MML_SVG\"></script><script type=\"text/javascript\">if (window.MathJax) {MathJax.Hub.Config({SVG: {font: \"STIX-Web\"}});}</script>                <script type=\"text/javascript\">window.PlotlyConfig = {MathJaxConfig: 'local'};</script>\n",
              "        <script src=\"https://cdn.plot.ly/plotly-2.8.3.min.js\"></script>                <div id=\"06976bc5-96c1-451b-8e36-cf5f585df7c7\" class=\"plotly-graph-div\" style=\"height:700px; width:1000px;\"></div>            <script type=\"text/javascript\">                                    window.PLOTLYENV=window.PLOTLYENV || {};                                    if (document.getElementById(\"06976bc5-96c1-451b-8e36-cf5f585df7c7\")) {                    Plotly.newPlot(                        \"06976bc5-96c1-451b-8e36-cf5f585df7c7\",                        [{\"alignmentgroup\":\"True\",\"hovertemplate\":\"loan_status=Charged Off<br>level_of_inc=%{x}<br>value=%{y}<br>text=%{text}<extra></extra>\",\"legendgroup\":\"Charged Off\",\"marker\":{\"color\":\"#636efa\",\"pattern\":{\"shape\":\"\"}},\"name\":\"Charged Off\",\"offsetgroup\":\"Charged Off\",\"orientation\":\"v\",\"showlegend\":true,\"text\":[\"24.05%\",\"22.26%\",\"21.40%\",\"20.70%\",\"20.04%\",\"19.04%\",\"17.85%\",\"12.28%\",\"0.00%\"],\"textposition\":\"auto\",\"x\":[\"<50k\",\"<60k\",\"<70k\",\"<80k\",\"<90k\",\"<100k\",\"<500k\",\"<1M\",\"<11M\"],\"xaxis\":\"x\",\"y\":[6771,3036,2534,2199,1607,1299,3707,14,0],\"yaxis\":\"y\",\"type\":\"bar\"},{\"alignmentgroup\":\"True\",\"hovertemplate\":\"loan_status=Fully Paid<br>level_of_inc=%{x}<br>value=%{y}<br>text=%{text}<extra></extra>\",\"legendgroup\":\"Fully Paid\",\"marker\":{\"color\":\"#EF553B\",\"pattern\":{\"shape\":\"\"}},\"name\":\"Fully Paid\",\"offsetgroup\":\"Fully Paid\",\"orientation\":\"v\",\"showlegend\":true,\"text\":[\"75.95%\",\"77.74%\",\"78.60%\",\"79.30%\",\"79.96%\",\"80.96%\",\"82.15%\",\"87.72%\",\"100.00%\"],\"textposition\":\"auto\",\"x\":[\"<50k\",\"<60k\",\"<70k\",\"<80k\",\"<90k\",\"<100k\",\"<500k\",\"<1M\",\"<11M\"],\"xaxis\":\"x\",\"y\":[21380,10605,9307,8425,6413,5524,17066,100,2],\"yaxis\":\"y\",\"type\":\"bar\"}],                        {\"template\":{\"data\":{\"bar\":[{\"error_x\":{\"color\":\"#2a3f5f\"},\"error_y\":{\"color\":\"#2a3f5f\"},\"marker\":{\"line\":{\"color\":\"#E5ECF6\",\"width\":0.5},\"pattern\":{\"fillmode\":\"overlay\",\"size\":10,\"solidity\":0.2}},\"type\":\"bar\"}],\"barpolar\":[{\"marker\":{\"line\":{\"color\":\"#E5ECF6\",\"width\":0.5},\"pattern\":{\"fillmode\":\"overlay\",\"size\":10,\"solidity\":0.2}},\"type\":\"barpolar\"}],\"carpet\":[{\"aaxis\":{\"endlinecolor\":\"#2a3f5f\",\"gridcolor\":\"white\",\"linecolor\":\"white\",\"minorgridcolor\":\"white\",\"startlinecolor\":\"#2a3f5f\"},\"baxis\":{\"endlinecolor\":\"#2a3f5f\",\"gridcolor\":\"white\",\"linecolor\":\"white\",\"minorgridcolor\":\"white\",\"startlinecolor\":\"#2a3f5f\"},\"type\":\"carpet\"}],\"choropleth\":[{\"colorbar\":{\"outlinewidth\":0,\"ticks\":\"\"},\"type\":\"choropleth\"}],\"contour\":[{\"colorbar\":{\"outlinewidth\":0,\"ticks\":\"\"},\"colorscale\":[[0.0,\"#0d0887\"],[0.1111111111111111,\"#46039f\"],[0.2222222222222222,\"#7201a8\"],[0.3333333333333333,\"#9c179e\"],[0.4444444444444444,\"#bd3786\"],[0.5555555555555556,\"#d8576b\"],[0.6666666666666666,\"#ed7953\"],[0.7777777777777778,\"#fb9f3a\"],[0.8888888888888888,\"#fdca26\"],[1.0,\"#f0f921\"]],\"type\":\"contour\"}],\"contourcarpet\":[{\"colorbar\":{\"outlinewidth\":0,\"ticks\":\"\"},\"type\":\"contourcarpet\"}],\"heatmap\":[{\"colorbar\":{\"outlinewidth\":0,\"ticks\":\"\"},\"colorscale\":[[0.0,\"#0d0887\"],[0.1111111111111111,\"#46039f\"],[0.2222222222222222,\"#7201a8\"],[0.3333333333333333,\"#9c179e\"],[0.4444444444444444,\"#bd3786\"],[0.5555555555555556,\"#d8576b\"],[0.6666666666666666,\"#ed7953\"],[0.7777777777777778,\"#fb9f3a\"],[0.8888888888888888,\"#fdca26\"],[1.0,\"#f0f921\"]],\"type\":\"heatmap\"}],\"heatmapgl\":[{\"colorbar\":{\"outlinewidth\":0,\"ticks\":\"\"},\"colorscale\":[[0.0,\"#0d0887\"],[0.1111111111111111,\"#46039f\"],[0.2222222222222222,\"#7201a8\"],[0.3333333333333333,\"#9c179e\"],[0.4444444444444444,\"#bd3786\"],[0.5555555555555556,\"#d8576b\"],[0.6666666666666666,\"#ed7953\"],[0.7777777777777778,\"#fb9f3a\"],[0.8888888888888888,\"#fdca26\"],[1.0,\"#f0f921\"]],\"type\":\"heatmapgl\"}],\"histogram\":[{\"marker\":{\"pattern\":{\"fillmode\":\"overlay\",\"size\":10,\"solidity\":0.2}},\"type\":\"histogram\"}],\"histogram2d\":[{\"colorbar\":{\"outlinewidth\":0,\"ticks\":\"\"},\"colorscale\":[[0.0,\"#0d0887\"],[0.1111111111111111,\"#46039f\"],[0.2222222222222222,\"#7201a8\"],[0.3333333333333333,\"#9c179e\"],[0.4444444444444444,\"#bd3786\"],[0.5555555555555556,\"#d8576b\"],[0.6666666666666666,\"#ed7953\"],[0.7777777777777778,\"#fb9f3a\"],[0.8888888888888888,\"#fdca26\"],[1.0,\"#f0f921\"]],\"type\":\"histogram2d\"}],\"histogram2dcontour\":[{\"colorbar\":{\"outlinewidth\":0,\"ticks\":\"\"},\"colorscale\":[[0.0,\"#0d0887\"],[0.1111111111111111,\"#46039f\"],[0.2222222222222222,\"#7201a8\"],[0.3333333333333333,\"#9c179e\"],[0.4444444444444444,\"#bd3786\"],[0.5555555555555556,\"#d8576b\"],[0.6666666666666666,\"#ed7953\"],[0.7777777777777778,\"#fb9f3a\"],[0.8888888888888888,\"#fdca26\"],[1.0,\"#f0f921\"]],\"type\":\"histogram2dcontour\"}],\"mesh3d\":[{\"colorbar\":{\"outlinewidth\":0,\"ticks\":\"\"},\"type\":\"mesh3d\"}],\"parcoords\":[{\"line\":{\"colorbar\":{\"outlinewidth\":0,\"ticks\":\"\"}},\"type\":\"parcoords\"}],\"pie\":[{\"automargin\":true,\"type\":\"pie\"}],\"scatter\":[{\"marker\":{\"colorbar\":{\"outlinewidth\":0,\"ticks\":\"\"}},\"type\":\"scatter\"}],\"scatter3d\":[{\"line\":{\"colorbar\":{\"outlinewidth\":0,\"ticks\":\"\"}},\"marker\":{\"colorbar\":{\"outlinewidth\":0,\"ticks\":\"\"}},\"type\":\"scatter3d\"}],\"scattercarpet\":[{\"marker\":{\"colorbar\":{\"outlinewidth\":0,\"ticks\":\"\"}},\"type\":\"scattercarpet\"}],\"scattergeo\":[{\"marker\":{\"colorbar\":{\"outlinewidth\":0,\"ticks\":\"\"}},\"type\":\"scattergeo\"}],\"scattergl\":[{\"marker\":{\"colorbar\":{\"outlinewidth\":0,\"ticks\":\"\"}},\"type\":\"scattergl\"}],\"scattermapbox\":[{\"marker\":{\"colorbar\":{\"outlinewidth\":0,\"ticks\":\"\"}},\"type\":\"scattermapbox\"}],\"scatterpolar\":[{\"marker\":{\"colorbar\":{\"outlinewidth\":0,\"ticks\":\"\"}},\"type\":\"scatterpolar\"}],\"scatterpolargl\":[{\"marker\":{\"colorbar\":{\"outlinewidth\":0,\"ticks\":\"\"}},\"type\":\"scatterpolargl\"}],\"scatterternary\":[{\"marker\":{\"colorbar\":{\"outlinewidth\":0,\"ticks\":\"\"}},\"type\":\"scatterternary\"}],\"surface\":[{\"colorbar\":{\"outlinewidth\":0,\"ticks\":\"\"},\"colorscale\":[[0.0,\"#0d0887\"],[0.1111111111111111,\"#46039f\"],[0.2222222222222222,\"#7201a8\"],[0.3333333333333333,\"#9c179e\"],[0.4444444444444444,\"#bd3786\"],[0.5555555555555556,\"#d8576b\"],[0.6666666666666666,\"#ed7953\"],[0.7777777777777778,\"#fb9f3a\"],[0.8888888888888888,\"#fdca26\"],[1.0,\"#f0f921\"]],\"type\":\"surface\"}],\"table\":[{\"cells\":{\"fill\":{\"color\":\"#EBF0F8\"},\"line\":{\"color\":\"white\"}},\"header\":{\"fill\":{\"color\":\"#C8D4E3\"},\"line\":{\"color\":\"white\"}},\"type\":\"table\"}]},\"layout\":{\"annotationdefaults\":{\"arrowcolor\":\"#2a3f5f\",\"arrowhead\":0,\"arrowwidth\":1},\"autotypenumbers\":\"strict\",\"coloraxis\":{\"colorbar\":{\"outlinewidth\":0,\"ticks\":\"\"}},\"colorscale\":{\"diverging\":[[0,\"#8e0152\"],[0.1,\"#c51b7d\"],[0.2,\"#de77ae\"],[0.3,\"#f1b6da\"],[0.4,\"#fde0ef\"],[0.5,\"#f7f7f7\"],[0.6,\"#e6f5d0\"],[0.7,\"#b8e186\"],[0.8,\"#7fbc41\"],[0.9,\"#4d9221\"],[1,\"#276419\"]],\"sequential\":[[0.0,\"#0d0887\"],[0.1111111111111111,\"#46039f\"],[0.2222222222222222,\"#7201a8\"],[0.3333333333333333,\"#9c179e\"],[0.4444444444444444,\"#bd3786\"],[0.5555555555555556,\"#d8576b\"],[0.6666666666666666,\"#ed7953\"],[0.7777777777777778,\"#fb9f3a\"],[0.8888888888888888,\"#fdca26\"],[1.0,\"#f0f921\"]],\"sequentialminus\":[[0.0,\"#0d0887\"],[0.1111111111111111,\"#46039f\"],[0.2222222222222222,\"#7201a8\"],[0.3333333333333333,\"#9c179e\"],[0.4444444444444444,\"#bd3786\"],[0.5555555555555556,\"#d8576b\"],[0.6666666666666666,\"#ed7953\"],[0.7777777777777778,\"#fb9f3a\"],[0.8888888888888888,\"#fdca26\"],[1.0,\"#f0f921\"]]},\"colorway\":[\"#636efa\",\"#EF553B\",\"#00cc96\",\"#ab63fa\",\"#FFA15A\",\"#19d3f3\",\"#FF6692\",\"#B6E880\",\"#FF97FF\",\"#FECB52\"],\"font\":{\"color\":\"#2a3f5f\"},\"geo\":{\"bgcolor\":\"white\",\"lakecolor\":\"white\",\"landcolor\":\"#E5ECF6\",\"showlakes\":true,\"showland\":true,\"subunitcolor\":\"white\"},\"hoverlabel\":{\"align\":\"left\"},\"hovermode\":\"closest\",\"mapbox\":{\"style\":\"light\"},\"paper_bgcolor\":\"white\",\"plot_bgcolor\":\"#E5ECF6\",\"polar\":{\"angularaxis\":{\"gridcolor\":\"white\",\"linecolor\":\"white\",\"ticks\":\"\"},\"bgcolor\":\"#E5ECF6\",\"radialaxis\":{\"gridcolor\":\"white\",\"linecolor\":\"white\",\"ticks\":\"\"}},\"scene\":{\"xaxis\":{\"backgroundcolor\":\"#E5ECF6\",\"gridcolor\":\"white\",\"gridwidth\":2,\"linecolor\":\"white\",\"showbackground\":true,\"ticks\":\"\",\"zerolinecolor\":\"white\"},\"yaxis\":{\"backgroundcolor\":\"#E5ECF6\",\"gridcolor\":\"white\",\"gridwidth\":2,\"linecolor\":\"white\",\"showbackground\":true,\"ticks\":\"\",\"zerolinecolor\":\"white\"},\"zaxis\":{\"backgroundcolor\":\"#E5ECF6\",\"gridcolor\":\"white\",\"gridwidth\":2,\"linecolor\":\"white\",\"showbackground\":true,\"ticks\":\"\",\"zerolinecolor\":\"white\"}},\"shapedefaults\":{\"line\":{\"color\":\"#2a3f5f\"}},\"ternary\":{\"aaxis\":{\"gridcolor\":\"white\",\"linecolor\":\"white\",\"ticks\":\"\"},\"baxis\":{\"gridcolor\":\"white\",\"linecolor\":\"white\",\"ticks\":\"\"},\"bgcolor\":\"#E5ECF6\",\"caxis\":{\"gridcolor\":\"white\",\"linecolor\":\"white\",\"ticks\":\"\"}},\"title\":{\"x\":0.05},\"xaxis\":{\"automargin\":true,\"gridcolor\":\"white\",\"linecolor\":\"white\",\"ticks\":\"\",\"title\":{\"standoff\":15},\"zerolinecolor\":\"white\",\"zerolinewidth\":2},\"yaxis\":{\"automargin\":true,\"gridcolor\":\"white\",\"linecolor\":\"white\",\"ticks\":\"\",\"title\":{\"standoff\":15},\"zerolinecolor\":\"white\",\"zerolinewidth\":2}}},\"xaxis\":{\"anchor\":\"y\",\"domain\":[0.0,1.0],\"title\":{\"text\":\"level_of_inc\"}},\"yaxis\":{\"anchor\":\"x\",\"domain\":[0.0,1.0],\"title\":{\"text\":\"value\"}},\"legend\":{\"title\":{\"text\":\"loan_status\"},\"tracegroupgap\":0},\"margin\":{\"t\":60},\"barmode\":\"relative\",\"coloraxis\":{\"showscale\":false},\"autosize\":false,\"width\":1000,\"height\":700},                        {\"responsive\": true}                    ).then(function(){\n",
              "                            \n",
              "var gd = document.getElementById('06976bc5-96c1-451b-8e36-cf5f585df7c7');\n",
              "var x = new MutationObserver(function (mutations, observer) {{\n",
              "        var display = window.getComputedStyle(gd).display;\n",
              "        if (!display || display === 'none') {{\n",
              "            console.log([gd, 'removed!']);\n",
              "            Plotly.purge(gd);\n",
              "            observer.disconnect();\n",
              "        }}\n",
              "}});\n",
              "\n",
              "// Listen for the removal of the full notebook cells\n",
              "var notebookContainer = gd.closest('#notebook-container');\n",
              "if (notebookContainer) {{\n",
              "    x.observe(notebookContainer, {childList: true});\n",
              "}}\n",
              "\n",
              "// Listen for the clearing of the current output cell\n",
              "var outputEl = gd.closest('.output');\n",
              "if (outputEl) {{\n",
              "    x.observe(outputEl, {childList: true});\n",
              "}}\n",
              "\n",
              "                        })                };                            </script>        </div>\n",
              "</body>\n",
              "</html>"
            ]
          },
          "metadata": {}
        }
      ]
    },
    {
      "cell_type": "code",
      "source": [
        "df = df.drop(columns=['level_of_inc'])"
      ],
      "metadata": {
        "id": "Fo1197ZXi1i4"
      },
      "execution_count": 349,
      "outputs": []
    },
    {
      "cell_type": "markdown",
      "source": [
        "## Application type"
      ],
      "metadata": {
        "id": "4T62NbF--JmQ"
      }
    },
    {
      "cell_type": "code",
      "source": [
        "plot_bar(df, 'application_type')"
      ],
      "metadata": {
        "id": "Nvrp-pZz-JDh",
        "colab": {
          "base_uri": "https://localhost:8080/",
          "height": 737
        },
        "outputId": "69c98f0e-4eea-4482-bc6b-20aad7de952d"
      },
      "execution_count": 350,
      "outputs": [
        {
          "output_type": "display_data",
          "data": {
            "text/html": [
              "<html>\n",
              "<head><meta charset=\"utf-8\" /></head>\n",
              "<body>\n",
              "    <div>            <script src=\"https://cdnjs.cloudflare.com/ajax/libs/mathjax/2.7.5/MathJax.js?config=TeX-AMS-MML_SVG\"></script><script type=\"text/javascript\">if (window.MathJax) {MathJax.Hub.Config({SVG: {font: \"STIX-Web\"}});}</script>                <script type=\"text/javascript\">window.PlotlyConfig = {MathJaxConfig: 'local'};</script>\n",
              "        <script src=\"https://cdn.plot.ly/plotly-2.8.3.min.js\"></script>                <div id=\"abb89728-d254-4474-9cea-2158211b8153\" class=\"plotly-graph-div\" style=\"height:700px; width:1000px;\"></div>            <script type=\"text/javascript\">                                    window.PLOTLYENV=window.PLOTLYENV || {};                                    if (document.getElementById(\"abb89728-d254-4474-9cea-2158211b8153\")) {                    Plotly.newPlot(                        \"abb89728-d254-4474-9cea-2158211b8153\",                        [{\"alignmentgroup\":\"True\",\"hovertemplate\":\"loan_status=Charged Off<br>application_type=%{x}<br>value=%{y}<br>text=%{text}<extra></extra>\",\"legendgroup\":\"Charged Off\",\"marker\":{\"color\":\"#636efa\",\"pattern\":{\"shape\":\"\"}},\"name\":\"Charged Off\",\"offsetgroup\":\"Charged Off\",\"orientation\":\"v\",\"showlegend\":true,\"text\":[\"20.98%\",\"25.37%\"],\"textposition\":\"auto\",\"x\":[\"Individual\",\"Joint App\"],\"xaxis\":\"x\",\"y\":[20064,1103],\"yaxis\":\"y\",\"type\":\"bar\"},{\"alignmentgroup\":\"True\",\"hovertemplate\":\"loan_status=Fully Paid<br>application_type=%{x}<br>value=%{y}<br>text=%{text}<extra></extra>\",\"legendgroup\":\"Fully Paid\",\"marker\":{\"color\":\"#EF553B\",\"pattern\":{\"shape\":\"\"}},\"name\":\"Fully Paid\",\"offsetgroup\":\"Fully Paid\",\"orientation\":\"v\",\"showlegend\":true,\"text\":[\"79.02%\",\"74.63%\"],\"textposition\":\"auto\",\"x\":[\"Individual\",\"Joint App\"],\"xaxis\":\"x\",\"y\":[75588,3245],\"yaxis\":\"y\",\"type\":\"bar\"}],                        {\"template\":{\"data\":{\"bar\":[{\"error_x\":{\"color\":\"#2a3f5f\"},\"error_y\":{\"color\":\"#2a3f5f\"},\"marker\":{\"line\":{\"color\":\"#E5ECF6\",\"width\":0.5},\"pattern\":{\"fillmode\":\"overlay\",\"size\":10,\"solidity\":0.2}},\"type\":\"bar\"}],\"barpolar\":[{\"marker\":{\"line\":{\"color\":\"#E5ECF6\",\"width\":0.5},\"pattern\":{\"fillmode\":\"overlay\",\"size\":10,\"solidity\":0.2}},\"type\":\"barpolar\"}],\"carpet\":[{\"aaxis\":{\"endlinecolor\":\"#2a3f5f\",\"gridcolor\":\"white\",\"linecolor\":\"white\",\"minorgridcolor\":\"white\",\"startlinecolor\":\"#2a3f5f\"},\"baxis\":{\"endlinecolor\":\"#2a3f5f\",\"gridcolor\":\"white\",\"linecolor\":\"white\",\"minorgridcolor\":\"white\",\"startlinecolor\":\"#2a3f5f\"},\"type\":\"carpet\"}],\"choropleth\":[{\"colorbar\":{\"outlinewidth\":0,\"ticks\":\"\"},\"type\":\"choropleth\"}],\"contour\":[{\"colorbar\":{\"outlinewidth\":0,\"ticks\":\"\"},\"colorscale\":[[0.0,\"#0d0887\"],[0.1111111111111111,\"#46039f\"],[0.2222222222222222,\"#7201a8\"],[0.3333333333333333,\"#9c179e\"],[0.4444444444444444,\"#bd3786\"],[0.5555555555555556,\"#d8576b\"],[0.6666666666666666,\"#ed7953\"],[0.7777777777777778,\"#fb9f3a\"],[0.8888888888888888,\"#fdca26\"],[1.0,\"#f0f921\"]],\"type\":\"contour\"}],\"contourcarpet\":[{\"colorbar\":{\"outlinewidth\":0,\"ticks\":\"\"},\"type\":\"contourcarpet\"}],\"heatmap\":[{\"colorbar\":{\"outlinewidth\":0,\"ticks\":\"\"},\"colorscale\":[[0.0,\"#0d0887\"],[0.1111111111111111,\"#46039f\"],[0.2222222222222222,\"#7201a8\"],[0.3333333333333333,\"#9c179e\"],[0.4444444444444444,\"#bd3786\"],[0.5555555555555556,\"#d8576b\"],[0.6666666666666666,\"#ed7953\"],[0.7777777777777778,\"#fb9f3a\"],[0.8888888888888888,\"#fdca26\"],[1.0,\"#f0f921\"]],\"type\":\"heatmap\"}],\"heatmapgl\":[{\"colorbar\":{\"outlinewidth\":0,\"ticks\":\"\"},\"colorscale\":[[0.0,\"#0d0887\"],[0.1111111111111111,\"#46039f\"],[0.2222222222222222,\"#7201a8\"],[0.3333333333333333,\"#9c179e\"],[0.4444444444444444,\"#bd3786\"],[0.5555555555555556,\"#d8576b\"],[0.6666666666666666,\"#ed7953\"],[0.7777777777777778,\"#fb9f3a\"],[0.8888888888888888,\"#fdca26\"],[1.0,\"#f0f921\"]],\"type\":\"heatmapgl\"}],\"histogram\":[{\"marker\":{\"pattern\":{\"fillmode\":\"overlay\",\"size\":10,\"solidity\":0.2}},\"type\":\"histogram\"}],\"histogram2d\":[{\"colorbar\":{\"outlinewidth\":0,\"ticks\":\"\"},\"colorscale\":[[0.0,\"#0d0887\"],[0.1111111111111111,\"#46039f\"],[0.2222222222222222,\"#7201a8\"],[0.3333333333333333,\"#9c179e\"],[0.4444444444444444,\"#bd3786\"],[0.5555555555555556,\"#d8576b\"],[0.6666666666666666,\"#ed7953\"],[0.7777777777777778,\"#fb9f3a\"],[0.8888888888888888,\"#fdca26\"],[1.0,\"#f0f921\"]],\"type\":\"histogram2d\"}],\"histogram2dcontour\":[{\"colorbar\":{\"outlinewidth\":0,\"ticks\":\"\"},\"colorscale\":[[0.0,\"#0d0887\"],[0.1111111111111111,\"#46039f\"],[0.2222222222222222,\"#7201a8\"],[0.3333333333333333,\"#9c179e\"],[0.4444444444444444,\"#bd3786\"],[0.5555555555555556,\"#d8576b\"],[0.6666666666666666,\"#ed7953\"],[0.7777777777777778,\"#fb9f3a\"],[0.8888888888888888,\"#fdca26\"],[1.0,\"#f0f921\"]],\"type\":\"histogram2dcontour\"}],\"mesh3d\":[{\"colorbar\":{\"outlinewidth\":0,\"ticks\":\"\"},\"type\":\"mesh3d\"}],\"parcoords\":[{\"line\":{\"colorbar\":{\"outlinewidth\":0,\"ticks\":\"\"}},\"type\":\"parcoords\"}],\"pie\":[{\"automargin\":true,\"type\":\"pie\"}],\"scatter\":[{\"marker\":{\"colorbar\":{\"outlinewidth\":0,\"ticks\":\"\"}},\"type\":\"scatter\"}],\"scatter3d\":[{\"line\":{\"colorbar\":{\"outlinewidth\":0,\"ticks\":\"\"}},\"marker\":{\"colorbar\":{\"outlinewidth\":0,\"ticks\":\"\"}},\"type\":\"scatter3d\"}],\"scattercarpet\":[{\"marker\":{\"colorbar\":{\"outlinewidth\":0,\"ticks\":\"\"}},\"type\":\"scattercarpet\"}],\"scattergeo\":[{\"marker\":{\"colorbar\":{\"outlinewidth\":0,\"ticks\":\"\"}},\"type\":\"scattergeo\"}],\"scattergl\":[{\"marker\":{\"colorbar\":{\"outlinewidth\":0,\"ticks\":\"\"}},\"type\":\"scattergl\"}],\"scattermapbox\":[{\"marker\":{\"colorbar\":{\"outlinewidth\":0,\"ticks\":\"\"}},\"type\":\"scattermapbox\"}],\"scatterpolar\":[{\"marker\":{\"colorbar\":{\"outlinewidth\":0,\"ticks\":\"\"}},\"type\":\"scatterpolar\"}],\"scatterpolargl\":[{\"marker\":{\"colorbar\":{\"outlinewidth\":0,\"ticks\":\"\"}},\"type\":\"scatterpolargl\"}],\"scatterternary\":[{\"marker\":{\"colorbar\":{\"outlinewidth\":0,\"ticks\":\"\"}},\"type\":\"scatterternary\"}],\"surface\":[{\"colorbar\":{\"outlinewidth\":0,\"ticks\":\"\"},\"colorscale\":[[0.0,\"#0d0887\"],[0.1111111111111111,\"#46039f\"],[0.2222222222222222,\"#7201a8\"],[0.3333333333333333,\"#9c179e\"],[0.4444444444444444,\"#bd3786\"],[0.5555555555555556,\"#d8576b\"],[0.6666666666666666,\"#ed7953\"],[0.7777777777777778,\"#fb9f3a\"],[0.8888888888888888,\"#fdca26\"],[1.0,\"#f0f921\"]],\"type\":\"surface\"}],\"table\":[{\"cells\":{\"fill\":{\"color\":\"#EBF0F8\"},\"line\":{\"color\":\"white\"}},\"header\":{\"fill\":{\"color\":\"#C8D4E3\"},\"line\":{\"color\":\"white\"}},\"type\":\"table\"}]},\"layout\":{\"annotationdefaults\":{\"arrowcolor\":\"#2a3f5f\",\"arrowhead\":0,\"arrowwidth\":1},\"autotypenumbers\":\"strict\",\"coloraxis\":{\"colorbar\":{\"outlinewidth\":0,\"ticks\":\"\"}},\"colorscale\":{\"diverging\":[[0,\"#8e0152\"],[0.1,\"#c51b7d\"],[0.2,\"#de77ae\"],[0.3,\"#f1b6da\"],[0.4,\"#fde0ef\"],[0.5,\"#f7f7f7\"],[0.6,\"#e6f5d0\"],[0.7,\"#b8e186\"],[0.8,\"#7fbc41\"],[0.9,\"#4d9221\"],[1,\"#276419\"]],\"sequential\":[[0.0,\"#0d0887\"],[0.1111111111111111,\"#46039f\"],[0.2222222222222222,\"#7201a8\"],[0.3333333333333333,\"#9c179e\"],[0.4444444444444444,\"#bd3786\"],[0.5555555555555556,\"#d8576b\"],[0.6666666666666666,\"#ed7953\"],[0.7777777777777778,\"#fb9f3a\"],[0.8888888888888888,\"#fdca26\"],[1.0,\"#f0f921\"]],\"sequentialminus\":[[0.0,\"#0d0887\"],[0.1111111111111111,\"#46039f\"],[0.2222222222222222,\"#7201a8\"],[0.3333333333333333,\"#9c179e\"],[0.4444444444444444,\"#bd3786\"],[0.5555555555555556,\"#d8576b\"],[0.6666666666666666,\"#ed7953\"],[0.7777777777777778,\"#fb9f3a\"],[0.8888888888888888,\"#fdca26\"],[1.0,\"#f0f921\"]]},\"colorway\":[\"#636efa\",\"#EF553B\",\"#00cc96\",\"#ab63fa\",\"#FFA15A\",\"#19d3f3\",\"#FF6692\",\"#B6E880\",\"#FF97FF\",\"#FECB52\"],\"font\":{\"color\":\"#2a3f5f\"},\"geo\":{\"bgcolor\":\"white\",\"lakecolor\":\"white\",\"landcolor\":\"#E5ECF6\",\"showlakes\":true,\"showland\":true,\"subunitcolor\":\"white\"},\"hoverlabel\":{\"align\":\"left\"},\"hovermode\":\"closest\",\"mapbox\":{\"style\":\"light\"},\"paper_bgcolor\":\"white\",\"plot_bgcolor\":\"#E5ECF6\",\"polar\":{\"angularaxis\":{\"gridcolor\":\"white\",\"linecolor\":\"white\",\"ticks\":\"\"},\"bgcolor\":\"#E5ECF6\",\"radialaxis\":{\"gridcolor\":\"white\",\"linecolor\":\"white\",\"ticks\":\"\"}},\"scene\":{\"xaxis\":{\"backgroundcolor\":\"#E5ECF6\",\"gridcolor\":\"white\",\"gridwidth\":2,\"linecolor\":\"white\",\"showbackground\":true,\"ticks\":\"\",\"zerolinecolor\":\"white\"},\"yaxis\":{\"backgroundcolor\":\"#E5ECF6\",\"gridcolor\":\"white\",\"gridwidth\":2,\"linecolor\":\"white\",\"showbackground\":true,\"ticks\":\"\",\"zerolinecolor\":\"white\"},\"zaxis\":{\"backgroundcolor\":\"#E5ECF6\",\"gridcolor\":\"white\",\"gridwidth\":2,\"linecolor\":\"white\",\"showbackground\":true,\"ticks\":\"\",\"zerolinecolor\":\"white\"}},\"shapedefaults\":{\"line\":{\"color\":\"#2a3f5f\"}},\"ternary\":{\"aaxis\":{\"gridcolor\":\"white\",\"linecolor\":\"white\",\"ticks\":\"\"},\"baxis\":{\"gridcolor\":\"white\",\"linecolor\":\"white\",\"ticks\":\"\"},\"bgcolor\":\"#E5ECF6\",\"caxis\":{\"gridcolor\":\"white\",\"linecolor\":\"white\",\"ticks\":\"\"}},\"title\":{\"x\":0.05},\"xaxis\":{\"automargin\":true,\"gridcolor\":\"white\",\"linecolor\":\"white\",\"ticks\":\"\",\"title\":{\"standoff\":15},\"zerolinecolor\":\"white\",\"zerolinewidth\":2},\"yaxis\":{\"automargin\":true,\"gridcolor\":\"white\",\"linecolor\":\"white\",\"ticks\":\"\",\"title\":{\"standoff\":15},\"zerolinecolor\":\"white\",\"zerolinewidth\":2}}},\"xaxis\":{\"anchor\":\"y\",\"domain\":[0.0,1.0],\"title\":{\"text\":\"application_type\"}},\"yaxis\":{\"anchor\":\"x\",\"domain\":[0.0,1.0],\"title\":{\"text\":\"value\"}},\"legend\":{\"title\":{\"text\":\"loan_status\"},\"tracegroupgap\":0},\"margin\":{\"t\":60},\"barmode\":\"relative\",\"coloraxis\":{\"showscale\":false},\"autosize\":false,\"width\":1000,\"height\":700},                        {\"responsive\": true}                    ).then(function(){\n",
              "                            \n",
              "var gd = document.getElementById('abb89728-d254-4474-9cea-2158211b8153');\n",
              "var x = new MutationObserver(function (mutations, observer) {{\n",
              "        var display = window.getComputedStyle(gd).display;\n",
              "        if (!display || display === 'none') {{\n",
              "            console.log([gd, 'removed!']);\n",
              "            Plotly.purge(gd);\n",
              "            observer.disconnect();\n",
              "        }}\n",
              "}});\n",
              "\n",
              "// Listen for the removal of the full notebook cells\n",
              "var notebookContainer = gd.closest('#notebook-container');\n",
              "if (notebookContainer) {{\n",
              "    x.observe(notebookContainer, {childList: true});\n",
              "}}\n",
              "\n",
              "// Listen for the clearing of the current output cell\n",
              "var outputEl = gd.closest('.output');\n",
              "if (outputEl) {{\n",
              "    x.observe(outputEl, {childList: true});\n",
              "}}\n",
              "\n",
              "                        })                };                            </script>        </div>\n",
              "</body>\n",
              "</html>"
            ]
          },
          "metadata": {}
        }
      ]
    },
    {
      "cell_type": "markdown",
      "source": [
        "Interestly enough, those who have taken loan on their own, rather than sharing it, seems to have more success in paying it back. \n",
        "\n",
        "Or ... those who took Joint Application already had trouble by taking the loan at the first place"
      ],
      "metadata": {
        "id": "k70EWHmT-XVs"
      }
    },
    {
      "cell_type": "markdown",
      "source": [
        "## Purpose"
      ],
      "metadata": {
        "id": "JyHRi_lVwytS"
      }
    },
    {
      "cell_type": "code",
      "source": [
        "df['purpose'] = df['purpose'].replace({'educational':'other'})\n",
        "plot_bar(df, 'purpose')"
      ],
      "metadata": {
        "id": "b2j3u0pewzxq",
        "colab": {
          "base_uri": "https://localhost:8080/",
          "height": 737
        },
        "outputId": "171b9ed6-a27e-478f-9c9e-63cd53843c38"
      },
      "execution_count": 351,
      "outputs": [
        {
          "output_type": "display_data",
          "data": {
            "text/html": [
              "<html>\n",
              "<head><meta charset=\"utf-8\" /></head>\n",
              "<body>\n",
              "    <div>            <script src=\"https://cdnjs.cloudflare.com/ajax/libs/mathjax/2.7.5/MathJax.js?config=TeX-AMS-MML_SVG\"></script><script type=\"text/javascript\">if (window.MathJax) {MathJax.Hub.Config({SVG: {font: \"STIX-Web\"}});}</script>                <script type=\"text/javascript\">window.PlotlyConfig = {MathJaxConfig: 'local'};</script>\n",
              "        <script src=\"https://cdn.plot.ly/plotly-2.8.3.min.js\"></script>                <div id=\"01c247cc-1aec-48da-b5b1-0eb58b4d0fd0\" class=\"plotly-graph-div\" style=\"height:700px; width:1000px;\"></div>            <script type=\"text/javascript\">                                    window.PLOTLYENV=window.PLOTLYENV || {};                                    if (document.getElementById(\"01c247cc-1aec-48da-b5b1-0eb58b4d0fd0\")) {                    Plotly.newPlot(                        \"01c247cc-1aec-48da-b5b1-0eb58b4d0fd0\",                        [{\"alignmentgroup\":\"True\",\"hovertemplate\":\"loan_status=Charged Off<br>purpose=%{x}<br>value=%{y}<br>text=%{text}<extra></extra>\",\"legendgroup\":\"Charged Off\",\"marker\":{\"color\":\"#636efa\",\"pattern\":{\"shape\":\"\"}},\"name\":\"Charged Off\",\"offsetgroup\":\"Charged Off\",\"orientation\":\"v\",\"showlegend\":true,\"text\":[\"15.44%\",\"18.45%\",\"22.13%\",\"18.71%\",\"20.00%\",\"20.41%\",\"21.63%\",\"26.89%\",\"22.89%\",\"22.54%\",\"34.36%\",\"19.91%\",\"16.67%\"],\"textposition\":\"auto\",\"x\":[\"car\",\"credit_card\",\"debt_consolidation\",\"home_improvement\",\"house\",\"major_purchase\",\"medical\",\"moving\",\"other\",\"renewable_energy\",\"small_business\",\"vacation\",\"wedding\"],\"xaxis\":\"x\",\"y\":[179,3836,12635,1431,97,461,298,217,1441,16,368,187,1],\"yaxis\":\"y\",\"type\":\"bar\"},{\"alignmentgroup\":\"True\",\"hovertemplate\":\"loan_status=Fully Paid<br>purpose=%{x}<br>value=%{y}<br>text=%{text}<extra></extra>\",\"legendgroup\":\"Fully Paid\",\"marker\":{\"color\":\"#EF553B\",\"pattern\":{\"shape\":\"\"}},\"name\":\"Fully Paid\",\"offsetgroup\":\"Fully Paid\",\"orientation\":\"v\",\"showlegend\":true,\"text\":[\"84.56%\",\"81.55%\",\"77.87%\",\"81.29%\",\"80.00%\",\"79.59%\",\"78.37%\",\"73.11%\",\"77.11%\",\"77.46%\",\"65.64%\",\"80.09%\",\"83.33%\"],\"textposition\":\"auto\",\"x\":[\"car\",\"credit_card\",\"debt_consolidation\",\"home_improvement\",\"house\",\"major_purchase\",\"medical\",\"moving\",\"other\",\"renewable_energy\",\"small_business\",\"vacation\",\"wedding\"],\"xaxis\":\"x\",\"y\":[980,16952,44461,6216,388,1798,1080,590,4853,55,703,752,5],\"yaxis\":\"y\",\"type\":\"bar\"}],                        {\"template\":{\"data\":{\"bar\":[{\"error_x\":{\"color\":\"#2a3f5f\"},\"error_y\":{\"color\":\"#2a3f5f\"},\"marker\":{\"line\":{\"color\":\"#E5ECF6\",\"width\":0.5},\"pattern\":{\"fillmode\":\"overlay\",\"size\":10,\"solidity\":0.2}},\"type\":\"bar\"}],\"barpolar\":[{\"marker\":{\"line\":{\"color\":\"#E5ECF6\",\"width\":0.5},\"pattern\":{\"fillmode\":\"overlay\",\"size\":10,\"solidity\":0.2}},\"type\":\"barpolar\"}],\"carpet\":[{\"aaxis\":{\"endlinecolor\":\"#2a3f5f\",\"gridcolor\":\"white\",\"linecolor\":\"white\",\"minorgridcolor\":\"white\",\"startlinecolor\":\"#2a3f5f\"},\"baxis\":{\"endlinecolor\":\"#2a3f5f\",\"gridcolor\":\"white\",\"linecolor\":\"white\",\"minorgridcolor\":\"white\",\"startlinecolor\":\"#2a3f5f\"},\"type\":\"carpet\"}],\"choropleth\":[{\"colorbar\":{\"outlinewidth\":0,\"ticks\":\"\"},\"type\":\"choropleth\"}],\"contour\":[{\"colorbar\":{\"outlinewidth\":0,\"ticks\":\"\"},\"colorscale\":[[0.0,\"#0d0887\"],[0.1111111111111111,\"#46039f\"],[0.2222222222222222,\"#7201a8\"],[0.3333333333333333,\"#9c179e\"],[0.4444444444444444,\"#bd3786\"],[0.5555555555555556,\"#d8576b\"],[0.6666666666666666,\"#ed7953\"],[0.7777777777777778,\"#fb9f3a\"],[0.8888888888888888,\"#fdca26\"],[1.0,\"#f0f921\"]],\"type\":\"contour\"}],\"contourcarpet\":[{\"colorbar\":{\"outlinewidth\":0,\"ticks\":\"\"},\"type\":\"contourcarpet\"}],\"heatmap\":[{\"colorbar\":{\"outlinewidth\":0,\"ticks\":\"\"},\"colorscale\":[[0.0,\"#0d0887\"],[0.1111111111111111,\"#46039f\"],[0.2222222222222222,\"#7201a8\"],[0.3333333333333333,\"#9c179e\"],[0.4444444444444444,\"#bd3786\"],[0.5555555555555556,\"#d8576b\"],[0.6666666666666666,\"#ed7953\"],[0.7777777777777778,\"#fb9f3a\"],[0.8888888888888888,\"#fdca26\"],[1.0,\"#f0f921\"]],\"type\":\"heatmap\"}],\"heatmapgl\":[{\"colorbar\":{\"outlinewidth\":0,\"ticks\":\"\"},\"colorscale\":[[0.0,\"#0d0887\"],[0.1111111111111111,\"#46039f\"],[0.2222222222222222,\"#7201a8\"],[0.3333333333333333,\"#9c179e\"],[0.4444444444444444,\"#bd3786\"],[0.5555555555555556,\"#d8576b\"],[0.6666666666666666,\"#ed7953\"],[0.7777777777777778,\"#fb9f3a\"],[0.8888888888888888,\"#fdca26\"],[1.0,\"#f0f921\"]],\"type\":\"heatmapgl\"}],\"histogram\":[{\"marker\":{\"pattern\":{\"fillmode\":\"overlay\",\"size\":10,\"solidity\":0.2}},\"type\":\"histogram\"}],\"histogram2d\":[{\"colorbar\":{\"outlinewidth\":0,\"ticks\":\"\"},\"colorscale\":[[0.0,\"#0d0887\"],[0.1111111111111111,\"#46039f\"],[0.2222222222222222,\"#7201a8\"],[0.3333333333333333,\"#9c179e\"],[0.4444444444444444,\"#bd3786\"],[0.5555555555555556,\"#d8576b\"],[0.6666666666666666,\"#ed7953\"],[0.7777777777777778,\"#fb9f3a\"],[0.8888888888888888,\"#fdca26\"],[1.0,\"#f0f921\"]],\"type\":\"histogram2d\"}],\"histogram2dcontour\":[{\"colorbar\":{\"outlinewidth\":0,\"ticks\":\"\"},\"colorscale\":[[0.0,\"#0d0887\"],[0.1111111111111111,\"#46039f\"],[0.2222222222222222,\"#7201a8\"],[0.3333333333333333,\"#9c179e\"],[0.4444444444444444,\"#bd3786\"],[0.5555555555555556,\"#d8576b\"],[0.6666666666666666,\"#ed7953\"],[0.7777777777777778,\"#fb9f3a\"],[0.8888888888888888,\"#fdca26\"],[1.0,\"#f0f921\"]],\"type\":\"histogram2dcontour\"}],\"mesh3d\":[{\"colorbar\":{\"outlinewidth\":0,\"ticks\":\"\"},\"type\":\"mesh3d\"}],\"parcoords\":[{\"line\":{\"colorbar\":{\"outlinewidth\":0,\"ticks\":\"\"}},\"type\":\"parcoords\"}],\"pie\":[{\"automargin\":true,\"type\":\"pie\"}],\"scatter\":[{\"marker\":{\"colorbar\":{\"outlinewidth\":0,\"ticks\":\"\"}},\"type\":\"scatter\"}],\"scatter3d\":[{\"line\":{\"colorbar\":{\"outlinewidth\":0,\"ticks\":\"\"}},\"marker\":{\"colorbar\":{\"outlinewidth\":0,\"ticks\":\"\"}},\"type\":\"scatter3d\"}],\"scattercarpet\":[{\"marker\":{\"colorbar\":{\"outlinewidth\":0,\"ticks\":\"\"}},\"type\":\"scattercarpet\"}],\"scattergeo\":[{\"marker\":{\"colorbar\":{\"outlinewidth\":0,\"ticks\":\"\"}},\"type\":\"scattergeo\"}],\"scattergl\":[{\"marker\":{\"colorbar\":{\"outlinewidth\":0,\"ticks\":\"\"}},\"type\":\"scattergl\"}],\"scattermapbox\":[{\"marker\":{\"colorbar\":{\"outlinewidth\":0,\"ticks\":\"\"}},\"type\":\"scattermapbox\"}],\"scatterpolar\":[{\"marker\":{\"colorbar\":{\"outlinewidth\":0,\"ticks\":\"\"}},\"type\":\"scatterpolar\"}],\"scatterpolargl\":[{\"marker\":{\"colorbar\":{\"outlinewidth\":0,\"ticks\":\"\"}},\"type\":\"scatterpolargl\"}],\"scatterternary\":[{\"marker\":{\"colorbar\":{\"outlinewidth\":0,\"ticks\":\"\"}},\"type\":\"scatterternary\"}],\"surface\":[{\"colorbar\":{\"outlinewidth\":0,\"ticks\":\"\"},\"colorscale\":[[0.0,\"#0d0887\"],[0.1111111111111111,\"#46039f\"],[0.2222222222222222,\"#7201a8\"],[0.3333333333333333,\"#9c179e\"],[0.4444444444444444,\"#bd3786\"],[0.5555555555555556,\"#d8576b\"],[0.6666666666666666,\"#ed7953\"],[0.7777777777777778,\"#fb9f3a\"],[0.8888888888888888,\"#fdca26\"],[1.0,\"#f0f921\"]],\"type\":\"surface\"}],\"table\":[{\"cells\":{\"fill\":{\"color\":\"#EBF0F8\"},\"line\":{\"color\":\"white\"}},\"header\":{\"fill\":{\"color\":\"#C8D4E3\"},\"line\":{\"color\":\"white\"}},\"type\":\"table\"}]},\"layout\":{\"annotationdefaults\":{\"arrowcolor\":\"#2a3f5f\",\"arrowhead\":0,\"arrowwidth\":1},\"autotypenumbers\":\"strict\",\"coloraxis\":{\"colorbar\":{\"outlinewidth\":0,\"ticks\":\"\"}},\"colorscale\":{\"diverging\":[[0,\"#8e0152\"],[0.1,\"#c51b7d\"],[0.2,\"#de77ae\"],[0.3,\"#f1b6da\"],[0.4,\"#fde0ef\"],[0.5,\"#f7f7f7\"],[0.6,\"#e6f5d0\"],[0.7,\"#b8e186\"],[0.8,\"#7fbc41\"],[0.9,\"#4d9221\"],[1,\"#276419\"]],\"sequential\":[[0.0,\"#0d0887\"],[0.1111111111111111,\"#46039f\"],[0.2222222222222222,\"#7201a8\"],[0.3333333333333333,\"#9c179e\"],[0.4444444444444444,\"#bd3786\"],[0.5555555555555556,\"#d8576b\"],[0.6666666666666666,\"#ed7953\"],[0.7777777777777778,\"#fb9f3a\"],[0.8888888888888888,\"#fdca26\"],[1.0,\"#f0f921\"]],\"sequentialminus\":[[0.0,\"#0d0887\"],[0.1111111111111111,\"#46039f\"],[0.2222222222222222,\"#7201a8\"],[0.3333333333333333,\"#9c179e\"],[0.4444444444444444,\"#bd3786\"],[0.5555555555555556,\"#d8576b\"],[0.6666666666666666,\"#ed7953\"],[0.7777777777777778,\"#fb9f3a\"],[0.8888888888888888,\"#fdca26\"],[1.0,\"#f0f921\"]]},\"colorway\":[\"#636efa\",\"#EF553B\",\"#00cc96\",\"#ab63fa\",\"#FFA15A\",\"#19d3f3\",\"#FF6692\",\"#B6E880\",\"#FF97FF\",\"#FECB52\"],\"font\":{\"color\":\"#2a3f5f\"},\"geo\":{\"bgcolor\":\"white\",\"lakecolor\":\"white\",\"landcolor\":\"#E5ECF6\",\"showlakes\":true,\"showland\":true,\"subunitcolor\":\"white\"},\"hoverlabel\":{\"align\":\"left\"},\"hovermode\":\"closest\",\"mapbox\":{\"style\":\"light\"},\"paper_bgcolor\":\"white\",\"plot_bgcolor\":\"#E5ECF6\",\"polar\":{\"angularaxis\":{\"gridcolor\":\"white\",\"linecolor\":\"white\",\"ticks\":\"\"},\"bgcolor\":\"#E5ECF6\",\"radialaxis\":{\"gridcolor\":\"white\",\"linecolor\":\"white\",\"ticks\":\"\"}},\"scene\":{\"xaxis\":{\"backgroundcolor\":\"#E5ECF6\",\"gridcolor\":\"white\",\"gridwidth\":2,\"linecolor\":\"white\",\"showbackground\":true,\"ticks\":\"\",\"zerolinecolor\":\"white\"},\"yaxis\":{\"backgroundcolor\":\"#E5ECF6\",\"gridcolor\":\"white\",\"gridwidth\":2,\"linecolor\":\"white\",\"showbackground\":true,\"ticks\":\"\",\"zerolinecolor\":\"white\"},\"zaxis\":{\"backgroundcolor\":\"#E5ECF6\",\"gridcolor\":\"white\",\"gridwidth\":2,\"linecolor\":\"white\",\"showbackground\":true,\"ticks\":\"\",\"zerolinecolor\":\"white\"}},\"shapedefaults\":{\"line\":{\"color\":\"#2a3f5f\"}},\"ternary\":{\"aaxis\":{\"gridcolor\":\"white\",\"linecolor\":\"white\",\"ticks\":\"\"},\"baxis\":{\"gridcolor\":\"white\",\"linecolor\":\"white\",\"ticks\":\"\"},\"bgcolor\":\"#E5ECF6\",\"caxis\":{\"gridcolor\":\"white\",\"linecolor\":\"white\",\"ticks\":\"\"}},\"title\":{\"x\":0.05},\"xaxis\":{\"automargin\":true,\"gridcolor\":\"white\",\"linecolor\":\"white\",\"ticks\":\"\",\"title\":{\"standoff\":15},\"zerolinecolor\":\"white\",\"zerolinewidth\":2},\"yaxis\":{\"automargin\":true,\"gridcolor\":\"white\",\"linecolor\":\"white\",\"ticks\":\"\",\"title\":{\"standoff\":15},\"zerolinecolor\":\"white\",\"zerolinewidth\":2}}},\"xaxis\":{\"anchor\":\"y\",\"domain\":[0.0,1.0],\"title\":{\"text\":\"purpose\"}},\"yaxis\":{\"anchor\":\"x\",\"domain\":[0.0,1.0],\"title\":{\"text\":\"value\"}},\"legend\":{\"title\":{\"text\":\"loan_status\"},\"tracegroupgap\":0},\"margin\":{\"t\":60},\"barmode\":\"relative\",\"coloraxis\":{\"showscale\":false},\"autosize\":false,\"width\":1000,\"height\":700},                        {\"responsive\": true}                    ).then(function(){\n",
              "                            \n",
              "var gd = document.getElementById('01c247cc-1aec-48da-b5b1-0eb58b4d0fd0');\n",
              "var x = new MutationObserver(function (mutations, observer) {{\n",
              "        var display = window.getComputedStyle(gd).display;\n",
              "        if (!display || display === 'none') {{\n",
              "            console.log([gd, 'removed!']);\n",
              "            Plotly.purge(gd);\n",
              "            observer.disconnect();\n",
              "        }}\n",
              "}});\n",
              "\n",
              "// Listen for the removal of the full notebook cells\n",
              "var notebookContainer = gd.closest('#notebook-container');\n",
              "if (notebookContainer) {{\n",
              "    x.observe(notebookContainer, {childList: true});\n",
              "}}\n",
              "\n",
              "// Listen for the clearing of the current output cell\n",
              "var outputEl = gd.closest('.output');\n",
              "if (outputEl) {{\n",
              "    x.observe(outputEl, {childList: true});\n",
              "}}\n",
              "\n",
              "                        })                };                            </script>        </div>\n",
              "</body>\n",
              "</html>"
            ]
          },
          "metadata": {}
        }
      ]
    },
    {
      "cell_type": "markdown",
      "source": [
        "# Feature engeneering: How fast the customer paid back"
      ],
      "metadata": {
        "id": "2aCubJbvj6Fx"
      }
    },
    {
      "cell_type": "code",
      "source": [
        "df['last_pymnt_d']= pd.to_datetime(df['last_pymnt_d'])\n",
        "df['issue_d']= pd.to_datetime(df['issue_d'])\n",
        "\n",
        "df['time_paid_back'] = ((df['last_pymnt_d'] - df['issue_d'])/np.timedelta64(1, 'M'))\n",
        "df = df.drop(columns=['last_pymnt_d', 'issue_d'])"
      ],
      "metadata": {
        "id": "zzwvkx82po_3"
      },
      "execution_count": 352,
      "outputs": []
    },
    {
      "cell_type": "code",
      "source": [
        "plot_kde('time_paid_back')"
      ],
      "metadata": {
        "id": "0UNGHD2VzEBD",
        "colab": {
          "base_uri": "https://localhost:8080/",
          "height": 54
        },
        "outputId": "5956792e-4825-43e5-a118-ecfaeee86659"
      },
      "execution_count": 353,
      "outputs": [
        {
          "output_type": "display_data",
          "data": {
            "text/plain": [
              "<Figure size 1008x720 with 1 Axes>"
            ],
            "image/png": "[encoded data removed]"
          },
          "metadata": {
            "needs_background": "light"
          }
        }
      ]
    },
    {
      "cell_type": "markdown",
      "source": [
        "## How long customer has a credit account"
      ],
      "metadata": {
        "id": "xIfEUBe21gTU"
      }
    },
    {
      "cell_type": "code",
      "source": [
        "df['earliest_cr_line']= pd.to_datetime(df['earliest_cr_line'])\n",
        "df['cr_line'] = ((pd.to_datetime(\"now\") - df['earliest_cr_line'])/np.timedelta64(1, 'Y'))\n",
        "df = df.drop(columns=['earliest_cr_line'])"
      ],
      "metadata": {
        "id": "LcGIpq931kUX"
      },
      "execution_count": 354,
      "outputs": []
    },
    {
      "cell_type": "code",
      "source": [
        "plot_kde('cr_line')"
      ],
      "metadata": {
        "id": "oZo9rJas2fm2",
        "colab": {
          "base_uri": "https://localhost:8080/",
          "height": 54
        },
        "outputId": "221907e5-262f-4618-9a7f-e006c806aeb8"
      },
      "execution_count": 355,
      "outputs": [
        {
          "output_type": "display_data",
          "data": {
            "text/plain": [
              "<Figure size 1008x720 with 1 Axes>"
            ],
            "image/png": "[encoded data removed]"
          },
          "metadata": {
            "needs_background": "light"
          }
        }
      ]
    },
    {
      "cell_type": "markdown",
      "source": [
        "# Mapping"
      ],
      "metadata": {
        "id": "Oh00050S2-sv"
      }
    },
    {
      "cell_type": "code",
      "source": [
        "df"
      ],
      "metadata": {
        "colab": {
          "base_uri": "https://localhost:8080/",
          "height": 653
        },
        "id": "-hjWr_Pd5M7O",
        "outputId": "3f9a915d-dbf7-48df-e404-effe8a474962"
      },
      "execution_count": 356,
      "outputs": [
        {
          "output_type": "execute_result",
          "data": {
            "text/plain": [
              "       loan_amnt        term  int_rate  installment grade sub_grade  \\\n",
              "0        30000.0   36 months      8.24       943.42     B        B1   \n",
              "1         7200.0   36 months     28.69       300.51     F        F1   \n",
              "2         7000.0   36 months     11.49       230.80     B        B5   \n",
              "3        11200.0   36 months     13.99       382.74     C        C3   \n",
              "4        13200.0   36 months     19.99       490.50     D        D4   \n",
              "...          ...         ...       ...          ...   ...       ...   \n",
              "99995    23575.0   36 months     20.50       882.15     E        E1   \n",
              "99996     2000.0   36 months     10.99        65.47     B        B2   \n",
              "99997    20000.0   36 months      7.90       625.81     A        A4   \n",
              "99998    35000.0   60 months     17.57       880.61     D        D2   \n",
              "99999    10000.0   36 months      7.90       312.91     A        A4   \n",
              "\n",
              "      emp_length home_ownership  annual_inc verification_status  ...  \\\n",
              "0      10+ years            OWN    132630.0     Source Verified  ...   \n",
              "1      10+ years       MORTGAGE     73000.0            Verified  ...   \n",
              "2        9 years       MORTGAGE     60000.0        Not Verified  ...   \n",
              "3        3 years           RENT     60000.0            Verified  ...   \n",
              "4        3 years           RENT     33000.0            Verified  ...   \n",
              "...          ...            ...         ...                 ...  ...   \n",
              "99995  10+ years       MORTGAGE     96113.0            Verified  ...   \n",
              "99996   < 1 year       MORTGAGE     45000.0     Source Verified  ...   \n",
              "99997  10+ years       MORTGAGE     72000.0            Verified  ...   \n",
              "99998    7 years       MORTGAGE    120000.0            Verified  ...   \n",
              "99999  10+ years           RENT     40000.0     Source Verified  ...   \n",
              "\n",
              "      revol_bal  revol_util  total_acc  initial_list_status  application_type  \\\n",
              "0        3444.0         5.3       22.0                    w        Individual   \n",
              "1        6501.0        28.8       13.0                    f        Individual   \n",
              "2       12916.0        54.5       21.0                    w        Individual   \n",
              "3        9686.0        40.9       33.0                    f        Individual   \n",
              "4        9790.0        55.0       30.0                    f        Individual   \n",
              "...         ...         ...        ...                  ...               ...   \n",
              "99995  116643.0        90.9       21.0                    f        Individual   \n",
              "99996    1509.0        42.0       33.0                    f        Individual   \n",
              "99997   31733.0        66.5       36.0                    f        Individual   \n",
              "99998   33503.0        57.7       40.0                    w        Individual   \n",
              "99999   11177.0        39.5       31.0                    w        Individual   \n",
              "\n",
              "       mort_acc  pub_rec_bankruptcies  loan_status time_paid_back    cr_line  \n",
              "0           2.0                   0.0  Charged Off      23.064129  46.863717  \n",
              "1           0.0                   1.0   Fully Paid      11.992033  27.449218  \n",
              "2           1.0                   0.0   Fully Paid      17.018830  17.699531  \n",
              "3           0.0                   0.0  Charged Off      18.037331  18.778266  \n",
              "4           0.0                   0.0  Charged Off      10.053595  14.195010  \n",
              "...         ...                   ...          ...            ...        ...  \n",
              "99995       1.0                   0.0   Fully Paid      36.008953  42.113448  \n",
              "99996       3.0                   0.0   Fully Paid      27.959506  27.449218  \n",
              "99997       3.0                   0.0   Fully Paid      36.008953  30.113201  \n",
              "99998       6.0                   0.0   Fully Paid      27.959506  19.616066  \n",
              "99999       4.0                   0.0   Fully Paid      36.928890  22.364925  \n",
              "\n",
              "[100000 rows x 24 columns]"
            ],
            "text/html": [
              "\n",
              "  <div id=\"df-fa65b041-a25b-41e6-85d3-c1e74ad1ab50\">\n",
              "    <div class=\"colab-df-container\">\n",
              "      <div>\n",
              "<style scoped>\n",
              "    .dataframe tbody tr th:only-of-type {\n",
              "        vertical-align: middle;\n",
              "    }\n",
              "\n",
              "    .dataframe tbody tr th {\n",
              "        vertical-align: top;\n",
              "    }\n",
              "\n",
              "    .dataframe thead th {\n",
              "        text-align: right;\n",
              "    }\n",
              "</style>\n",
              "<table border=\"1\" class=\"dataframe\">\n",
              "  <thead>\n",
              "    <tr style=\"text-align: right;\">\n",
              "      <th></th>\n",
              "      <th>loan_amnt</th>\n",
              "      <th>term</th>\n",
              "      <th>int_rate</th>\n",
              "      <th>installment</th>\n",
              "      <th>grade</th>\n",
              "      <th>sub_grade</th>\n",
              "      <th>emp_length</th>\n",
              "      <th>home_ownership</th>\n",
              "      <th>annual_inc</th>\n",
              "      <th>verification_status</th>\n",
              "      <th>...</th>\n",
              "      <th>revol_bal</th>\n",
              "      <th>revol_util</th>\n",
              "      <th>total_acc</th>\n",
              "      <th>initial_list_status</th>\n",
              "      <th>application_type</th>\n",
              "      <th>mort_acc</th>\n",
              "      <th>pub_rec_bankruptcies</th>\n",
              "      <th>loan_status</th>\n",
              "      <th>time_paid_back</th>\n",
              "      <th>cr_line</th>\n",
              "    </tr>\n",
              "  </thead>\n",
              "  <tbody>\n",
              "    <tr>\n",
              "      <th>0</th>\n",
              "      <td>30000.0</td>\n",
              "      <td>36 months</td>\n",
              "      <td>8.24</td>\n",
              "      <td>943.42</td>\n",
              "      <td>B</td>\n",
              "      <td>B1</td>\n",
              "      <td>10+ years</td>\n",
              "      <td>OWN</td>\n",
              "      <td>132630.0</td>\n",
              "      <td>Source Verified</td>\n",
              "      <td>...</td>\n",
              "      <td>3444.0</td>\n",
              "      <td>5.3</td>\n",
              "      <td>22.0</td>\n",
              "      <td>w</td>\n",
              "      <td>Individual</td>\n",
              "      <td>2.0</td>\n",
              "      <td>0.0</td>\n",
              "      <td>Charged Off</td>\n",
              "      <td>23.064129</td>\n",
              "      <td>46.863717</td>\n",
              "    </tr>\n",
              "    <tr>\n",
              "      <th>1</th>\n",
              "      <td>7200.0</td>\n",
              "      <td>36 months</td>\n",
              "      <td>28.69</td>\n",
              "      <td>300.51</td>\n",
              "      <td>F</td>\n",
              "      <td>F1</td>\n",
              "      <td>10+ years</td>\n",
              "      <td>MORTGAGE</td>\n",
              "      <td>73000.0</td>\n",
              "      <td>Verified</td>\n",
              "      <td>...</td>\n",
              "      <td>6501.0</td>\n",
              "      <td>28.8</td>\n",
              "      <td>13.0</td>\n",
              "      <td>f</td>\n",
              "      <td>Individual</td>\n",
              "      <td>0.0</td>\n",
              "      <td>1.0</td>\n",
              "      <td>Fully Paid</td>\n",
              "      <td>11.992033</td>\n",
              "      <td>27.449218</td>\n",
              "    </tr>\n",
              "    <tr>\n",
              "      <th>2</th>\n",
              "      <td>7000.0</td>\n",
              "      <td>36 months</td>\n",
              "      <td>11.49</td>\n",
              "      <td>230.80</td>\n",
              "      <td>B</td>\n",
              "      <td>B5</td>\n",
              "      <td>9 years</td>\n",
              "      <td>MORTGAGE</td>\n",
              "      <td>60000.0</td>\n",
              "      <td>Not Verified</td>\n",
              "      <td>...</td>\n",
              "      <td>12916.0</td>\n",
              "      <td>54.5</td>\n",
              "      <td>21.0</td>\n",
              "      <td>w</td>\n",
              "      <td>Individual</td>\n",
              "      <td>1.0</td>\n",
              "      <td>0.0</td>\n",
              "      <td>Fully Paid</td>\n",
              "      <td>17.018830</td>\n",
              "      <td>17.699531</td>\n",
              "    </tr>\n",
              "    <tr>\n",
              "      <th>3</th>\n",
              "      <td>11200.0</td>\n",
              "      <td>36 months</td>\n",
              "      <td>13.99</td>\n",
              "      <td>382.74</td>\n",
              "      <td>C</td>\n",
              "      <td>C3</td>\n",
              "      <td>3 years</td>\n",
              "      <td>RENT</td>\n",
              "      <td>60000.0</td>\n",
              "      <td>Verified</td>\n",
              "      <td>...</td>\n",
              "      <td>9686.0</td>\n",
              "      <td>40.9</td>\n",
              "      <td>33.0</td>\n",
              "      <td>f</td>\n",
              "      <td>Individual</td>\n",
              "      <td>0.0</td>\n",
              "      <td>0.0</td>\n",
              "      <td>Charged Off</td>\n",
              "      <td>18.037331</td>\n",
              "      <td>18.778266</td>\n",
              "    </tr>\n",
              "    <tr>\n",
              "      <th>4</th>\n",
              "      <td>13200.0</td>\n",
              "      <td>36 months</td>\n",
              "      <td>19.99</td>\n",
              "      <td>490.50</td>\n",
              "      <td>D</td>\n",
              "      <td>D4</td>\n",
              "      <td>3 years</td>\n",
              "      <td>RENT</td>\n",
              "      <td>33000.0</td>\n",
              "      <td>Verified</td>\n",
              "      <td>...</td>\n",
              "      <td>9790.0</td>\n",
              "      <td>55.0</td>\n",
              "      <td>30.0</td>\n",
              "      <td>f</td>\n",
              "      <td>Individual</td>\n",
              "      <td>0.0</td>\n",
              "      <td>0.0</td>\n",
              "      <td>Charged Off</td>\n",
              "      <td>10.053595</td>\n",
              "      <td>14.195010</td>\n",
              "    </tr>\n",
              "    <tr>\n",
              "      <th>...</th>\n",
              "      <td>...</td>\n",
              "      <td>...</td>\n",
              "      <td>...</td>\n",
              "      <td>...</td>\n",
              "      <td>...</td>\n",
              "      <td>...</td>\n",
              "      <td>...</td>\n",
              "      <td>...</td>\n",
              "      <td>...</td>\n",
              "      <td>...</td>\n",
              "      <td>...</td>\n",
              "      <td>...</td>\n",
              "      <td>...</td>\n",
              "      <td>...</td>\n",
              "      <td>...</td>\n",
              "      <td>...</td>\n",
              "      <td>...</td>\n",
              "      <td>...</td>\n",
              "      <td>...</td>\n",
              "      <td>...</td>\n",
              "      <td>...</td>\n",
              "    </tr>\n",
              "    <tr>\n",
              "      <th>99995</th>\n",
              "      <td>23575.0</td>\n",
              "      <td>36 months</td>\n",
              "      <td>20.50</td>\n",
              "      <td>882.15</td>\n",
              "      <td>E</td>\n",
              "      <td>E1</td>\n",
              "      <td>10+ years</td>\n",
              "      <td>MORTGAGE</td>\n",
              "      <td>96113.0</td>\n",
              "      <td>Verified</td>\n",
              "      <td>...</td>\n",
              "      <td>116643.0</td>\n",
              "      <td>90.9</td>\n",
              "      <td>21.0</td>\n",
              "      <td>f</td>\n",
              "      <td>Individual</td>\n",
              "      <td>1.0</td>\n",
              "      <td>0.0</td>\n",
              "      <td>Fully Paid</td>\n",
              "      <td>36.008953</td>\n",
              "      <td>42.113448</td>\n",
              "    </tr>\n",
              "    <tr>\n",
              "      <th>99996</th>\n",
              "      <td>2000.0</td>\n",
              "      <td>36 months</td>\n",
              "      <td>10.99</td>\n",
              "      <td>65.47</td>\n",
              "      <td>B</td>\n",
              "      <td>B2</td>\n",
              "      <td>&lt; 1 year</td>\n",
              "      <td>MORTGAGE</td>\n",
              "      <td>45000.0</td>\n",
              "      <td>Source Verified</td>\n",
              "      <td>...</td>\n",
              "      <td>1509.0</td>\n",
              "      <td>42.0</td>\n",
              "      <td>33.0</td>\n",
              "      <td>f</td>\n",
              "      <td>Individual</td>\n",
              "      <td>3.0</td>\n",
              "      <td>0.0</td>\n",
              "      <td>Fully Paid</td>\n",
              "      <td>27.959506</td>\n",
              "      <td>27.449218</td>\n",
              "    </tr>\n",
              "    <tr>\n",
              "      <th>99997</th>\n",
              "      <td>20000.0</td>\n",
              "      <td>36 months</td>\n",
              "      <td>7.90</td>\n",
              "      <td>625.81</td>\n",
              "      <td>A</td>\n",
              "      <td>A4</td>\n",
              "      <td>10+ years</td>\n",
              "      <td>MORTGAGE</td>\n",
              "      <td>72000.0</td>\n",
              "      <td>Verified</td>\n",
              "      <td>...</td>\n",
              "      <td>31733.0</td>\n",
              "      <td>66.5</td>\n",
              "      <td>36.0</td>\n",
              "      <td>f</td>\n",
              "      <td>Individual</td>\n",
              "      <td>3.0</td>\n",
              "      <td>0.0</td>\n",
              "      <td>Fully Paid</td>\n",
              "      <td>36.008953</td>\n",
              "      <td>30.113201</td>\n",
              "    </tr>\n",
              "    <tr>\n",
              "      <th>99998</th>\n",
              "      <td>35000.0</td>\n",
              "      <td>60 months</td>\n",
              "      <td>17.57</td>\n",
              "      <td>880.61</td>\n",
              "      <td>D</td>\n",
              "      <td>D2</td>\n",
              "      <td>7 years</td>\n",
              "      <td>MORTGAGE</td>\n",
              "      <td>120000.0</td>\n",
              "      <td>Verified</td>\n",
              "      <td>...</td>\n",
              "      <td>33503.0</td>\n",
              "      <td>57.7</td>\n",
              "      <td>40.0</td>\n",
              "      <td>w</td>\n",
              "      <td>Individual</td>\n",
              "      <td>6.0</td>\n",
              "      <td>0.0</td>\n",
              "      <td>Fully Paid</td>\n",
              "      <td>27.959506</td>\n",
              "      <td>19.616066</td>\n",
              "    </tr>\n",
              "    <tr>\n",
              "      <th>99999</th>\n",
              "      <td>10000.0</td>\n",
              "      <td>36 months</td>\n",
              "      <td>7.90</td>\n",
              "      <td>312.91</td>\n",
              "      <td>A</td>\n",
              "      <td>A4</td>\n",
              "      <td>10+ years</td>\n",
              "      <td>RENT</td>\n",
              "      <td>40000.0</td>\n",
              "      <td>Source Verified</td>\n",
              "      <td>...</td>\n",
              "      <td>11177.0</td>\n",
              "      <td>39.5</td>\n",
              "      <td>31.0</td>\n",
              "      <td>w</td>\n",
              "      <td>Individual</td>\n",
              "      <td>4.0</td>\n",
              "      <td>0.0</td>\n",
              "      <td>Fully Paid</td>\n",
              "      <td>36.928890</td>\n",
              "      <td>22.364925</td>\n",
              "    </tr>\n",
              "  </tbody>\n",
              "</table>\n",
              "<p>100000 rows × 24 columns</p>\n",
              "</div>\n",
              "      <button class=\"colab-df-convert\" onclick=\"convertToInteractive('df-fa65b041-a25b-41e6-85d3-c1e74ad1ab50')\"\n",
              "              title=\"Convert this dataframe to an interactive table.\"\n",
              "              style=\"display:none;\">\n",
              "        \n",
              "  <svg xmlns=\"http://www.w3.org/2000/svg\" height=\"24px\"viewBox=\"0 0 24 24\"\n",
              "       width=\"24px\">\n",
              "    <path d=\"M0 0h24v24H0V0z\" fill=\"none\"/>\n",
              "    <path d=\"M18.56 5.44l.94 2.06.94-2.06 2.06-.94-2.06-.94-.94-2.06-.94 2.06-2.06.94zm-11 1L8.5 8.5l.94-2.06 2.06-.94-2.06-.94L8.5 2.5l-.94 2.06-2.06.94zm10 10l.94 2.06.94-2.06 2.06-.94-2.06-.94-.94-2.06-.94 2.06-2.06.94z\"/><path d=\"M17.41 7.96l-1.37-1.37c-.4-.4-.92-.59-1.43-.59-.52 0-1.04.2-1.43.59L10.3 9.45l-7.72 7.72c-.78.78-.78 2.05 0 2.83L4 21.41c.39.39.9.59 1.41.59.51 0 1.02-.2 1.41-.59l7.78-7.78 2.81-2.81c.8-.78.8-2.07 0-2.86zM5.41 20L4 18.59l7.72-7.72 1.47 1.35L5.41 20z\"/>\n",
              "  </svg>\n",
              "      </button>\n",
              "      \n",
              "  <style>\n",
              "    .colab-df-container {\n",
              "      display:flex;\n",
              "      flex-wrap:wrap;\n",
              "      gap: 12px;\n",
              "    }\n",
              "\n",
              "    .colab-df-convert {\n",
              "      background-color: #E8F0FE;\n",
              "      border: none;\n",
              "      border-radius: 50%;\n",
              "      cursor: pointer;\n",
              "      display: none;\n",
              "      fill: #1967D2;\n",
              "      height: 32px;\n",
              "      padding: 0 0 0 0;\n",
              "      width: 32px;\n",
              "    }\n",
              "\n",
              "    .colab-df-convert:hover {\n",
              "      background-color: #E2EBFA;\n",
              "      box-shadow: 0px 1px 2px rgba(60, 64, 67, 0.3), 0px 1px 3px 1px rgba(60, 64, 67, 0.15);\n",
              "      fill: #174EA6;\n",
              "    }\n",
              "\n",
              "    [theme=dark] .colab-df-convert {\n",
              "      background-color: #3B4455;\n",
              "      fill: #D2E3FC;\n",
              "    }\n",
              "\n",
              "    [theme=dark] .colab-df-convert:hover {\n",
              "      background-color: #434B5C;\n",
              "      box-shadow: 0px 1px 3px 1px rgba(0, 0, 0, 0.15);\n",
              "      filter: drop-shadow(0px 1px 2px rgba(0, 0, 0, 0.3));\n",
              "      fill: #FFFFFF;\n",
              "    }\n",
              "  </style>\n",
              "\n",
              "      <script>\n",
              "        const buttonEl =\n",
              "          document.querySelector('#df-fa65b041-a25b-41e6-85d3-c1e74ad1ab50 button.colab-df-convert');\n",
              "        buttonEl.style.display =\n",
              "          google.colab.kernel.accessAllowed ? 'block' : 'none';\n",
              "\n",
              "        async function convertToInteractive(key) {\n",
              "          const element = document.querySelector('#df-fa65b041-a25b-41e6-85d3-c1e74ad1ab50');\n",
              "          const dataTable =\n",
              "            await google.colab.kernel.invokeFunction('convertToInteractive',\n",
              "                                                     [key], {});\n",
              "          if (!dataTable) return;\n",
              "\n",
              "          const docLinkHtml = 'Like what you see? Visit the ' +\n",
              "            '<a target=\"_blank\" href=https://colab.research.google.com/notebooks/data_table.ipynb>data table notebook</a>'\n",
              "            + ' to learn more about interactive tables.';\n",
              "          element.innerHTML = '';\n",
              "          dataTable['output_type'] = 'display_data';\n",
              "          await google.colab.output.renderOutput(dataTable, element);\n",
              "          const docLink = document.createElement('div');\n",
              "          docLink.innerHTML = docLinkHtml;\n",
              "          element.appendChild(docLink);\n",
              "        }\n",
              "      </script>\n",
              "    </div>\n",
              "  </div>\n",
              "  "
            ]
          },
          "metadata": {},
          "execution_count": 356
        }
      ]
    },
    {
      "cell_type": "code",
      "source": [
        "grade_mapping = {'A': 1, 'B': 2, 'C': 3, 'D': 4, 'E': 5, 'F': 6, 'G': 7}\n",
        "df.grade = df.grade.map(grade_mapping)"
      ],
      "metadata": {
        "id": "FtktMAy95ZfA"
      },
      "execution_count": 357,
      "outputs": []
    },
    {
      "cell_type": "code",
      "source": [
        "sub_grade_mapping = {'A1': 11, 'A2' : 12, 'A3': 13, 'A4': 14, 'A5': 15,\n",
        "                     'B1': 21, 'B2' : 22, 'B3': 23, 'B4': 24, 'B5': 25,\n",
        "                     'C1': 31, 'C2' : 32, 'C3': 33, 'C4': 34, 'C5': 35,\n",
        "                     'D1': 41, 'D2' : 42, 'D3': 43, 'D4': 44, 'D5': 45,\n",
        "                     'E1': 51, 'E2' : 52, 'E3': 53, 'E4': 54, 'E5': 55,\n",
        "                     'F1': 61, 'F2' : 62, 'F3': 63, 'F4': 64, 'F5': 65,\n",
        "                     'G1': 71, 'G2' : 72, 'G3': 73, 'G4': 74, 'G5': 75}\n",
        "df.sub_grade = df.sub_grade.map(sub_grade_mapping)"
      ],
      "metadata": {
        "id": "tk3SCGOv6S9n"
      },
      "execution_count": 358,
      "outputs": []
    },
    {
      "cell_type": "code",
      "source": [
        "employ_mapping = {'< 1 year': 0, \n",
        "                  '1 year': 1,\n",
        "                  '2 years' : 2,\n",
        "                  '3 years' : 3,\n",
        "                  '4 years' : 4,\n",
        "                  '5 years' : 5,\n",
        "                  '6 years' : 6,\n",
        "                  '7 years' : 7,\n",
        "                  '8 years' : 8,\n",
        "                  '9 years' : 9,\n",
        "                  '10+ years' : 10}\n",
        "df.emp_length = df.emp_length.map(employ_mapping)"
      ],
      "metadata": {
        "id": "PpZbp6GT7uX0"
      },
      "execution_count": 359,
      "outputs": []
    },
    {
      "cell_type": "code",
      "source": [
        "loan_status_mapping = {'Charged Off': 0, \n",
        "                  'Fully Paid': 1}\n",
        "df.loan_status = df.loan_status.map(loan_status_mapping)"
      ],
      "metadata": {
        "id": "ZcBk6doFJgB7"
      },
      "execution_count": 360,
      "outputs": []
    },
    {
      "cell_type": "code",
      "source": [
        "categ = ['purpose', 'term', 'home_ownership', 'initial_list_status', 'application_type', 'verification_status' ]\n",
        "\n",
        "le = LabelEncoder()\n",
        "df[categ] = df[categ].apply(le.fit_transform)"
      ],
      "metadata": {
        "id": "QA3CJpMMKBLj"
      },
      "execution_count": 361,
      "outputs": []
    },
    {
      "cell_type": "markdown",
      "source": [
        "# Hypotesis testing\n",
        "\n",
        "A few points were not so clear to me.\n",
        "* Is there really significant difference between 'Individual' loans and 'Joint Application Loans'? \n",
        "* Is employement lenght affecting the final outcome of the loan?\n",
        "\n",
        "\n",
        "\n",
        "H0 => µ1 = µ2 (population mean of dataset1 is equal to dataset2)\n",
        "\n",
        "HA => µ1 ≠µ2 (population mean of dataset1 is different from dataset2)\n"
      ],
      "metadata": {
        "id": "17IHsMmV9al5"
      }
    },
    {
      "cell_type": "code",
      "source": [
        "stats.ttest_ind(df['emp_length'][df['loan_status'] == 1],\n",
        "                df['emp_length'][df['loan_status'] == 0])"
      ],
      "metadata": {
        "id": "plnI0Zkr_khD",
        "colab": {
          "base_uri": "https://localhost:8080/"
        },
        "outputId": "10d18e95-f917-4ae8-95a1-3d6c77896c71"
      },
      "execution_count": 365,
      "outputs": [
        {
          "output_type": "execute_result",
          "data": {
            "text/plain": [
              "Ttest_indResult(statistic=11.255982251040646, pvalue=2.2539711968395243e-29)"
            ]
          },
          "metadata": {},
          "execution_count": 365
        }
      ]
    },
    {
      "cell_type": "code",
      "source": [
        "stats.ttest_ind(df['application_type'][df['loan_status'] == 1],\n",
        "                df['application_type'][df['loan_status'] == 0])"
      ],
      "metadata": {
        "colab": {
          "base_uri": "https://localhost:8080/"
        },
        "id": "554QMMnLNL5i",
        "outputId": "3a2cf9cc-e236-4bc0-f7c3-a2b364977409"
      },
      "execution_count": 366,
      "outputs": [
        {
          "output_type": "execute_result",
          "data": {
            "text/plain": [
              "Ttest_indResult(statistic=-6.935300707857561, pvalue=4.07805671802054e-12)"
            ]
          },
          "metadata": {},
          "execution_count": 366
        }
      ]
    },
    {
      "cell_type": "code",
      "source": [
        "stats.ttest_ind(df['cr_line'][df['loan_status'] == 1],\n",
        "                df['cr_line'][df['loan_status'] == 0])"
      ],
      "metadata": {
        "id": "0eua9clABdbS",
        "colab": {
          "base_uri": "https://localhost:8080/"
        },
        "outputId": "d84c9a9e-ecd2-4b9e-c840-28232e4e6929"
      },
      "execution_count": 367,
      "outputs": [
        {
          "output_type": "execute_result",
          "data": {
            "text/plain": [
              "Ttest_indResult(statistic=18.477911310914823, pvalue=4.166499896732849e-76)"
            ]
          },
          "metadata": {},
          "execution_count": 367
        }
      ]
    },
    {
      "cell_type": "markdown",
      "source": [
        "# Correlations"
      ],
      "metadata": {
        "id": "7NEdC90ujT81"
      }
    },
    {
      "cell_type": "code",
      "source": [
        "fig = plt.figure(figsize= (12, 10))\n",
        "corr = df.drop(['sub_grade'], axis=1).corr()\n",
        "sns.heatmap(corr)\n",
        "plt.show()"
      ],
      "metadata": {
        "id": "vzIGkL4ZjWrV",
        "colab": {
          "base_uri": "https://localhost:8080/",
          "height": 695
        },
        "outputId": "7b4e0471-da49-4901-b9a6-320bdd84e8bc"
      },
      "execution_count": 368,
      "outputs": [
        {
          "output_type": "display_data",
          "data": {
            "text/plain": [
              "<Figure size 864x720 with 2 Axes>"
            ],
            "image/png": "[encoded data removed]"
          },
          "metadata": {
            "needs_background": "light"
          }
        }
      ]
    },
    {
      "cell_type": "markdown",
      "source": [
        "Although there is an indication of a higher correlation in the up left part of the graph when compared to the rest, the highest values were encountered for ProductRelated_Duration x ProductRelated and ExitRates x BounceRates. Therefore, I dropped ProductRelated_Duration and ExitRates from the features list that served as input to the models, and later to the GCP training as well."
      ],
      "metadata": {
        "id": "h6LhVBAJ8dDE"
      }
    },
    {
      "cell_type": "code",
      "source": [
        "corr_matrix = df.corr()\n",
        "print(corr_matrix[\"loan_status\"].sort_values(ascending=False))"
      ],
      "metadata": {
        "colab": {
          "base_uri": "https://localhost:8080/"
        },
        "id": "rUuYQQfEQ-Bp",
        "outputId": "fb6b9fc8-7305-4ad5-f953-2c771a2fcd48"
      },
      "execution_count": 369,
      "outputs": [
        {
          "output_type": "stream",
          "name": "stdout",
          "text": [
            "loan_status             1.000000\n",
            "time_paid_back          0.133312\n",
            "mort_acc                0.099685\n",
            "cr_line                 0.058333\n",
            "annual_inc              0.044163\n",
            "emp_length              0.035572\n",
            "total_acc               0.034220\n",
            "revol_bal               0.004916\n",
            "initial_list_status    -0.003302\n",
            "pub_rec_bankruptcies   -0.015468\n",
            "pub_rec                -0.020628\n",
            "application_type       -0.021926\n",
            "open_acc               -0.024971\n",
            "purpose                -0.027815\n",
            "loan_amnt              -0.076782\n",
            "installment            -0.078137\n",
            "dti                    -0.078911\n",
            "home_ownership         -0.085299\n",
            "verification_status    -0.086752\n",
            "revol_util             -0.088794\n",
            "term                   -0.138144\n",
            "grade                  -0.247766\n",
            "int_rate               -0.250097\n",
            "sub_grade              -0.252825\n",
            "Name: loan_status, dtype: float64\n"
          ]
        }
      ]
    },
    {
      "cell_type": "code",
      "source": [
        "corr_matrix = df.corr()\n",
        "print(corr_matrix[\"grade\"].sort_values(ascending=False))"
      ],
      "metadata": {
        "colab": {
          "base_uri": "https://localhost:8080/"
        },
        "id": "Ujw8EjIuQhL2",
        "outputId": "66a02323-7b2e-4a93-e1de-fac401ab6fea"
      },
      "execution_count": 370,
      "outputs": [
        {
          "output_type": "stream",
          "name": "stdout",
          "text": [
            "grade                   1.000000\n",
            "sub_grade               0.993651\n",
            "int_rate                0.966002\n",
            "term                    0.393655\n",
            "verification_status     0.245969\n",
            "revol_util              0.244759\n",
            "installment             0.195989\n",
            "loan_amnt               0.159269\n",
            "dti                     0.122329\n",
            "purpose                 0.095145\n",
            "home_ownership          0.070033\n",
            "pub_rec_bankruptcies    0.064274\n",
            "pub_rec                 0.062851\n",
            "application_type        0.034467\n",
            "open_acc                0.009049\n",
            "revol_bal               0.005680\n",
            "emp_length             -0.009391\n",
            "time_paid_back         -0.045442\n",
            "total_acc              -0.046104\n",
            "annual_inc             -0.074626\n",
            "cr_line                -0.087056\n",
            "mort_acc               -0.089302\n",
            "initial_list_status    -0.158641\n",
            "loan_status            -0.247766\n",
            "Name: grade, dtype: float64\n"
          ]
        }
      ]
    },
    {
      "cell_type": "code",
      "source": [
        "df = df.drop(columns=['int_rate'])"
      ],
      "metadata": {
        "id": "HXCOXUDYAUoz"
      },
      "execution_count": 371,
      "outputs": []
    },
    {
      "cell_type": "markdown",
      "source": [
        "# XGBoost for loan_status prediction"
      ],
      "metadata": {
        "id": "EZbgE43AUaxE"
      }
    },
    {
      "cell_type": "code",
      "source": [
        "!pip install optuna"
      ],
      "metadata": {
        "id": "W7vH0q9tVrZQ",
        "colab": {
          "base_uri": "https://localhost:8080/"
        },
        "outputId": "df04a5fa-7c8a-40fc-af6d-f7c5a7ce1498"
      },
      "execution_count": 372,
      "outputs": [
        {
          "output_type": "stream",
          "name": "stdout",
          "text": [
            "Looking in indexes: https://pypi.org/simple, https://us-python.pkg.dev/colab-wheels/public/simple/\n",
            "Requirement already satisfied: optuna in /usr/local/lib/python3.7/dist-packages (3.0.3)\n",
            "Requirement already satisfied: packaging>=20.0 in /usr/local/lib/python3.7/dist-packages (from optuna) (21.3)\n",
            "Requirement already satisfied: importlib-metadata<5.0.0 in /usr/local/lib/python3.7/dist-packages (from optuna) (4.13.0)\n",
            "Requirement already satisfied: colorlog in /usr/local/lib/python3.7/dist-packages (from optuna) (6.7.0)\n",
            "Requirement already satisfied: cmaes>=0.8.2 in /usr/local/lib/python3.7/dist-packages (from optuna) (0.9.0)\n",
            "Requirement already satisfied: alembic>=1.5.0 in /usr/local/lib/python3.7/dist-packages (from optuna) (1.8.1)\n",
            "Requirement already satisfied: tqdm in /usr/local/lib/python3.7/dist-packages (from optuna) (4.64.1)\n",
            "Requirement already satisfied: numpy in /usr/local/lib/python3.7/dist-packages (from optuna) (1.21.6)\n",
            "Requirement already satisfied: sqlalchemy>=1.3.0 in /usr/local/lib/python3.7/dist-packages (from optuna) (1.4.43)\n",
            "Requirement already satisfied: cliff in /usr/local/lib/python3.7/dist-packages (from optuna) (3.10.1)\n",
            "Requirement already satisfied: PyYAML in /usr/local/lib/python3.7/dist-packages (from optuna) (6.0)\n",
            "Requirement already satisfied: scipy<1.9.0,>=1.7.0 in /usr/local/lib/python3.7/dist-packages (from optuna) (1.7.3)\n",
            "Requirement already satisfied: Mako in /usr/local/lib/python3.7/dist-packages (from alembic>=1.5.0->optuna) (1.2.3)\n",
            "Requirement already satisfied: importlib-resources in /usr/local/lib/python3.7/dist-packages (from alembic>=1.5.0->optuna) (5.10.0)\n",
            "Requirement already satisfied: typing-extensions>=3.6.4 in /usr/local/lib/python3.7/dist-packages (from importlib-metadata<5.0.0->optuna) (4.1.1)\n",
            "Requirement already satisfied: zipp>=0.5 in /usr/local/lib/python3.7/dist-packages (from importlib-metadata<5.0.0->optuna) (3.10.0)\n",
            "Requirement already satisfied: pyparsing!=3.0.5,>=2.0.2 in /usr/local/lib/python3.7/dist-packages (from packaging>=20.0->optuna) (3.0.9)\n",
            "Requirement already satisfied: greenlet!=0.4.17 in /usr/local/lib/python3.7/dist-packages (from sqlalchemy>=1.3.0->optuna) (2.0.1)\n",
            "Requirement already satisfied: cmd2>=1.0.0 in /usr/local/lib/python3.7/dist-packages (from cliff->optuna) (2.4.2)\n",
            "Requirement already satisfied: autopage>=0.4.0 in /usr/local/lib/python3.7/dist-packages (from cliff->optuna) (0.5.1)\n",
            "Requirement already satisfied: stevedore>=2.0.1 in /usr/local/lib/python3.7/dist-packages (from cliff->optuna) (3.5.2)\n",
            "Requirement already satisfied: PrettyTable>=0.7.2 in /usr/local/lib/python3.7/dist-packages (from cliff->optuna) (3.5.0)\n",
            "Requirement already satisfied: pbr!=2.1.0,>=2.0.0 in /usr/local/lib/python3.7/dist-packages (from cliff->optuna) (5.11.0)\n",
            "Requirement already satisfied: wcwidth>=0.1.7 in /usr/local/lib/python3.7/dist-packages (from cmd2>=1.0.0->cliff->optuna) (0.2.5)\n",
            "Requirement already satisfied: pyperclip>=1.6 in /usr/local/lib/python3.7/dist-packages (from cmd2>=1.0.0->cliff->optuna) (1.8.2)\n",
            "Requirement already satisfied: attrs>=16.3.0 in /usr/local/lib/python3.7/dist-packages (from cmd2>=1.0.0->cliff->optuna) (22.1.0)\n",
            "Requirement already satisfied: MarkupSafe>=0.9.2 in /usr/local/lib/python3.7/dist-packages (from Mako->alembic>=1.5.0->optuna) (2.0.1)\n"
          ]
        }
      ]
    },
    {
      "cell_type": "code",
      "source": [
        "import xgboost as xgb\n",
        "from xgboost import XGBClassifier\n",
        "from sklearn import metrics\n",
        "from sklearn.metrics import confusion_matrix, accuracy_score, classification_report, recall_score, mean_squared_error, r2_score, roc_auc_score, roc_curve, auc,precision_score\n",
        "from sklearn.model_selection import cross_val_score\n",
        "from imblearn.combine import SMOTETomek\n",
        "\n",
        "import optuna \n",
        "from optuna import Trial, visualization\n",
        "from optuna.samplers import TPESampler"
      ],
      "metadata": {
        "id": "328xCk5JU27K"
      },
      "execution_count": 373,
      "outputs": []
    },
    {
      "cell_type": "code",
      "source": [
        "def classification(trial):\n",
        "\n",
        "  param = {\n",
        "      \"verbosity\": 0,  # 0 (silent) - 3 (debug)\n",
        "      \"objective\": \"binary:logistic\",\n",
        "      \"tree_method\": \"exact\",\n",
        "      \"booster\": trial.suggest_categorical(\"booster\", [\"gbtree\", \"gblinear\", \"dart\"]),\n",
        "      \"lambda\": trial.suggest_float(\"lambda\", 1e-8, 1.0, log=True),\n",
        "      \"alpha\": trial.suggest_float(\"alpha\", 1e-8, 1.0, log=True),\n",
        "      \"subsample\": trial.suggest_float(\"subsample\", 0.2, 1.0),\n",
        "      \"colsample_bytree\": trial.suggest_float(\"colsample_bytree\", 0.2, 1.0),\n",
        "  }\n",
        "\n",
        "  if param[\"booster\"] in [\"gbtree\", \"dart\"]:\n",
        "    param[\"max_depth\"] = trial.suggest_int(\"max_depth\", 3, 9, step=2)\n",
        "    param[\"min_child_weight\"] = trial.suggest_int(\"min_child_weight\", 2, 10)\n",
        "    param[\"eta\"] = trial.suggest_float(\"eta\", 1e-8, 1.0, log=True)\n",
        "    param[\"gamma\"] = trial.suggest_float(\"gamma\", 1e-8, 1.0, log=True)\n",
        "    param[\"grow_policy\"] = trial.suggest_categorical(\"grow_policy\", [\"depthwise\", \"lossguide\"])\n",
        "\n",
        "  if param[\"booster\"] == \"dart\":\n",
        "    param[\"sample_type\"] = trial.suggest_categorical(\"sample_type\", [\"uniform\", \"weighted\"])\n",
        "    param[\"normalize_type\"] = trial.suggest_categorical(\"normalize_type\", [\"tree\", \"forest\"])\n",
        "    param[\"rate_drop\"] = trial.suggest_float(\"rate_drop\", 1e-8, 1.0, log=True)\n",
        "    param[\"skip_drop\"] = trial.suggest_float(\"skip_drop\", 1e-8, 1.0, log=True)\n",
        "\n",
        "  \n",
        "\n",
        "  model = xgb.XGBClassifier(random_state=42, **param)\n",
        "  model.fit(X_train_smote,y_train_smote,eval_set=[(X_test,y_test)],verbose=False)\n",
        "\n",
        "  predicted_values = model.predict(X_test)\n",
        "  roc_auc_score1= roc_auc_score(y_test, predicted_values)\n",
        "  return roc_auc_score1"
      ],
      "metadata": {
        "id": "rF8KbBOqUcgj"
      },
      "execution_count": 374,
      "outputs": []
    },
    {
      "cell_type": "code",
      "source": [
        "target = df[['loan_status']]\n",
        "cols = [col for col in df.columns if col not in ['loan_status', 'sub_grade']]\n",
        "features = df[cols]\n",
        "\n",
        "\n",
        "X_train, X_test, y_train, y_test = train_test_split(features, \n",
        "                                                    target, \n",
        "                                                    test_size=0.2, \n",
        "                                                    stratify = target,\n",
        "                                                    random_state=42)\n",
        "print(X_train.shape, X_test.shape, y_train.shape,y_test.shape)"
      ],
      "metadata": {
        "id": "hfyzLryglSg4",
        "colab": {
          "base_uri": "https://localhost:8080/"
        },
        "outputId": "e3f4a034-42ba-491e-9559-5a7ef4ffa4f8"
      },
      "execution_count": 389,
      "outputs": [
        {
          "output_type": "stream",
          "name": "stdout",
          "text": [
            "(80000, 21) (20000, 21) (80000, 1) (20000, 1)\n"
          ]
        }
      ]
    },
    {
      "cell_type": "code",
      "source": [
        "smote= SMOTETomek(random_state=42)\n",
        "\n",
        "X_train_smote,y_train_smote = smote.fit_resample(X_train, y_train)\n",
        "print(X_train_smote.shape, X_test.shape, y_train_smote.shape, y_test.shape)"
      ],
      "metadata": {
        "id": "Kw6WIeRglmQe",
        "colab": {
          "base_uri": "https://localhost:8080/"
        },
        "outputId": "2157161d-a6ad-4f1e-8c30-5e784a379f13"
      },
      "execution_count": 390,
      "outputs": [
        {
          "output_type": "stream",
          "name": "stdout",
          "text": [
            "(114992, 21) (20000, 21) (114992, 1) (20000, 1)\n"
          ]
        }
      ]
    },
    {
      "cell_type": "markdown",
      "source": [
        "# Xgboost with OPTUNA hyperparameter tunning "
      ],
      "metadata": {
        "id": "46rKMrXowLx0"
      }
    },
    {
      "cell_type": "code",
      "source": [
        "study = optuna.create_study(direction='maximize', sampler=optuna.samplers.TPESampler(seed=42))\n",
        "study.optimize(lambda trial: classification(trial), n_trials= 100)"
      ],
      "metadata": {
        "colab": {
          "base_uri": "https://localhost:8080/"
        },
        "id": "ovdyNp0ixx5i",
        "outputId": "41005eaf-9102-4b1e-c7e6-4577d24257c4"
      },
      "execution_count": 408,
      "outputs": [
        {
          "output_type": "stream",
          "name": "stderr",
          "text": [
            "\u001b[32m[I 2022-11-11 15:16:49,559]\u001b[0m A new study created in memory with name: no-name-e0b9a14c-6d92-4c53-95d4-f2f2cb56ba3d\u001b[0m\n",
            "\u001b[32m[I 2022-11-11 15:16:55,607]\u001b[0m Trial 0 finished with value: 0.6297918178933112 and parameters: {'booster': 'gblinear', 'lambda': 0.0006155564318973012, 'alpha': 1.77071686435378e-07, 'subsample': 0.32479561626896214, 'colsample_bytree': 0.24646688973455957}. Best is trial 0 with value: 0.6297918178933112.\u001b[0m\n",
            "\u001b[32m[I 2022-11-11 15:17:05,952]\u001b[0m Trial 1 finished with value: 0.5966859465140173 and parameters: {'booster': 'gbtree', 'lambda': 1.4610865886287176e-08, 'alpha': 0.574485163632042, 'subsample': 0.8659541126403374, 'colsample_bytree': 0.36987128854262097, 'max_depth': 3, 'min_child_weight': 3, 'eta': 2.716051144654844e-06, 'gamma': 0.00015777981883364995, 'grow_policy': 'depthwise'}. Best is trial 0 with value: 0.6297918178933112.\u001b[0m\n",
            "\u001b[32m[I 2022-11-11 15:17:22,195]\u001b[0m Trial 2 finished with value: 0.578930700473052 and parameters: {'booster': 'gbtree', 'lambda': 8.528933855762793e-06, 'alpha': 4.452048365748842e-05, 'subsample': 0.8281407691144109, 'colsample_bytree': 0.3597390257266878, 'max_depth': 7, 'min_child_weight': 7, 'eta': 2.3528990899815284e-08, 'gamma': 0.0007250347382396634, 'grow_policy': 'depthwise'}. Best is trial 0 with value: 0.6297918178933112.\u001b[0m\n",
            "\u001b[32m[I 2022-11-11 15:17:26,780]\u001b[0m Trial 3 finished with value: 0.6297918178933112 and parameters: {'booster': 'gblinear', 'lambda': 2.734702913886802e-06, 'alpha': 6.044730070370796e-08, 'subsample': 0.7473864212097256, 'colsample_bytree': 0.5521219949916811}. Best is trial 0 with value: 0.6297918178933112.\u001b[0m\n",
            "\u001b[32m[I 2022-11-11 15:17:31,319]\u001b[0m Trial 4 finished with value: 0.6297918178933112 and parameters: {'booster': 'gblinear', 'lambda': 0.1881755597772026, 'alpha': 1.1755466083160747e-06, 'subsample': 0.7300178274831857, 'colsample_bytree': 0.4493688608715288}. Best is trial 0 with value: 0.6297918178933112.\u001b[0m\n",
            "\u001b[32m[I 2022-11-11 15:17:35,873]\u001b[0m Trial 5 finished with value: 0.6297918178933112 and parameters: {'booster': 'gblinear', 'lambda': 0.5710537951126793, 'alpha': 0.01588775693167255, 'subsample': 0.9515991532513512, 'colsample_bytree': 0.915861880342119}. Best is trial 0 with value: 0.6297918178933112.\u001b[0m\n",
            "\u001b[32m[I 2022-11-11 15:17:40,424]\u001b[0m Trial 6 finished with value: 0.6297918178933112 and parameters: {'booster': 'gblinear', 'lambda': 3.697114486625506e-07, 'alpha': 2.300479202014574e-08, 'subsample': 0.4602642646106115, 'colsample_bytree': 0.5109418317515857}. Best is trial 0 with value: 0.6297918178933112.\u001b[0m\n",
            "\u001b[32m[I 2022-11-11 15:17:45,012]\u001b[0m Trial 7 finished with value: 0.6297918178933112 and parameters: {'booster': 'gblinear', 'lambda': 1.7679748286442581e-06, 'alpha': 0.0002195678075127562, 'subsample': 0.31273937997981016, 'colsample_bytree': 0.8417575846032317}. Best is trial 0 with value: 0.6297918178933112.\u001b[0m\n",
            "\u001b[32m[I 2022-11-11 15:17:49,570]\u001b[0m Trial 8 finished with value: 0.6297918178933112 and parameters: {'booster': 'gblinear', 'lambda': 3.8879928024075543e-07, 'alpha': 1.1070747281639212e-08, 'subsample': 0.8523691427638673, 'colsample_bytree': 0.7654858750780937}. Best is trial 0 with value: 0.6297918178933112.\u001b[0m\n",
            "\u001b[32m[I 2022-11-11 15:17:54,108]\u001b[0m Trial 9 finished with value: 0.6297918178933112 and parameters: {'booster': 'gblinear', 'lambda': 7.374385355858303e-06, 'alpha': 8.451863533931625e-08, 'subsample': 0.890482740700475, 'colsample_bytree': 0.6986385014620464}. Best is trial 0 with value: 0.6297918178933112.\u001b[0m\n",
            "\u001b[32m[I 2022-11-11 15:19:17,929]\u001b[0m Trial 10 finished with value: 0.562528948351354 and parameters: {'booster': 'dart', 'lambda': 0.002055180372647645, 'alpha': 8.90902508491156e-06, 'subsample': 0.21436950049185582, 'colsample_bytree': 0.21162174409614337, 'max_depth': 9, 'min_child_weight': 10, 'eta': 0.4631566075831914, 'gamma': 3.1150379749311864e-08, 'grow_policy': 'lossguide', 'sample_type': 'weighted', 'normalize_type': 'forest', 'rate_drop': 2.5909032924099056e-07, 'skip_drop': 0.01777442704731884}. Best is trial 0 with value: 0.6297918178933112.\u001b[0m\n",
            "\u001b[32m[I 2022-11-11 15:19:35,468]\u001b[0m Trial 11 finished with value: 0.5895155130200364 and parameters: {'booster': 'dart', 'lambda': 0.000741784509391873, 'alpha': 5.644755560466848e-07, 'subsample': 0.5593035384073807, 'colsample_bytree': 0.20557113150986128, 'max_depth': 3, 'min_child_weight': 2, 'eta': 0.3006368479724575, 'gamma': 0.8381833018218626, 'grow_policy': 'lossguide', 'sample_type': 'uniform', 'normalize_type': 'tree', 'rate_drop': 0.7662369026526872, 'skip_drop': 1.83892364968555e-08}. Best is trial 0 with value: 0.6297918178933112.\u001b[0m\n",
            "\u001b[32m[I 2022-11-11 15:19:43,050]\u001b[0m Trial 12 finished with value: 0.6297918178933112 and parameters: {'booster': 'gblinear', 'lambda': 0.00013175384924462503, 'alpha': 7.4454643385183e-07, 'subsample': 0.652343334822738, 'colsample_bytree': 0.5975173304631254}. Best is trial 0 with value: 0.6297918178933112.\u001b[0m\n",
            "\u001b[32m[I 2022-11-11 15:21:22,219]\u001b[0m Trial 13 finished with value: 0.582370423497234 and parameters: {'booster': 'dart', 'lambda': 0.013541287183269695, 'alpha': 0.0014367773803692784, 'subsample': 0.42565560941633485, 'colsample_bytree': 0.5884505421500892, 'max_depth': 9, 'min_child_weight': 6, 'eta': 0.0004728929965156433, 'gamma': 1.9494024383784375e-08, 'grow_policy': 'lossguide', 'sample_type': 'weighted', 'normalize_type': 'tree', 'rate_drop': 0.011635604102533892, 'skip_drop': 0.9127457348734698}. Best is trial 0 with value: 0.6297918178933112.\u001b[0m\n",
            "\u001b[32m[I 2022-11-11 15:21:26,800]\u001b[0m Trial 14 finished with value: 0.6297918178933112 and parameters: {'booster': 'gblinear', 'lambda': 0.00010132169454818179, 'alpha': 1.5826417040557134e-07, 'subsample': 0.7233069954213558, 'colsample_bytree': 0.32597789607967953}. Best is trial 0 with value: 0.6297918178933112.\u001b[0m\n",
            "\u001b[32m[I 2022-11-11 15:21:41,579]\u001b[0m Trial 15 finished with value: 0.5857342419645191 and parameters: {'booster': 'gbtree', 'lambda': 0.016291043292264867, 'alpha': 1.2127893199685699e-05, 'subsample': 0.5336117879385596, 'colsample_bytree': 0.47823903724666955, 'max_depth': 5, 'min_child_weight': 10, 'eta': 0.0005019569190437942, 'gamma': 0.7392361189162937, 'grow_policy': 'depthwise'}. Best is trial 0 with value: 0.6297918178933112.\u001b[0m\n",
            "\u001b[32m[I 2022-11-11 15:21:46,181]\u001b[0m Trial 16 finished with value: 0.6297918178933112 and parameters: {'booster': 'gblinear', 'lambda': 6.016921795012355e-08, 'alpha': 3.6541813373909977e-06, 'subsample': 0.32800501470440147, 'colsample_bytree': 0.6857969443860115}. Best is trial 0 with value: 0.6297918178933112.\u001b[0m\n",
            "\u001b[32m[I 2022-11-11 15:21:50,777]\u001b[0m Trial 17 finished with value: 0.6297918178933112 and parameters: {'booster': 'gblinear', 'lambda': 8.861660941934052e-05, 'alpha': 2.0532616129732354e-07, 'subsample': 0.6589515740044737, 'colsample_bytree': 0.3173452420472175}. Best is trial 0 with value: 0.6297918178933112.\u001b[0m\n",
            "\u001b[32m[I 2022-11-11 15:22:00,280]\u001b[0m Trial 18 finished with value: 0.5843508492013338 and parameters: {'booster': 'gbtree', 'lambda': 8.070469296343313e-05, 'alpha': 0.00033146037128907365, 'subsample': 0.20033351071253072, 'colsample_bytree': 0.29448325588078883, 'max_depth': 5, 'min_child_weight': 5, 'eta': 5.264927844442772e-08, 'gamma': 8.202065000354387e-07, 'grow_policy': 'depthwise'}. Best is trial 0 with value: 0.6297918178933112.\u001b[0m\n",
            "\u001b[32m[I 2022-11-11 15:23:16,916]\u001b[0m Trial 19 finished with value: 0.583909768210767 and parameters: {'booster': 'dart', 'lambda': 3.0622264563753246e-08, 'alpha': 2.5600234682923124e-06, 'subsample': 0.3614047783891826, 'colsample_bytree': 0.692011304094111, 'max_depth': 7, 'min_child_weight': 7, 'eta': 0.009530697666944442, 'gamma': 0.01114189352035048, 'grow_policy': 'lossguide', 'sample_type': 'uniform', 'normalize_type': 'forest', 'rate_drop': 1.318771925062875e-08, 'skip_drop': 5.225709772322218e-07}. Best is trial 0 with value: 0.6297918178933112.\u001b[0m\n",
            "\u001b[32m[I 2022-11-11 15:23:21,504]\u001b[0m Trial 20 finished with value: 0.6297918178933112 and parameters: {'booster': 'gblinear', 'lambda': 0.0018110587175727863, 'alpha': 0.00541692236322249, 'subsample': 0.647285834794208, 'colsample_bytree': 0.4250657468158705}. Best is trial 0 with value: 0.6297918178933112.\u001b[0m\n",
            "\u001b[32m[I 2022-11-11 15:23:26,104]\u001b[0m Trial 21 finished with value: 0.6297918178933112 and parameters: {'booster': 'gblinear', 'lambda': 1.1591584283680615e-07, 'alpha': 3.301791183004604e-07, 'subsample': 0.4897213163366275, 'colsample_bytree': 0.25894686099197817}. Best is trial 0 with value: 0.6297918178933112.\u001b[0m\n",
            "\u001b[32m[I 2022-11-11 15:23:30,655]\u001b[0m Trial 22 finished with value: 0.6297918178933112 and parameters: {'booster': 'gblinear', 'lambda': 3.165534372095266e-05, 'alpha': 4.563861992163572e-06, 'subsample': 0.3088709875404846, 'colsample_bytree': 0.6845680785291707}. Best is trial 0 with value: 0.6297918178933112.\u001b[0m\n",
            "\u001b[32m[I 2022-11-11 15:23:35,225]\u001b[0m Trial 23 finished with value: 0.6297918178933112 and parameters: {'booster': 'gblinear', 'lambda': 0.00137278313231426, 'alpha': 0.021916976730615226, 'subsample': 0.6529024178393671, 'colsample_bytree': 0.4015385859559947}. Best is trial 0 with value: 0.6297918178933112.\u001b[0m\n",
            "\u001b[32m[I 2022-11-11 15:23:39,831]\u001b[0m Trial 24 finished with value: 0.6297918178933112 and parameters: {'booster': 'gblinear', 'lambda': 0.012793406788603362, 'alpha': 0.009477652808250385, 'subsample': 0.4913948335165472, 'colsample_bytree': 0.2640761760994432}. Best is trial 0 with value: 0.6297918178933112.\u001b[0m\n",
            "\u001b[32m[I 2022-11-11 15:23:44,424]\u001b[0m Trial 25 finished with value: 0.6297918178933112 and parameters: {'booster': 'gblinear', 'lambda': 2.7998385848919596e-05, 'alpha': 3.138716064375457e-05, 'subsample': 0.38606975593313897, 'colsample_bytree': 0.8008706007859303}. Best is trial 0 with value: 0.6297918178933112.\u001b[0m\n",
            "\u001b[32m[I 2022-11-11 15:23:48,996]\u001b[0m Trial 26 finished with value: 0.6297918178933112 and parameters: {'booster': 'gblinear', 'lambda': 0.000732907246944719, 'alpha': 0.5521105011458581, 'subsample': 0.27360707004619184, 'colsample_bytree': 0.39543227780738754}. Best is trial 0 with value: 0.6297918178933112.\u001b[0m\n",
            "\u001b[32m[I 2022-11-11 15:23:53,564]\u001b[0m Trial 27 finished with value: 0.6297918178933112 and parameters: {'booster': 'gblinear', 'lambda': 0.01679936547891665, 'alpha': 0.06333358387752998, 'subsample': 0.5148791696821983, 'colsample_bytree': 0.25282350312659263}. Best is trial 0 with value: 0.6297918178933112.\u001b[0m\n",
            "\u001b[32m[I 2022-11-11 15:24:06,605]\u001b[0m Trial 28 finished with value: 0.5988507996146518 and parameters: {'booster': 'gbtree', 'lambda': 0.04900705585685877, 'alpha': 3.69428841998118e-05, 'subsample': 0.39630717272065036, 'colsample_bytree': 0.9951161762188739, 'max_depth': 3, 'min_child_weight': 4, 'eta': 4.08630162985782e-06, 'gamma': 3.4127940822130573e-06, 'grow_policy': 'lossguide'}. Best is trial 0 with value: 0.6297918178933112.\u001b[0m\n",
            "\u001b[32m[I 2022-11-11 15:25:26,127]\u001b[0m Trial 29 finished with value: 0.5902405169085342 and parameters: {'booster': 'dart', 'lambda': 0.0008176497000919528, 'alpha': 0.34257173868990487, 'subsample': 0.264467691705501, 'colsample_bytree': 0.8084921241290048, 'max_depth': 7, 'min_child_weight': 8, 'eta': 4.498677328674197e-06, 'gamma': 0.004528224823783972, 'grow_policy': 'depthwise', 'sample_type': 'uniform', 'normalize_type': 'forest', 'rate_drop': 3.3411173042347354e-05, 'skip_drop': 6.657498473705387e-05}. Best is trial 0 with value: 0.6297918178933112.\u001b[0m\n",
            "\u001b[32m[I 2022-11-11 15:25:36,718]\u001b[0m Trial 30 finished with value: 0.5855692851506309 and parameters: {'booster': 'gbtree', 'lambda': 0.0048761623598908566, 'alpha': 0.7614861005853595, 'subsample': 0.25590452281898624, 'colsample_bytree': 0.35271631804568326, 'max_depth': 5, 'min_child_weight': 2, 'eta': 0.022255013903667117, 'gamma': 3.1293804911806003e-06, 'grow_policy': 'depthwise'}. Best is trial 0 with value: 0.6297918178933112.\u001b[0m\n",
            "\u001b[32m[I 2022-11-11 15:25:41,320]\u001b[0m Trial 31 finished with value: 0.6297918178933112 and parameters: {'booster': 'gblinear', 'lambda': 0.08508599753359565, 'alpha': 0.002034323338361514, 'subsample': 0.47058511280274773, 'colsample_bytree': 0.2766264176873534}. Best is trial 0 with value: 0.6297918178933112.\u001b[0m\n",
            "\u001b[32m[I 2022-11-11 15:25:45,871]\u001b[0m Trial 32 finished with value: 0.6297918178933112 and parameters: {'booster': 'gblinear', 'lambda': 0.0003876393080506762, 'alpha': 0.12040346809383358, 'subsample': 0.3837621028103058, 'colsample_bytree': 0.36784961940283434}. Best is trial 0 with value: 0.6297918178933112.\u001b[0m\n",
            "\u001b[32m[I 2022-11-11 15:25:50,457]\u001b[0m Trial 33 finished with value: 0.6297918178933112 and parameters: {'booster': 'gblinear', 'lambda': 1.355203216821883e-05, 'alpha': 0.05704917043059061, 'subsample': 0.4190040229467827, 'colsample_bytree': 0.23197369286955744}. Best is trial 0 with value: 0.6297918178933112.\u001b[0m\n",
            "\u001b[32m[I 2022-11-11 15:25:55,008]\u001b[0m Trial 34 finished with value: 0.6297918178933112 and parameters: {'booster': 'gblinear', 'lambda': 0.0732778940443975, 'alpha': 0.002154865053786849, 'subsample': 0.5841087587138284, 'colsample_bytree': 0.28200593386069045}. Best is trial 0 with value: 0.6297918178933112.\u001b[0m\n",
            "\u001b[32m[I 2022-11-11 15:25:59,561]\u001b[0m Trial 35 finished with value: 0.6297918178933112 and parameters: {'booster': 'gblinear', 'lambda': 0.5901375861833634, 'alpha': 0.120103646170665, 'subsample': 0.5203595024103488, 'colsample_bytree': 0.3627427388825628}. Best is trial 0 with value: 0.6297918178933112.\u001b[0m\n",
            "\u001b[32m[I 2022-11-11 15:26:04,121]\u001b[0m Trial 36 finished with value: 0.6297918178933112 and parameters: {'booster': 'gblinear', 'lambda': 4.322734535793039e-06, 'alpha': 0.05440522309789186, 'subsample': 0.42867161117326635, 'colsample_bytree': 0.21031764939056677}. Best is trial 0 with value: 0.6297918178933112.\u001b[0m\n",
            "\u001b[32m[I 2022-11-11 15:26:08,702]\u001b[0m Trial 37 finished with value: 0.6297918178933112 and parameters: {'booster': 'gblinear', 'lambda': 0.00026025657270689807, 'alpha': 0.0014076595602866722, 'subsample': 0.5920499485205799, 'colsample_bytree': 0.47261003619790387}. Best is trial 0 with value: 0.6297918178933112.\u001b[0m\n",
            "\u001b[32m[I 2022-11-11 15:26:28,421]\u001b[0m Trial 38 finished with value: 0.5730264616680265 and parameters: {'booster': 'gbtree', 'lambda': 0.9951443193657729, 'alpha': 0.1381835813945646, 'subsample': 0.5838191423935432, 'colsample_bytree': 0.32445651912842144, 'max_depth': 9, 'min_child_weight': 9, 'eta': 2.748171161220091e-07, 'gamma': 0.033272719034961436, 'grow_policy': 'lossguide'}. Best is trial 0 with value: 0.6297918178933112.\u001b[0m\n",
            "\u001b[32m[I 2022-11-11 15:26:33,003]\u001b[0m Trial 39 finished with value: 0.6297918178933112 and parameters: {'booster': 'gblinear', 'lambda': 0.1341067648256388, 'alpha': 0.00033046864202029825, 'subsample': 0.27898871714122936, 'colsample_bytree': 0.5301304910355791}. Best is trial 0 with value: 0.6297918178933112.\u001b[0m\n",
            "\u001b[32m[I 2022-11-11 15:26:37,554]\u001b[0m Trial 40 finished with value: 0.6297918178933112 and parameters: {'booster': 'gblinear', 'lambda': 2.708380583247198e-05, 'alpha': 3.91165471997872e-08, 'subsample': 0.8145976641937681, 'colsample_bytree': 0.6524750333588049}. Best is trial 0 with value: 0.6297918178933112.\u001b[0m\n",
            "\u001b[32m[I 2022-11-11 15:26:42,125]\u001b[0m Trial 41 finished with value: 0.6297918178933112 and parameters: {'booster': 'gblinear', 'lambda': 0.004851150513558722, 'alpha': 0.010472451038199118, 'subsample': 0.47735160517393516, 'colsample_bytree': 0.42314618773256846}. Best is trial 0 with value: 0.6297918178933112.\u001b[0m\n",
            "\u001b[32m[I 2022-11-11 15:26:46,705]\u001b[0m Trial 42 finished with value: 0.6297918178933112 and parameters: {'booster': 'gblinear', 'lambda': 3.841125419837168e-05, 'alpha': 5.495250191457931e-05, 'subsample': 0.32703909189891217, 'colsample_bytree': 0.7538487844359243}. Best is trial 0 with value: 0.6297918178933112.\u001b[0m\n",
            "\u001b[32m[I 2022-11-11 15:26:51,275]\u001b[0m Trial 43 finished with value: 0.6297918178933112 and parameters: {'booster': 'gblinear', 'lambda': 1.7772272475695318e-06, 'alpha': 1.8122922098202783e-05, 'subsample': 0.34846964687429816, 'colsample_bytree': 0.9063113185172312}. Best is trial 0 with value: 0.6297918178933112.\u001b[0m\n",
            "\u001b[32m[I 2022-11-11 15:26:55,845]\u001b[0m Trial 44 finished with value: 0.6297918178933112 and parameters: {'booster': 'gblinear', 'lambda': 0.003923777534235291, 'alpha': 2.1443509463370157e-06, 'subsample': 0.6977798879561603, 'colsample_bytree': 0.7494970461977125}. Best is trial 0 with value: 0.6297918178933112.\u001b[0m\n",
            "\u001b[32m[I 2022-11-11 15:27:00,387]\u001b[0m Trial 45 finished with value: 0.6297918178933112 and parameters: {'booster': 'gblinear', 'lambda': 5.484809119087548e-07, 'alpha': 0.00010865688356531753, 'subsample': 0.35352947113525046, 'colsample_bytree': 0.8785353242827076}. Best is trial 0 with value: 0.6297918178933112.\u001b[0m\n",
            "\u001b[32m[I 2022-11-11 15:27:49,376]\u001b[0m Trial 46 finished with value: 0.5896298568072371 and parameters: {'booster': 'dart', 'lambda': 0.0009947633832829781, 'alpha': 0.3907828802613289, 'subsample': 0.2890281688488749, 'colsample_bytree': 0.40224693544313017, 'max_depth': 5, 'min_child_weight': 5, 'eta': 8.314553053146311e-05, 'gamma': 3.1339503498964465e-05, 'grow_policy': 'depthwise', 'sample_type': 'weighted', 'normalize_type': 'tree', 'rate_drop': 5.962714334158376e-05, 'skip_drop': 0.000200131171030965}. Best is trial 0 with value: 0.6297918178933112.\u001b[0m\n",
            "\u001b[32m[I 2022-11-11 15:27:53,965]\u001b[0m Trial 47 finished with value: 0.6297918178933112 and parameters: {'booster': 'gblinear', 'lambda': 0.00028627588725274974, 'alpha': 0.000666931701127364, 'subsample': 0.23584245002429088, 'colsample_bytree': 0.8815189572656028}. Best is trial 0 with value: 0.6297918178933112.\u001b[0m\n",
            "\u001b[32m[I 2022-11-11 15:27:58,517]\u001b[0m Trial 48 finished with value: 0.6297918178933112 and parameters: {'booster': 'gblinear', 'lambda': 0.01963542578200922, 'alpha': 0.9813943666592547, 'subsample': 0.9979568096179895, 'colsample_bytree': 0.24076607490187119}. Best is trial 0 with value: 0.6297918178933112.\u001b[0m\n",
            "\u001b[32m[I 2022-11-11 15:28:03,064]\u001b[0m Trial 49 finished with value: 0.6297918178933112 and parameters: {'booster': 'gblinear', 'lambda': 0.00029766252031886, 'alpha': 1.02707011913726e-08, 'subsample': 0.23543427540808268, 'colsample_bytree': 0.8142991970424228}. Best is trial 0 with value: 0.6297918178933112.\u001b[0m\n",
            "\u001b[32m[I 2022-11-11 15:28:07,597]\u001b[0m Trial 50 finished with value: 0.6297918178933112 and parameters: {'booster': 'gblinear', 'lambda': 0.025884936412561968, 'alpha': 0.7521779412910476, 'subsample': 0.985006380398527, 'colsample_bytree': 0.22560194818041748}. Best is trial 0 with value: 0.6297918178933112.\u001b[0m\n",
            "\u001b[32m[I 2022-11-11 15:28:12,146]\u001b[0m Trial 51 finished with value: 0.6297918178933112 and parameters: {'booster': 'gblinear', 'lambda': 0.00041354404704338417, 'alpha': 1.3134242943164723e-08, 'subsample': 0.22841044725306803, 'colsample_bytree': 0.29581371809358414}. Best is trial 0 with value: 0.6297918178933112.\u001b[0m\n",
            "\u001b[32m[I 2022-11-11 15:28:16,699]\u001b[0m Trial 52 finished with value: 0.6297918178933112 and parameters: {'booster': 'gblinear', 'lambda': 0.038000928771658254, 'alpha': 0.24024602062498593, 'subsample': 0.4390489821760093, 'colsample_bytree': 0.3480085923552696}. Best is trial 0 with value: 0.6297918178933112.\u001b[0m\n",
            "\u001b[32m[I 2022-11-11 15:28:21,273]\u001b[0m Trial 53 finished with value: 0.6297918178933112 and parameters: {'booster': 'gblinear', 'lambda': 1.0715776880652955e-05, 'alpha': 0.04934650916873238, 'subsample': 0.3801427500923086, 'colsample_bytree': 0.2960579415584738}. Best is trial 0 with value: 0.6297918178933112.\u001b[0m\n",
            "\u001b[32m[I 2022-11-11 15:28:25,852]\u001b[0m Trial 54 finished with value: 0.6297918178933112 and parameters: {'booster': 'gblinear', 'lambda': 0.1426617810148693, 'alpha': 0.05131788042290563, 'subsample': 0.43911660309923833, 'colsample_bytree': 0.24940255760901095}. Best is trial 0 with value: 0.6297918178933112.\u001b[0m\n",
            "\u001b[32m[I 2022-11-11 15:29:36,835]\u001b[0m Trial 55 finished with value: 0.5742114477706453 and parameters: {'booster': 'dart', 'lambda': 1.3428866885225859e-05, 'alpha': 0.0034692129838264823, 'subsample': 0.3746544773771866, 'colsample_bytree': 0.2880913057944816, 'max_depth': 7, 'min_child_weight': 8, 'eta': 0.013986077315434857, 'gamma': 2.7142317368052787e-07, 'grow_policy': 'lossguide', 'sample_type': 'uniform', 'normalize_type': 'forest', 'rate_drop': 0.011124013401422193, 'skip_drop': 5.481524010718649e-05}. Best is trial 0 with value: 0.6297918178933112.\u001b[0m\n",
            "\u001b[32m[I 2022-11-11 15:29:43,615]\u001b[0m Trial 56 finished with value: 0.6297918178933112 and parameters: {'booster': 'gblinear', 'lambda': 0.2227015856164443, 'alpha': 0.020343217489780567, 'subsample': 0.5524573965104749, 'colsample_bytree': 0.20495970986838202}. Best is trial 0 with value: 0.6297918178933112.\u001b[0m\n",
            "\u001b[32m[I 2022-11-11 15:29:51,867]\u001b[0m Trial 57 finished with value: 0.594041348445502 and parameters: {'booster': 'gbtree', 'lambda': 0.33246285200014974, 'alpha': 0.1346089380104856, 'subsample': 0.5273927982984244, 'colsample_bytree': 0.3718112911977953, 'max_depth': 3, 'min_child_weight': 4, 'eta': 4.872473762478878e-05, 'gamma': 0.09555610075545769, 'grow_policy': 'lossguide'}. Best is trial 0 with value: 0.6297918178933112.\u001b[0m\n",
            "\u001b[32m[I 2022-11-11 15:29:56,394]\u001b[0m Trial 58 finished with value: 0.6297918178933112 and parameters: {'booster': 'gblinear', 'lambda': 0.010430103575885311, 'alpha': 0.0211760158372687, 'subsample': 0.683521573615766, 'colsample_bytree': 0.6252510022967783}. Best is trial 0 with value: 0.6297918178933112.\u001b[0m\n",
            "\u001b[32m[I 2022-11-11 15:30:00,946]\u001b[0m Trial 59 finished with value: 0.6297918178933112 and parameters: {'booster': 'gblinear', 'lambda': 0.06760126449870577, 'alpha': 0.0025782618093910152, 'subsample': 0.623188228601377, 'colsample_bytree': 0.2787695118945105}. Best is trial 0 with value: 0.6297918178933112.\u001b[0m\n",
            "\u001b[32m[I 2022-11-11 15:30:05,479]\u001b[0m Trial 60 finished with value: 0.6297918178933112 and parameters: {'booster': 'gblinear', 'lambda': 0.4864450851125658, 'alpha': 0.13091545230292645, 'subsample': 0.46830890532244845, 'colsample_bytree': 0.32443884913440707}. Best is trial 0 with value: 0.6297918178933112.\u001b[0m\n",
            "\u001b[32m[I 2022-11-11 15:30:10,008]\u001b[0m Trial 61 finished with value: 0.6297918178933112 and parameters: {'booster': 'gblinear', 'lambda': 7.592757985629563e-06, 'alpha': 0.07137405691376478, 'subsample': 0.4094887900085722, 'colsample_bytree': 0.22449576456815265}. Best is trial 0 with value: 0.6297918178933112.\u001b[0m\n",
            "\u001b[32m[I 2022-11-11 15:30:14,567]\u001b[0m Trial 62 finished with value: 0.6297918178933112 and parameters: {'booster': 'gblinear', 'lambda': 3.699756332810397e-06, 'alpha': 0.0012594270127697764, 'subsample': 0.5885664553893206, 'colsample_bytree': 0.5034786826057531}. Best is trial 0 with value: 0.6297918178933112.\u001b[0m\n",
            "\u001b[32m[I 2022-11-11 15:30:19,109]\u001b[0m Trial 63 finished with value: 0.6297918178933112 and parameters: {'booster': 'gblinear', 'lambda': 6.559828827364351e-07, 'alpha': 0.0006832712597821038, 'subsample': 0.555969617044696, 'colsample_bytree': 0.5560447656770564}. Best is trial 0 with value: 0.6297918178933112.\u001b[0m\n",
            "\u001b[32m[I 2022-11-11 15:30:23,652]\u001b[0m Trial 64 finished with value: 0.6297918178933112 and parameters: {'booster': 'gblinear', 'lambda': 3.885526535984417e-06, 'alpha': 0.0002575842389979265, 'subsample': 0.6109523013462848, 'colsample_bytree': 0.4805065894565832}. Best is trial 0 with value: 0.6297918178933112.\u001b[0m\n",
            "\u001b[32m[I 2022-11-11 15:30:28,176]\u001b[0m Trial 65 finished with value: 0.6297918178933112 and parameters: {'booster': 'gblinear', 'lambda': 0.19101146487354692, 'alpha': 0.0064684474224885906, 'subsample': 0.5024652658034244, 'colsample_bytree': 0.568565511258877}. Best is trial 0 with value: 0.6297918178933112.\u001b[0m\n",
            "\u001b[32m[I 2022-11-11 15:32:05,088]\u001b[0m Trial 66 finished with value: 0.5825432389649106 and parameters: {'booster': 'dart', 'lambda': 0.6675436702010726, 'alpha': 0.0009308170638495426, 'subsample': 0.4191066984329809, 'colsample_bytree': 0.4527437596277387, 'max_depth': 9, 'min_child_weight': 6, 'eta': 2.0111936388783996e-07, 'gamma': 3.004683630231777e-05, 'grow_policy': 'depthwise', 'sample_type': 'weighted', 'normalize_type': 'tree', 'rate_drop': 8.386058750966492e-07, 'skip_drop': 0.8899890438168733}. Best is trial 0 with value: 0.6297918178933112.\u001b[0m\n",
            "\u001b[32m[I 2022-11-11 15:32:09,610]\u001b[0m Trial 67 finished with value: 0.6297918178933112 and parameters: {'booster': 'gblinear', 'lambda': 0.12490767516394959, 'alpha': 0.00534695022093497, 'subsample': 0.5245096863774501, 'colsample_bytree': 0.5511474446360355}. Best is trial 0 with value: 0.6297918178933112.\u001b[0m\n",
            "\u001b[32m[I 2022-11-11 15:32:14,111]\u001b[0m Trial 68 finished with value: 0.6297918178933112 and parameters: {'booster': 'gblinear', 'lambda': 5.540052686332235e-05, 'alpha': 4.741718795067023e-07, 'subsample': 0.8359414012414039, 'colsample_bytree': 0.61282380057591}. Best is trial 0 with value: 0.6297918178933112.\u001b[0m\n",
            "\u001b[32m[I 2022-11-11 15:32:30,204]\u001b[0m Trial 69 finished with value: 0.5903321762308431 and parameters: {'booster': 'gbtree', 'lambda': 0.00014961706049487032, 'alpha': 1.6999355818980793e-07, 'subsample': 0.7789065618168006, 'colsample_bytree': 0.655186737349607, 'max_depth': 5, 'min_child_weight': 9, 'eta': 0.002040223314604465, 'gamma': 0.0013256419356933123, 'grow_policy': 'lossguide'}. Best is trial 0 with value: 0.6297918178933112.\u001b[0m\n",
            "\u001b[32m[I 2022-11-11 15:32:34,729]\u001b[0m Trial 70 finished with value: 0.6297918178933112 and parameters: {'booster': 'gblinear', 'lambda': 4.507560375176073e-05, 'alpha': 8.23797995144171e-08, 'subsample': 0.825022310146353, 'colsample_bytree': 0.6218734616362012}. Best is trial 0 with value: 0.6297918178933112.\u001b[0m\n",
            "\u001b[32m[I 2022-11-11 15:32:39,242]\u001b[0m Trial 71 finished with value: 0.6297918178933112 and parameters: {'booster': 'gblinear', 'lambda': 1.9864697751228708e-05, 'alpha': 0.0001420365190119576, 'subsample': 0.3209674945672616, 'colsample_bytree': 0.5168020462323795}. Best is trial 0 with value: 0.6297918178933112.\u001b[0m\n",
            "\u001b[32m[I 2022-11-11 15:32:43,774]\u001b[0m Trial 72 finished with value: 0.6297918178933112 and parameters: {'booster': 'gblinear', 'lambda': 4.8765022180374255e-05, 'alpha': 7.35886969504127e-08, 'subsample': 0.8884889131865822, 'colsample_bytree': 0.7377197011940168}. Best is trial 0 with value: 0.6297918178933112.\u001b[0m\n",
            "\u001b[32m[I 2022-11-11 15:32:48,294]\u001b[0m Trial 73 finished with value: 0.6297918178933112 and parameters: {'booster': 'gblinear', 'lambda': 1.890914611357322e-05, 'alpha': 0.0001225600780424663, 'subsample': 0.3015564278305131, 'colsample_bytree': 0.5268608431369108}. Best is trial 0 with value: 0.6297918178933112.\u001b[0m\n",
            "\u001b[32m[I 2022-11-11 15:32:52,826]\u001b[0m Trial 74 finished with value: 0.6297918178933112 and parameters: {'booster': 'gblinear', 'lambda': 0.00013669566688053465, 'alpha': 1.0083884955593814e-05, 'subsample': 0.9176829822519986, 'colsample_bytree': 0.723804216848781}. Best is trial 0 with value: 0.6297918178933112.\u001b[0m\n",
            "\u001b[32m[I 2022-11-11 15:32:57,358]\u001b[0m Trial 75 finished with value: 0.6297918178933112 and parameters: {'booster': 'gblinear', 'lambda': 1.5409935540894431e-06, 'alpha': 3.0149189029068395e-08, 'subsample': 0.351856523560883, 'colsample_bytree': 0.9716334870623965}. Best is trial 0 with value: 0.6297918178933112.\u001b[0m\n",
            "\u001b[32m[I 2022-11-11 15:33:01,870]\u001b[0m Trial 76 finished with value: 0.6297918178933112 and parameters: {'booster': 'gblinear', 'lambda': 0.0033470048303064033, 'alpha': 1.3237400041943004e-06, 'subsample': 0.9463732353500274, 'colsample_bytree': 0.7409455133253853}. Best is trial 0 with value: 0.6297918178933112.\u001b[0m\n",
            "\u001b[32m[I 2022-11-11 15:33:06,381]\u001b[0m Trial 77 finished with value: 0.6297918178933112 and parameters: {'booster': 'gblinear', 'lambda': 0.031069179067867204, 'alpha': 1.082392640107348e-08, 'subsample': 0.23034511578385364, 'colsample_bytree': 0.30697166786347596}. Best is trial 0 with value: 0.6297918178933112.\u001b[0m\n",
            "\u001b[32m[I 2022-11-11 15:33:10,894]\u001b[0m Trial 78 finished with value: 0.6297918178933112 and parameters: {'booster': 'gblinear', 'lambda': 0.00035130643665247895, 'alpha': 1.915460302012894e-08, 'subsample': 0.972363655079451, 'colsample_bytree': 0.831250016469009}. Best is trial 0 with value: 0.6297918178933112.\u001b[0m\n",
            "\u001b[32m[I 2022-11-11 15:33:15,530]\u001b[0m Trial 79 finished with value: 0.6297918178933112 and parameters: {'booster': 'gblinear', 'lambda': 0.029222626420547862, 'alpha': 0.9992003492844693, 'subsample': 0.2130061102217169, 'colsample_bytree': 0.24236251034003967}. Best is trial 0 with value: 0.6297918178933112.\u001b[0m\n",
            "\u001b[32m[I 2022-11-11 15:34:23,670]\u001b[0m Trial 80 finished with value: 0.5730683620022867 and parameters: {'booster': 'dart', 'lambda': 0.2713078661844729, 'alpha': 0.24017118902365225, 'subsample': 0.4517641685997786, 'colsample_bytree': 0.2591052168654972, 'max_depth': 7, 'min_child_weight': 3, 'eta': 0.05190347529100388, 'gamma': 1.2818931327458713e-07, 'grow_policy': 'depthwise', 'sample_type': 'weighted', 'normalize_type': 'forest', 'rate_drop': 0.0035403031421709255, 'skip_drop': 8.169896957763119e-07}. Best is trial 0 with value: 0.6297918178933112.\u001b[0m\n",
            "\u001b[32m[I 2022-11-11 15:34:30,714]\u001b[0m Trial 81 finished with value: 0.6297918178933112 and parameters: {'booster': 'gblinear', 'lambda': 0.008343892862920876, 'alpha': 0.031195609395123457, 'subsample': 0.23935065982075937, 'colsample_bytree': 0.20688029372971783}. Best is trial 0 with value: 0.6297918178933112.\u001b[0m\n",
            "\u001b[32m[I 2022-11-11 15:34:38,044]\u001b[0m Trial 82 finished with value: 0.6297918178933112 and parameters: {'booster': 'gblinear', 'lambda': 0.008476462621960152, 'alpha': 0.031045436792103226, 'subsample': 0.2533104294059727, 'colsample_bytree': 0.34881336382949474}. Best is trial 0 with value: 0.6297918178933112.\u001b[0m\n",
            "\u001b[32m[I 2022-11-11 15:34:42,602]\u001b[0m Trial 83 finished with value: 0.6297918178933112 and parameters: {'booster': 'gblinear', 'lambda': 0.03830292443803928, 'alpha': 0.27846616156323023, 'subsample': 0.44931100052621226, 'colsample_bytree': 0.22268028270779178}. Best is trial 0 with value: 0.6297918178933112.\u001b[0m\n",
            "\u001b[32m[I 2022-11-11 15:34:47,111]\u001b[0m Trial 84 finished with value: 0.6297918178933112 and parameters: {'booster': 'gblinear', 'lambda': 0.0018104911123917376, 'alpha': 0.015370342664224731, 'subsample': 0.5522762685391241, 'colsample_bytree': 0.29855272423631757}. Best is trial 0 with value: 0.6297918178933112.\u001b[0m\n",
            "\u001b[32m[I 2022-11-11 15:34:51,649]\u001b[0m Trial 85 finished with value: 0.6297918178933112 and parameters: {'booster': 'gblinear', 'lambda': 0.3726172517302144, 'alpha': 0.020271062544368546, 'subsample': 0.6247697307715468, 'colsample_bytree': 0.3425032885670105}. Best is trial 0 with value: 0.6297918178933112.\u001b[0m\n",
            "\u001b[32m[I 2022-11-11 15:34:56,133]\u001b[0m Trial 86 finished with value: 0.6297918178933112 and parameters: {'booster': 'gblinear', 'lambda': 0.11741439054607841, 'alpha': 0.0813794659064955, 'subsample': 0.7029161942388273, 'colsample_bytree': 0.27672060199453624}. Best is trial 0 with value: 0.6297918178933112.\u001b[0m\n",
            "\u001b[32m[I 2022-11-11 15:35:03,691]\u001b[0m Trial 87 finished with value: 0.5972849946864562 and parameters: {'booster': 'gbtree', 'lambda': 0.19247760595484972, 'alpha': 0.03669119030163886, 'subsample': 0.6772516618890883, 'colsample_bytree': 0.3259808106555363, 'max_depth': 3, 'min_child_weight': 6, 'eta': 2.037555282695568e-05, 'gamma': 0.00016879534279455371, 'grow_policy': 'lossguide'}. Best is trial 0 with value: 0.6297918178933112.\u001b[0m\n",
            "\u001b[32m[I 2022-11-11 15:35:08,222]\u001b[0m Trial 88 finished with value: 0.6297918178933112 and parameters: {'booster': 'gblinear', 'lambda': 6.372761909335463e-06, 'alpha': 0.010079266770347166, 'subsample': 0.405037736172675, 'colsample_bytree': 0.26697387878887585}. Best is trial 0 with value: 0.6297918178933112.\u001b[0m\n",
            "\u001b[32m[I 2022-11-11 15:35:12,742]\u001b[0m Trial 89 finished with value: 0.6297918178933112 and parameters: {'booster': 'gblinear', 'lambda': 3.1362521729450404e-07, 'alpha': 0.0005370776640225838, 'subsample': 0.5664873298661977, 'colsample_bytree': 0.5815875493265401}. Best is trial 0 with value: 0.6297918178933112.\u001b[0m\n",
            "\u001b[32m[I 2022-11-11 15:35:17,251]\u001b[0m Trial 90 finished with value: 0.6297918178933112 and parameters: {'booster': 'gblinear', 'lambda': 0.052222070782142624, 'alpha': 0.07382682194475869, 'subsample': 0.617472792971809, 'colsample_bytree': 0.24862732127737797}. Best is trial 0 with value: 0.6297918178933112.\u001b[0m\n",
            "\u001b[32m[I 2022-11-11 15:35:21,791]\u001b[0m Trial 91 finished with value: 0.6297918178933112 and parameters: {'booster': 'gblinear', 'lambda': 6.292532444858828e-07, 'alpha': 0.00278272360849116, 'subsample': 0.6397937589008011, 'colsample_bytree': 0.20023365654319455}. Best is trial 0 with value: 0.6297918178933112.\u001b[0m\n",
            "\u001b[32m[I 2022-11-11 15:35:26,324]\u001b[0m Trial 92 finished with value: 0.6297918178933112 and parameters: {'booster': 'gblinear', 'lambda': 9.214932909388634e-07, 'alpha': 0.04275606192773385, 'subsample': 0.5547181815737005, 'colsample_bytree': 0.22803768895013643}. Best is trial 0 with value: 0.6297918178933112.\u001b[0m\n",
            "\u001b[32m[I 2022-11-11 15:35:30,869]\u001b[0m Trial 93 finished with value: 0.6297918178933112 and parameters: {'booster': 'gblinear', 'lambda': 3.877437000174489e-06, 'alpha': 0.004926283316887514, 'subsample': 0.5028275010489645, 'colsample_bytree': 0.5742363435335798}. Best is trial 0 with value: 0.6297918178933112.\u001b[0m\n",
            "\u001b[32m[I 2022-11-11 15:35:35,376]\u001b[0m Trial 94 finished with value: 0.6297918178933112 and parameters: {'booster': 'gblinear', 'lambda': 2.1827179703544893e-07, 'alpha': 0.0002555491281656968, 'subsample': 0.6714578597790769, 'colsample_bytree': 0.5480924266398398}. Best is trial 0 with value: 0.6297918178933112.\u001b[0m\n",
            "\u001b[32m[I 2022-11-11 15:35:39,908]\u001b[0m Trial 95 finished with value: 0.6297918178933112 and parameters: {'booster': 'gblinear', 'lambda': 2.629496165530453e-06, 'alpha': 0.001029433027762707, 'subsample': 0.47050451604383786, 'colsample_bytree': 0.495482198742038}. Best is trial 0 with value: 0.6297918178933112.\u001b[0m\n",
            "\u001b[32m[I 2022-11-11 15:35:44,422]\u001b[0m Trial 96 finished with value: 0.6297918178933112 and parameters: {'booster': 'gblinear', 'lambda': 6.478884510728094e-06, 'alpha': 0.004947353317607637, 'subsample': 0.6072229409388411, 'colsample_bytree': 0.5625743316037248}. Best is trial 0 with value: 0.6297918178933112.\u001b[0m\n",
            "\u001b[32m[I 2022-11-11 15:35:48,945]\u001b[0m Trial 97 finished with value: 0.6297918178933112 and parameters: {'booster': 'gblinear', 'lambda': 6.086340163807685e-05, 'alpha': 3.1938763591977847e-07, 'subsample': 0.8496000205388996, 'colsample_bytree': 0.6141742193740519}. Best is trial 0 with value: 0.6297918178933112.\u001b[0m\n",
            "\u001b[32m[I 2022-11-11 15:35:53,478]\u001b[0m Trial 98 finished with value: 0.6297918178933112 and parameters: {'booster': 'gblinear', 'lambda': 1.687191771170802e-08, 'alpha': 5.819834839550919e-07, 'subsample': 0.7963402753390614, 'colsample_bytree': 0.601887661420877}. Best is trial 0 with value: 0.6297918178933112.\u001b[0m\n",
            "\u001b[32m[I 2022-11-11 15:35:57,987]\u001b[0m Trial 99 finished with value: 0.6297918178933112 and parameters: {'booster': 'gblinear', 'lambda': 1.8834114335799457e-05, 'alpha': 0.00044770484683813065, 'subsample': 0.7332169456145838, 'colsample_bytree': 0.5165782081894285}. Best is trial 0 with value: 0.6297918178933112.\u001b[0m\n"
          ]
        }
      ]
    },
    {
      "cell_type": "code",
      "source": [
        "print('Number of finished trials:', len(study.trials))\n",
        "print('Best trial:', study.best_trial.params)"
      ],
      "metadata": {
        "id": "slUxNl-A-XOY",
        "colab": {
          "base_uri": "https://localhost:8080/"
        },
        "outputId": "171fcfee-b1e6-4880-d430-833e32552c9d"
      },
      "execution_count": 409,
      "outputs": [
        {
          "output_type": "stream",
          "name": "stdout",
          "text": [
            "Number of finished trials: 100\n",
            "Best trial: {'booster': 'gblinear', 'lambda': 0.0006155564318973012, 'alpha': 1.77071686435378e-07, 'subsample': 0.32479561626896214, 'colsample_bytree': 0.24646688973455957}\n"
          ]
        }
      ]
    },
    {
      "cell_type": "code",
      "source": [
        "study.trials_dataframe().head()"
      ],
      "metadata": {
        "id": "ANImkVd--ZPc",
        "colab": {
          "base_uri": "https://localhost:8080/",
          "height": 353
        },
        "outputId": "2b81b065-fbcf-4101-a673-99844a0c197d"
      },
      "execution_count": 410,
      "outputs": [
        {
          "output_type": "execute_result",
          "data": {
            "text/plain": [
              "   number     value             datetime_start          datetime_complete  \\\n",
              "0       0  0.629792 2022-11-11 15:16:49.567618 2022-11-11 15:16:55.606879   \n",
              "1       1  0.596686 2022-11-11 15:16:55.611160 2022-11-11 15:17:05.951930   \n",
              "2       2  0.578931 2022-11-11 15:17:05.954217 2022-11-11 15:17:22.195302   \n",
              "3       3  0.629792 2022-11-11 15:17:22.198574 2022-11-11 15:17:26.780263   \n",
              "4       4  0.629792 2022-11-11 15:17:26.783681 2022-11-11 15:17:31.318719   \n",
              "\n",
              "                duration  params_alpha params_booster  \\\n",
              "0 0 days 00:00:06.039261  1.770717e-07       gblinear   \n",
              "1 0 days 00:00:10.340770  5.744852e-01         gbtree   \n",
              "2 0 days 00:00:16.241085  4.452048e-05         gbtree   \n",
              "3 0 days 00:00:04.581689  6.044730e-08       gblinear   \n",
              "4 0 days 00:00:04.535038  1.175547e-06       gblinear   \n",
              "\n",
              "   params_colsample_bytree    params_eta  params_gamma params_grow_policy  \\\n",
              "0                 0.246467           NaN           NaN                NaN   \n",
              "1                 0.369871  2.716051e-06      0.000158          depthwise   \n",
              "2                 0.359739  2.352899e-08      0.000725          depthwise   \n",
              "3                 0.552122           NaN           NaN                NaN   \n",
              "4                 0.449369           NaN           NaN                NaN   \n",
              "\n",
              "   params_lambda  params_max_depth  params_min_child_weight  \\\n",
              "0   6.155564e-04               NaN                      NaN   \n",
              "1   1.461087e-08               3.0                      3.0   \n",
              "2   8.528934e-06               7.0                      7.0   \n",
              "3   2.734703e-06               NaN                      NaN   \n",
              "4   1.881756e-01               NaN                      NaN   \n",
              "\n",
              "  params_normalize_type  params_rate_drop params_sample_type  \\\n",
              "0                   NaN               NaN                NaN   \n",
              "1                   NaN               NaN                NaN   \n",
              "2                   NaN               NaN                NaN   \n",
              "3                   NaN               NaN                NaN   \n",
              "4                   NaN               NaN                NaN   \n",
              "\n",
              "   params_skip_drop  params_subsample     state  \n",
              "0               NaN          0.324796  COMPLETE  \n",
              "1               NaN          0.865954  COMPLETE  \n",
              "2               NaN          0.828141  COMPLETE  \n",
              "3               NaN          0.747386  COMPLETE  \n",
              "4               NaN          0.730018  COMPLETE  "
            ],
            "text/html": [
              "\n",
              "  <div id=\"df-d96b176f-46b9-4f74-b899-830d652a6962\">\n",
              "    <div class=\"colab-df-container\">\n",
              "      <div>\n",
              "<style scoped>\n",
              "    .dataframe tbody tr th:only-of-type {\n",
              "        vertical-align: middle;\n",
              "    }\n",
              "\n",
              "    .dataframe tbody tr th {\n",
              "        vertical-align: top;\n",
              "    }\n",
              "\n",
              "    .dataframe thead th {\n",
              "        text-align: right;\n",
              "    }\n",
              "</style>\n",
              "<table border=\"1\" class=\"dataframe\">\n",
              "  <thead>\n",
              "    <tr style=\"text-align: right;\">\n",
              "      <th></th>\n",
              "      <th>number</th>\n",
              "      <th>value</th>\n",
              "      <th>datetime_start</th>\n",
              "      <th>datetime_complete</th>\n",
              "      <th>duration</th>\n",
              "      <th>params_alpha</th>\n",
              "      <th>params_booster</th>\n",
              "      <th>params_colsample_bytree</th>\n",
              "      <th>params_eta</th>\n",
              "      <th>params_gamma</th>\n",
              "      <th>params_grow_policy</th>\n",
              "      <th>params_lambda</th>\n",
              "      <th>params_max_depth</th>\n",
              "      <th>params_min_child_weight</th>\n",
              "      <th>params_normalize_type</th>\n",
              "      <th>params_rate_drop</th>\n",
              "      <th>params_sample_type</th>\n",
              "      <th>params_skip_drop</th>\n",
              "      <th>params_subsample</th>\n",
              "      <th>state</th>\n",
              "    </tr>\n",
              "  </thead>\n",
              "  <tbody>\n",
              "    <tr>\n",
              "      <th>0</th>\n",
              "      <td>0</td>\n",
              "      <td>0.629792</td>\n",
              "      <td>2022-11-11 15:16:49.567618</td>\n",
              "      <td>2022-11-11 15:16:55.606879</td>\n",
              "      <td>0 days 00:00:06.039261</td>\n",
              "      <td>1.770717e-07</td>\n",
              "      <td>gblinear</td>\n",
              "      <td>0.246467</td>\n",
              "      <td>NaN</td>\n",
              "      <td>NaN</td>\n",
              "      <td>NaN</td>\n",
              "      <td>6.155564e-04</td>\n",
              "      <td>NaN</td>\n",
              "      <td>NaN</td>\n",
              "      <td>NaN</td>\n",
              "      <td>NaN</td>\n",
              "      <td>NaN</td>\n",
              "      <td>NaN</td>\n",
              "      <td>0.324796</td>\n",
              "      <td>COMPLETE</td>\n",
              "    </tr>\n",
              "    <tr>\n",
              "      <th>1</th>\n",
              "      <td>1</td>\n",
              "      <td>0.596686</td>\n",
              "      <td>2022-11-11 15:16:55.611160</td>\n",
              "      <td>2022-11-11 15:17:05.951930</td>\n",
              "      <td>0 days 00:00:10.340770</td>\n",
              "      <td>5.744852e-01</td>\n",
              "      <td>gbtree</td>\n",
              "      <td>0.369871</td>\n",
              "      <td>2.716051e-06</td>\n",
              "      <td>0.000158</td>\n",
              "      <td>depthwise</td>\n",
              "      <td>1.461087e-08</td>\n",
              "      <td>3.0</td>\n",
              "      <td>3.0</td>\n",
              "      <td>NaN</td>\n",
              "      <td>NaN</td>\n",
              "      <td>NaN</td>\n",
              "      <td>NaN</td>\n",
              "      <td>0.865954</td>\n",
              "      <td>COMPLETE</td>\n",
              "    </tr>\n",
              "    <tr>\n",
              "      <th>2</th>\n",
              "      <td>2</td>\n",
              "      <td>0.578931</td>\n",
              "      <td>2022-11-11 15:17:05.954217</td>\n",
              "      <td>2022-11-11 15:17:22.195302</td>\n",
              "      <td>0 days 00:00:16.241085</td>\n",
              "      <td>4.452048e-05</td>\n",
              "      <td>gbtree</td>\n",
              "      <td>0.359739</td>\n",
              "      <td>2.352899e-08</td>\n",
              "      <td>0.000725</td>\n",
              "      <td>depthwise</td>\n",
              "      <td>8.528934e-06</td>\n",
              "      <td>7.0</td>\n",
              "      <td>7.0</td>\n",
              "      <td>NaN</td>\n",
              "      <td>NaN</td>\n",
              "      <td>NaN</td>\n",
              "      <td>NaN</td>\n",
              "      <td>0.828141</td>\n",
              "      <td>COMPLETE</td>\n",
              "    </tr>\n",
              "    <tr>\n",
              "      <th>3</th>\n",
              "      <td>3</td>\n",
              "      <td>0.629792</td>\n",
              "      <td>2022-11-11 15:17:22.198574</td>\n",
              "      <td>2022-11-11 15:17:26.780263</td>\n",
              "      <td>0 days 00:00:04.581689</td>\n",
              "      <td>6.044730e-08</td>\n",
              "      <td>gblinear</td>\n",
              "      <td>0.552122</td>\n",
              "      <td>NaN</td>\n",
              "      <td>NaN</td>\n",
              "      <td>NaN</td>\n",
              "      <td>2.734703e-06</td>\n",
              "      <td>NaN</td>\n",
              "      <td>NaN</td>\n",
              "      <td>NaN</td>\n",
              "      <td>NaN</td>\n",
              "      <td>NaN</td>\n",
              "      <td>NaN</td>\n",
              "      <td>0.747386</td>\n",
              "      <td>COMPLETE</td>\n",
              "    </tr>\n",
              "    <tr>\n",
              "      <th>4</th>\n",
              "      <td>4</td>\n",
              "      <td>0.629792</td>\n",
              "      <td>2022-11-11 15:17:26.783681</td>\n",
              "      <td>2022-11-11 15:17:31.318719</td>\n",
              "      <td>0 days 00:00:04.535038</td>\n",
              "      <td>1.175547e-06</td>\n",
              "      <td>gblinear</td>\n",
              "      <td>0.449369</td>\n",
              "      <td>NaN</td>\n",
              "      <td>NaN</td>\n",
              "      <td>NaN</td>\n",
              "      <td>1.881756e-01</td>\n",
              "      <td>NaN</td>\n",
              "      <td>NaN</td>\n",
              "      <td>NaN</td>\n",
              "      <td>NaN</td>\n",
              "      <td>NaN</td>\n",
              "      <td>NaN</td>\n",
              "      <td>0.730018</td>\n",
              "      <td>COMPLETE</td>\n",
              "    </tr>\n",
              "  </tbody>\n",
              "</table>\n",
              "</div>\n",
              "      <button class=\"colab-df-convert\" onclick=\"convertToInteractive('df-d96b176f-46b9-4f74-b899-830d652a6962')\"\n",
              "              title=\"Convert this dataframe to an interactive table.\"\n",
              "              style=\"display:none;\">\n",
              "        \n",
              "  <svg xmlns=\"http://www.w3.org/2000/svg\" height=\"24px\"viewBox=\"0 0 24 24\"\n",
              "       width=\"24px\">\n",
              "    <path d=\"M0 0h24v24H0V0z\" fill=\"none\"/>\n",
              "    <path d=\"M18.56 5.44l.94 2.06.94-2.06 2.06-.94-2.06-.94-.94-2.06-.94 2.06-2.06.94zm-11 1L8.5 8.5l.94-2.06 2.06-.94-2.06-.94L8.5 2.5l-.94 2.06-2.06.94zm10 10l.94 2.06.94-2.06 2.06-.94-2.06-.94-.94-2.06-.94 2.06-2.06.94z\"/><path d=\"M17.41 7.96l-1.37-1.37c-.4-.4-.92-.59-1.43-.59-.52 0-1.04.2-1.43.59L10.3 9.45l-7.72 7.72c-.78.78-.78 2.05 0 2.83L4 21.41c.39.39.9.59 1.41.59.51 0 1.02-.2 1.41-.59l7.78-7.78 2.81-2.81c.8-.78.8-2.07 0-2.86zM5.41 20L4 18.59l7.72-7.72 1.47 1.35L5.41 20z\"/>\n",
              "  </svg>\n",
              "      </button>\n",
              "      \n",
              "  <style>\n",
              "    .colab-df-container {\n",
              "      display:flex;\n",
              "      flex-wrap:wrap;\n",
              "      gap: 12px;\n",
              "    }\n",
              "\n",
              "    .colab-df-convert {\n",
              "      background-color: #E8F0FE;\n",
              "      border: none;\n",
              "      border-radius: 50%;\n",
              "      cursor: pointer;\n",
              "      display: none;\n",
              "      fill: #1967D2;\n",
              "      height: 32px;\n",
              "      padding: 0 0 0 0;\n",
              "      width: 32px;\n",
              "    }\n",
              "\n",
              "    .colab-df-convert:hover {\n",
              "      background-color: #E2EBFA;\n",
              "      box-shadow: 0px 1px 2px rgba(60, 64, 67, 0.3), 0px 1px 3px 1px rgba(60, 64, 67, 0.15);\n",
              "      fill: #174EA6;\n",
              "    }\n",
              "\n",
              "    [theme=dark] .colab-df-convert {\n",
              "      background-color: #3B4455;\n",
              "      fill: #D2E3FC;\n",
              "    }\n",
              "\n",
              "    [theme=dark] .colab-df-convert:hover {\n",
              "      background-color: #434B5C;\n",
              "      box-shadow: 0px 1px 3px 1px rgba(0, 0, 0, 0.15);\n",
              "      filter: drop-shadow(0px 1px 2px rgba(0, 0, 0, 0.3));\n",
              "      fill: #FFFFFF;\n",
              "    }\n",
              "  </style>\n",
              "\n",
              "      <script>\n",
              "        const buttonEl =\n",
              "          document.querySelector('#df-d96b176f-46b9-4f74-b899-830d652a6962 button.colab-df-convert');\n",
              "        buttonEl.style.display =\n",
              "          google.colab.kernel.accessAllowed ? 'block' : 'none';\n",
              "\n",
              "        async function convertToInteractive(key) {\n",
              "          const element = document.querySelector('#df-d96b176f-46b9-4f74-b899-830d652a6962');\n",
              "          const dataTable =\n",
              "            await google.colab.kernel.invokeFunction('convertToInteractive',\n",
              "                                                     [key], {});\n",
              "          if (!dataTable) return;\n",
              "\n",
              "          const docLinkHtml = 'Like what you see? Visit the ' +\n",
              "            '<a target=\"_blank\" href=https://colab.research.google.com/notebooks/data_table.ipynb>data table notebook</a>'\n",
              "            + ' to learn more about interactive tables.';\n",
              "          element.innerHTML = '';\n",
              "          dataTable['output_type'] = 'display_data';\n",
              "          await google.colab.output.renderOutput(dataTable, element);\n",
              "          const docLink = document.createElement('div');\n",
              "          docLink.innerHTML = docLinkHtml;\n",
              "          element.appendChild(docLink);\n",
              "        }\n",
              "      </script>\n",
              "    </div>\n",
              "  </div>\n",
              "  "
            ]
          },
          "metadata": {},
          "execution_count": 410
        }
      ]
    },
    {
      "cell_type": "code",
      "source": [
        "optuna.visualization.plot_optimization_history(study)"
      ],
      "metadata": {
        "id": "GRmPK8t9-frb",
        "colab": {
          "base_uri": "https://localhost:8080/",
          "height": 542
        },
        "outputId": "ea34eb3f-a893-4d3a-afdd-4a13cccc6ab3"
      },
      "execution_count": 411,
      "outputs": [
        {
          "output_type": "display_data",
          "data": {
            "text/html": [
              "<html>\n",
              "<head><meta charset=\"utf-8\" /></head>\n",
              "<body>\n",
              "    <div>            <script src=\"https://cdnjs.cloudflare.com/ajax/libs/mathjax/2.7.5/MathJax.js?config=TeX-AMS-MML_SVG\"></script><script type=\"text/javascript\">if (window.MathJax) {MathJax.Hub.Config({SVG: {font: \"STIX-Web\"}});}</script>                <script type=\"text/javascript\">window.PlotlyConfig = {MathJaxConfig: 'local'};</script>\n",
              "        <script src=\"https://cdn.plot.ly/plotly-2.8.3.min.js\"></script>                <div id=\"6fe9c193-34d2-46da-99df-b0cb9be0fac6\" class=\"plotly-graph-div\" style=\"height:525px; width:100%;\"></div>            <script type=\"text/javascript\">                                    window.PLOTLYENV=window.PLOTLYENV || {};                                    if (document.getElementById(\"6fe9c193-34d2-46da-99df-b0cb9be0fac6\")) {                    Plotly.newPlot(                        \"6fe9c193-34d2-46da-99df-b0cb9be0fac6\",                        [{\"mode\":\"markers\",\"name\":\"Objective Value\",\"x\":[0,1,2,3,4,5,6,7,8,9,10,11,12,13,14,15,16,17,18,19,20,21,22,23,24,25,26,27,28,29,30,31,32,33,34,35,36,37,38,39,40,41,42,43,44,45,46,47,48,49,50,51,52,53,54,55,56,57,58,59,60,61,62,63,64,65,66,67,68,69,70,71,72,73,74,75,76,77,78,79,80,81,82,83,84,85,86,87,88,89,90,91,92,93,94,95,96,97,98,99],\"y\":[0.6297918178933112,0.5966859465140173,0.578930700473052,0.6297918178933112,0.6297918178933112,0.6297918178933112,0.6297918178933112,0.6297918178933112,0.6297918178933112,0.6297918178933112,0.562528948351354,0.5895155130200364,0.6297918178933112,0.582370423497234,0.6297918178933112,0.5857342419645191,0.6297918178933112,0.6297918178933112,0.5843508492013338,0.583909768210767,0.6297918178933112,0.6297918178933112,0.6297918178933112,0.6297918178933112,0.6297918178933112,0.6297918178933112,0.6297918178933112,0.6297918178933112,0.5988507996146518,0.5902405169085342,0.5855692851506309,0.6297918178933112,0.6297918178933112,0.6297918178933112,0.6297918178933112,0.6297918178933112,0.6297918178933112,0.6297918178933112,0.5730264616680265,0.6297918178933112,0.6297918178933112,0.6297918178933112,0.6297918178933112,0.6297918178933112,0.6297918178933112,0.6297918178933112,0.5896298568072371,0.6297918178933112,0.6297918178933112,0.6297918178933112,0.6297918178933112,0.6297918178933112,0.6297918178933112,0.6297918178933112,0.6297918178933112,0.5742114477706453,0.6297918178933112,0.594041348445502,0.6297918178933112,0.6297918178933112,0.6297918178933112,0.6297918178933112,0.6297918178933112,0.6297918178933112,0.6297918178933112,0.6297918178933112,0.5825432389649106,0.6297918178933112,0.6297918178933112,0.5903321762308431,0.6297918178933112,0.6297918178933112,0.6297918178933112,0.6297918178933112,0.6297918178933112,0.6297918178933112,0.6297918178933112,0.6297918178933112,0.6297918178933112,0.6297918178933112,0.5730683620022867,0.6297918178933112,0.6297918178933112,0.6297918178933112,0.6297918178933112,0.6297918178933112,0.6297918178933112,0.5972849946864562,0.6297918178933112,0.6297918178933112,0.6297918178933112,0.6297918178933112,0.6297918178933112,0.6297918178933112,0.6297918178933112,0.6297918178933112,0.6297918178933112,0.6297918178933112,0.6297918178933112,0.6297918178933112],\"type\":\"scatter\"},{\"name\":\"Best Value\",\"x\":[0,1,2,3,4,5,6,7,8,9,10,11,12,13,14,15,16,17,18,19,20,21,22,23,24,25,26,27,28,29,30,31,32,33,34,35,36,37,38,39,40,41,42,43,44,45,46,47,48,49,50,51,52,53,54,55,56,57,58,59,60,61,62,63,64,65,66,67,68,69,70,71,72,73,74,75,76,77,78,79,80,81,82,83,84,85,86,87,88,89,90,91,92,93,94,95,96,97,98,99],\"y\":[0.6297918178933112,0.6297918178933112,0.6297918178933112,0.6297918178933112,0.6297918178933112,0.6297918178933112,0.6297918178933112,0.6297918178933112,0.6297918178933112,0.6297918178933112,0.6297918178933112,0.6297918178933112,0.6297918178933112,0.6297918178933112,0.6297918178933112,0.6297918178933112,0.6297918178933112,0.6297918178933112,0.6297918178933112,0.6297918178933112,0.6297918178933112,0.6297918178933112,0.6297918178933112,0.6297918178933112,0.6297918178933112,0.6297918178933112,0.6297918178933112,0.6297918178933112,0.6297918178933112,0.6297918178933112,0.6297918178933112,0.6297918178933112,0.6297918178933112,0.6297918178933112,0.6297918178933112,0.6297918178933112,0.6297918178933112,0.6297918178933112,0.6297918178933112,0.6297918178933112,0.6297918178933112,0.6297918178933112,0.6297918178933112,0.6297918178933112,0.6297918178933112,0.6297918178933112,0.6297918178933112,0.6297918178933112,0.6297918178933112,0.6297918178933112,0.6297918178933112,0.6297918178933112,0.6297918178933112,0.6297918178933112,0.6297918178933112,0.6297918178933112,0.6297918178933112,0.6297918178933112,0.6297918178933112,0.6297918178933112,0.6297918178933112,0.6297918178933112,0.6297918178933112,0.6297918178933112,0.6297918178933112,0.6297918178933112,0.6297918178933112,0.6297918178933112,0.6297918178933112,0.6297918178933112,0.6297918178933112,0.6297918178933112,0.6297918178933112,0.6297918178933112,0.6297918178933112,0.6297918178933112,0.6297918178933112,0.6297918178933112,0.6297918178933112,0.6297918178933112,0.6297918178933112,0.6297918178933112,0.6297918178933112,0.6297918178933112,0.6297918178933112,0.6297918178933112,0.6297918178933112,0.6297918178933112,0.6297918178933112,0.6297918178933112,0.6297918178933112,0.6297918178933112,0.6297918178933112,0.6297918178933112,0.6297918178933112,0.6297918178933112,0.6297918178933112,0.6297918178933112,0.6297918178933112,0.6297918178933112],\"type\":\"scatter\"}],                        {\"title\":{\"text\":\"Optimization History Plot\"},\"xaxis\":{\"title\":{\"text\":\"Trial\"}},\"yaxis\":{\"title\":{\"text\":\"Objective Value\"}},\"template\":{\"data\":{\"bar\":[{\"error_x\":{\"color\":\"#2a3f5f\"},\"error_y\":{\"color\":\"#2a3f5f\"},\"marker\":{\"line\":{\"color\":\"#E5ECF6\",\"width\":0.5},\"pattern\":{\"fillmode\":\"overlay\",\"size\":10,\"solidity\":0.2}},\"type\":\"bar\"}],\"barpolar\":[{\"marker\":{\"line\":{\"color\":\"#E5ECF6\",\"width\":0.5},\"pattern\":{\"fillmode\":\"overlay\",\"size\":10,\"solidity\":0.2}},\"type\":\"barpolar\"}],\"carpet\":[{\"aaxis\":{\"endlinecolor\":\"#2a3f5f\",\"gridcolor\":\"white\",\"linecolor\":\"white\",\"minorgridcolor\":\"white\",\"startlinecolor\":\"#2a3f5f\"},\"baxis\":{\"endlinecolor\":\"#2a3f5f\",\"gridcolor\":\"white\",\"linecolor\":\"white\",\"minorgridcolor\":\"white\",\"startlinecolor\":\"#2a3f5f\"},\"type\":\"carpet\"}],\"choropleth\":[{\"colorbar\":{\"outlinewidth\":0,\"ticks\":\"\"},\"type\":\"choropleth\"}],\"contour\":[{\"colorbar\":{\"outlinewidth\":0,\"ticks\":\"\"},\"colorscale\":[[0.0,\"#0d0887\"],[0.1111111111111111,\"#46039f\"],[0.2222222222222222,\"#7201a8\"],[0.3333333333333333,\"#9c179e\"],[0.4444444444444444,\"#bd3786\"],[0.5555555555555556,\"#d8576b\"],[0.6666666666666666,\"#ed7953\"],[0.7777777777777778,\"#fb9f3a\"],[0.8888888888888888,\"#fdca26\"],[1.0,\"#f0f921\"]],\"type\":\"contour\"}],\"contourcarpet\":[{\"colorbar\":{\"outlinewidth\":0,\"ticks\":\"\"},\"type\":\"contourcarpet\"}],\"heatmap\":[{\"colorbar\":{\"outlinewidth\":0,\"ticks\":\"\"},\"colorscale\":[[0.0,\"#0d0887\"],[0.1111111111111111,\"#46039f\"],[0.2222222222222222,\"#7201a8\"],[0.3333333333333333,\"#9c179e\"],[0.4444444444444444,\"#bd3786\"],[0.5555555555555556,\"#d8576b\"],[0.6666666666666666,\"#ed7953\"],[0.7777777777777778,\"#fb9f3a\"],[0.8888888888888888,\"#fdca26\"],[1.0,\"#f0f921\"]],\"type\":\"heatmap\"}],\"heatmapgl\":[{\"colorbar\":{\"outlinewidth\":0,\"ticks\":\"\"},\"colorscale\":[[0.0,\"#0d0887\"],[0.1111111111111111,\"#46039f\"],[0.2222222222222222,\"#7201a8\"],[0.3333333333333333,\"#9c179e\"],[0.4444444444444444,\"#bd3786\"],[0.5555555555555556,\"#d8576b\"],[0.6666666666666666,\"#ed7953\"],[0.7777777777777778,\"#fb9f3a\"],[0.8888888888888888,\"#fdca26\"],[1.0,\"#f0f921\"]],\"type\":\"heatmapgl\"}],\"histogram\":[{\"marker\":{\"pattern\":{\"fillmode\":\"overlay\",\"size\":10,\"solidity\":0.2}},\"type\":\"histogram\"}],\"histogram2d\":[{\"colorbar\":{\"outlinewidth\":0,\"ticks\":\"\"},\"colorscale\":[[0.0,\"#0d0887\"],[0.1111111111111111,\"#46039f\"],[0.2222222222222222,\"#7201a8\"],[0.3333333333333333,\"#9c179e\"],[0.4444444444444444,\"#bd3786\"],[0.5555555555555556,\"#d8576b\"],[0.6666666666666666,\"#ed7953\"],[0.7777777777777778,\"#fb9f3a\"],[0.8888888888888888,\"#fdca26\"],[1.0,\"#f0f921\"]],\"type\":\"histogram2d\"}],\"histogram2dcontour\":[{\"colorbar\":{\"outlinewidth\":0,\"ticks\":\"\"},\"colorscale\":[[0.0,\"#0d0887\"],[0.1111111111111111,\"#46039f\"],[0.2222222222222222,\"#7201a8\"],[0.3333333333333333,\"#9c179e\"],[0.4444444444444444,\"#bd3786\"],[0.5555555555555556,\"#d8576b\"],[0.6666666666666666,\"#ed7953\"],[0.7777777777777778,\"#fb9f3a\"],[0.8888888888888888,\"#fdca26\"],[1.0,\"#f0f921\"]],\"type\":\"histogram2dcontour\"}],\"mesh3d\":[{\"colorbar\":{\"outlinewidth\":0,\"ticks\":\"\"},\"type\":\"mesh3d\"}],\"parcoords\":[{\"line\":{\"colorbar\":{\"outlinewidth\":0,\"ticks\":\"\"}},\"type\":\"parcoords\"}],\"pie\":[{\"automargin\":true,\"type\":\"pie\"}],\"scatter\":[{\"marker\":{\"colorbar\":{\"outlinewidth\":0,\"ticks\":\"\"}},\"type\":\"scatter\"}],\"scatter3d\":[{\"line\":{\"colorbar\":{\"outlinewidth\":0,\"ticks\":\"\"}},\"marker\":{\"colorbar\":{\"outlinewidth\":0,\"ticks\":\"\"}},\"type\":\"scatter3d\"}],\"scattercarpet\":[{\"marker\":{\"colorbar\":{\"outlinewidth\":0,\"ticks\":\"\"}},\"type\":\"scattercarpet\"}],\"scattergeo\":[{\"marker\":{\"colorbar\":{\"outlinewidth\":0,\"ticks\":\"\"}},\"type\":\"scattergeo\"}],\"scattergl\":[{\"marker\":{\"colorbar\":{\"outlinewidth\":0,\"ticks\":\"\"}},\"type\":\"scattergl\"}],\"scattermapbox\":[{\"marker\":{\"colorbar\":{\"outlinewidth\":0,\"ticks\":\"\"}},\"type\":\"scattermapbox\"}],\"scatterpolar\":[{\"marker\":{\"colorbar\":{\"outlinewidth\":0,\"ticks\":\"\"}},\"type\":\"scatterpolar\"}],\"scatterpolargl\":[{\"marker\":{\"colorbar\":{\"outlinewidth\":0,\"ticks\":\"\"}},\"type\":\"scatterpolargl\"}],\"scatterternary\":[{\"marker\":{\"colorbar\":{\"outlinewidth\":0,\"ticks\":\"\"}},\"type\":\"scatterternary\"}],\"surface\":[{\"colorbar\":{\"outlinewidth\":0,\"ticks\":\"\"},\"colorscale\":[[0.0,\"#0d0887\"],[0.1111111111111111,\"#46039f\"],[0.2222222222222222,\"#7201a8\"],[0.3333333333333333,\"#9c179e\"],[0.4444444444444444,\"#bd3786\"],[0.5555555555555556,\"#d8576b\"],[0.6666666666666666,\"#ed7953\"],[0.7777777777777778,\"#fb9f3a\"],[0.8888888888888888,\"#fdca26\"],[1.0,\"#f0f921\"]],\"type\":\"surface\"}],\"table\":[{\"cells\":{\"fill\":{\"color\":\"#EBF0F8\"},\"line\":{\"color\":\"white\"}},\"header\":{\"fill\":{\"color\":\"#C8D4E3\"},\"line\":{\"color\":\"white\"}},\"type\":\"table\"}]},\"layout\":{\"annotationdefaults\":{\"arrowcolor\":\"#2a3f5f\",\"arrowhead\":0,\"arrowwidth\":1},\"autotypenumbers\":\"strict\",\"coloraxis\":{\"colorbar\":{\"outlinewidth\":0,\"ticks\":\"\"}},\"colorscale\":{\"diverging\":[[0,\"#8e0152\"],[0.1,\"#c51b7d\"],[0.2,\"#de77ae\"],[0.3,\"#f1b6da\"],[0.4,\"#fde0ef\"],[0.5,\"#f7f7f7\"],[0.6,\"#e6f5d0\"],[0.7,\"#b8e186\"],[0.8,\"#7fbc41\"],[0.9,\"#4d9221\"],[1,\"#276419\"]],\"sequential\":[[0.0,\"#0d0887\"],[0.1111111111111111,\"#46039f\"],[0.2222222222222222,\"#7201a8\"],[0.3333333333333333,\"#9c179e\"],[0.4444444444444444,\"#bd3786\"],[0.5555555555555556,\"#d8576b\"],[0.6666666666666666,\"#ed7953\"],[0.7777777777777778,\"#fb9f3a\"],[0.8888888888888888,\"#fdca26\"],[1.0,\"#f0f921\"]],\"sequentialminus\":[[0.0,\"#0d0887\"],[0.1111111111111111,\"#46039f\"],[0.2222222222222222,\"#7201a8\"],[0.3333333333333333,\"#9c179e\"],[0.4444444444444444,\"#bd3786\"],[0.5555555555555556,\"#d8576b\"],[0.6666666666666666,\"#ed7953\"],[0.7777777777777778,\"#fb9f3a\"],[0.8888888888888888,\"#fdca26\"],[1.0,\"#f0f921\"]]},\"colorway\":[\"#636efa\",\"#EF553B\",\"#00cc96\",\"#ab63fa\",\"#FFA15A\",\"#19d3f3\",\"#FF6692\",\"#B6E880\",\"#FF97FF\",\"#FECB52\"],\"font\":{\"color\":\"#2a3f5f\"},\"geo\":{\"bgcolor\":\"white\",\"lakecolor\":\"white\",\"landcolor\":\"#E5ECF6\",\"showlakes\":true,\"showland\":true,\"subunitcolor\":\"white\"},\"hoverlabel\":{\"align\":\"left\"},\"hovermode\":\"closest\",\"mapbox\":{\"style\":\"light\"},\"paper_bgcolor\":\"white\",\"plot_bgcolor\":\"#E5ECF6\",\"polar\":{\"angularaxis\":{\"gridcolor\":\"white\",\"linecolor\":\"white\",\"ticks\":\"\"},\"bgcolor\":\"#E5ECF6\",\"radialaxis\":{\"gridcolor\":\"white\",\"linecolor\":\"white\",\"ticks\":\"\"}},\"scene\":{\"xaxis\":{\"backgroundcolor\":\"#E5ECF6\",\"gridcolor\":\"white\",\"gridwidth\":2,\"linecolor\":\"white\",\"showbackground\":true,\"ticks\":\"\",\"zerolinecolor\":\"white\"},\"yaxis\":{\"backgroundcolor\":\"#E5ECF6\",\"gridcolor\":\"white\",\"gridwidth\":2,\"linecolor\":\"white\",\"showbackground\":true,\"ticks\":\"\",\"zerolinecolor\":\"white\"},\"zaxis\":{\"backgroundcolor\":\"#E5ECF6\",\"gridcolor\":\"white\",\"gridwidth\":2,\"linecolor\":\"white\",\"showbackground\":true,\"ticks\":\"\",\"zerolinecolor\":\"white\"}},\"shapedefaults\":{\"line\":{\"color\":\"#2a3f5f\"}},\"ternary\":{\"aaxis\":{\"gridcolor\":\"white\",\"linecolor\":\"white\",\"ticks\":\"\"},\"baxis\":{\"gridcolor\":\"white\",\"linecolor\":\"white\",\"ticks\":\"\"},\"bgcolor\":\"#E5ECF6\",\"caxis\":{\"gridcolor\":\"white\",\"linecolor\":\"white\",\"ticks\":\"\"}},\"title\":{\"x\":0.05},\"xaxis\":{\"automargin\":true,\"gridcolor\":\"white\",\"linecolor\":\"white\",\"ticks\":\"\",\"title\":{\"standoff\":15},\"zerolinecolor\":\"white\",\"zerolinewidth\":2},\"yaxis\":{\"automargin\":true,\"gridcolor\":\"white\",\"linecolor\":\"white\",\"ticks\":\"\",\"title\":{\"standoff\":15},\"zerolinecolor\":\"white\",\"zerolinewidth\":2}}}},                        {\"responsive\": true}                    ).then(function(){\n",
              "                            \n",
              "var gd = document.getElementById('6fe9c193-34d2-46da-99df-b0cb9be0fac6');\n",
              "var x = new MutationObserver(function (mutations, observer) {{\n",
              "        var display = window.getComputedStyle(gd).display;\n",
              "        if (!display || display === 'none') {{\n",
              "            console.log([gd, 'removed!']);\n",
              "            Plotly.purge(gd);\n",
              "            observer.disconnect();\n",
              "        }}\n",
              "}});\n",
              "\n",
              "// Listen for the removal of the full notebook cells\n",
              "var notebookContainer = gd.closest('#notebook-container');\n",
              "if (notebookContainer) {{\n",
              "    x.observe(notebookContainer, {childList: true});\n",
              "}}\n",
              "\n",
              "// Listen for the clearing of the current output cell\n",
              "var outputEl = gd.closest('.output');\n",
              "if (outputEl) {{\n",
              "    x.observe(outputEl, {childList: true});\n",
              "}}\n",
              "\n",
              "                        })                };                            </script>        </div>\n",
              "</body>\n",
              "</html>"
            ]
          },
          "metadata": {}
        }
      ]
    },
    {
      "cell_type": "code",
      "source": [
        "optuna.visualization.plot_parallel_coordinate(study)"
      ],
      "metadata": {
        "id": "YDWgf2T9-ijF",
        "colab": {
          "base_uri": "https://localhost:8080/",
          "height": 542
        },
        "outputId": "fbbd6b30-4d90-4dda-d4aa-f1337844ecb6"
      },
      "execution_count": 412,
      "outputs": [
        {
          "output_type": "display_data",
          "data": {
            "text/html": [
              "<html>\n",
              "<head><meta charset=\"utf-8\" /></head>\n",
              "<body>\n",
              "    <div>            <script src=\"https://cdnjs.cloudflare.com/ajax/libs/mathjax/2.7.5/MathJax.js?config=TeX-AMS-MML_SVG\"></script><script type=\"text/javascript\">if (window.MathJax) {MathJax.Hub.Config({SVG: {font: \"STIX-Web\"}});}</script>                <script type=\"text/javascript\">window.PlotlyConfig = {MathJaxConfig: 'local'};</script>\n",
              "        <script src=\"https://cdn.plot.ly/plotly-2.8.3.min.js\"></script>                <div id=\"9b09b396-1281-4f18-9262-a5c8933e68b1\" class=\"plotly-graph-div\" style=\"height:525px; width:100%;\"></div>            <script type=\"text/javascript\">                                    window.PLOTLYENV=window.PLOTLYENV || {};                                    if (document.getElementById(\"9b09b396-1281-4f18-9262-a5c8933e68b1\")) {                    Plotly.newPlot(                        \"9b09b396-1281-4f18-9262-a5c8933e68b1\",                        [{\"dimensions\":[{\"label\":\"Objective Value\",\"range\":[0.562528948351354,0.5902405169085342],\"values\":[0.562528948351354,0.5895155130200364,0.582370423497234,0.583909768210767,0.5902405169085342,0.5896298568072371,0.5742114477706453,0.5825432389649106,0.5730683620022867]},{\"label\":\"alpha\",\"range\":[-6.248354859946084,-0.4080644704673218],\"ticktext\":[\"5.64e-07\",\"1e-06\",\"1e-05\",\"0.0001\",\"0.001\",\"0.01\",\"0.1\",\"0.391\"],\"tickvals\":[-6.248354859946084,-6,-5,-4,-3,-2,-1,-0.4080644704673218],\"values\":[-5.050169818231222,-6.248354859946084,-2.842610517855315,-5.591756053397864,-0.4652484680993109,-0.4080644704673218,-2.4597690368944107,-3.031135663774039,-0.6194790918478245]},{\"label\":\"booster\",\"range\":[0,0],\"ticktext\":[\"dart\"],\"tickvals\":[0],\"values\":[0,0,0,0,0,0,0,0,0]},{\"label\":\"colsample_bytree\",\"range\":[0.20557113150986128,0.8084921241290048],\"values\":[0.21162174409614337,0.20557113150986128,0.5884505421500892,0.692011304094111,0.8084921241290048,0.40224693544313017,0.2880913057944816,0.4527437596277387,0.2591052168654972]},{\"label\":\"eta\",\"range\":[-6.696546113268091,-0.33427213574420445],\"ticktext\":[\"2.01e-07\",\"1e-06\",\"1e-05\",\"0.0001\",\"0.001\",\"0.01\",\"0.1\",\"0.463\"],\"tickvals\":[-6.696546113268091,-6,-5,-4,-3,-2,-1,-0.33427213574420445],\"values\":[-0.33427213574420445,-0.5219577905809121,-3.3252371177822746,-2.020875306936275,-5.346915155845718,-4.080161091215267,-1.854304075296844,-6.696546113268091,-1.284803562205956]},{\"label\":\"gamma\",\"range\":[-7.710098495040822,-0.0766609953738738],\"ticktext\":[\"1.95e-08\",\"1e-07\",\"1e-06\",\"1e-05\",\"0.0001\",\"0.001\",\"0.01\",\"0.1\",\"0.838\"],\"tickvals\":[-7.710098495040822,-7,-6,-5,-4,-3,-2,-1,-0.0766609953738738],\"values\":[-7.506536654557769,-0.0766609953738738,-7.710098495040822,-1.9530409962755337,-2.3440720188107607,-4.503907888191872,-6.56635307571853,-4.522201249078139,-6.892148179024154]},{\"label\":\"grow_policy\",\"range\":[0,1],\"ticktext\":[\"lossguide\",\"depthwise\"],\"tickvals\":[0,1],\"values\":[0,0,0,0,1,1,0,1,1]},{\"label\":\"lambda\",\"range\":[-7.513962695702557,-0.1755203178181075],\"ticktext\":[\"3.06e-08\",\"1e-07\",\"1e-06\",\"1e-05\",\"0.0001\",\"0.001\",\"0.01\",\"0.1\",\"0.668\"],\"tickvals\":[-7.513962695702557,-7,-6,-5,-4,-3,-2,-1,-0.1755203178181075],\"values\":[-2.687150056314465,-3.129722240238839,-1.8683400513066064,-7.513962695702557,-3.087432718212695,-3.0022802092593843,-4.87196063113284,-0.1755203178181075,-0.5665376143070171]},{\"label\":\"max_depth\",\"range\":[3,9],\"values\":[9,3,9,7,7,5,7,9,7]},{\"label\":\"min_child_weight\",\"range\":[2,10],\"values\":[10,2,6,7,8,5,8,6,3]},{\"label\":\"normalize_type\",\"range\":[0,1],\"ticktext\":[\"forest\",\"tree\"],\"tickvals\":[0,1],\"values\":[0,1,1,0,0,1,0,1,0]},{\"label\":\"rate_drop\",\"range\":[-7.879830306994502,-0.11563693583963475],\"ticktext\":[\"1.32e-08\",\"1e-07\",\"1e-06\",\"1e-05\",\"0.0001\",\"0.001\",\"0.01\",\"0.1\",\"0.766\"],\"tickvals\":[-7.879830306994502,-7,-6,-5,-4,-3,-2,-1,-0.11563693583963475],\"values\":[-6.5865487971093355,-0.11563693583963475,-1.934211063895409,-7.879830306994502,-4.4761082763260935,-4.224555996636231,-1.9537384966003806,-6.076442099345857,-2.450959549461375]},{\"label\":\"sample_type\",\"range\":[0,1],\"ticktext\":[\"weighted\",\"uniform\"],\"tickvals\":[0,1],\"values\":[0,1,0,1,1,0,1,0,0]},{\"label\":\"skip_drop\",\"range\":[-7.735436301870461,-0.03965018776771127],\"ticktext\":[\"1.84e-08\",\"1e-07\",\"1e-06\",\"1e-05\",\"0.0001\",\"0.001\",\"0.01\",\"0.1\",\"0.913\"],\"tickvals\":[-7.735436301870461,-7,-6,-5,-4,-3,-2,-1,-0.03965018776771127],\"values\":[-1.750204389709209,-7.735436301870461,-0.03965018776771127,-6.281854713969397,-4.176688924455135,-3.6986852634255443,-4.261098679211212,-0.05061533969122479,-6.087783420940912]},{\"label\":\"subsample\",\"range\":[0.21436950049185582,0.5593035384073807],\"values\":[0.21436950049185582,0.5593035384073807,0.42565560941633485,0.3614047783891826,0.264467691705501,0.2890281688488749,0.3746544773771866,0.4191066984329809,0.4517641685997786]}],\"labelangle\":30,\"labelside\":\"bottom\",\"line\":{\"color\":[0.562528948351354,0.5895155130200364,0.582370423497234,0.583909768210767,0.5902405169085342,0.5896298568072371,0.5742114477706453,0.5825432389649106,0.5730683620022867],\"colorbar\":{\"title\":{\"text\":\"Objective Value\"}},\"colorscale\":[[0.0,\"rgb(247,251,255)\"],[0.125,\"rgb(222,235,247)\"],[0.25,\"rgb(198,219,239)\"],[0.375,\"rgb(158,202,225)\"],[0.5,\"rgb(107,174,214)\"],[0.625,\"rgb(66,146,198)\"],[0.75,\"rgb(33,113,181)\"],[0.875,\"rgb(8,81,156)\"],[1.0,\"rgb(8,48,107)\"]],\"reversescale\":false,\"showscale\":true},\"type\":\"parcoords\"}],                        {\"title\":{\"text\":\"Parallel Coordinate Plot\"},\"template\":{\"data\":{\"bar\":[{\"error_x\":{\"color\":\"#2a3f5f\"},\"error_y\":{\"color\":\"#2a3f5f\"},\"marker\":{\"line\":{\"color\":\"#E5ECF6\",\"width\":0.5},\"pattern\":{\"fillmode\":\"overlay\",\"size\":10,\"solidity\":0.2}},\"type\":\"bar\"}],\"barpolar\":[{\"marker\":{\"line\":{\"color\":\"#E5ECF6\",\"width\":0.5},\"pattern\":{\"fillmode\":\"overlay\",\"size\":10,\"solidity\":0.2}},\"type\":\"barpolar\"}],\"carpet\":[{\"aaxis\":{\"endlinecolor\":\"#2a3f5f\",\"gridcolor\":\"white\",\"linecolor\":\"white\",\"minorgridcolor\":\"white\",\"startlinecolor\":\"#2a3f5f\"},\"baxis\":{\"endlinecolor\":\"#2a3f5f\",\"gridcolor\":\"white\",\"linecolor\":\"white\",\"minorgridcolor\":\"white\",\"startlinecolor\":\"#2a3f5f\"},\"type\":\"carpet\"}],\"choropleth\":[{\"colorbar\":{\"outlinewidth\":0,\"ticks\":\"\"},\"type\":\"choropleth\"}],\"contour\":[{\"colorbar\":{\"outlinewidth\":0,\"ticks\":\"\"},\"colorscale\":[[0.0,\"#0d0887\"],[0.1111111111111111,\"#46039f\"],[0.2222222222222222,\"#7201a8\"],[0.3333333333333333,\"#9c179e\"],[0.4444444444444444,\"#bd3786\"],[0.5555555555555556,\"#d8576b\"],[0.6666666666666666,\"#ed7953\"],[0.7777777777777778,\"#fb9f3a\"],[0.8888888888888888,\"#fdca26\"],[1.0,\"#f0f921\"]],\"type\":\"contour\"}],\"contourcarpet\":[{\"colorbar\":{\"outlinewidth\":0,\"ticks\":\"\"},\"type\":\"contourcarpet\"}],\"heatmap\":[{\"colorbar\":{\"outlinewidth\":0,\"ticks\":\"\"},\"colorscale\":[[0.0,\"#0d0887\"],[0.1111111111111111,\"#46039f\"],[0.2222222222222222,\"#7201a8\"],[0.3333333333333333,\"#9c179e\"],[0.4444444444444444,\"#bd3786\"],[0.5555555555555556,\"#d8576b\"],[0.6666666666666666,\"#ed7953\"],[0.7777777777777778,\"#fb9f3a\"],[0.8888888888888888,\"#fdca26\"],[1.0,\"#f0f921\"]],\"type\":\"heatmap\"}],\"heatmapgl\":[{\"colorbar\":{\"outlinewidth\":0,\"ticks\":\"\"},\"colorscale\":[[0.0,\"#0d0887\"],[0.1111111111111111,\"#46039f\"],[0.2222222222222222,\"#7201a8\"],[0.3333333333333333,\"#9c179e\"],[0.4444444444444444,\"#bd3786\"],[0.5555555555555556,\"#d8576b\"],[0.6666666666666666,\"#ed7953\"],[0.7777777777777778,\"#fb9f3a\"],[0.8888888888888888,\"#fdca26\"],[1.0,\"#f0f921\"]],\"type\":\"heatmapgl\"}],\"histogram\":[{\"marker\":{\"pattern\":{\"fillmode\":\"overlay\",\"size\":10,\"solidity\":0.2}},\"type\":\"histogram\"}],\"histogram2d\":[{\"colorbar\":{\"outlinewidth\":0,\"ticks\":\"\"},\"colorscale\":[[0.0,\"#0d0887\"],[0.1111111111111111,\"#46039f\"],[0.2222222222222222,\"#7201a8\"],[0.3333333333333333,\"#9c179e\"],[0.4444444444444444,\"#bd3786\"],[0.5555555555555556,\"#d8576b\"],[0.6666666666666666,\"#ed7953\"],[0.7777777777777778,\"#fb9f3a\"],[0.8888888888888888,\"#fdca26\"],[1.0,\"#f0f921\"]],\"type\":\"histogram2d\"}],\"histogram2dcontour\":[{\"colorbar\":{\"outlinewidth\":0,\"ticks\":\"\"},\"colorscale\":[[0.0,\"#0d0887\"],[0.1111111111111111,\"#46039f\"],[0.2222222222222222,\"#7201a8\"],[0.3333333333333333,\"#9c179e\"],[0.4444444444444444,\"#bd3786\"],[0.5555555555555556,\"#d8576b\"],[0.6666666666666666,\"#ed7953\"],[0.7777777777777778,\"#fb9f3a\"],[0.8888888888888888,\"#fdca26\"],[1.0,\"#f0f921\"]],\"type\":\"histogram2dcontour\"}],\"mesh3d\":[{\"colorbar\":{\"outlinewidth\":0,\"ticks\":\"\"},\"type\":\"mesh3d\"}],\"parcoords\":[{\"line\":{\"colorbar\":{\"outlinewidth\":0,\"ticks\":\"\"}},\"type\":\"parcoords\"}],\"pie\":[{\"automargin\":true,\"type\":\"pie\"}],\"scatter\":[{\"marker\":{\"colorbar\":{\"outlinewidth\":0,\"ticks\":\"\"}},\"type\":\"scatter\"}],\"scatter3d\":[{\"line\":{\"colorbar\":{\"outlinewidth\":0,\"ticks\":\"\"}},\"marker\":{\"colorbar\":{\"outlinewidth\":0,\"ticks\":\"\"}},\"type\":\"scatter3d\"}],\"scattercarpet\":[{\"marker\":{\"colorbar\":{\"outlinewidth\":0,\"ticks\":\"\"}},\"type\":\"scattercarpet\"}],\"scattergeo\":[{\"marker\":{\"colorbar\":{\"outlinewidth\":0,\"ticks\":\"\"}},\"type\":\"scattergeo\"}],\"scattergl\":[{\"marker\":{\"colorbar\":{\"outlinewidth\":0,\"ticks\":\"\"}},\"type\":\"scattergl\"}],\"scattermapbox\":[{\"marker\":{\"colorbar\":{\"outlinewidth\":0,\"ticks\":\"\"}},\"type\":\"scattermapbox\"}],\"scatterpolar\":[{\"marker\":{\"colorbar\":{\"outlinewidth\":0,\"ticks\":\"\"}},\"type\":\"scatterpolar\"}],\"scatterpolargl\":[{\"marker\":{\"colorbar\":{\"outlinewidth\":0,\"ticks\":\"\"}},\"type\":\"scatterpolargl\"}],\"scatterternary\":[{\"marker\":{\"colorbar\":{\"outlinewidth\":0,\"ticks\":\"\"}},\"type\":\"scatterternary\"}],\"surface\":[{\"colorbar\":{\"outlinewidth\":0,\"ticks\":\"\"},\"colorscale\":[[0.0,\"#0d0887\"],[0.1111111111111111,\"#46039f\"],[0.2222222222222222,\"#7201a8\"],[0.3333333333333333,\"#9c179e\"],[0.4444444444444444,\"#bd3786\"],[0.5555555555555556,\"#d8576b\"],[0.6666666666666666,\"#ed7953\"],[0.7777777777777778,\"#fb9f3a\"],[0.8888888888888888,\"#fdca26\"],[1.0,\"#f0f921\"]],\"type\":\"surface\"}],\"table\":[{\"cells\":{\"fill\":{\"color\":\"#EBF0F8\"},\"line\":{\"color\":\"white\"}},\"header\":{\"fill\":{\"color\":\"#C8D4E3\"},\"line\":{\"color\":\"white\"}},\"type\":\"table\"}]},\"layout\":{\"annotationdefaults\":{\"arrowcolor\":\"#2a3f5f\",\"arrowhead\":0,\"arrowwidth\":1},\"autotypenumbers\":\"strict\",\"coloraxis\":{\"colorbar\":{\"outlinewidth\":0,\"ticks\":\"\"}},\"colorscale\":{\"diverging\":[[0,\"#8e0152\"],[0.1,\"#c51b7d\"],[0.2,\"#de77ae\"],[0.3,\"#f1b6da\"],[0.4,\"#fde0ef\"],[0.5,\"#f7f7f7\"],[0.6,\"#e6f5d0\"],[0.7,\"#b8e186\"],[0.8,\"#7fbc41\"],[0.9,\"#4d9221\"],[1,\"#276419\"]],\"sequential\":[[0.0,\"#0d0887\"],[0.1111111111111111,\"#46039f\"],[0.2222222222222222,\"#7201a8\"],[0.3333333333333333,\"#9c179e\"],[0.4444444444444444,\"#bd3786\"],[0.5555555555555556,\"#d8576b\"],[0.6666666666666666,\"#ed7953\"],[0.7777777777777778,\"#fb9f3a\"],[0.8888888888888888,\"#fdca26\"],[1.0,\"#f0f921\"]],\"sequentialminus\":[[0.0,\"#0d0887\"],[0.1111111111111111,\"#46039f\"],[0.2222222222222222,\"#7201a8\"],[0.3333333333333333,\"#9c179e\"],[0.4444444444444444,\"#bd3786\"],[0.5555555555555556,\"#d8576b\"],[0.6666666666666666,\"#ed7953\"],[0.7777777777777778,\"#fb9f3a\"],[0.8888888888888888,\"#fdca26\"],[1.0,\"#f0f921\"]]},\"colorway\":[\"#636efa\",\"#EF553B\",\"#00cc96\",\"#ab63fa\",\"#FFA15A\",\"#19d3f3\",\"#FF6692\",\"#B6E880\",\"#FF97FF\",\"#FECB52\"],\"font\":{\"color\":\"#2a3f5f\"},\"geo\":{\"bgcolor\":\"white\",\"lakecolor\":\"white\",\"landcolor\":\"#E5ECF6\",\"showlakes\":true,\"showland\":true,\"subunitcolor\":\"white\"},\"hoverlabel\":{\"align\":\"left\"},\"hovermode\":\"closest\",\"mapbox\":{\"style\":\"light\"},\"paper_bgcolor\":\"white\",\"plot_bgcolor\":\"#E5ECF6\",\"polar\":{\"angularaxis\":{\"gridcolor\":\"white\",\"linecolor\":\"white\",\"ticks\":\"\"},\"bgcolor\":\"#E5ECF6\",\"radialaxis\":{\"gridcolor\":\"white\",\"linecolor\":\"white\",\"ticks\":\"\"}},\"scene\":{\"xaxis\":{\"backgroundcolor\":\"#E5ECF6\",\"gridcolor\":\"white\",\"gridwidth\":2,\"linecolor\":\"white\",\"showbackground\":true,\"ticks\":\"\",\"zerolinecolor\":\"white\"},\"yaxis\":{\"backgroundcolor\":\"#E5ECF6\",\"gridcolor\":\"white\",\"gridwidth\":2,\"linecolor\":\"white\",\"showbackground\":true,\"ticks\":\"\",\"zerolinecolor\":\"white\"},\"zaxis\":{\"backgroundcolor\":\"#E5ECF6\",\"gridcolor\":\"white\",\"gridwidth\":2,\"linecolor\":\"white\",\"showbackground\":true,\"ticks\":\"\",\"zerolinecolor\":\"white\"}},\"shapedefaults\":{\"line\":{\"color\":\"#2a3f5f\"}},\"ternary\":{\"aaxis\":{\"gridcolor\":\"white\",\"linecolor\":\"white\",\"ticks\":\"\"},\"baxis\":{\"gridcolor\":\"white\",\"linecolor\":\"white\",\"ticks\":\"\"},\"bgcolor\":\"#E5ECF6\",\"caxis\":{\"gridcolor\":\"white\",\"linecolor\":\"white\",\"ticks\":\"\"}},\"title\":{\"x\":0.05},\"xaxis\":{\"automargin\":true,\"gridcolor\":\"white\",\"linecolor\":\"white\",\"ticks\":\"\",\"title\":{\"standoff\":15},\"zerolinecolor\":\"white\",\"zerolinewidth\":2},\"yaxis\":{\"automargin\":true,\"gridcolor\":\"white\",\"linecolor\":\"white\",\"ticks\":\"\",\"title\":{\"standoff\":15},\"zerolinecolor\":\"white\",\"zerolinewidth\":2}}}},                        {\"responsive\": true}                    ).then(function(){\n",
              "                            \n",
              "var gd = document.getElementById('9b09b396-1281-4f18-9262-a5c8933e68b1');\n",
              "var x = new MutationObserver(function (mutations, observer) {{\n",
              "        var display = window.getComputedStyle(gd).display;\n",
              "        if (!display || display === 'none') {{\n",
              "            console.log([gd, 'removed!']);\n",
              "            Plotly.purge(gd);\n",
              "            observer.disconnect();\n",
              "        }}\n",
              "}});\n",
              "\n",
              "// Listen for the removal of the full notebook cells\n",
              "var notebookContainer = gd.closest('#notebook-container');\n",
              "if (notebookContainer) {{\n",
              "    x.observe(notebookContainer, {childList: true});\n",
              "}}\n",
              "\n",
              "// Listen for the clearing of the current output cell\n",
              "var outputEl = gd.closest('.output');\n",
              "if (outputEl) {{\n",
              "    x.observe(outputEl, {childList: true});\n",
              "}}\n",
              "\n",
              "                        })                };                            </script>        </div>\n",
              "</body>\n",
              "</html>"
            ]
          },
          "metadata": {}
        }
      ]
    },
    {
      "cell_type": "code",
      "source": [
        "optuna.visualization.plot_slice(study)"
      ],
      "metadata": {
        "id": "D0VRPcIb-kfv",
        "colab": {
          "base_uri": "https://localhost:8080/",
          "height": 562
        },
        "outputId": "d88b4485-33c3-4a10-ed94-c500d170f652"
      },
      "execution_count": 413,
      "outputs": [
        {
          "output_type": "display_data",
          "data": {
            "text/html": [
              "<html>\n",
              "<head><meta charset=\"utf-8\" /></head>\n",
              "<body>\n",
              "    <div>            <script src=\"https://cdnjs.cloudflare.com/ajax/libs/mathjax/2.7.5/MathJax.js?config=TeX-AMS-MML_SVG\"></script><script type=\"text/javascript\">if (window.MathJax) {MathJax.Hub.Config({SVG: {font: \"STIX-Web\"}});}</script>                <script type=\"text/javascript\">window.PlotlyConfig = {MathJaxConfig: 'local'};</script>\n",
              "        <script src=\"https://cdn.plot.ly/plotly-2.8.3.min.js\"></script>                <div id=\"d3620703-ac6c-4d58-89a4-30c9b920e179\" class=\"plotly-graph-div\" style=\"height:525px; width:4200px;\"></div>            <script type=\"text/javascript\">                                    window.PLOTLYENV=window.PLOTLYENV || {};                                    if (document.getElementById(\"d3620703-ac6c-4d58-89a4-30c9b920e179\")) {                    Plotly.newPlot(                        \"d3620703-ac6c-4d58-89a4-30c9b920e179\",                        [{\"marker\":{\"color\":[0,1,2,3,4,5,6,7,8,9,10,11,12,13,14,15,16,17,18,19,20,21,22,23,24,25,26,27,28,29,30,31,32,33,34,35,36,37,38,39,40,41,42,43,44,45,46,47,48,49,50,51,52,53,54,55,56,57,58,59,60,61,62,63,64,65,66,67,68,69,70,71,72,73,74,75,76,77,78,79,80,81,82,83,84,85,86,87,88,89,90,91,92,93,94,95,96,97,98,99],\"colorbar\":{\"title\":{\"text\":\"Trial\"},\"x\":1.0,\"xpad\":40},\"colorscale\":[[0.0,\"rgb(247,251,255)\"],[0.125,\"rgb(222,235,247)\"],[0.25,\"rgb(198,219,239)\"],[0.375,\"rgb(158,202,225)\"],[0.5,\"rgb(107,174,214)\"],[0.625,\"rgb(66,146,198)\"],[0.75,\"rgb(33,113,181)\"],[0.875,\"rgb(8,81,156)\"],[1.0,\"rgb(8,48,107)\"]],\"line\":{\"color\":\"Grey\",\"width\":0.5},\"showscale\":true},\"mode\":\"markers\",\"showlegend\":false,\"x\":[1.77071686435378e-07,0.574485163632042,4.452048365748842e-05,6.044730070370796e-08,1.1755466083160747e-06,0.01588775693167255,2.300479202014574e-08,0.0002195678075127562,1.1070747281639212e-08,8.451863533931625e-08,8.90902508491156e-06,5.644755560466848e-07,7.4454643385183e-07,0.0014367773803692784,1.5826417040557134e-07,1.2127893199685699e-05,3.6541813373909977e-06,2.0532616129732354e-07,0.00033146037128907365,2.5600234682923124e-06,0.00541692236322249,3.301791183004604e-07,4.563861992163572e-06,0.021916976730615226,0.009477652808250385,3.138716064375457e-05,0.5521105011458581,0.06333358387752998,3.69428841998118e-05,0.34257173868990487,0.7614861005853595,0.002034323338361514,0.12040346809383358,0.05704917043059061,0.002154865053786849,0.120103646170665,0.05440522309789186,0.0014076595602866722,0.1381835813945646,0.00033046864202029825,3.91165471997872e-08,0.010472451038199118,5.495250191457931e-05,1.8122922098202783e-05,2.1443509463370157e-06,0.00010865688356531753,0.3907828802613289,0.000666931701127364,0.9813943666592547,1.02707011913726e-08,0.7521779412910476,1.3134242943164723e-08,0.24024602062498593,0.04934650916873238,0.05131788042290563,0.0034692129838264823,0.020343217489780567,0.1346089380104856,0.0211760158372687,0.0025782618093910152,0.13091545230292645,0.07137405691376478,0.0012594270127697764,0.0006832712597821038,0.0002575842389979265,0.0064684474224885906,0.0009308170638495426,0.00534695022093497,4.741718795067023e-07,1.6999355818980793e-07,8.23797995144171e-08,0.0001420365190119576,7.35886969504127e-08,0.0001225600780424663,1.0083884955593814e-05,3.0149189029068395e-08,1.3237400041943004e-06,1.082392640107348e-08,1.915460302012894e-08,0.9992003492844693,0.24017118902365225,0.031195609395123457,0.031045436792103226,0.27846616156323023,0.015370342664224731,0.020271062544368546,0.0813794659064955,0.03669119030163886,0.010079266770347166,0.0005370776640225838,0.07382682194475869,0.00278272360849116,0.04275606192773385,0.004926283316887514,0.0002555491281656968,0.001029433027762707,0.004947353317607637,3.1938763591977847e-07,5.819834839550919e-07,0.00044770484683813065],\"y\":[0.6297918178933112,0.5966859465140173,0.578930700473052,0.6297918178933112,0.6297918178933112,0.6297918178933112,0.6297918178933112,0.6297918178933112,0.6297918178933112,0.6297918178933112,0.562528948351354,0.5895155130200364,0.6297918178933112,0.582370423497234,0.6297918178933112,0.5857342419645191,0.6297918178933112,0.6297918178933112,0.5843508492013338,0.583909768210767,0.6297918178933112,0.6297918178933112,0.6297918178933112,0.6297918178933112,0.6297918178933112,0.6297918178933112,0.6297918178933112,0.6297918178933112,0.5988507996146518,0.5902405169085342,0.5855692851506309,0.6297918178933112,0.6297918178933112,0.6297918178933112,0.6297918178933112,0.6297918178933112,0.6297918178933112,0.6297918178933112,0.5730264616680265,0.6297918178933112,0.6297918178933112,0.6297918178933112,0.6297918178933112,0.6297918178933112,0.6297918178933112,0.6297918178933112,0.5896298568072371,0.6297918178933112,0.6297918178933112,0.6297918178933112,0.6297918178933112,0.6297918178933112,0.6297918178933112,0.6297918178933112,0.6297918178933112,0.5742114477706453,0.6297918178933112,0.594041348445502,0.6297918178933112,0.6297918178933112,0.6297918178933112,0.6297918178933112,0.6297918178933112,0.6297918178933112,0.6297918178933112,0.6297918178933112,0.5825432389649106,0.6297918178933112,0.6297918178933112,0.5903321762308431,0.6297918178933112,0.6297918178933112,0.6297918178933112,0.6297918178933112,0.6297918178933112,0.6297918178933112,0.6297918178933112,0.6297918178933112,0.6297918178933112,0.6297918178933112,0.5730683620022867,0.6297918178933112,0.6297918178933112,0.6297918178933112,0.6297918178933112,0.6297918178933112,0.6297918178933112,0.5972849946864562,0.6297918178933112,0.6297918178933112,0.6297918178933112,0.6297918178933112,0.6297918178933112,0.6297918178933112,0.6297918178933112,0.6297918178933112,0.6297918178933112,0.6297918178933112,0.6297918178933112,0.6297918178933112],\"type\":\"scatter\",\"xaxis\":\"x\",\"yaxis\":\"y\"},{\"marker\":{\"color\":[0,1,2,3,4,5,6,7,8,9,10,11,12,13,14,15,16,17,18,19,20,21,22,23,24,25,26,27,28,29,30,31,32,33,34,35,36,37,38,39,40,41,42,43,44,45,46,47,48,49,50,51,52,53,54,55,56,57,58,59,60,61,62,63,64,65,66,67,68,69,70,71,72,73,74,75,76,77,78,79,80,81,82,83,84,85,86,87,88,89,90,91,92,93,94,95,96,97,98,99],\"colorbar\":{\"title\":{\"text\":\"Trial\"},\"x\":1.0,\"xpad\":40},\"colorscale\":[[0.0,\"rgb(247,251,255)\"],[0.125,\"rgb(222,235,247)\"],[0.25,\"rgb(198,219,239)\"],[0.375,\"rgb(158,202,225)\"],[0.5,\"rgb(107,174,214)\"],[0.625,\"rgb(66,146,198)\"],[0.75,\"rgb(33,113,181)\"],[0.875,\"rgb(8,81,156)\"],[1.0,\"rgb(8,48,107)\"]],\"line\":{\"color\":\"Grey\",\"width\":0.5},\"showscale\":false},\"mode\":\"markers\",\"showlegend\":false,\"x\":[\"gblinear\",\"gbtree\",\"gbtree\",\"gblinear\",\"gblinear\",\"gblinear\",\"gblinear\",\"gblinear\",\"gblinear\",\"gblinear\",\"dart\",\"dart\",\"gblinear\",\"dart\",\"gblinear\",\"gbtree\",\"gblinear\",\"gblinear\",\"gbtree\",\"dart\",\"gblinear\",\"gblinear\",\"gblinear\",\"gblinear\",\"gblinear\",\"gblinear\",\"gblinear\",\"gblinear\",\"gbtree\",\"dart\",\"gbtree\",\"gblinear\",\"gblinear\",\"gblinear\",\"gblinear\",\"gblinear\",\"gblinear\",\"gblinear\",\"gbtree\",\"gblinear\",\"gblinear\",\"gblinear\",\"gblinear\",\"gblinear\",\"gblinear\",\"gblinear\",\"dart\",\"gblinear\",\"gblinear\",\"gblinear\",\"gblinear\",\"gblinear\",\"gblinear\",\"gblinear\",\"gblinear\",\"dart\",\"gblinear\",\"gbtree\",\"gblinear\",\"gblinear\",\"gblinear\",\"gblinear\",\"gblinear\",\"gblinear\",\"gblinear\",\"gblinear\",\"dart\",\"gblinear\",\"gblinear\",\"gbtree\",\"gblinear\",\"gblinear\",\"gblinear\",\"gblinear\",\"gblinear\",\"gblinear\",\"gblinear\",\"gblinear\",\"gblinear\",\"gblinear\",\"dart\",\"gblinear\",\"gblinear\",\"gblinear\",\"gblinear\",\"gblinear\",\"gblinear\",\"gbtree\",\"gblinear\",\"gblinear\",\"gblinear\",\"gblinear\",\"gblinear\",\"gblinear\",\"gblinear\",\"gblinear\",\"gblinear\",\"gblinear\",\"gblinear\",\"gblinear\"],\"y\":[0.6297918178933112,0.5966859465140173,0.578930700473052,0.6297918178933112,0.6297918178933112,0.6297918178933112,0.6297918178933112,0.6297918178933112,0.6297918178933112,0.6297918178933112,0.562528948351354,0.5895155130200364,0.6297918178933112,0.582370423497234,0.6297918178933112,0.5857342419645191,0.6297918178933112,0.6297918178933112,0.5843508492013338,0.583909768210767,0.6297918178933112,0.6297918178933112,0.6297918178933112,0.6297918178933112,0.6297918178933112,0.6297918178933112,0.6297918178933112,0.6297918178933112,0.5988507996146518,0.5902405169085342,0.5855692851506309,0.6297918178933112,0.6297918178933112,0.6297918178933112,0.6297918178933112,0.6297918178933112,0.6297918178933112,0.6297918178933112,0.5730264616680265,0.6297918178933112,0.6297918178933112,0.6297918178933112,0.6297918178933112,0.6297918178933112,0.6297918178933112,0.6297918178933112,0.5896298568072371,0.6297918178933112,0.6297918178933112,0.6297918178933112,0.6297918178933112,0.6297918178933112,0.6297918178933112,0.6297918178933112,0.6297918178933112,0.5742114477706453,0.6297918178933112,0.594041348445502,0.6297918178933112,0.6297918178933112,0.6297918178933112,0.6297918178933112,0.6297918178933112,0.6297918178933112,0.6297918178933112,0.6297918178933112,0.5825432389649106,0.6297918178933112,0.6297918178933112,0.5903321762308431,0.6297918178933112,0.6297918178933112,0.6297918178933112,0.6297918178933112,0.6297918178933112,0.6297918178933112,0.6297918178933112,0.6297918178933112,0.6297918178933112,0.6297918178933112,0.5730683620022867,0.6297918178933112,0.6297918178933112,0.6297918178933112,0.6297918178933112,0.6297918178933112,0.6297918178933112,0.5972849946864562,0.6297918178933112,0.6297918178933112,0.6297918178933112,0.6297918178933112,0.6297918178933112,0.6297918178933112,0.6297918178933112,0.6297918178933112,0.6297918178933112,0.6297918178933112,0.6297918178933112,0.6297918178933112],\"type\":\"scatter\",\"xaxis\":\"x2\",\"yaxis\":\"y2\"},{\"marker\":{\"color\":[0,1,2,3,4,5,6,7,8,9,10,11,12,13,14,15,16,17,18,19,20,21,22,23,24,25,26,27,28,29,30,31,32,33,34,35,36,37,38,39,40,41,42,43,44,45,46,47,48,49,50,51,52,53,54,55,56,57,58,59,60,61,62,63,64,65,66,67,68,69,70,71,72,73,74,75,76,77,78,79,80,81,82,83,84,85,86,87,88,89,90,91,92,93,94,95,96,97,98,99],\"colorbar\":{\"title\":{\"text\":\"Trial\"},\"x\":1.0,\"xpad\":40},\"colorscale\":[[0.0,\"rgb(247,251,255)\"],[0.125,\"rgb(222,235,247)\"],[0.25,\"rgb(198,219,239)\"],[0.375,\"rgb(158,202,225)\"],[0.5,\"rgb(107,174,214)\"],[0.625,\"rgb(66,146,198)\"],[0.75,\"rgb(33,113,181)\"],[0.875,\"rgb(8,81,156)\"],[1.0,\"rgb(8,48,107)\"]],\"line\":{\"color\":\"Grey\",\"width\":0.5},\"showscale\":false},\"mode\":\"markers\",\"showlegend\":false,\"x\":[0.24646688973455957,0.36987128854262097,0.3597390257266878,0.5521219949916811,0.4493688608715288,0.915861880342119,0.5109418317515857,0.8417575846032317,0.7654858750780937,0.6986385014620464,0.21162174409614337,0.20557113150986128,0.5975173304631254,0.5884505421500892,0.32597789607967953,0.47823903724666955,0.6857969443860115,0.3173452420472175,0.29448325588078883,0.692011304094111,0.4250657468158705,0.25894686099197817,0.6845680785291707,0.4015385859559947,0.2640761760994432,0.8008706007859303,0.39543227780738754,0.25282350312659263,0.9951161762188739,0.8084921241290048,0.35271631804568326,0.2766264176873534,0.36784961940283434,0.23197369286955744,0.28200593386069045,0.3627427388825628,0.21031764939056677,0.47261003619790387,0.32445651912842144,0.5301304910355791,0.6524750333588049,0.42314618773256846,0.7538487844359243,0.9063113185172312,0.7494970461977125,0.8785353242827076,0.40224693544313017,0.8815189572656028,0.24076607490187119,0.8142991970424228,0.22560194818041748,0.29581371809358414,0.3480085923552696,0.2960579415584738,0.24940255760901095,0.2880913057944816,0.20495970986838202,0.3718112911977953,0.6252510022967783,0.2787695118945105,0.32443884913440707,0.22449576456815265,0.5034786826057531,0.5560447656770564,0.4805065894565832,0.568565511258877,0.4527437596277387,0.5511474446360355,0.61282380057591,0.655186737349607,0.6218734616362012,0.5168020462323795,0.7377197011940168,0.5268608431369108,0.723804216848781,0.9716334870623965,0.7409455133253853,0.30697166786347596,0.831250016469009,0.24236251034003967,0.2591052168654972,0.20688029372971783,0.34881336382949474,0.22268028270779178,0.29855272423631757,0.3425032885670105,0.27672060199453624,0.3259808106555363,0.26697387878887585,0.5815875493265401,0.24862732127737797,0.20023365654319455,0.22803768895013643,0.5742363435335798,0.5480924266398398,0.495482198742038,0.5625743316037248,0.6141742193740519,0.601887661420877,0.5165782081894285],\"y\":[0.6297918178933112,0.5966859465140173,0.578930700473052,0.6297918178933112,0.6297918178933112,0.6297918178933112,0.6297918178933112,0.6297918178933112,0.6297918178933112,0.6297918178933112,0.562528948351354,0.5895155130200364,0.6297918178933112,0.582370423497234,0.6297918178933112,0.5857342419645191,0.6297918178933112,0.6297918178933112,0.5843508492013338,0.583909768210767,0.6297918178933112,0.6297918178933112,0.6297918178933112,0.6297918178933112,0.6297918178933112,0.6297918178933112,0.6297918178933112,0.6297918178933112,0.5988507996146518,0.5902405169085342,0.5855692851506309,0.6297918178933112,0.6297918178933112,0.6297918178933112,0.6297918178933112,0.6297918178933112,0.6297918178933112,0.6297918178933112,0.5730264616680265,0.6297918178933112,0.6297918178933112,0.6297918178933112,0.6297918178933112,0.6297918178933112,0.6297918178933112,0.6297918178933112,0.5896298568072371,0.6297918178933112,0.6297918178933112,0.6297918178933112,0.6297918178933112,0.6297918178933112,0.6297918178933112,0.6297918178933112,0.6297918178933112,0.5742114477706453,0.6297918178933112,0.594041348445502,0.6297918178933112,0.6297918178933112,0.6297918178933112,0.6297918178933112,0.6297918178933112,0.6297918178933112,0.6297918178933112,0.6297918178933112,0.5825432389649106,0.6297918178933112,0.6297918178933112,0.5903321762308431,0.6297918178933112,0.6297918178933112,0.6297918178933112,0.6297918178933112,0.6297918178933112,0.6297918178933112,0.6297918178933112,0.6297918178933112,0.6297918178933112,0.6297918178933112,0.5730683620022867,0.6297918178933112,0.6297918178933112,0.6297918178933112,0.6297918178933112,0.6297918178933112,0.6297918178933112,0.5972849946864562,0.6297918178933112,0.6297918178933112,0.6297918178933112,0.6297918178933112,0.6297918178933112,0.6297918178933112,0.6297918178933112,0.6297918178933112,0.6297918178933112,0.6297918178933112,0.6297918178933112,0.6297918178933112],\"type\":\"scatter\",\"xaxis\":\"x3\",\"yaxis\":\"y3\"},{\"marker\":{\"color\":[1,2,10,11,13,15,18,19,28,29,30,38,46,55,57,66,69,80,87],\"colorbar\":{\"title\":{\"text\":\"Trial\"},\"x\":1.0,\"xpad\":40},\"colorscale\":[[0.0,\"rgb(247,251,255)\"],[0.125,\"rgb(222,235,247)\"],[0.25,\"rgb(198,219,239)\"],[0.375,\"rgb(158,202,225)\"],[0.5,\"rgb(107,174,214)\"],[0.625,\"rgb(66,146,198)\"],[0.75,\"rgb(33,113,181)\"],[0.875,\"rgb(8,81,156)\"],[1.0,\"rgb(8,48,107)\"]],\"line\":{\"color\":\"Grey\",\"width\":0.5},\"showscale\":false},\"mode\":\"markers\",\"showlegend\":false,\"x\":[2.716051144654844e-06,2.3528990899815284e-08,0.4631566075831914,0.3006368479724575,0.0004728929965156433,0.0005019569190437942,5.264927844442772e-08,0.009530697666944442,4.08630162985782e-06,4.498677328674197e-06,0.022255013903667117,2.748171161220091e-07,8.314553053146311e-05,0.013986077315434857,4.872473762478878e-05,2.0111936388783996e-07,0.002040223314604465,0.05190347529100388,2.037555282695568e-05],\"y\":[0.5966859465140173,0.578930700473052,0.562528948351354,0.5895155130200364,0.582370423497234,0.5857342419645191,0.5843508492013338,0.583909768210767,0.5988507996146518,0.5902405169085342,0.5855692851506309,0.5730264616680265,0.5896298568072371,0.5742114477706453,0.594041348445502,0.5825432389649106,0.5903321762308431,0.5730683620022867,0.5972849946864562],\"type\":\"scatter\",\"xaxis\":\"x4\",\"yaxis\":\"y4\"},{\"marker\":{\"color\":[1,2,10,11,13,15,18,19,28,29,30,38,46,55,57,66,69,80,87],\"colorbar\":{\"title\":{\"text\":\"Trial\"},\"x\":1.0,\"xpad\":40},\"colorscale\":[[0.0,\"rgb(247,251,255)\"],[0.125,\"rgb(222,235,247)\"],[0.25,\"rgb(198,219,239)\"],[0.375,\"rgb(158,202,225)\"],[0.5,\"rgb(107,174,214)\"],[0.625,\"rgb(66,146,198)\"],[0.75,\"rgb(33,113,181)\"],[0.875,\"rgb(8,81,156)\"],[1.0,\"rgb(8,48,107)\"]],\"line\":{\"color\":\"Grey\",\"width\":0.5},\"showscale\":false},\"mode\":\"markers\",\"showlegend\":false,\"x\":[0.00015777981883364995,0.0007250347382396634,3.1150379749311864e-08,0.8381833018218626,1.9494024383784375e-08,0.7392361189162937,8.202065000354387e-07,0.01114189352035048,3.4127940822130573e-06,0.004528224823783972,3.1293804911806003e-06,0.033272719034961436,3.1339503498964465e-05,2.7142317368052787e-07,0.09555610075545769,3.004683630231777e-05,0.0013256419356933123,1.2818931327458713e-07,0.00016879534279455371],\"y\":[0.5966859465140173,0.578930700473052,0.562528948351354,0.5895155130200364,0.582370423497234,0.5857342419645191,0.5843508492013338,0.583909768210767,0.5988507996146518,0.5902405169085342,0.5855692851506309,0.5730264616680265,0.5896298568072371,0.5742114477706453,0.594041348445502,0.5825432389649106,0.5903321762308431,0.5730683620022867,0.5972849946864562],\"type\":\"scatter\",\"xaxis\":\"x5\",\"yaxis\":\"y5\"},{\"marker\":{\"color\":[1,2,10,11,13,15,18,19,28,29,30,38,46,55,57,66,69,80,87],\"colorbar\":{\"title\":{\"text\":\"Trial\"},\"x\":1.0,\"xpad\":40},\"colorscale\":[[0.0,\"rgb(247,251,255)\"],[0.125,\"rgb(222,235,247)\"],[0.25,\"rgb(198,219,239)\"],[0.375,\"rgb(158,202,225)\"],[0.5,\"rgb(107,174,214)\"],[0.625,\"rgb(66,146,198)\"],[0.75,\"rgb(33,113,181)\"],[0.875,\"rgb(8,81,156)\"],[1.0,\"rgb(8,48,107)\"]],\"line\":{\"color\":\"Grey\",\"width\":0.5},\"showscale\":false},\"mode\":\"markers\",\"showlegend\":false,\"x\":[\"depthwise\",\"depthwise\",\"lossguide\",\"lossguide\",\"lossguide\",\"depthwise\",\"depthwise\",\"lossguide\",\"lossguide\",\"depthwise\",\"depthwise\",\"lossguide\",\"depthwise\",\"lossguide\",\"lossguide\",\"depthwise\",\"lossguide\",\"depthwise\",\"lossguide\"],\"y\":[0.5966859465140173,0.578930700473052,0.562528948351354,0.5895155130200364,0.582370423497234,0.5857342419645191,0.5843508492013338,0.583909768210767,0.5988507996146518,0.5902405169085342,0.5855692851506309,0.5730264616680265,0.5896298568072371,0.5742114477706453,0.594041348445502,0.5825432389649106,0.5903321762308431,0.5730683620022867,0.5972849946864562],\"type\":\"scatter\",\"xaxis\":\"x6\",\"yaxis\":\"y6\"},{\"marker\":{\"color\":[0,1,2,3,4,5,6,7,8,9,10,11,12,13,14,15,16,17,18,19,20,21,22,23,24,25,26,27,28,29,30,31,32,33,34,35,36,37,38,39,40,41,42,43,44,45,46,47,48,49,50,51,52,53,54,55,56,57,58,59,60,61,62,63,64,65,66,67,68,69,70,71,72,73,74,75,76,77,78,79,80,81,82,83,84,85,86,87,88,89,90,91,92,93,94,95,96,97,98,99],\"colorbar\":{\"title\":{\"text\":\"Trial\"},\"x\":1.0,\"xpad\":40},\"colorscale\":[[0.0,\"rgb(247,251,255)\"],[0.125,\"rgb(222,235,247)\"],[0.25,\"rgb(198,219,239)\"],[0.375,\"rgb(158,202,225)\"],[0.5,\"rgb(107,174,214)\"],[0.625,\"rgb(66,146,198)\"],[0.75,\"rgb(33,113,181)\"],[0.875,\"rgb(8,81,156)\"],[1.0,\"rgb(8,48,107)\"]],\"line\":{\"color\":\"Grey\",\"width\":0.5},\"showscale\":false},\"mode\":\"markers\",\"showlegend\":false,\"x\":[0.0006155564318973012,1.4610865886287176e-08,8.528933855762793e-06,2.734702913886802e-06,0.1881755597772026,0.5710537951126793,3.697114486625506e-07,1.7679748286442581e-06,3.8879928024075543e-07,7.374385355858303e-06,0.002055180372647645,0.000741784509391873,0.00013175384924462503,0.013541287183269695,0.00010132169454818179,0.016291043292264867,6.016921795012355e-08,8.861660941934052e-05,8.070469296343313e-05,3.0622264563753246e-08,0.0018110587175727863,1.1591584283680615e-07,3.165534372095266e-05,0.00137278313231426,0.012793406788603362,2.7998385848919596e-05,0.000732907246944719,0.01679936547891665,0.04900705585685877,0.0008176497000919528,0.0048761623598908566,0.08508599753359565,0.0003876393080506762,1.355203216821883e-05,0.0732778940443975,0.5901375861833634,4.322734535793039e-06,0.00026025657270689807,0.9951443193657729,0.1341067648256388,2.708380583247198e-05,0.004851150513558722,3.841125419837168e-05,1.7772272475695318e-06,0.003923777534235291,5.484809119087548e-07,0.0009947633832829781,0.00028627588725274974,0.01963542578200922,0.00029766252031886,0.025884936412561968,0.00041354404704338417,0.038000928771658254,1.0715776880652955e-05,0.1426617810148693,1.3428866885225859e-05,0.2227015856164443,0.33246285200014974,0.010430103575885311,0.06760126449870577,0.4864450851125658,7.592757985629563e-06,3.699756332810397e-06,6.559828827364351e-07,3.885526535984417e-06,0.19101146487354692,0.6675436702010726,0.12490767516394959,5.540052686332235e-05,0.00014961706049487032,4.507560375176073e-05,1.9864697751228708e-05,4.8765022180374255e-05,1.890914611357322e-05,0.00013669566688053465,1.5409935540894431e-06,0.0033470048303064033,0.031069179067867204,0.00035130643665247895,0.029222626420547862,0.2713078661844729,0.008343892862920876,0.008476462621960152,0.03830292443803928,0.0018104911123917376,0.3726172517302144,0.11741439054607841,0.19247760595484972,6.372761909335463e-06,3.1362521729450404e-07,0.052222070782142624,6.292532444858828e-07,9.214932909388634e-07,3.877437000174489e-06,2.1827179703544893e-07,2.629496165530453e-06,6.478884510728094e-06,6.086340163807685e-05,1.687191771170802e-08,1.8834114335799457e-05],\"y\":[0.6297918178933112,0.5966859465140173,0.578930700473052,0.6297918178933112,0.6297918178933112,0.6297918178933112,0.6297918178933112,0.6297918178933112,0.6297918178933112,0.6297918178933112,0.562528948351354,0.5895155130200364,0.6297918178933112,0.582370423497234,0.6297918178933112,0.5857342419645191,0.6297918178933112,0.6297918178933112,0.5843508492013338,0.583909768210767,0.6297918178933112,0.6297918178933112,0.6297918178933112,0.6297918178933112,0.6297918178933112,0.6297918178933112,0.6297918178933112,0.6297918178933112,0.5988507996146518,0.5902405169085342,0.5855692851506309,0.6297918178933112,0.6297918178933112,0.6297918178933112,0.6297918178933112,0.6297918178933112,0.6297918178933112,0.6297918178933112,0.5730264616680265,0.6297918178933112,0.6297918178933112,0.6297918178933112,0.6297918178933112,0.6297918178933112,0.6297918178933112,0.6297918178933112,0.5896298568072371,0.6297918178933112,0.6297918178933112,0.6297918178933112,0.6297918178933112,0.6297918178933112,0.6297918178933112,0.6297918178933112,0.6297918178933112,0.5742114477706453,0.6297918178933112,0.594041348445502,0.6297918178933112,0.6297918178933112,0.6297918178933112,0.6297918178933112,0.6297918178933112,0.6297918178933112,0.6297918178933112,0.6297918178933112,0.5825432389649106,0.6297918178933112,0.6297918178933112,0.5903321762308431,0.6297918178933112,0.6297918178933112,0.6297918178933112,0.6297918178933112,0.6297918178933112,0.6297918178933112,0.6297918178933112,0.6297918178933112,0.6297918178933112,0.6297918178933112,0.5730683620022867,0.6297918178933112,0.6297918178933112,0.6297918178933112,0.6297918178933112,0.6297918178933112,0.6297918178933112,0.5972849946864562,0.6297918178933112,0.6297918178933112,0.6297918178933112,0.6297918178933112,0.6297918178933112,0.6297918178933112,0.6297918178933112,0.6297918178933112,0.6297918178933112,0.6297918178933112,0.6297918178933112,0.6297918178933112],\"type\":\"scatter\",\"xaxis\":\"x7\",\"yaxis\":\"y7\"},{\"marker\":{\"color\":[1,2,10,11,13,15,18,19,28,29,30,38,46,55,57,66,69,80,87],\"colorbar\":{\"title\":{\"text\":\"Trial\"},\"x\":1.0,\"xpad\":40},\"colorscale\":[[0.0,\"rgb(247,251,255)\"],[0.125,\"rgb(222,235,247)\"],[0.25,\"rgb(198,219,239)\"],[0.375,\"rgb(158,202,225)\"],[0.5,\"rgb(107,174,214)\"],[0.625,\"rgb(66,146,198)\"],[0.75,\"rgb(33,113,181)\"],[0.875,\"rgb(8,81,156)\"],[1.0,\"rgb(8,48,107)\"]],\"line\":{\"color\":\"Grey\",\"width\":0.5},\"showscale\":false},\"mode\":\"markers\",\"showlegend\":false,\"x\":[3,7,9,3,9,5,5,7,3,7,5,9,5,7,3,9,5,7,3],\"y\":[0.5966859465140173,0.578930700473052,0.562528948351354,0.5895155130200364,0.582370423497234,0.5857342419645191,0.5843508492013338,0.583909768210767,0.5988507996146518,0.5902405169085342,0.5855692851506309,0.5730264616680265,0.5896298568072371,0.5742114477706453,0.594041348445502,0.5825432389649106,0.5903321762308431,0.5730683620022867,0.5972849946864562],\"type\":\"scatter\",\"xaxis\":\"x8\",\"yaxis\":\"y8\"},{\"marker\":{\"color\":[1,2,10,11,13,15,18,19,28,29,30,38,46,55,57,66,69,80,87],\"colorbar\":{\"title\":{\"text\":\"Trial\"},\"x\":1.0,\"xpad\":40},\"colorscale\":[[0.0,\"rgb(247,251,255)\"],[0.125,\"rgb(222,235,247)\"],[0.25,\"rgb(198,219,239)\"],[0.375,\"rgb(158,202,225)\"],[0.5,\"rgb(107,174,214)\"],[0.625,\"rgb(66,146,198)\"],[0.75,\"rgb(33,113,181)\"],[0.875,\"rgb(8,81,156)\"],[1.0,\"rgb(8,48,107)\"]],\"line\":{\"color\":\"Grey\",\"width\":0.5},\"showscale\":false},\"mode\":\"markers\",\"showlegend\":false,\"x\":[3,7,10,2,6,10,5,7,4,8,2,9,5,8,4,6,9,3,6],\"y\":[0.5966859465140173,0.578930700473052,0.562528948351354,0.5895155130200364,0.582370423497234,0.5857342419645191,0.5843508492013338,0.583909768210767,0.5988507996146518,0.5902405169085342,0.5855692851506309,0.5730264616680265,0.5896298568072371,0.5742114477706453,0.594041348445502,0.5825432389649106,0.5903321762308431,0.5730683620022867,0.5972849946864562],\"type\":\"scatter\",\"xaxis\":\"x9\",\"yaxis\":\"y9\"},{\"marker\":{\"color\":[10,11,13,19,29,46,55,66,80],\"colorbar\":{\"title\":{\"text\":\"Trial\"},\"x\":1.0,\"xpad\":40},\"colorscale\":[[0.0,\"rgb(247,251,255)\"],[0.125,\"rgb(222,235,247)\"],[0.25,\"rgb(198,219,239)\"],[0.375,\"rgb(158,202,225)\"],[0.5,\"rgb(107,174,214)\"],[0.625,\"rgb(66,146,198)\"],[0.75,\"rgb(33,113,181)\"],[0.875,\"rgb(8,81,156)\"],[1.0,\"rgb(8,48,107)\"]],\"line\":{\"color\":\"Grey\",\"width\":0.5},\"showscale\":false},\"mode\":\"markers\",\"showlegend\":false,\"x\":[\"forest\",\"tree\",\"tree\",\"forest\",\"forest\",\"tree\",\"forest\",\"tree\",\"forest\"],\"y\":[0.562528948351354,0.5895155130200364,0.582370423497234,0.583909768210767,0.5902405169085342,0.5896298568072371,0.5742114477706453,0.5825432389649106,0.5730683620022867],\"type\":\"scatter\",\"xaxis\":\"x10\",\"yaxis\":\"y10\"},{\"marker\":{\"color\":[10,11,13,19,29,46,55,66,80],\"colorbar\":{\"title\":{\"text\":\"Trial\"},\"x\":1.0,\"xpad\":40},\"colorscale\":[[0.0,\"rgb(247,251,255)\"],[0.125,\"rgb(222,235,247)\"],[0.25,\"rgb(198,219,239)\"],[0.375,\"rgb(158,202,225)\"],[0.5,\"rgb(107,174,214)\"],[0.625,\"rgb(66,146,198)\"],[0.75,\"rgb(33,113,181)\"],[0.875,\"rgb(8,81,156)\"],[1.0,\"rgb(8,48,107)\"]],\"line\":{\"color\":\"Grey\",\"width\":0.5},\"showscale\":false},\"mode\":\"markers\",\"showlegend\":false,\"x\":[2.5909032924099056e-07,0.7662369026526872,0.011635604102533892,1.318771925062875e-08,3.3411173042347354e-05,5.962714334158376e-05,0.011124013401422193,8.386058750966492e-07,0.0035403031421709255],\"y\":[0.562528948351354,0.5895155130200364,0.582370423497234,0.583909768210767,0.5902405169085342,0.5896298568072371,0.5742114477706453,0.5825432389649106,0.5730683620022867],\"type\":\"scatter\",\"xaxis\":\"x11\",\"yaxis\":\"y11\"},{\"marker\":{\"color\":[10,11,13,19,29,46,55,66,80],\"colorbar\":{\"title\":{\"text\":\"Trial\"},\"x\":1.0,\"xpad\":40},\"colorscale\":[[0.0,\"rgb(247,251,255)\"],[0.125,\"rgb(222,235,247)\"],[0.25,\"rgb(198,219,239)\"],[0.375,\"rgb(158,202,225)\"],[0.5,\"rgb(107,174,214)\"],[0.625,\"rgb(66,146,198)\"],[0.75,\"rgb(33,113,181)\"],[0.875,\"rgb(8,81,156)\"],[1.0,\"rgb(8,48,107)\"]],\"line\":{\"color\":\"Grey\",\"width\":0.5},\"showscale\":false},\"mode\":\"markers\",\"showlegend\":false,\"x\":[\"weighted\",\"uniform\",\"weighted\",\"uniform\",\"uniform\",\"weighted\",\"uniform\",\"weighted\",\"weighted\"],\"y\":[0.562528948351354,0.5895155130200364,0.582370423497234,0.583909768210767,0.5902405169085342,0.5896298568072371,0.5742114477706453,0.5825432389649106,0.5730683620022867],\"type\":\"scatter\",\"xaxis\":\"x12\",\"yaxis\":\"y12\"},{\"marker\":{\"color\":[10,11,13,19,29,46,55,66,80],\"colorbar\":{\"title\":{\"text\":\"Trial\"},\"x\":1.0,\"xpad\":40},\"colorscale\":[[0.0,\"rgb(247,251,255)\"],[0.125,\"rgb(222,235,247)\"],[0.25,\"rgb(198,219,239)\"],[0.375,\"rgb(158,202,225)\"],[0.5,\"rgb(107,174,214)\"],[0.625,\"rgb(66,146,198)\"],[0.75,\"rgb(33,113,181)\"],[0.875,\"rgb(8,81,156)\"],[1.0,\"rgb(8,48,107)\"]],\"line\":{\"color\":\"Grey\",\"width\":0.5},\"showscale\":false},\"mode\":\"markers\",\"showlegend\":false,\"x\":[0.01777442704731884,1.83892364968555e-08,0.9127457348734698,5.225709772322218e-07,6.657498473705387e-05,0.000200131171030965,5.481524010718649e-05,0.8899890438168733,8.169896957763119e-07],\"y\":[0.562528948351354,0.5895155130200364,0.582370423497234,0.583909768210767,0.5902405169085342,0.5896298568072371,0.5742114477706453,0.5825432389649106,0.5730683620022867],\"type\":\"scatter\",\"xaxis\":\"x13\",\"yaxis\":\"y13\"},{\"marker\":{\"color\":[0,1,2,3,4,5,6,7,8,9,10,11,12,13,14,15,16,17,18,19,20,21,22,23,24,25,26,27,28,29,30,31,32,33,34,35,36,37,38,39,40,41,42,43,44,45,46,47,48,49,50,51,52,53,54,55,56,57,58,59,60,61,62,63,64,65,66,67,68,69,70,71,72,73,74,75,76,77,78,79,80,81,82,83,84,85,86,87,88,89,90,91,92,93,94,95,96,97,98,99],\"colorbar\":{\"title\":{\"text\":\"Trial\"},\"x\":1.0,\"xpad\":40},\"colorscale\":[[0.0,\"rgb(247,251,255)\"],[0.125,\"rgb(222,235,247)\"],[0.25,\"rgb(198,219,239)\"],[0.375,\"rgb(158,202,225)\"],[0.5,\"rgb(107,174,214)\"],[0.625,\"rgb(66,146,198)\"],[0.75,\"rgb(33,113,181)\"],[0.875,\"rgb(8,81,156)\"],[1.0,\"rgb(8,48,107)\"]],\"line\":{\"color\":\"Grey\",\"width\":0.5},\"showscale\":false},\"mode\":\"markers\",\"showlegend\":false,\"x\":[0.32479561626896214,0.8659541126403374,0.8281407691144109,0.7473864212097256,0.7300178274831857,0.9515991532513512,0.4602642646106115,0.31273937997981016,0.8523691427638673,0.890482740700475,0.21436950049185582,0.5593035384073807,0.652343334822738,0.42565560941633485,0.7233069954213558,0.5336117879385596,0.32800501470440147,0.6589515740044737,0.20033351071253072,0.3614047783891826,0.647285834794208,0.4897213163366275,0.3088709875404846,0.6529024178393671,0.4913948335165472,0.38606975593313897,0.27360707004619184,0.5148791696821983,0.39630717272065036,0.264467691705501,0.25590452281898624,0.47058511280274773,0.3837621028103058,0.4190040229467827,0.5841087587138284,0.5203595024103488,0.42867161117326635,0.5920499485205799,0.5838191423935432,0.27898871714122936,0.8145976641937681,0.47735160517393516,0.32703909189891217,0.34846964687429816,0.6977798879561603,0.35352947113525046,0.2890281688488749,0.23584245002429088,0.9979568096179895,0.23543427540808268,0.985006380398527,0.22841044725306803,0.4390489821760093,0.3801427500923086,0.43911660309923833,0.3746544773771866,0.5524573965104749,0.5273927982984244,0.683521573615766,0.623188228601377,0.46830890532244845,0.4094887900085722,0.5885664553893206,0.555969617044696,0.6109523013462848,0.5024652658034244,0.4191066984329809,0.5245096863774501,0.8359414012414039,0.7789065618168006,0.825022310146353,0.3209674945672616,0.8884889131865822,0.3015564278305131,0.9176829822519986,0.351856523560883,0.9463732353500274,0.23034511578385364,0.972363655079451,0.2130061102217169,0.4517641685997786,0.23935065982075937,0.2533104294059727,0.44931100052621226,0.5522762685391241,0.6247697307715468,0.7029161942388273,0.6772516618890883,0.405037736172675,0.5664873298661977,0.617472792971809,0.6397937589008011,0.5547181815737005,0.5028275010489645,0.6714578597790769,0.47050451604383786,0.6072229409388411,0.8496000205388996,0.7963402753390614,0.7332169456145838],\"y\":[0.6297918178933112,0.5966859465140173,0.578930700473052,0.6297918178933112,0.6297918178933112,0.6297918178933112,0.6297918178933112,0.6297918178933112,0.6297918178933112,0.6297918178933112,0.562528948351354,0.5895155130200364,0.6297918178933112,0.582370423497234,0.6297918178933112,0.5857342419645191,0.6297918178933112,0.6297918178933112,0.5843508492013338,0.583909768210767,0.6297918178933112,0.6297918178933112,0.6297918178933112,0.6297918178933112,0.6297918178933112,0.6297918178933112,0.6297918178933112,0.6297918178933112,0.5988507996146518,0.5902405169085342,0.5855692851506309,0.6297918178933112,0.6297918178933112,0.6297918178933112,0.6297918178933112,0.6297918178933112,0.6297918178933112,0.6297918178933112,0.5730264616680265,0.6297918178933112,0.6297918178933112,0.6297918178933112,0.6297918178933112,0.6297918178933112,0.6297918178933112,0.6297918178933112,0.5896298568072371,0.6297918178933112,0.6297918178933112,0.6297918178933112,0.6297918178933112,0.6297918178933112,0.6297918178933112,0.6297918178933112,0.6297918178933112,0.5742114477706453,0.6297918178933112,0.594041348445502,0.6297918178933112,0.6297918178933112,0.6297918178933112,0.6297918178933112,0.6297918178933112,0.6297918178933112,0.6297918178933112,0.6297918178933112,0.5825432389649106,0.6297918178933112,0.6297918178933112,0.5903321762308431,0.6297918178933112,0.6297918178933112,0.6297918178933112,0.6297918178933112,0.6297918178933112,0.6297918178933112,0.6297918178933112,0.6297918178933112,0.6297918178933112,0.6297918178933112,0.5730683620022867,0.6297918178933112,0.6297918178933112,0.6297918178933112,0.6297918178933112,0.6297918178933112,0.6297918178933112,0.5972849946864562,0.6297918178933112,0.6297918178933112,0.6297918178933112,0.6297918178933112,0.6297918178933112,0.6297918178933112,0.6297918178933112,0.6297918178933112,0.6297918178933112,0.6297918178933112,0.6297918178933112,0.6297918178933112],\"type\":\"scatter\",\"xaxis\":\"x14\",\"yaxis\":\"y14\"}],                        {\"template\":{\"data\":{\"bar\":[{\"error_x\":{\"color\":\"#2a3f5f\"},\"error_y\":{\"color\":\"#2a3f5f\"},\"marker\":{\"line\":{\"color\":\"#E5ECF6\",\"width\":0.5},\"pattern\":{\"fillmode\":\"overlay\",\"size\":10,\"solidity\":0.2}},\"type\":\"bar\"}],\"barpolar\":[{\"marker\":{\"line\":{\"color\":\"#E5ECF6\",\"width\":0.5},\"pattern\":{\"fillmode\":\"overlay\",\"size\":10,\"solidity\":0.2}},\"type\":\"barpolar\"}],\"carpet\":[{\"aaxis\":{\"endlinecolor\":\"#2a3f5f\",\"gridcolor\":\"white\",\"linecolor\":\"white\",\"minorgridcolor\":\"white\",\"startlinecolor\":\"#2a3f5f\"},\"baxis\":{\"endlinecolor\":\"#2a3f5f\",\"gridcolor\":\"white\",\"linecolor\":\"white\",\"minorgridcolor\":\"white\",\"startlinecolor\":\"#2a3f5f\"},\"type\":\"carpet\"}],\"choropleth\":[{\"colorbar\":{\"outlinewidth\":0,\"ticks\":\"\"},\"type\":\"choropleth\"}],\"contour\":[{\"colorbar\":{\"outlinewidth\":0,\"ticks\":\"\"},\"colorscale\":[[0.0,\"#0d0887\"],[0.1111111111111111,\"#46039f\"],[0.2222222222222222,\"#7201a8\"],[0.3333333333333333,\"#9c179e\"],[0.4444444444444444,\"#bd3786\"],[0.5555555555555556,\"#d8576b\"],[0.6666666666666666,\"#ed7953\"],[0.7777777777777778,\"#fb9f3a\"],[0.8888888888888888,\"#fdca26\"],[1.0,\"#f0f921\"]],\"type\":\"contour\"}],\"contourcarpet\":[{\"colorbar\":{\"outlinewidth\":0,\"ticks\":\"\"},\"type\":\"contourcarpet\"}],\"heatmap\":[{\"colorbar\":{\"outlinewidth\":0,\"ticks\":\"\"},\"colorscale\":[[0.0,\"#0d0887\"],[0.1111111111111111,\"#46039f\"],[0.2222222222222222,\"#7201a8\"],[0.3333333333333333,\"#9c179e\"],[0.4444444444444444,\"#bd3786\"],[0.5555555555555556,\"#d8576b\"],[0.6666666666666666,\"#ed7953\"],[0.7777777777777778,\"#fb9f3a\"],[0.8888888888888888,\"#fdca26\"],[1.0,\"#f0f921\"]],\"type\":\"heatmap\"}],\"heatmapgl\":[{\"colorbar\":{\"outlinewidth\":0,\"ticks\":\"\"},\"colorscale\":[[0.0,\"#0d0887\"],[0.1111111111111111,\"#46039f\"],[0.2222222222222222,\"#7201a8\"],[0.3333333333333333,\"#9c179e\"],[0.4444444444444444,\"#bd3786\"],[0.5555555555555556,\"#d8576b\"],[0.6666666666666666,\"#ed7953\"],[0.7777777777777778,\"#fb9f3a\"],[0.8888888888888888,\"#fdca26\"],[1.0,\"#f0f921\"]],\"type\":\"heatmapgl\"}],\"histogram\":[{\"marker\":{\"pattern\":{\"fillmode\":\"overlay\",\"size\":10,\"solidity\":0.2}},\"type\":\"histogram\"}],\"histogram2d\":[{\"colorbar\":{\"outlinewidth\":0,\"ticks\":\"\"},\"colorscale\":[[0.0,\"#0d0887\"],[0.1111111111111111,\"#46039f\"],[0.2222222222222222,\"#7201a8\"],[0.3333333333333333,\"#9c179e\"],[0.4444444444444444,\"#bd3786\"],[0.5555555555555556,\"#d8576b\"],[0.6666666666666666,\"#ed7953\"],[0.7777777777777778,\"#fb9f3a\"],[0.8888888888888888,\"#fdca26\"],[1.0,\"#f0f921\"]],\"type\":\"histogram2d\"}],\"histogram2dcontour\":[{\"colorbar\":{\"outlinewidth\":0,\"ticks\":\"\"},\"colorscale\":[[0.0,\"#0d0887\"],[0.1111111111111111,\"#46039f\"],[0.2222222222222222,\"#7201a8\"],[0.3333333333333333,\"#9c179e\"],[0.4444444444444444,\"#bd3786\"],[0.5555555555555556,\"#d8576b\"],[0.6666666666666666,\"#ed7953\"],[0.7777777777777778,\"#fb9f3a\"],[0.8888888888888888,\"#fdca26\"],[1.0,\"#f0f921\"]],\"type\":\"histogram2dcontour\"}],\"mesh3d\":[{\"colorbar\":{\"outlinewidth\":0,\"ticks\":\"\"},\"type\":\"mesh3d\"}],\"parcoords\":[{\"line\":{\"colorbar\":{\"outlinewidth\":0,\"ticks\":\"\"}},\"type\":\"parcoords\"}],\"pie\":[{\"automargin\":true,\"type\":\"pie\"}],\"scatter\":[{\"marker\":{\"colorbar\":{\"outlinewidth\":0,\"ticks\":\"\"}},\"type\":\"scatter\"}],\"scatter3d\":[{\"line\":{\"colorbar\":{\"outlinewidth\":0,\"ticks\":\"\"}},\"marker\":{\"colorbar\":{\"outlinewidth\":0,\"ticks\":\"\"}},\"type\":\"scatter3d\"}],\"scattercarpet\":[{\"marker\":{\"colorbar\":{\"outlinewidth\":0,\"ticks\":\"\"}},\"type\":\"scattercarpet\"}],\"scattergeo\":[{\"marker\":{\"colorbar\":{\"outlinewidth\":0,\"ticks\":\"\"}},\"type\":\"scattergeo\"}],\"scattergl\":[{\"marker\":{\"colorbar\":{\"outlinewidth\":0,\"ticks\":\"\"}},\"type\":\"scattergl\"}],\"scattermapbox\":[{\"marker\":{\"colorbar\":{\"outlinewidth\":0,\"ticks\":\"\"}},\"type\":\"scattermapbox\"}],\"scatterpolar\":[{\"marker\":{\"colorbar\":{\"outlinewidth\":0,\"ticks\":\"\"}},\"type\":\"scatterpolar\"}],\"scatterpolargl\":[{\"marker\":{\"colorbar\":{\"outlinewidth\":0,\"ticks\":\"\"}},\"type\":\"scatterpolargl\"}],\"scatterternary\":[{\"marker\":{\"colorbar\":{\"outlinewidth\":0,\"ticks\":\"\"}},\"type\":\"scatterternary\"}],\"surface\":[{\"colorbar\":{\"outlinewidth\":0,\"ticks\":\"\"},\"colorscale\":[[0.0,\"#0d0887\"],[0.1111111111111111,\"#46039f\"],[0.2222222222222222,\"#7201a8\"],[0.3333333333333333,\"#9c179e\"],[0.4444444444444444,\"#bd3786\"],[0.5555555555555556,\"#d8576b\"],[0.6666666666666666,\"#ed7953\"],[0.7777777777777778,\"#fb9f3a\"],[0.8888888888888888,\"#fdca26\"],[1.0,\"#f0f921\"]],\"type\":\"surface\"}],\"table\":[{\"cells\":{\"fill\":{\"color\":\"#EBF0F8\"},\"line\":{\"color\":\"white\"}},\"header\":{\"fill\":{\"color\":\"#C8D4E3\"},\"line\":{\"color\":\"white\"}},\"type\":\"table\"}]},\"layout\":{\"annotationdefaults\":{\"arrowcolor\":\"#2a3f5f\",\"arrowhead\":0,\"arrowwidth\":1},\"autotypenumbers\":\"strict\",\"coloraxis\":{\"colorbar\":{\"outlinewidth\":0,\"ticks\":\"\"}},\"colorscale\":{\"diverging\":[[0,\"#8e0152\"],[0.1,\"#c51b7d\"],[0.2,\"#de77ae\"],[0.3,\"#f1b6da\"],[0.4,\"#fde0ef\"],[0.5,\"#f7f7f7\"],[0.6,\"#e6f5d0\"],[0.7,\"#b8e186\"],[0.8,\"#7fbc41\"],[0.9,\"#4d9221\"],[1,\"#276419\"]],\"sequential\":[[0.0,\"#0d0887\"],[0.1111111111111111,\"#46039f\"],[0.2222222222222222,\"#7201a8\"],[0.3333333333333333,\"#9c179e\"],[0.4444444444444444,\"#bd3786\"],[0.5555555555555556,\"#d8576b\"],[0.6666666666666666,\"#ed7953\"],[0.7777777777777778,\"#fb9f3a\"],[0.8888888888888888,\"#fdca26\"],[1.0,\"#f0f921\"]],\"sequentialminus\":[[0.0,\"#0d0887\"],[0.1111111111111111,\"#46039f\"],[0.2222222222222222,\"#7201a8\"],[0.3333333333333333,\"#9c179e\"],[0.4444444444444444,\"#bd3786\"],[0.5555555555555556,\"#d8576b\"],[0.6666666666666666,\"#ed7953\"],[0.7777777777777778,\"#fb9f3a\"],[0.8888888888888888,\"#fdca26\"],[1.0,\"#f0f921\"]]},\"colorway\":[\"#636efa\",\"#EF553B\",\"#00cc96\",\"#ab63fa\",\"#FFA15A\",\"#19d3f3\",\"#FF6692\",\"#B6E880\",\"#FF97FF\",\"#FECB52\"],\"font\":{\"color\":\"#2a3f5f\"},\"geo\":{\"bgcolor\":\"white\",\"lakecolor\":\"white\",\"landcolor\":\"#E5ECF6\",\"showlakes\":true,\"showland\":true,\"subunitcolor\":\"white\"},\"hoverlabel\":{\"align\":\"left\"},\"hovermode\":\"closest\",\"mapbox\":{\"style\":\"light\"},\"paper_bgcolor\":\"white\",\"plot_bgcolor\":\"#E5ECF6\",\"polar\":{\"angularaxis\":{\"gridcolor\":\"white\",\"linecolor\":\"white\",\"ticks\":\"\"},\"bgcolor\":\"#E5ECF6\",\"radialaxis\":{\"gridcolor\":\"white\",\"linecolor\":\"white\",\"ticks\":\"\"}},\"scene\":{\"xaxis\":{\"backgroundcolor\":\"#E5ECF6\",\"gridcolor\":\"white\",\"gridwidth\":2,\"linecolor\":\"white\",\"showbackground\":true,\"ticks\":\"\",\"zerolinecolor\":\"white\"},\"yaxis\":{\"backgroundcolor\":\"#E5ECF6\",\"gridcolor\":\"white\",\"gridwidth\":2,\"linecolor\":\"white\",\"showbackground\":true,\"ticks\":\"\",\"zerolinecolor\":\"white\"},\"zaxis\":{\"backgroundcolor\":\"#E5ECF6\",\"gridcolor\":\"white\",\"gridwidth\":2,\"linecolor\":\"white\",\"showbackground\":true,\"ticks\":\"\",\"zerolinecolor\":\"white\"}},\"shapedefaults\":{\"line\":{\"color\":\"#2a3f5f\"}},\"ternary\":{\"aaxis\":{\"gridcolor\":\"white\",\"linecolor\":\"white\",\"ticks\":\"\"},\"baxis\":{\"gridcolor\":\"white\",\"linecolor\":\"white\",\"ticks\":\"\"},\"bgcolor\":\"#E5ECF6\",\"caxis\":{\"gridcolor\":\"white\",\"linecolor\":\"white\",\"ticks\":\"\"}},\"title\":{\"x\":0.05},\"xaxis\":{\"automargin\":true,\"gridcolor\":\"white\",\"linecolor\":\"white\",\"ticks\":\"\",\"title\":{\"standoff\":15},\"zerolinecolor\":\"white\",\"zerolinewidth\":2},\"yaxis\":{\"automargin\":true,\"gridcolor\":\"white\",\"linecolor\":\"white\",\"ticks\":\"\",\"title\":{\"standoff\":15},\"zerolinecolor\":\"white\",\"zerolinewidth\":2}}},\"xaxis\":{\"anchor\":\"y\",\"domain\":[0.0,0.058163265306122446],\"title\":{\"text\":\"alpha\"},\"type\":\"log\"},\"yaxis\":{\"anchor\":\"x\",\"domain\":[0.0,1.0],\"title\":{\"text\":\"Objective Value\"}},\"xaxis2\":{\"anchor\":\"y2\",\"domain\":[0.07244897959183673,0.13061224489795917],\"title\":{\"text\":\"booster\"}},\"yaxis2\":{\"anchor\":\"x2\",\"domain\":[0.0,1.0],\"matches\":\"y\",\"showticklabels\":false},\"xaxis3\":{\"anchor\":\"y3\",\"domain\":[0.14489795918367346,0.2030612244897959],\"title\":{\"text\":\"colsample_bytree\"}},\"yaxis3\":{\"anchor\":\"x3\",\"domain\":[0.0,1.0],\"matches\":\"y\",\"showticklabels\":false},\"xaxis4\":{\"anchor\":\"y4\",\"domain\":[0.2173469387755102,0.2755102040816326],\"title\":{\"text\":\"eta\"},\"type\":\"log\"},\"yaxis4\":{\"anchor\":\"x4\",\"domain\":[0.0,1.0],\"matches\":\"y\",\"showticklabels\":false},\"xaxis5\":{\"anchor\":\"y5\",\"domain\":[0.2897959183673469,0.34795918367346934],\"title\":{\"text\":\"gamma\"},\"type\":\"log\"},\"yaxis5\":{\"anchor\":\"x5\",\"domain\":[0.0,1.0],\"matches\":\"y\",\"showticklabels\":false},\"xaxis6\":{\"anchor\":\"y6\",\"domain\":[0.3622448979591837,0.4204081632653061],\"title\":{\"text\":\"grow_policy\"}},\"yaxis6\":{\"anchor\":\"x6\",\"domain\":[0.0,1.0],\"matches\":\"y\",\"showticklabels\":false},\"xaxis7\":{\"anchor\":\"y7\",\"domain\":[0.4346938775510204,0.4928571428571428],\"title\":{\"text\":\"lambda\"},\"type\":\"log\"},\"yaxis7\":{\"anchor\":\"x7\",\"domain\":[0.0,1.0],\"matches\":\"y\",\"showticklabels\":false},\"xaxis8\":{\"anchor\":\"y8\",\"domain\":[0.5071428571428571,0.5653061224489796],\"title\":{\"text\":\"max_depth\"}},\"yaxis8\":{\"anchor\":\"x8\",\"domain\":[0.0,1.0],\"matches\":\"y\",\"showticklabels\":false},\"xaxis9\":{\"anchor\":\"y9\",\"domain\":[0.5795918367346938,0.6377551020408163],\"title\":{\"text\":\"min_child_weight\"}},\"yaxis9\":{\"anchor\":\"x9\",\"domain\":[0.0,1.0],\"matches\":\"y\",\"showticklabels\":false},\"xaxis10\":{\"anchor\":\"y10\",\"domain\":[0.6520408163265305,0.710204081632653],\"title\":{\"text\":\"normalize_type\"}},\"yaxis10\":{\"anchor\":\"x10\",\"domain\":[0.0,1.0],\"matches\":\"y\",\"showticklabels\":false},\"xaxis11\":{\"anchor\":\"y11\",\"domain\":[0.7244897959183674,0.7826530612244899],\"title\":{\"text\":\"rate_drop\"},\"type\":\"log\"},\"yaxis11\":{\"anchor\":\"x11\",\"domain\":[0.0,1.0],\"matches\":\"y\",\"showticklabels\":false},\"xaxis12\":{\"anchor\":\"y12\",\"domain\":[0.7969387755102041,0.8551020408163266],\"title\":{\"text\":\"sample_type\"}},\"yaxis12\":{\"anchor\":\"x12\",\"domain\":[0.0,1.0],\"matches\":\"y\",\"showticklabels\":false},\"xaxis13\":{\"anchor\":\"y13\",\"domain\":[0.8693877551020408,0.9275510204081633],\"title\":{\"text\":\"skip_drop\"},\"type\":\"log\"},\"yaxis13\":{\"anchor\":\"x13\",\"domain\":[0.0,1.0],\"matches\":\"y\",\"showticklabels\":false},\"xaxis14\":{\"anchor\":\"y14\",\"domain\":[0.9418367346938776,1.0],\"title\":{\"text\":\"subsample\"}},\"yaxis14\":{\"anchor\":\"x14\",\"domain\":[0.0,1.0],\"matches\":\"y\",\"showticklabels\":false},\"title\":{\"text\":\"Slice Plot\"},\"width\":4200},                        {\"responsive\": true}                    ).then(function(){\n",
              "                            \n",
              "var gd = document.getElementById('d3620703-ac6c-4d58-89a4-30c9b920e179');\n",
              "var x = new MutationObserver(function (mutations, observer) {{\n",
              "        var display = window.getComputedStyle(gd).display;\n",
              "        if (!display || display === 'none') {{\n",
              "            console.log([gd, 'removed!']);\n",
              "            Plotly.purge(gd);\n",
              "            observer.disconnect();\n",
              "        }}\n",
              "}});\n",
              "\n",
              "// Listen for the removal of the full notebook cells\n",
              "var notebookContainer = gd.closest('#notebook-container');\n",
              "if (notebookContainer) {{\n",
              "    x.observe(notebookContainer, {childList: true});\n",
              "}}\n",
              "\n",
              "// Listen for the clearing of the current output cell\n",
              "var outputEl = gd.closest('.output');\n",
              "if (outputEl) {{\n",
              "    x.observe(outputEl, {childList: true});\n",
              "}}\n",
              "\n",
              "                        })                };                            </script>        </div>\n",
              "</body>\n",
              "</html>"
            ]
          },
          "metadata": {}
        }
      ]
    },
    {
      "cell_type": "code",
      "source": [
        "optuna.visualization.plot_param_importances(study)"
      ],
      "metadata": {
        "id": "NNAp3JRB-mO9",
        "colab": {
          "base_uri": "https://localhost:8080/",
          "height": 542
        },
        "outputId": "715e1465-7a0e-40bb-bc37-e026aa214b04"
      },
      "execution_count": 414,
      "outputs": [
        {
          "output_type": "display_data",
          "data": {
            "text/html": [
              "<html>\n",
              "<head><meta charset=\"utf-8\" /></head>\n",
              "<body>\n",
              "    <div>            <script src=\"https://cdnjs.cloudflare.com/ajax/libs/mathjax/2.7.5/MathJax.js?config=TeX-AMS-MML_SVG\"></script><script type=\"text/javascript\">if (window.MathJax) {MathJax.Hub.Config({SVG: {font: \"STIX-Web\"}});}</script>                <script type=\"text/javascript\">window.PlotlyConfig = {MathJaxConfig: 'local'};</script>\n",
              "        <script src=\"https://cdn.plot.ly/plotly-2.8.3.min.js\"></script>                <div id=\"3aeb1cee-7888-4d68-96b5-45ac1c4f25a0\" class=\"plotly-graph-div\" style=\"height:525px; width:100%;\"></div>            <script type=\"text/javascript\">                                    window.PLOTLYENV=window.PLOTLYENV || {};                                    if (document.getElementById(\"3aeb1cee-7888-4d68-96b5-45ac1c4f25a0\")) {                    Plotly.newPlot(                        \"3aeb1cee-7888-4d68-96b5-45ac1c4f25a0\",                        [{\"cliponaxis\":false,\"hovertemplate\":[\"alpha (FloatDistribution): 0.0011706940907333992<extra></extra>\",\"subsample (FloatDistribution): 0.004293091913066015<extra></extra>\",\"lambda (FloatDistribution): 0.005449217745950106<extra></extra>\",\"colsample_bytree (FloatDistribution): 0.021007504572624222<extra></extra>\",\"booster (CategoricalDistribution): 0.9680794916776263<extra></extra>\"],\"marker\":{\"color\":\"rgb(66,146,198)\"},\"orientation\":\"h\",\"text\":[\"<0.01\",\"<0.01\",\"<0.01\",\"0.02\",\"0.97\"],\"textposition\":\"outside\",\"x\":[0.0011706940907333992,0.004293091913066015,0.005449217745950106,0.021007504572624222,0.9680794916776263],\"y\":[\"alpha\",\"subsample\",\"lambda\",\"colsample_bytree\",\"booster\"],\"type\":\"bar\"}],                        {\"showlegend\":false,\"title\":{\"text\":\"Hyperparameter Importances\"},\"xaxis\":{\"title\":{\"text\":\"Importance for Objective Value\"}},\"yaxis\":{\"title\":{\"text\":\"Hyperparameter\"}},\"template\":{\"data\":{\"bar\":[{\"error_x\":{\"color\":\"#2a3f5f\"},\"error_y\":{\"color\":\"#2a3f5f\"},\"marker\":{\"line\":{\"color\":\"#E5ECF6\",\"width\":0.5},\"pattern\":{\"fillmode\":\"overlay\",\"size\":10,\"solidity\":0.2}},\"type\":\"bar\"}],\"barpolar\":[{\"marker\":{\"line\":{\"color\":\"#E5ECF6\",\"width\":0.5},\"pattern\":{\"fillmode\":\"overlay\",\"size\":10,\"solidity\":0.2}},\"type\":\"barpolar\"}],\"carpet\":[{\"aaxis\":{\"endlinecolor\":\"#2a3f5f\",\"gridcolor\":\"white\",\"linecolor\":\"white\",\"minorgridcolor\":\"white\",\"startlinecolor\":\"#2a3f5f\"},\"baxis\":{\"endlinecolor\":\"#2a3f5f\",\"gridcolor\":\"white\",\"linecolor\":\"white\",\"minorgridcolor\":\"white\",\"startlinecolor\":\"#2a3f5f\"},\"type\":\"carpet\"}],\"choropleth\":[{\"colorbar\":{\"outlinewidth\":0,\"ticks\":\"\"},\"type\":\"choropleth\"}],\"contour\":[{\"colorbar\":{\"outlinewidth\":0,\"ticks\":\"\"},\"colorscale\":[[0.0,\"#0d0887\"],[0.1111111111111111,\"#46039f\"],[0.2222222222222222,\"#7201a8\"],[0.3333333333333333,\"#9c179e\"],[0.4444444444444444,\"#bd3786\"],[0.5555555555555556,\"#d8576b\"],[0.6666666666666666,\"#ed7953\"],[0.7777777777777778,\"#fb9f3a\"],[0.8888888888888888,\"#fdca26\"],[1.0,\"#f0f921\"]],\"type\":\"contour\"}],\"contourcarpet\":[{\"colorbar\":{\"outlinewidth\":0,\"ticks\":\"\"},\"type\":\"contourcarpet\"}],\"heatmap\":[{\"colorbar\":{\"outlinewidth\":0,\"ticks\":\"\"},\"colorscale\":[[0.0,\"#0d0887\"],[0.1111111111111111,\"#46039f\"],[0.2222222222222222,\"#7201a8\"],[0.3333333333333333,\"#9c179e\"],[0.4444444444444444,\"#bd3786\"],[0.5555555555555556,\"#d8576b\"],[0.6666666666666666,\"#ed7953\"],[0.7777777777777778,\"#fb9f3a\"],[0.8888888888888888,\"#fdca26\"],[1.0,\"#f0f921\"]],\"type\":\"heatmap\"}],\"heatmapgl\":[{\"colorbar\":{\"outlinewidth\":0,\"ticks\":\"\"},\"colorscale\":[[0.0,\"#0d0887\"],[0.1111111111111111,\"#46039f\"],[0.2222222222222222,\"#7201a8\"],[0.3333333333333333,\"#9c179e\"],[0.4444444444444444,\"#bd3786\"],[0.5555555555555556,\"#d8576b\"],[0.6666666666666666,\"#ed7953\"],[0.7777777777777778,\"#fb9f3a\"],[0.8888888888888888,\"#fdca26\"],[1.0,\"#f0f921\"]],\"type\":\"heatmapgl\"}],\"histogram\":[{\"marker\":{\"pattern\":{\"fillmode\":\"overlay\",\"size\":10,\"solidity\":0.2}},\"type\":\"histogram\"}],\"histogram2d\":[{\"colorbar\":{\"outlinewidth\":0,\"ticks\":\"\"},\"colorscale\":[[0.0,\"#0d0887\"],[0.1111111111111111,\"#46039f\"],[0.2222222222222222,\"#7201a8\"],[0.3333333333333333,\"#9c179e\"],[0.4444444444444444,\"#bd3786\"],[0.5555555555555556,\"#d8576b\"],[0.6666666666666666,\"#ed7953\"],[0.7777777777777778,\"#fb9f3a\"],[0.8888888888888888,\"#fdca26\"],[1.0,\"#f0f921\"]],\"type\":\"histogram2d\"}],\"histogram2dcontour\":[{\"colorbar\":{\"outlinewidth\":0,\"ticks\":\"\"},\"colorscale\":[[0.0,\"#0d0887\"],[0.1111111111111111,\"#46039f\"],[0.2222222222222222,\"#7201a8\"],[0.3333333333333333,\"#9c179e\"],[0.4444444444444444,\"#bd3786\"],[0.5555555555555556,\"#d8576b\"],[0.6666666666666666,\"#ed7953\"],[0.7777777777777778,\"#fb9f3a\"],[0.8888888888888888,\"#fdca26\"],[1.0,\"#f0f921\"]],\"type\":\"histogram2dcontour\"}],\"mesh3d\":[{\"colorbar\":{\"outlinewidth\":0,\"ticks\":\"\"},\"type\":\"mesh3d\"}],\"parcoords\":[{\"line\":{\"colorbar\":{\"outlinewidth\":0,\"ticks\":\"\"}},\"type\":\"parcoords\"}],\"pie\":[{\"automargin\":true,\"type\":\"pie\"}],\"scatter\":[{\"marker\":{\"colorbar\":{\"outlinewidth\":0,\"ticks\":\"\"}},\"type\":\"scatter\"}],\"scatter3d\":[{\"line\":{\"colorbar\":{\"outlinewidth\":0,\"ticks\":\"\"}},\"marker\":{\"colorbar\":{\"outlinewidth\":0,\"ticks\":\"\"}},\"type\":\"scatter3d\"}],\"scattercarpet\":[{\"marker\":{\"colorbar\":{\"outlinewidth\":0,\"ticks\":\"\"}},\"type\":\"scattercarpet\"}],\"scattergeo\":[{\"marker\":{\"colorbar\":{\"outlinewidth\":0,\"ticks\":\"\"}},\"type\":\"scattergeo\"}],\"scattergl\":[{\"marker\":{\"colorbar\":{\"outlinewidth\":0,\"ticks\":\"\"}},\"type\":\"scattergl\"}],\"scattermapbox\":[{\"marker\":{\"colorbar\":{\"outlinewidth\":0,\"ticks\":\"\"}},\"type\":\"scattermapbox\"}],\"scatterpolar\":[{\"marker\":{\"colorbar\":{\"outlinewidth\":0,\"ticks\":\"\"}},\"type\":\"scatterpolar\"}],\"scatterpolargl\":[{\"marker\":{\"colorbar\":{\"outlinewidth\":0,\"ticks\":\"\"}},\"type\":\"scatterpolargl\"}],\"scatterternary\":[{\"marker\":{\"colorbar\":{\"outlinewidth\":0,\"ticks\":\"\"}},\"type\":\"scatterternary\"}],\"surface\":[{\"colorbar\":{\"outlinewidth\":0,\"ticks\":\"\"},\"colorscale\":[[0.0,\"#0d0887\"],[0.1111111111111111,\"#46039f\"],[0.2222222222222222,\"#7201a8\"],[0.3333333333333333,\"#9c179e\"],[0.4444444444444444,\"#bd3786\"],[0.5555555555555556,\"#d8576b\"],[0.6666666666666666,\"#ed7953\"],[0.7777777777777778,\"#fb9f3a\"],[0.8888888888888888,\"#fdca26\"],[1.0,\"#f0f921\"]],\"type\":\"surface\"}],\"table\":[{\"cells\":{\"fill\":{\"color\":\"#EBF0F8\"},\"line\":{\"color\":\"white\"}},\"header\":{\"fill\":{\"color\":\"#C8D4E3\"},\"line\":{\"color\":\"white\"}},\"type\":\"table\"}]},\"layout\":{\"annotationdefaults\":{\"arrowcolor\":\"#2a3f5f\",\"arrowhead\":0,\"arrowwidth\":1},\"autotypenumbers\":\"strict\",\"coloraxis\":{\"colorbar\":{\"outlinewidth\":0,\"ticks\":\"\"}},\"colorscale\":{\"diverging\":[[0,\"#8e0152\"],[0.1,\"#c51b7d\"],[0.2,\"#de77ae\"],[0.3,\"#f1b6da\"],[0.4,\"#fde0ef\"],[0.5,\"#f7f7f7\"],[0.6,\"#e6f5d0\"],[0.7,\"#b8e186\"],[0.8,\"#7fbc41\"],[0.9,\"#4d9221\"],[1,\"#276419\"]],\"sequential\":[[0.0,\"#0d0887\"],[0.1111111111111111,\"#46039f\"],[0.2222222222222222,\"#7201a8\"],[0.3333333333333333,\"#9c179e\"],[0.4444444444444444,\"#bd3786\"],[0.5555555555555556,\"#d8576b\"],[0.6666666666666666,\"#ed7953\"],[0.7777777777777778,\"#fb9f3a\"],[0.8888888888888888,\"#fdca26\"],[1.0,\"#f0f921\"]],\"sequentialminus\":[[0.0,\"#0d0887\"],[0.1111111111111111,\"#46039f\"],[0.2222222222222222,\"#7201a8\"],[0.3333333333333333,\"#9c179e\"],[0.4444444444444444,\"#bd3786\"],[0.5555555555555556,\"#d8576b\"],[0.6666666666666666,\"#ed7953\"],[0.7777777777777778,\"#fb9f3a\"],[0.8888888888888888,\"#fdca26\"],[1.0,\"#f0f921\"]]},\"colorway\":[\"#636efa\",\"#EF553B\",\"#00cc96\",\"#ab63fa\",\"#FFA15A\",\"#19d3f3\",\"#FF6692\",\"#B6E880\",\"#FF97FF\",\"#FECB52\"],\"font\":{\"color\":\"#2a3f5f\"},\"geo\":{\"bgcolor\":\"white\",\"lakecolor\":\"white\",\"landcolor\":\"#E5ECF6\",\"showlakes\":true,\"showland\":true,\"subunitcolor\":\"white\"},\"hoverlabel\":{\"align\":\"left\"},\"hovermode\":\"closest\",\"mapbox\":{\"style\":\"light\"},\"paper_bgcolor\":\"white\",\"plot_bgcolor\":\"#E5ECF6\",\"polar\":{\"angularaxis\":{\"gridcolor\":\"white\",\"linecolor\":\"white\",\"ticks\":\"\"},\"bgcolor\":\"#E5ECF6\",\"radialaxis\":{\"gridcolor\":\"white\",\"linecolor\":\"white\",\"ticks\":\"\"}},\"scene\":{\"xaxis\":{\"backgroundcolor\":\"#E5ECF6\",\"gridcolor\":\"white\",\"gridwidth\":2,\"linecolor\":\"white\",\"showbackground\":true,\"ticks\":\"\",\"zerolinecolor\":\"white\"},\"yaxis\":{\"backgroundcolor\":\"#E5ECF6\",\"gridcolor\":\"white\",\"gridwidth\":2,\"linecolor\":\"white\",\"showbackground\":true,\"ticks\":\"\",\"zerolinecolor\":\"white\"},\"zaxis\":{\"backgroundcolor\":\"#E5ECF6\",\"gridcolor\":\"white\",\"gridwidth\":2,\"linecolor\":\"white\",\"showbackground\":true,\"ticks\":\"\",\"zerolinecolor\":\"white\"}},\"shapedefaults\":{\"line\":{\"color\":\"#2a3f5f\"}},\"ternary\":{\"aaxis\":{\"gridcolor\":\"white\",\"linecolor\":\"white\",\"ticks\":\"\"},\"baxis\":{\"gridcolor\":\"white\",\"linecolor\":\"white\",\"ticks\":\"\"},\"bgcolor\":\"#E5ECF6\",\"caxis\":{\"gridcolor\":\"white\",\"linecolor\":\"white\",\"ticks\":\"\"}},\"title\":{\"x\":0.05},\"xaxis\":{\"automargin\":true,\"gridcolor\":\"white\",\"linecolor\":\"white\",\"ticks\":\"\",\"title\":{\"standoff\":15},\"zerolinecolor\":\"white\",\"zerolinewidth\":2},\"yaxis\":{\"automargin\":true,\"gridcolor\":\"white\",\"linecolor\":\"white\",\"ticks\":\"\",\"title\":{\"standoff\":15},\"zerolinecolor\":\"white\",\"zerolinewidth\":2}}}},                        {\"responsive\": true}                    ).then(function(){\n",
              "                            \n",
              "var gd = document.getElementById('3aeb1cee-7888-4d68-96b5-45ac1c4f25a0');\n",
              "var x = new MutationObserver(function (mutations, observer) {{\n",
              "        var display = window.getComputedStyle(gd).display;\n",
              "        if (!display || display === 'none') {{\n",
              "            console.log([gd, 'removed!']);\n",
              "            Plotly.purge(gd);\n",
              "            observer.disconnect();\n",
              "        }}\n",
              "}});\n",
              "\n",
              "// Listen for the removal of the full notebook cells\n",
              "var notebookContainer = gd.closest('#notebook-container');\n",
              "if (notebookContainer) {{\n",
              "    x.observe(notebookContainer, {childList: true});\n",
              "}}\n",
              "\n",
              "// Listen for the clearing of the current output cell\n",
              "var outputEl = gd.closest('.output');\n",
              "if (outputEl) {{\n",
              "    x.observe(outputEl, {childList: true});\n",
              "}}\n",
              "\n",
              "                        })                };                            </script>        </div>\n",
              "</body>\n",
              "</html>"
            ]
          },
          "metadata": {}
        }
      ]
    },
    {
      "cell_type": "code",
      "source": [
        "optuna.visualization.plot_edf(study)"
      ],
      "metadata": {
        "id": "n9PNUKQS-oUO",
        "colab": {
          "base_uri": "https://localhost:8080/",
          "height": 542
        },
        "outputId": "9a7c1c96-266c-45bf-fe66-97e25cc25805"
      },
      "execution_count": 415,
      "outputs": [
        {
          "output_type": "display_data",
          "data": {
            "text/html": [
              "<html>\n",
              "<head><meta charset=\"utf-8\" /></head>\n",
              "<body>\n",
              "    <div>            <script src=\"https://cdnjs.cloudflare.com/ajax/libs/mathjax/2.7.5/MathJax.js?config=TeX-AMS-MML_SVG\"></script><script type=\"text/javascript\">if (window.MathJax) {MathJax.Hub.Config({SVG: {font: \"STIX-Web\"}});}</script>                <script type=\"text/javascript\">window.PlotlyConfig = {MathJaxConfig: 'local'};</script>\n",
              "        <script src=\"https://cdn.plot.ly/plotly-2.8.3.min.js\"></script>                <div id=\"0f555d3e-c2e2-4374-bb42-9f0b53421c45\" class=\"plotly-graph-div\" style=\"height:525px; width:100%;\"></div>            <script type=\"text/javascript\">                                    window.PLOTLYENV=window.PLOTLYENV || {};                                    if (document.getElementById(\"0f555d3e-c2e2-4374-bb42-9f0b53421c45\")) {                    Plotly.newPlot(                        \"0f555d3e-c2e2-4374-bb42-9f0b53421c45\",                        [{\"mode\":\"lines\",\"name\":\"no-name-e0b9a14c-6d92-4c53-95d4-f2f2cb56ba3d\",\"x\":[0.562528948351354,0.5632083712760203,0.5638877942006865,0.5645672171253527,0.565246640050019,0.5659260629746852,0.5666054858993514,0.5672849088240177,0.5679643317486839,0.5686437546733502,0.5693231775980163,0.5700026005226826,0.5706820234473489,0.571361446372015,0.5720408692966813,0.5727202922213476,0.5733997151460137,0.57407913807068,0.5747585609953463,0.5754379839200124,0.5761174068446787,0.576796829769345,0.5774762526940111,0.5781556756186774,0.5788350985433437,0.5795145214680099,0.5801939443926761,0.5808733673173423,0.5815527902420086,0.5822322131666748,0.582911636091341,0.5835910590160073,0.5842704819406735,0.5849499048653397,0.585629327790006,0.5863087507146723,0.5869881736393384,0.5876675965640047,0.588347019488671,0.5890264424133371,0.5897058653380034,0.5903852882626697,0.5910647111873358,0.5917441341120021,0.5924235570366683,0.5931029799613345,0.5937824028860008,0.594461825810667,0.5951412487353333,0.5958206716599995,0.5965000945846657,0.597179517509332,0.5978589404339982,0.5985383633586644,0.5992177862833307,0.5998972092079969,0.6005766321326631,0.6012560550573294,0.6019354779819956,0.6026149009066618,0.6032943238313281,0.6039737467559942,0.6046531696806605,0.6053325926053268,0.606012015529993,0.6066914384546592,0.6073708613793255,0.6080502843039917,0.6087297072286579,0.6094091301533242,0.6100885530779904,0.6107679760026566,0.6114473989273229,0.6121268218519891,0.6128062447766554,0.6134856677013216,0.6141650906259878,0.6148445135506541,0.6155239364753202,0.6162033593999865,0.6168827823246528,0.6175622052493189,0.6182416281739852,0.6189210510986515,0.6196004740233176,0.6202798969479839,0.6209593198726502,0.6216387427973163,0.6223181657219826,0.6229975886466489,0.623677011571315,0.6243564344959813,0.6250358574206476,0.6257152803453138,0.62639470326998,0.6270741261946462,0.6277535491193125,0.6284329720439787,0.6291123949686449,0.6297918178933112],\"y\":[0.01,0.01,0.01,0.01,0.01,0.01,0.01,0.01,0.01,0.01,0.01,0.01,0.01,0.01,0.01,0.01,0.03,0.03,0.04,0.04,0.04,0.04,0.04,0.04,0.04,0.05,0.05,0.05,0.05,0.05,0.07,0.07,0.08,0.09,0.1,0.11,0.11,0.11,0.11,0.11,0.13,0.15,0.15,0.15,0.15,0.15,0.15,0.16,0.16,0.16,0.16,0.17,0.18,0.18,0.19,0.19,0.19,0.19,0.19,0.19,0.19,0.19,0.19,0.19,0.19,0.19,0.19,0.19,0.19,0.19,0.19,0.19,0.19,0.19,0.19,0.19,0.19,0.19,0.19,0.19,0.19,0.19,0.19,0.19,0.19,0.19,0.19,0.19,0.19,0.19,0.19,0.19,0.19,0.19,0.19,0.19,0.19,0.19,0.19,1.0],\"type\":\"scatter\"}],                        {\"title\":{\"text\":\"Empirical Distribution Function Plot\"},\"xaxis\":{\"title\":{\"text\":\"Objective Value\"}},\"yaxis\":{\"title\":{\"text\":\"Cumulative Probability\"},\"range\":[0,1]},\"template\":{\"data\":{\"bar\":[{\"error_x\":{\"color\":\"#2a3f5f\"},\"error_y\":{\"color\":\"#2a3f5f\"},\"marker\":{\"line\":{\"color\":\"#E5ECF6\",\"width\":0.5},\"pattern\":{\"fillmode\":\"overlay\",\"size\":10,\"solidity\":0.2}},\"type\":\"bar\"}],\"barpolar\":[{\"marker\":{\"line\":{\"color\":\"#E5ECF6\",\"width\":0.5},\"pattern\":{\"fillmode\":\"overlay\",\"size\":10,\"solidity\":0.2}},\"type\":\"barpolar\"}],\"carpet\":[{\"aaxis\":{\"endlinecolor\":\"#2a3f5f\",\"gridcolor\":\"white\",\"linecolor\":\"white\",\"minorgridcolor\":\"white\",\"startlinecolor\":\"#2a3f5f\"},\"baxis\":{\"endlinecolor\":\"#2a3f5f\",\"gridcolor\":\"white\",\"linecolor\":\"white\",\"minorgridcolor\":\"white\",\"startlinecolor\":\"#2a3f5f\"},\"type\":\"carpet\"}],\"choropleth\":[{\"colorbar\":{\"outlinewidth\":0,\"ticks\":\"\"},\"type\":\"choropleth\"}],\"contour\":[{\"colorbar\":{\"outlinewidth\":0,\"ticks\":\"\"},\"colorscale\":[[0.0,\"#0d0887\"],[0.1111111111111111,\"#46039f\"],[0.2222222222222222,\"#7201a8\"],[0.3333333333333333,\"#9c179e\"],[0.4444444444444444,\"#bd3786\"],[0.5555555555555556,\"#d8576b\"],[0.6666666666666666,\"#ed7953\"],[0.7777777777777778,\"#fb9f3a\"],[0.8888888888888888,\"#fdca26\"],[1.0,\"#f0f921\"]],\"type\":\"contour\"}],\"contourcarpet\":[{\"colorbar\":{\"outlinewidth\":0,\"ticks\":\"\"},\"type\":\"contourcarpet\"}],\"heatmap\":[{\"colorbar\":{\"outlinewidth\":0,\"ticks\":\"\"},\"colorscale\":[[0.0,\"#0d0887\"],[0.1111111111111111,\"#46039f\"],[0.2222222222222222,\"#7201a8\"],[0.3333333333333333,\"#9c179e\"],[0.4444444444444444,\"#bd3786\"],[0.5555555555555556,\"#d8576b\"],[0.6666666666666666,\"#ed7953\"],[0.7777777777777778,\"#fb9f3a\"],[0.8888888888888888,\"#fdca26\"],[1.0,\"#f0f921\"]],\"type\":\"heatmap\"}],\"heatmapgl\":[{\"colorbar\":{\"outlinewidth\":0,\"ticks\":\"\"},\"colorscale\":[[0.0,\"#0d0887\"],[0.1111111111111111,\"#46039f\"],[0.2222222222222222,\"#7201a8\"],[0.3333333333333333,\"#9c179e\"],[0.4444444444444444,\"#bd3786\"],[0.5555555555555556,\"#d8576b\"],[0.6666666666666666,\"#ed7953\"],[0.7777777777777778,\"#fb9f3a\"],[0.8888888888888888,\"#fdca26\"],[1.0,\"#f0f921\"]],\"type\":\"heatmapgl\"}],\"histogram\":[{\"marker\":{\"pattern\":{\"fillmode\":\"overlay\",\"size\":10,\"solidity\":0.2}},\"type\":\"histogram\"}],\"histogram2d\":[{\"colorbar\":{\"outlinewidth\":0,\"ticks\":\"\"},\"colorscale\":[[0.0,\"#0d0887\"],[0.1111111111111111,\"#46039f\"],[0.2222222222222222,\"#7201a8\"],[0.3333333333333333,\"#9c179e\"],[0.4444444444444444,\"#bd3786\"],[0.5555555555555556,\"#d8576b\"],[0.6666666666666666,\"#ed7953\"],[0.7777777777777778,\"#fb9f3a\"],[0.8888888888888888,\"#fdca26\"],[1.0,\"#f0f921\"]],\"type\":\"histogram2d\"}],\"histogram2dcontour\":[{\"colorbar\":{\"outlinewidth\":0,\"ticks\":\"\"},\"colorscale\":[[0.0,\"#0d0887\"],[0.1111111111111111,\"#46039f\"],[0.2222222222222222,\"#7201a8\"],[0.3333333333333333,\"#9c179e\"],[0.4444444444444444,\"#bd3786\"],[0.5555555555555556,\"#d8576b\"],[0.6666666666666666,\"#ed7953\"],[0.7777777777777778,\"#fb9f3a\"],[0.8888888888888888,\"#fdca26\"],[1.0,\"#f0f921\"]],\"type\":\"histogram2dcontour\"}],\"mesh3d\":[{\"colorbar\":{\"outlinewidth\":0,\"ticks\":\"\"},\"type\":\"mesh3d\"}],\"parcoords\":[{\"line\":{\"colorbar\":{\"outlinewidth\":0,\"ticks\":\"\"}},\"type\":\"parcoords\"}],\"pie\":[{\"automargin\":true,\"type\":\"pie\"}],\"scatter\":[{\"marker\":{\"colorbar\":{\"outlinewidth\":0,\"ticks\":\"\"}},\"type\":\"scatter\"}],\"scatter3d\":[{\"line\":{\"colorbar\":{\"outlinewidth\":0,\"ticks\":\"\"}},\"marker\":{\"colorbar\":{\"outlinewidth\":0,\"ticks\":\"\"}},\"type\":\"scatter3d\"}],\"scattercarpet\":[{\"marker\":{\"colorbar\":{\"outlinewidth\":0,\"ticks\":\"\"}},\"type\":\"scattercarpet\"}],\"scattergeo\":[{\"marker\":{\"colorbar\":{\"outlinewidth\":0,\"ticks\":\"\"}},\"type\":\"scattergeo\"}],\"scattergl\":[{\"marker\":{\"colorbar\":{\"outlinewidth\":0,\"ticks\":\"\"}},\"type\":\"scattergl\"}],\"scattermapbox\":[{\"marker\":{\"colorbar\":{\"outlinewidth\":0,\"ticks\":\"\"}},\"type\":\"scattermapbox\"}],\"scatterpolar\":[{\"marker\":{\"colorbar\":{\"outlinewidth\":0,\"ticks\":\"\"}},\"type\":\"scatterpolar\"}],\"scatterpolargl\":[{\"marker\":{\"colorbar\":{\"outlinewidth\":0,\"ticks\":\"\"}},\"type\":\"scatterpolargl\"}],\"scatterternary\":[{\"marker\":{\"colorbar\":{\"outlinewidth\":0,\"ticks\":\"\"}},\"type\":\"scatterternary\"}],\"surface\":[{\"colorbar\":{\"outlinewidth\":0,\"ticks\":\"\"},\"colorscale\":[[0.0,\"#0d0887\"],[0.1111111111111111,\"#46039f\"],[0.2222222222222222,\"#7201a8\"],[0.3333333333333333,\"#9c179e\"],[0.4444444444444444,\"#bd3786\"],[0.5555555555555556,\"#d8576b\"],[0.6666666666666666,\"#ed7953\"],[0.7777777777777778,\"#fb9f3a\"],[0.8888888888888888,\"#fdca26\"],[1.0,\"#f0f921\"]],\"type\":\"surface\"}],\"table\":[{\"cells\":{\"fill\":{\"color\":\"#EBF0F8\"},\"line\":{\"color\":\"white\"}},\"header\":{\"fill\":{\"color\":\"#C8D4E3\"},\"line\":{\"color\":\"white\"}},\"type\":\"table\"}]},\"layout\":{\"annotationdefaults\":{\"arrowcolor\":\"#2a3f5f\",\"arrowhead\":0,\"arrowwidth\":1},\"autotypenumbers\":\"strict\",\"coloraxis\":{\"colorbar\":{\"outlinewidth\":0,\"ticks\":\"\"}},\"colorscale\":{\"diverging\":[[0,\"#8e0152\"],[0.1,\"#c51b7d\"],[0.2,\"#de77ae\"],[0.3,\"#f1b6da\"],[0.4,\"#fde0ef\"],[0.5,\"#f7f7f7\"],[0.6,\"#e6f5d0\"],[0.7,\"#b8e186\"],[0.8,\"#7fbc41\"],[0.9,\"#4d9221\"],[1,\"#276419\"]],\"sequential\":[[0.0,\"#0d0887\"],[0.1111111111111111,\"#46039f\"],[0.2222222222222222,\"#7201a8\"],[0.3333333333333333,\"#9c179e\"],[0.4444444444444444,\"#bd3786\"],[0.5555555555555556,\"#d8576b\"],[0.6666666666666666,\"#ed7953\"],[0.7777777777777778,\"#fb9f3a\"],[0.8888888888888888,\"#fdca26\"],[1.0,\"#f0f921\"]],\"sequentialminus\":[[0.0,\"#0d0887\"],[0.1111111111111111,\"#46039f\"],[0.2222222222222222,\"#7201a8\"],[0.3333333333333333,\"#9c179e\"],[0.4444444444444444,\"#bd3786\"],[0.5555555555555556,\"#d8576b\"],[0.6666666666666666,\"#ed7953\"],[0.7777777777777778,\"#fb9f3a\"],[0.8888888888888888,\"#fdca26\"],[1.0,\"#f0f921\"]]},\"colorway\":[\"#636efa\",\"#EF553B\",\"#00cc96\",\"#ab63fa\",\"#FFA15A\",\"#19d3f3\",\"#FF6692\",\"#B6E880\",\"#FF97FF\",\"#FECB52\"],\"font\":{\"color\":\"#2a3f5f\"},\"geo\":{\"bgcolor\":\"white\",\"lakecolor\":\"white\",\"landcolor\":\"#E5ECF6\",\"showlakes\":true,\"showland\":true,\"subunitcolor\":\"white\"},\"hoverlabel\":{\"align\":\"left\"},\"hovermode\":\"closest\",\"mapbox\":{\"style\":\"light\"},\"paper_bgcolor\":\"white\",\"plot_bgcolor\":\"#E5ECF6\",\"polar\":{\"angularaxis\":{\"gridcolor\":\"white\",\"linecolor\":\"white\",\"ticks\":\"\"},\"bgcolor\":\"#E5ECF6\",\"radialaxis\":{\"gridcolor\":\"white\",\"linecolor\":\"white\",\"ticks\":\"\"}},\"scene\":{\"xaxis\":{\"backgroundcolor\":\"#E5ECF6\",\"gridcolor\":\"white\",\"gridwidth\":2,\"linecolor\":\"white\",\"showbackground\":true,\"ticks\":\"\",\"zerolinecolor\":\"white\"},\"yaxis\":{\"backgroundcolor\":\"#E5ECF6\",\"gridcolor\":\"white\",\"gridwidth\":2,\"linecolor\":\"white\",\"showbackground\":true,\"ticks\":\"\",\"zerolinecolor\":\"white\"},\"zaxis\":{\"backgroundcolor\":\"#E5ECF6\",\"gridcolor\":\"white\",\"gridwidth\":2,\"linecolor\":\"white\",\"showbackground\":true,\"ticks\":\"\",\"zerolinecolor\":\"white\"}},\"shapedefaults\":{\"line\":{\"color\":\"#2a3f5f\"}},\"ternary\":{\"aaxis\":{\"gridcolor\":\"white\",\"linecolor\":\"white\",\"ticks\":\"\"},\"baxis\":{\"gridcolor\":\"white\",\"linecolor\":\"white\",\"ticks\":\"\"},\"bgcolor\":\"#E5ECF6\",\"caxis\":{\"gridcolor\":\"white\",\"linecolor\":\"white\",\"ticks\":\"\"}},\"title\":{\"x\":0.05},\"xaxis\":{\"automargin\":true,\"gridcolor\":\"white\",\"linecolor\":\"white\",\"ticks\":\"\",\"title\":{\"standoff\":15},\"zerolinecolor\":\"white\",\"zerolinewidth\":2},\"yaxis\":{\"automargin\":true,\"gridcolor\":\"white\",\"linecolor\":\"white\",\"ticks\":\"\",\"title\":{\"standoff\":15},\"zerolinecolor\":\"white\",\"zerolinewidth\":2}}}},                        {\"responsive\": true}                    ).then(function(){\n",
              "                            \n",
              "var gd = document.getElementById('0f555d3e-c2e2-4374-bb42-9f0b53421c45');\n",
              "var x = new MutationObserver(function (mutations, observer) {{\n",
              "        var display = window.getComputedStyle(gd).display;\n",
              "        if (!display || display === 'none') {{\n",
              "            console.log([gd, 'removed!']);\n",
              "            Plotly.purge(gd);\n",
              "            observer.disconnect();\n",
              "        }}\n",
              "}});\n",
              "\n",
              "// Listen for the removal of the full notebook cells\n",
              "var notebookContainer = gd.closest('#notebook-container');\n",
              "if (notebookContainer) {{\n",
              "    x.observe(notebookContainer, {childList: true});\n",
              "}}\n",
              "\n",
              "// Listen for the clearing of the current output cell\n",
              "var outputEl = gd.closest('.output');\n",
              "if (outputEl) {{\n",
              "    x.observe(outputEl, {childList: true});\n",
              "}}\n",
              "\n",
              "                        })                };                            </script>        </div>\n",
              "</body>\n",
              "</html>"
            ]
          },
          "metadata": {}
        }
      ]
    },
    {
      "cell_type": "code",
      "source": [
        "Best_trial = study.best_trial.params\n",
        "Optuna_XGB_model = XGBClassifier(**Best_trial)\n",
        "Optuna_XGB_model.fit(X_train_smote, y_train_smote)\n",
        "optuna_pred = Optuna_XGB_model.predict(X_test)\n",
        "\n",
        "confusion_matrix = metrics.plot_confusion_matrix(Optuna_XGB_model, X_test, y_test, cmap = 'GnBu')\n",
        "confusion_matrix"
      ],
      "metadata": {
        "id": "aU6S8Asb-qP7",
        "colab": {
          "base_uri": "https://localhost:8080/",
          "height": 296
        },
        "outputId": "3337d7d2-5b82-4456-8170-3151963ffa6e"
      },
      "execution_count": 416,
      "outputs": [
        {
          "output_type": "execute_result",
          "data": {
            "text/plain": [
              "<sklearn.metrics._plot.confusion_matrix.ConfusionMatrixDisplay at 0x7fd19d781550>"
            ]
          },
          "metadata": {},
          "execution_count": 416
        },
        {
          "output_type": "display_data",
          "data": {
            "text/plain": [
              "<Figure size 432x288 with 2 Axes>"
            ],
            "image/png": "[encoded data removed]"
          },
          "metadata": {
            "needs_background": "light"
          }
        }
      ]
    },
    {
      "cell_type": "code",
      "source": [
        "def evaluation(prediction):\n",
        "  print(\"\\n R-Squared : \", r2_score(y_test, prediction) * 100)\n",
        "  print('\\n ROC AUC Score : ', roc_auc_score(y_test, prediction))\n",
        "  print(\"\\n Model Accuracy : \",metrics.accuracy_score(y_test, prediction))\n",
        "  print(classification_report(y_test, prediction))"
      ],
      "metadata": {
        "id": "cRI78UwDA1Hv"
      },
      "execution_count": 417,
      "outputs": []
    },
    {
      "cell_type": "code",
      "source": [
        "evaluation(optuna_pred)"
      ],
      "metadata": {
        "id": "jI-7KLKL-0Ea",
        "colab": {
          "base_uri": "https://localhost:8080/"
        },
        "outputId": "0ea986af-0bc3-4316-8c6e-be3e7f1bf876"
      },
      "execution_count": 418,
      "outputs": [
        {
          "output_type": "stream",
          "name": "stdout",
          "text": [
            "\n",
            " R-Squared :  -126.45508743400362\n",
            "\n",
            " ROC AUC Score :  0.6297918178933112\n",
            "\n",
            " Model Accuracy :  0.62215\n",
            "              precision    recall  f1-score   support\n",
            "\n",
            "           0       0.31      0.64      0.42      4233\n",
            "           1       0.87      0.62      0.72     15767\n",
            "\n",
            "    accuracy                           0.62     20000\n",
            "   macro avg       0.59      0.63      0.57     20000\n",
            "weighted avg       0.75      0.62      0.66     20000\n",
            "\n"
          ]
        }
      ]
    },
    {
      "cell_type": "code",
      "source": [
        "Optuna_XGB_model.save_model('xgb_model.json')"
      ],
      "metadata": {
        "id": "kIlM5uJq23lL"
      },
      "execution_count": 419,
      "outputs": []
    }
  ]
}